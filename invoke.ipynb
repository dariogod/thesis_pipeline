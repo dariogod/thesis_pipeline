{
 "cells": [
  {
   "cell_type": "code",
   "execution_count": 1,
   "metadata": {},
   "outputs": [],
   "source": [
    "import os\n",
    "from detect_players3 import process_video\n",
    "\n",
    "input_dir = \"input\"\n",
    "mp4_files = sorted([f for f in os.listdir(input_dir) if f.endswith('.mp4')])"
   ]
  },
  {
   "cell_type": "code",
   "execution_count": 2,
   "metadata": {},
   "outputs": [
    {
     "name": "stderr",
     "output_type": "stream",
     "text": [
      "Processing videos:   0%|          | 0/400 [00:00<?, ?it/s]"
     ]
    },
    {
     "name": "stdout",
     "output_type": "stream",
     "text": [
      "\n",
      "Processing action_0_offence.mp4...\n",
      "For n_clusters = 1, WCSS = 163094.64\n",
      "For n_clusters = 2, WCSS = 76678.44, silhouette score = 0.494\n",
      "For n_clusters = 3, WCSS = 46802.56, silhouette score = 0.490\n",
      "For n_clusters = 4, WCSS = 34360.63, silhouette score = 0.446\n",
      "For n_clusters = 5, WCSS = 26731.96, silhouette score = 0.416\n",
      "Metrics - Geometric: 2, Drops: 2, Silhouette: 2\n",
      "Selected 2 clusters based on geometric method\n",
      "Optimal number of clusters based on combined metrics: 2\n",
      "Final clustering silhouette score: 0.494\n"
     ]
    },
    {
     "name": "stderr",
     "output_type": "stream",
     "text": [
      "Processing videos:   0%|          | 1/400 [00:09<1:01:07,  9.19s/it]"
     ]
    },
    {
     "name": "stdout",
     "output_type": "stream",
     "text": [
      "Processed 32 players. Team assignments saved successfully.\n",
      "\n",
      "Processing action_1009_offence.mp4...\n",
      "For n_clusters = 1, WCSS = 353935.51\n",
      "For n_clusters = 2, WCSS = 169261.38, silhouette score = 0.498\n",
      "For n_clusters = 3, WCSS = 120329.76, silhouette score = 0.517\n",
      "For n_clusters = 4, WCSS = 81075.02, silhouette score = 0.501\n",
      "For n_clusters = 5, WCSS = 52222.10, silhouette score = 0.585\n",
      "Metrics - Geometric: 2, Drops: 2, Silhouette: 5\n",
      "Selected 2 clusters based on geometric method\n",
      "Optimal number of clusters based on combined metrics: 2\n",
      "Final clustering silhouette score: 0.498\n"
     ]
    },
    {
     "name": "stderr",
     "output_type": "stream",
     "text": [
      "Processing videos:   0%|          | 2/400 [00:18<1:01:28,  9.27s/it]"
     ]
    },
    {
     "name": "stdout",
     "output_type": "stream",
     "text": [
      "Processed 29 players. Team assignments saved successfully.\n",
      "\n",
      "Processing action_1013_offence.mp4...\n",
      "For n_clusters = 1, WCSS = 310647.11\n",
      "For n_clusters = 2, WCSS = 69768.43, silhouette score = 0.685\n",
      "For n_clusters = 3, WCSS = 53574.55, silhouette score = 0.662\n",
      "For n_clusters = 4, WCSS = 39003.42, silhouette score = 0.652\n",
      "For n_clusters = 5, WCSS = 28549.95, silhouette score = 0.584\n",
      "Metrics - Geometric: 2, Drops: 2, Silhouette: 2\n",
      "Selected 2 clusters based on geometric method\n",
      "Optimal number of clusters based on combined metrics: 2\n",
      "Final clustering silhouette score: 0.685\n"
     ]
    },
    {
     "name": "stderr",
     "output_type": "stream",
     "text": [
      "Processing videos:   1%|          | 3/400 [00:27<59:30,  8.99s/it]  "
     ]
    },
    {
     "name": "stdout",
     "output_type": "stream",
     "text": [
      "Processed 21 players. Team assignments saved successfully.\n",
      "\n",
      "Processing action_1037_offence.mp4...\n",
      "For n_clusters = 1, WCSS = 374979.55\n",
      "For n_clusters = 2, WCSS = 118015.15, silhouette score = 0.660\n",
      "For n_clusters = 3, WCSS = 59815.79, silhouette score = 0.714\n",
      "For n_clusters = 4, WCSS = 41375.56, silhouette score = 0.673\n",
      "For n_clusters = 5, WCSS = 25119.24, silhouette score = 0.536\n",
      "Metrics - Geometric: 2, Drops: 3, Silhouette: 3\n",
      "Selected 3 clusters based on football context preference\n",
      "Optimal number of clusters based on combined metrics: 3\n",
      "Final clustering silhouette score: 0.714\n"
     ]
    },
    {
     "name": "stderr",
     "output_type": "stream",
     "text": [
      "Processing videos:   1%|          | 4/400 [00:36<1:00:34,  9.18s/it]"
     ]
    },
    {
     "name": "stdout",
     "output_type": "stream",
     "text": [
      "Processed 35 players. Team assignments saved successfully.\n",
      "\n",
      "Processing action_104_offence.mp4...\n",
      "For n_clusters = 1, WCSS = 143562.19\n",
      "For n_clusters = 2, WCSS = 81014.13, silhouette score = 0.521\n",
      "For n_clusters = 3, WCSS = 41839.68, silhouette score = 0.492\n",
      "For n_clusters = 4, WCSS = 31131.28, silhouette score = 0.432\n",
      "For n_clusters = 5, WCSS = 25012.98, silhouette score = 0.398\n",
      "Metrics - Geometric: 3, Drops: 3, Silhouette: 2\n",
      "Selected 3 clusters based on football context preference\n",
      "Optimal number of clusters based on combined metrics: 3\n",
      "Final clustering silhouette score: 0.492\n"
     ]
    },
    {
     "name": "stderr",
     "output_type": "stream",
     "text": [
      "Processing videos:   1%|▏         | 5/400 [00:47<1:05:09,  9.90s/it]"
     ]
    },
    {
     "name": "stdout",
     "output_type": "stream",
     "text": [
      "Processed 31 players. Team assignments saved successfully.\n",
      "\n",
      "Processing action_1052_offence.mp4...\n",
      "For n_clusters = 1, WCSS = 144824.59\n",
      "For n_clusters = 2, WCSS = 71410.45, silhouette score = 0.506\n",
      "For n_clusters = 3, WCSS = 33982.87, silhouette score = 0.591\n",
      "For n_clusters = 4, WCSS = 23921.67, silhouette score = 0.524\n",
      "For n_clusters = 5, WCSS = 20033.74, silhouette score = 0.457\n",
      "Metrics - Geometric: 3, Drops: 3, Silhouette: 3\n",
      "Selected 3 clusters based on football context preference\n",
      "Optimal number of clusters based on combined metrics: 3\n",
      "Final clustering silhouette score: 0.591\n"
     ]
    },
    {
     "name": "stderr",
     "output_type": "stream",
     "text": [
      "Processing videos:   2%|▏         | 6/400 [00:56<1:02:22,  9.50s/it]"
     ]
    },
    {
     "name": "stdout",
     "output_type": "stream",
     "text": [
      "Processed 33 players. Team assignments saved successfully.\n",
      "\n",
      "Processing action_1054_no_offence.mp4...\n",
      "For n_clusters = 1, WCSS = 207026.22\n",
      "For n_clusters = 2, WCSS = 98952.98, silhouette score = 0.535\n",
      "For n_clusters = 3, WCSS = 30056.82, silhouette score = 0.651\n",
      "For n_clusters = 4, WCSS = 21851.93, silhouette score = 0.556\n",
      "For n_clusters = 5, WCSS = 18323.86, silhouette score = 0.578\n",
      "Metrics - Geometric: 3, Drops: 3, Silhouette: 3\n",
      "Selected 3 clusters based on football context preference\n",
      "Optimal number of clusters based on combined metrics: 3\n",
      "Final clustering silhouette score: 0.651\n"
     ]
    },
    {
     "name": "stderr",
     "output_type": "stream",
     "text": [
      "Processing videos:   2%|▏         | 7/400 [01:04<57:52,  8.83s/it]  "
     ]
    },
    {
     "name": "stdout",
     "output_type": "stream",
     "text": [
      "Processed 37 players. Team assignments saved successfully.\n",
      "\n",
      "Processing action_1055_no_offence.mp4...\n",
      "For n_clusters = 1, WCSS = 179025.27\n",
      "For n_clusters = 2, WCSS = 79329.86, silhouette score = 0.511\n",
      "For n_clusters = 3, WCSS = 28953.73, silhouette score = 0.607\n",
      "For n_clusters = 4, WCSS = 21283.65, silhouette score = 0.564\n",
      "For n_clusters = 5, WCSS = 15786.86, silhouette score = 0.561\n",
      "Metrics - Geometric: 3, Drops: 3, Silhouette: 3\n",
      "Selected 3 clusters based on football context preference\n",
      "Optimal number of clusters based on combined metrics: 3\n",
      "Final clustering silhouette score: 0.607\n"
     ]
    },
    {
     "name": "stderr",
     "output_type": "stream",
     "text": [
      "Processing videos:   2%|▏         | 8/400 [01:12<56:11,  8.60s/it]"
     ]
    },
    {
     "name": "stdout",
     "output_type": "stream",
     "text": [
      "Processed 38 players. Team assignments saved successfully.\n",
      "\n",
      "Processing action_1064_offence.mp4...\n",
      "For n_clusters = 1, WCSS = 289132.26\n",
      "For n_clusters = 2, WCSS = 51800.13, silhouette score = 0.772\n",
      "For n_clusters = 3, WCSS = 33226.73, silhouette score = 0.720\n",
      "For n_clusters = 4, WCSS = 14919.63, silhouette score = 0.773\n",
      "For n_clusters = 5, WCSS = 12165.07, silhouette score = 0.496\n",
      "Metrics - Geometric: 2, Drops: 4, Silhouette: 4\n",
      "Selected 2 clusters based on geometric method\n",
      "Optimal number of clusters based on combined metrics: 2\n",
      "Final clustering silhouette score: 0.772\n"
     ]
    },
    {
     "name": "stderr",
     "output_type": "stream",
     "text": [
      "Processing videos:   2%|▏         | 9/400 [01:21<56:42,  8.70s/it]"
     ]
    },
    {
     "name": "stdout",
     "output_type": "stream",
     "text": [
      "Processed 26 players. Team assignments saved successfully.\n",
      "\n",
      "Processing action_1066_offence.mp4...\n",
      "For n_clusters = 1, WCSS = 290506.07\n",
      "For n_clusters = 2, WCSS = 59132.85, silhouette score = 0.742\n",
      "For n_clusters = 3, WCSS = 39687.74, silhouette score = 0.763\n",
      "For n_clusters = 4, WCSS = 25049.68, silhouette score = 0.638\n",
      "For n_clusters = 5, WCSS = 20336.85, silhouette score = 0.423\n",
      "Metrics - Geometric: 2, Drops: 2, Silhouette: 3\n",
      "Selected 3 clusters based on football context preference\n",
      "Optimal number of clusters based on combined metrics: 3\n",
      "Final clustering silhouette score: 0.763\n"
     ]
    },
    {
     "name": "stderr",
     "output_type": "stream",
     "text": [
      "Processing videos:   2%|▎         | 10/400 [01:30<57:45,  8.89s/it]"
     ]
    },
    {
     "name": "stdout",
     "output_type": "stream",
     "text": [
      "Processed 43 players. Team assignments saved successfully.\n",
      "\n",
      "Processing action_1075_offence.mp4...\n",
      "For n_clusters = 1, WCSS = 737611.62\n",
      "For n_clusters = 2, WCSS = 350039.15, silhouette score = 0.588\n",
      "For n_clusters = 3, WCSS = 164651.40, silhouette score = 0.578\n",
      "For n_clusters = 4, WCSS = 74933.08, silhouette score = 0.667\n",
      "For n_clusters = 5, WCSS = 57389.94, silhouette score = 0.596\n",
      "Metrics - Geometric: 3, Drops: 4, Silhouette: 4\n",
      "Selected 3 clusters based on football context preference\n",
      "Optimal number of clusters based on combined metrics: 3\n",
      "Final clustering silhouette score: 0.578\n"
     ]
    },
    {
     "name": "stderr",
     "output_type": "stream",
     "text": [
      "Processing videos:   3%|▎         | 11/400 [01:39<57:54,  8.93s/it]"
     ]
    },
    {
     "name": "stdout",
     "output_type": "stream",
     "text": [
      "Processed 34 players. Team assignments saved successfully.\n",
      "\n",
      "Processing action_1091_offence.mp4...\n",
      "For n_clusters = 1, WCSS = 324571.59\n",
      "For n_clusters = 2, WCSS = 67136.89, silhouette score = 0.756\n",
      "For n_clusters = 3, WCSS = 35172.34, silhouette score = 0.784\n",
      "For n_clusters = 4, WCSS = 24586.52, silhouette score = 0.763\n",
      "For n_clusters = 5, WCSS = 17278.68, silhouette score = 0.585\n",
      "Metrics - Geometric: 2, Drops: 3, Silhouette: 3\n",
      "Selected 3 clusters based on football context preference\n",
      "Optimal number of clusters based on combined metrics: 3\n",
      "Final clustering silhouette score: 0.784\n"
     ]
    },
    {
     "name": "stderr",
     "output_type": "stream",
     "text": [
      "Processing videos:   3%|▎         | 12/400 [01:48<58:09,  8.99s/it]"
     ]
    },
    {
     "name": "stdout",
     "output_type": "stream",
     "text": [
      "Processed 27 players. Team assignments saved successfully.\n",
      "\n",
      "Processing action_1094_offence.mp4...\n",
      "For n_clusters = 1, WCSS = 68184.06\n",
      "For n_clusters = 2, WCSS = 26885.67, silhouette score = 0.602\n",
      "For n_clusters = 3, WCSS = 18385.00, silhouette score = 0.547\n",
      "For n_clusters = 4, WCSS = 13342.88, silhouette score = 0.617\n",
      "For n_clusters = 5, WCSS = 10231.85, silhouette score = 0.597\n",
      "Metrics - Geometric: 2, Drops: 2, Silhouette: 4\n",
      "Selected 2 clusters based on geometric method\n",
      "Optimal number of clusters based on combined metrics: 2\n",
      "Final clustering silhouette score: 0.602\n"
     ]
    },
    {
     "name": "stderr",
     "output_type": "stream",
     "text": [
      "Processing videos:   3%|▎         | 13/400 [01:56<56:25,  8.75s/it]"
     ]
    },
    {
     "name": "stdout",
     "output_type": "stream",
     "text": [
      "Processed 34 players. Team assignments saved successfully.\n",
      "\n",
      "Processing action_1104_no_offence.mp4...\n",
      "For n_clusters = 1, WCSS = 245923.52\n",
      "For n_clusters = 2, WCSS = 83399.05, silhouette score = 0.643\n",
      "For n_clusters = 3, WCSS = 51553.47, silhouette score = 0.674\n",
      "For n_clusters = 4, WCSS = 35966.61, silhouette score = 0.708\n",
      "For n_clusters = 5, WCSS = 28599.76, silhouette score = 0.601\n",
      "Metrics - Geometric: 2, Drops: 2, Silhouette: 4\n",
      "Selected 3 clusters based on football context preference\n",
      "Optimal number of clusters based on combined metrics: 3\n",
      "Final clustering silhouette score: 0.674\n"
     ]
    },
    {
     "name": "stderr",
     "output_type": "stream",
     "text": [
      "Processing videos:   4%|▎         | 14/400 [02:04<55:13,  8.58s/it]"
     ]
    },
    {
     "name": "stdout",
     "output_type": "stream",
     "text": [
      "Processed 47 players. Team assignments saved successfully.\n",
      "\n",
      "Processing action_1110_offence.mp4...\n",
      "For n_clusters = 1, WCSS = 402980.02\n",
      "For n_clusters = 2, WCSS = 66654.93, silhouette score = 0.753\n",
      "For n_clusters = 3, WCSS = 36245.90, silhouette score = 0.704\n",
      "For n_clusters = 4, WCSS = 29329.54, silhouette score = 0.711\n",
      "For n_clusters = 5, WCSS = 23669.85, silhouette score = 0.467\n",
      "Metrics - Geometric: 2, Drops: 3, Silhouette: 2\n",
      "Selected 2 clusters based on geometric method\n",
      "Optimal number of clusters based on combined metrics: 2\n",
      "Final clustering silhouette score: 0.753\n"
     ]
    },
    {
     "name": "stderr",
     "output_type": "stream",
     "text": [
      "Processing videos:   4%|▍         | 15/400 [02:12<53:20,  8.31s/it]"
     ]
    },
    {
     "name": "stdout",
     "output_type": "stream",
     "text": [
      "Processed 35 players. Team assignments saved successfully.\n",
      "\n",
      "Processing action_1113_offence.mp4...\n",
      "For n_clusters = 1, WCSS = 866626.14\n",
      "For n_clusters = 2, WCSS = 140808.33, silhouette score = 0.739\n",
      "For n_clusters = 3, WCSS = 97825.39, silhouette score = 0.568\n",
      "For n_clusters = 4, WCSS = 68664.86, silhouette score = 0.618\n",
      "For n_clusters = 5, WCSS = 54332.00, silhouette score = 0.583\n",
      "Metrics - Geometric: 2, Drops: 2, Silhouette: 2\n",
      "Selected 2 clusters based on geometric method\n",
      "Optimal number of clusters based on combined metrics: 2\n",
      "Final clustering silhouette score: 0.739\n"
     ]
    },
    {
     "name": "stderr",
     "output_type": "stream",
     "text": [
      "Processing videos:   4%|▍         | 16/400 [02:22<56:28,  8.82s/it]"
     ]
    },
    {
     "name": "stdout",
     "output_type": "stream",
     "text": [
      "Processed 30 players. Team assignments saved successfully.\n",
      "\n",
      "Processing action_1121_offence.mp4...\n",
      "For n_clusters = 1, WCSS = 292655.82\n",
      "For n_clusters = 2, WCSS = 164743.11, silhouette score = 0.470\n",
      "For n_clusters = 3, WCSS = 84643.52, silhouette score = 0.578\n",
      "For n_clusters = 4, WCSS = 63044.55, silhouette score = 0.539\n",
      "For n_clusters = 5, WCSS = 46986.99, silhouette score = 0.531\n",
      "Metrics - Geometric: 3, Drops: 3, Silhouette: 3\n",
      "Selected 3 clusters based on football context preference\n",
      "Optimal number of clusters based on combined metrics: 3\n",
      "Final clustering silhouette score: 0.578\n"
     ]
    },
    {
     "name": "stderr",
     "output_type": "stream",
     "text": [
      "Processing videos:   4%|▍         | 17/400 [02:32<58:57,  9.24s/it]"
     ]
    },
    {
     "name": "stdout",
     "output_type": "stream",
     "text": [
      "Processed 55 players. Team assignments saved successfully.\n",
      "\n",
      "Processing action_1127_no_offence.mp4...\n",
      "For n_clusters = 1, WCSS = 250591.02\n",
      "For n_clusters = 2, WCSS = 130544.03, silhouette score = 0.509\n",
      "For n_clusters = 3, WCSS = 63848.12, silhouette score = 0.587\n",
      "For n_clusters = 4, WCSS = 47340.15, silhouette score = 0.496\n",
      "For n_clusters = 5, WCSS = 34116.63, silhouette score = 0.450\n",
      "Metrics - Geometric: 3, Drops: 3, Silhouette: 3\n",
      "Selected 3 clusters based on football context preference\n",
      "Optimal number of clusters based on combined metrics: 3\n",
      "Final clustering silhouette score: 0.587\n"
     ]
    },
    {
     "name": "stderr",
     "output_type": "stream",
     "text": [
      "Processing videos:   4%|▍         | 18/400 [02:42<1:00:00,  9.42s/it]"
     ]
    },
    {
     "name": "stdout",
     "output_type": "stream",
     "text": [
      "Processed 23 players. Team assignments saved successfully.\n",
      "\n",
      "Processing action_1155_offence.mp4...\n",
      "For n_clusters = 1, WCSS = 291869.12\n",
      "For n_clusters = 2, WCSS = 125772.17, silhouette score = 0.556\n",
      "For n_clusters = 3, WCSS = 69593.65, silhouette score = 0.617\n",
      "For n_clusters = 4, WCSS = 53119.27, silhouette score = 0.623\n",
      "For n_clusters = 5, WCSS = 35149.67, silhouette score = 0.670\n",
      "Metrics - Geometric: 2, Drops: 3, Silhouette: 5\n",
      "Selected 3 clusters based on football context preference\n",
      "Optimal number of clusters based on combined metrics: 3\n",
      "Final clustering silhouette score: 0.617\n"
     ]
    },
    {
     "name": "stderr",
     "output_type": "stream",
     "text": [
      "Processing videos:   5%|▍         | 19/400 [02:49<54:59,  8.66s/it]  "
     ]
    },
    {
     "name": "stdout",
     "output_type": "stream",
     "text": [
      "Processed 29 players. Team assignments saved successfully.\n",
      "\n",
      "Processing action_1156_no_offence.mp4...\n",
      "For n_clusters = 1, WCSS = 196965.87\n",
      "For n_clusters = 2, WCSS = 99294.15, silhouette score = 0.473\n",
      "For n_clusters = 3, WCSS = 64013.24, silhouette score = 0.517\n",
      "For n_clusters = 4, WCSS = 48275.50, silhouette score = 0.546\n",
      "For n_clusters = 5, WCSS = 39958.17, silhouette score = 0.420\n",
      "Metrics - Geometric: 2, Drops: 2, Silhouette: 4\n",
      "Selected 3 clusters based on football context preference\n",
      "Optimal number of clusters based on combined metrics: 3\n",
      "Final clustering silhouette score: 0.517\n"
     ]
    },
    {
     "name": "stderr",
     "output_type": "stream",
     "text": [
      "Processing videos:   5%|▌         | 20/400 [02:56<51:59,  8.21s/it]"
     ]
    },
    {
     "name": "stdout",
     "output_type": "stream",
     "text": [
      "Processed 35 players. Team assignments saved successfully.\n",
      "\n",
      "Processing action_1161_offence.mp4...\n",
      "For n_clusters = 1, WCSS = 238530.07\n",
      "For n_clusters = 2, WCSS = 75072.34, silhouette score = 0.610\n",
      "For n_clusters = 3, WCSS = 52953.03, silhouette score = 0.555\n",
      "For n_clusters = 4, WCSS = 40685.31, silhouette score = 0.482\n",
      "For n_clusters = 5, WCSS = 32276.08, silhouette score = 0.402\n",
      "Metrics - Geometric: 2, Drops: 2, Silhouette: 2\n",
      "Selected 2 clusters based on geometric method\n",
      "Optimal number of clusters based on combined metrics: 2\n",
      "Final clustering silhouette score: 0.610\n"
     ]
    },
    {
     "name": "stderr",
     "output_type": "stream",
     "text": [
      "Processing videos:   5%|▌         | 21/400 [03:05<52:08,  8.25s/it]"
     ]
    },
    {
     "name": "stdout",
     "output_type": "stream",
     "text": [
      "Processed 32 players. Team assignments saved successfully.\n",
      "\n",
      "Processing action_1174_no_offence.mp4...\n",
      "For n_clusters = 1, WCSS = 108800.90\n",
      "For n_clusters = 2, WCSS = 46474.53, silhouette score = 0.583\n",
      "For n_clusters = 3, WCSS = 19206.62, silhouette score = 0.672\n",
      "For n_clusters = 4, WCSS = 14483.56, silhouette score = 0.670\n",
      "For n_clusters = 5, WCSS = 10218.27, silhouette score = 0.674\n",
      "Metrics - Geometric: 3, Drops: 3, Silhouette: 5\n",
      "Selected 3 clusters based on football context preference\n",
      "Optimal number of clusters based on combined metrics: 3\n",
      "Final clustering silhouette score: 0.672\n"
     ]
    },
    {
     "name": "stderr",
     "output_type": "stream",
     "text": [
      "Processing videos:   6%|▌         | 22/400 [03:12<50:03,  7.95s/it]"
     ]
    },
    {
     "name": "stdout",
     "output_type": "stream",
     "text": [
      "Processed 20 players. Team assignments saved successfully.\n",
      "\n",
      "Processing action_1181_offence.mp4...\n",
      "For n_clusters = 1, WCSS = 263506.68\n",
      "For n_clusters = 2, WCSS = 120786.25, silhouette score = 0.590\n",
      "For n_clusters = 3, WCSS = 45694.20, silhouette score = 0.671\n",
      "For n_clusters = 4, WCSS = 30623.98, silhouette score = 0.652\n",
      "For n_clusters = 5, WCSS = 23319.97, silhouette score = 0.668\n",
      "Metrics - Geometric: 3, Drops: 3, Silhouette: 3\n",
      "Selected 3 clusters based on football context preference\n",
      "Optimal number of clusters based on combined metrics: 3\n",
      "Final clustering silhouette score: 0.671\n"
     ]
    },
    {
     "name": "stderr",
     "output_type": "stream",
     "text": [
      "Processing videos:   6%|▌         | 23/400 [03:20<50:06,  7.98s/it]"
     ]
    },
    {
     "name": "stdout",
     "output_type": "stream",
     "text": [
      "Processed 22 players. Team assignments saved successfully.\n",
      "\n",
      "Processing action_1183_no_offence.mp4...\n",
      "For n_clusters = 1, WCSS = 282088.85\n",
      "For n_clusters = 2, WCSS = 112467.42, silhouette score = 0.589\n",
      "For n_clusters = 3, WCSS = 52765.91, silhouette score = 0.664\n",
      "For n_clusters = 4, WCSS = 36231.60, silhouette score = 0.661\n",
      "For n_clusters = 5, WCSS = 23323.80, silhouette score = 0.677\n",
      "Metrics - Geometric: 2, Drops: 3, Silhouette: 5\n",
      "Selected 3 clusters based on football context preference\n",
      "Optimal number of clusters based on combined metrics: 3\n",
      "Final clustering silhouette score: 0.664\n"
     ]
    },
    {
     "name": "stderr",
     "output_type": "stream",
     "text": [
      "Processing videos:   6%|▌         | 24/400 [03:29<52:32,  8.38s/it]"
     ]
    },
    {
     "name": "stdout",
     "output_type": "stream",
     "text": [
      "Processed 28 players. Team assignments saved successfully.\n",
      "\n",
      "Processing action_1195_offence.mp4...\n",
      "For n_clusters = 1, WCSS = 364720.30\n",
      "For n_clusters = 2, WCSS = 135700.45, silhouette score = 0.597\n",
      "For n_clusters = 3, WCSS = 89755.21, silhouette score = 0.639\n",
      "For n_clusters = 4, WCSS = 63956.62, silhouette score = 0.568\n",
      "For n_clusters = 5, WCSS = 41112.25, silhouette score = 0.601\n",
      "Metrics - Geometric: 2, Drops: 2, Silhouette: 3\n",
      "Selected 3 clusters based on football context preference\n",
      "Optimal number of clusters based on combined metrics: 3\n",
      "Final clustering silhouette score: 0.639\n"
     ]
    },
    {
     "name": "stderr",
     "output_type": "stream",
     "text": [
      "Processing videos:   6%|▋         | 25/400 [03:39<54:57,  8.79s/it]"
     ]
    },
    {
     "name": "stdout",
     "output_type": "stream",
     "text": [
      "Processed 35 players. Team assignments saved successfully.\n",
      "\n",
      "Processing action_1199_offence.mp4...\n",
      "For n_clusters = 1, WCSS = 235283.95\n",
      "For n_clusters = 2, WCSS = 43276.14, silhouette score = 0.746\n",
      "For n_clusters = 3, WCSS = 21099.50, silhouette score = 0.791\n",
      "For n_clusters = 4, WCSS = 13595.25, silhouette score = 0.724\n",
      "For n_clusters = 5, WCSS = 8228.80, silhouette score = 0.751\n",
      "Metrics - Geometric: 2, Drops: 3, Silhouette: 3\n",
      "Selected 3 clusters based on football context preference\n",
      "Optimal number of clusters based on combined metrics: 3\n",
      "Final clustering silhouette score: 0.791\n"
     ]
    },
    {
     "name": "stderr",
     "output_type": "stream",
     "text": [
      "Processing videos:   6%|▋         | 26/400 [03:45<50:03,  8.03s/it]"
     ]
    },
    {
     "name": "stdout",
     "output_type": "stream",
     "text": [
      "Processed 20 players. Team assignments saved successfully.\n",
      "\n",
      "Processing action_1204_offence.mp4...\n",
      "For n_clusters = 1, WCSS = 111343.66\n",
      "For n_clusters = 2, WCSS = 38162.04, silhouette score = 0.619\n",
      "For n_clusters = 3, WCSS = 22476.93, silhouette score = 0.593\n",
      "For n_clusters = 4, WCSS = 16510.41, silhouette score = 0.544\n",
      "For n_clusters = 5, WCSS = 10956.35, silhouette score = 0.517\n",
      "Metrics - Geometric: 2, Drops: 3, Silhouette: 2\n",
      "Selected 2 clusters based on geometric method\n",
      "Optimal number of clusters based on combined metrics: 2\n",
      "Final clustering silhouette score: 0.619\n"
     ]
    },
    {
     "name": "stderr",
     "output_type": "stream",
     "text": [
      "Processing videos:   7%|▋         | 27/400 [03:53<49:03,  7.89s/it]"
     ]
    },
    {
     "name": "stdout",
     "output_type": "stream",
     "text": [
      "Processed 37 players. Team assignments saved successfully.\n",
      "\n",
      "Processing action_1210_no_offence.mp4...\n",
      "For n_clusters = 1, WCSS = 340372.85\n",
      "For n_clusters = 2, WCSS = 86255.98, silhouette score = 0.655\n",
      "For n_clusters = 3, WCSS = 54609.89, silhouette score = 0.574\n",
      "For n_clusters = 4, WCSS = 41487.00, silhouette score = 0.494\n",
      "For n_clusters = 5, WCSS = 33024.68, silhouette score = 0.426\n",
      "Metrics - Geometric: 2, Drops: 2, Silhouette: 2\n",
      "Selected 2 clusters based on geometric method\n",
      "Optimal number of clusters based on combined metrics: 2\n",
      "Final clustering silhouette score: 0.655\n"
     ]
    },
    {
     "name": "stderr",
     "output_type": "stream",
     "text": [
      "Processing videos:   7%|▋         | 28/400 [04:02<51:02,  8.23s/it]"
     ]
    },
    {
     "name": "stdout",
     "output_type": "stream",
     "text": [
      "Processed 31 players. Team assignments saved successfully.\n",
      "\n",
      "Processing action_1218_no_offence.mp4...\n",
      "For n_clusters = 1, WCSS = 260744.55\n",
      "For n_clusters = 2, WCSS = 52568.05, silhouette score = 0.702\n",
      "For n_clusters = 3, WCSS = 34290.94, silhouette score = 0.662\n",
      "For n_clusters = 4, WCSS = 26542.13, silhouette score = 0.662\n",
      "For n_clusters = 5, WCSS = 21746.67, silhouette score = 0.496\n",
      "Metrics - Geometric: 2, Drops: 2, Silhouette: 2\n",
      "Selected 2 clusters based on geometric method\n",
      "Optimal number of clusters based on combined metrics: 2\n",
      "Final clustering silhouette score: 0.702\n"
     ]
    },
    {
     "name": "stderr",
     "output_type": "stream",
     "text": [
      "Processing videos:   7%|▋         | 29/400 [04:10<50:51,  8.23s/it]"
     ]
    },
    {
     "name": "stdout",
     "output_type": "stream",
     "text": [
      "Processed 36 players. Team assignments saved successfully.\n",
      "\n",
      "Processing action_1234_no_offence.mp4...\n",
      "For n_clusters = 1, WCSS = 151419.23\n",
      "For n_clusters = 2, WCSS = 55137.79, silhouette score = 0.598\n",
      "For n_clusters = 3, WCSS = 35865.52, silhouette score = 0.591\n",
      "For n_clusters = 4, WCSS = 23463.32, silhouette score = 0.636\n",
      "For n_clusters = 5, WCSS = 19463.48, silhouette score = 0.616\n",
      "Metrics - Geometric: 2, Drops: 2, Silhouette: 4\n",
      "Selected 2 clusters based on geometric method\n",
      "Optimal number of clusters based on combined metrics: 2\n",
      "Final clustering silhouette score: 0.598\n"
     ]
    },
    {
     "name": "stderr",
     "output_type": "stream",
     "text": [
      "Processing videos:   8%|▊         | 30/400 [04:17<48:56,  7.94s/it]"
     ]
    },
    {
     "name": "stdout",
     "output_type": "stream",
     "text": [
      "Processed 45 players. Team assignments saved successfully.\n",
      "\n",
      "Processing action_1237_no_offence.mp4...\n",
      "For n_clusters = 1, WCSS = 222451.48\n",
      "For n_clusters = 2, WCSS = 86765.19, silhouette score = 0.530\n",
      "For n_clusters = 3, WCSS = 54250.76, silhouette score = 0.505\n",
      "For n_clusters = 4, WCSS = 41551.51, silhouette score = 0.535\n",
      "For n_clusters = 5, WCSS = 32545.58, silhouette score = 0.548\n",
      "Metrics - Geometric: 2, Drops: 2, Silhouette: 5\n",
      "Selected 2 clusters based on geometric method\n",
      "Optimal number of clusters based on combined metrics: 2\n",
      "Final clustering silhouette score: 0.530\n"
     ]
    },
    {
     "name": "stderr",
     "output_type": "stream",
     "text": [
      "Processing videos:   8%|▊         | 31/400 [04:25<49:02,  7.97s/it]"
     ]
    },
    {
     "name": "stdout",
     "output_type": "stream",
     "text": [
      "Processed 39 players. Team assignments saved successfully.\n",
      "\n",
      "Processing action_123_offence.mp4...\n",
      "For n_clusters = 1, WCSS = 263131.74\n",
      "For n_clusters = 2, WCSS = 104040.58, silhouette score = 0.577\n",
      "For n_clusters = 3, WCSS = 70908.30, silhouette score = 0.643\n",
      "For n_clusters = 4, WCSS = 40392.48, silhouette score = 0.692\n",
      "For n_clusters = 5, WCSS = 30828.84, silhouette score = 0.562\n",
      "Metrics - Geometric: 2, Drops: 4, Silhouette: 4\n",
      "Selected 3 clusters based on football context preference\n",
      "Optimal number of clusters based on combined metrics: 3\n",
      "Final clustering silhouette score: 0.643\n"
     ]
    },
    {
     "name": "stderr",
     "output_type": "stream",
     "text": [
      "Processing videos:   8%|▊         | 32/400 [04:35<51:49,  8.45s/it]"
     ]
    },
    {
     "name": "stdout",
     "output_type": "stream",
     "text": [
      "Processed 26 players. Team assignments saved successfully.\n",
      "\n",
      "Processing action_1267_no_offence.mp4...\n",
      "For n_clusters = 1, WCSS = 135453.36\n",
      "For n_clusters = 2, WCSS = 78611.80, silhouette score = 0.569\n",
      "For n_clusters = 3, WCSS = 28101.88, silhouette score = 0.653\n",
      "For n_clusters = 4, WCSS = 17764.33, silhouette score = 0.663\n",
      "For n_clusters = 5, WCSS = 11429.63, silhouette score = 0.699\n",
      "Metrics - Geometric: 3, Drops: 3, Silhouette: 5\n",
      "Selected 3 clusters based on football context preference\n",
      "Optimal number of clusters based on combined metrics: 3\n",
      "Final clustering silhouette score: 0.653\n"
     ]
    },
    {
     "name": "stderr",
     "output_type": "stream",
     "text": [
      "Processing videos:   8%|▊         | 33/400 [04:44<52:46,  8.63s/it]"
     ]
    },
    {
     "name": "stdout",
     "output_type": "stream",
     "text": [
      "Processed 23 players. Team assignments saved successfully.\n",
      "\n",
      "Processing action_1270_no_offence.mp4...\n",
      "For n_clusters = 1, WCSS = 252274.02\n",
      "For n_clusters = 2, WCSS = 67298.17, silhouette score = 0.705\n",
      "For n_clusters = 3, WCSS = 31395.08, silhouette score = 0.689\n",
      "For n_clusters = 4, WCSS = 22827.57, silhouette score = 0.580\n",
      "For n_clusters = 5, WCSS = 18657.82, silhouette score = 0.445\n",
      "Metrics - Geometric: 2, Drops: 3, Silhouette: 2\n",
      "Selected 2 clusters based on geometric method\n",
      "Optimal number of clusters based on combined metrics: 2\n",
      "Final clustering silhouette score: 0.705\n"
     ]
    },
    {
     "name": "stderr",
     "output_type": "stream",
     "text": [
      "Processing videos:   8%|▊         | 34/400 [04:52<50:48,  8.33s/it]"
     ]
    },
    {
     "name": "stdout",
     "output_type": "stream",
     "text": [
      "Processed 34 players. Team assignments saved successfully.\n",
      "\n",
      "Processing action_1279_offence.mp4...\n",
      "For n_clusters = 1, WCSS = 49315.68\n",
      "For n_clusters = 2, WCSS = 18273.34, silhouette score = 0.532\n",
      "For n_clusters = 3, WCSS = 10117.44, silhouette score = 0.593\n",
      "For n_clusters = 4, WCSS = 6860.51, silhouette score = 0.496\n",
      "For n_clusters = 5, WCSS = 5172.01, silhouette score = 0.490\n",
      "Metrics - Geometric: 2, Drops: 3, Silhouette: 3\n",
      "Selected 3 clusters based on football context preference\n",
      "Optimal number of clusters based on combined metrics: 3\n",
      "Final clustering silhouette score: 0.593\n"
     ]
    },
    {
     "name": "stderr",
     "output_type": "stream",
     "text": [
      "Processing videos:   9%|▉         | 35/400 [04:59<49:39,  8.16s/it]"
     ]
    },
    {
     "name": "stdout",
     "output_type": "stream",
     "text": [
      "Processed 22 players. Team assignments saved successfully.\n",
      "\n",
      "Processing action_1281_no_offence.mp4...\n"
     ]
    },
    {
     "name": "stderr",
     "output_type": "stream",
     "text": [
      "Processing videos:   9%|▉         | 35/400 [05:08<53:32,  8.80s/it]\n"
     ]
    },
    {
     "ename": "KeyboardInterrupt",
     "evalue": "",
     "output_type": "error",
     "traceback": [
      "\u001b[31m---------------------------------------------------------------------------\u001b[39m",
      "\u001b[31mKeyboardInterrupt\u001b[39m                         Traceback (most recent call last)",
      "\u001b[36mCell\u001b[39m\u001b[36m \u001b[39m\u001b[32mIn[2]\u001b[39m\u001b[32m, line 6\u001b[39m\n\u001b[32m      4\u001b[39m \u001b[38;5;28;01mif\u001b[39;00m video_path.endswith(\u001b[33m'\u001b[39m\u001b[33m.mp4\u001b[39m\u001b[33m'\u001b[39m):\n\u001b[32m      5\u001b[39m     video_path = os.path.join(input_dir, video_path)\n\u001b[32m----> \u001b[39m\u001b[32m6\u001b[39m     \u001b[43mprocess_video\u001b[49m\u001b[43m(\u001b[49m\u001b[43mvideo_path\u001b[49m\u001b[43m)\u001b[49m\n",
      "\u001b[36mFile \u001b[39m\u001b[32m~/coding/ugent/thesis_pipeline/detect_players3.py:471\u001b[39m, in \u001b[36mprocess_video\u001b[39m\u001b[34m(input_path)\u001b[39m\n\u001b[32m    468\u001b[39m track_id = \u001b[38;5;28mint\u001b[39m(box.id[\u001b[32m0\u001b[39m]) \u001b[38;5;28;01mif\u001b[39;00m \u001b[38;5;28mhasattr\u001b[39m(box, \u001b[33m'\u001b[39m\u001b[33mid\u001b[39m\u001b[33m'\u001b[39m) \u001b[38;5;129;01mand\u001b[39;00m box.id \u001b[38;5;129;01mis\u001b[39;00m \u001b[38;5;129;01mnot\u001b[39;00m \u001b[38;5;28;01mNone\u001b[39;00m \u001b[38;5;28;01melse\u001b[39;00m \u001b[38;5;28;01mNone\u001b[39;00m\n\u001b[32m    470\u001b[39m \u001b[38;5;66;03m# Get dominant RGB color from the original unmodified frame\u001b[39;00m\n\u001b[32m--> \u001b[39m\u001b[32m471\u001b[39m dominant_color = \u001b[43mget_dominant_color\u001b[49m\u001b[43m(\u001b[49m\u001b[43moriginal_frame\u001b[49m\u001b[43m,\u001b[49m\u001b[43m \u001b[49m\u001b[43m(\u001b[49m\u001b[43mx1\u001b[49m\u001b[43m,\u001b[49m\u001b[43m \u001b[49m\u001b[43my1\u001b[49m\u001b[43m,\u001b[49m\u001b[43m \u001b[49m\u001b[43mx2\u001b[49m\u001b[43m,\u001b[49m\u001b[43m \u001b[49m\u001b[43my2\u001b[49m\u001b[43m)\u001b[49m\u001b[43m,\u001b[49m\u001b[43m \u001b[49m\u001b[43mbase_dir\u001b[49m\u001b[43m,\u001b[49m\u001b[43m \u001b[49m\u001b[43mframe_count\u001b[49m\u001b[43m)\u001b[49m\n\u001b[32m    473\u001b[39m \u001b[38;5;66;03m# Store color for legend\u001b[39;00m\n\u001b[32m    474\u001b[39m \u001b[38;5;28;01mif\u001b[39;00m track_id \u001b[38;5;129;01mis\u001b[39;00m \u001b[38;5;129;01mnot\u001b[39;00m \u001b[38;5;28;01mNone\u001b[39;00m:\n",
      "\u001b[36mFile \u001b[39m\u001b[32m~/coding/ugent/thesis_pipeline/detect_players3.py:80\u001b[39m, in \u001b[36mget_dominant_color\u001b[39m\u001b[34m(frame, bbox, base_dir, frame_id, y_range, x_range)\u001b[39m\n\u001b[32m     78\u001b[39m \u001b[38;5;66;03m# Use KMeans to find 2 clusters: pitch (green) and jersey\u001b[39;00m\n\u001b[32m     79\u001b[39m kmeans = KMeans(n_clusters=\u001b[32m2\u001b[39m, n_init=\u001b[32m10\u001b[39m, random_state=\u001b[32m42\u001b[39m)\n\u001b[32m---> \u001b[39m\u001b[32m80\u001b[39m \u001b[43mkmeans\u001b[49m\u001b[43m.\u001b[49m\u001b[43mfit\u001b[49m\u001b[43m(\u001b[49m\u001b[43mlab_pixels\u001b[49m\u001b[43m)\u001b[49m\n\u001b[32m     82\u001b[39m \u001b[38;5;66;03m# Get the cluster centers and their frequencies\u001b[39;00m\n\u001b[32m     83\u001b[39m centers_lab = kmeans.cluster_centers_\n",
      "\u001b[36mFile \u001b[39m\u001b[32m~/coding/ugent/thesis_pipeline/venv/lib/python3.12/site-packages/sklearn/base.py:1389\u001b[39m, in \u001b[36m_fit_context.<locals>.decorator.<locals>.wrapper\u001b[39m\u001b[34m(estimator, *args, **kwargs)\u001b[39m\n\u001b[32m   1382\u001b[39m     estimator._validate_params()\n\u001b[32m   1384\u001b[39m \u001b[38;5;28;01mwith\u001b[39;00m config_context(\n\u001b[32m   1385\u001b[39m     skip_parameter_validation=(\n\u001b[32m   1386\u001b[39m         prefer_skip_nested_validation \u001b[38;5;129;01mor\u001b[39;00m global_skip_validation\n\u001b[32m   1387\u001b[39m     )\n\u001b[32m   1388\u001b[39m ):\n\u001b[32m-> \u001b[39m\u001b[32m1389\u001b[39m     \u001b[38;5;28;01mreturn\u001b[39;00m \u001b[43mfit_method\u001b[49m\u001b[43m(\u001b[49m\u001b[43mestimator\u001b[49m\u001b[43m,\u001b[49m\u001b[43m \u001b[49m\u001b[43m*\u001b[49m\u001b[43margs\u001b[49m\u001b[43m,\u001b[49m\u001b[43m \u001b[49m\u001b[43m*\u001b[49m\u001b[43m*\u001b[49m\u001b[43mkwargs\u001b[49m\u001b[43m)\u001b[49m\n",
      "\u001b[36mFile \u001b[39m\u001b[32m~/coding/ugent/thesis_pipeline/venv/lib/python3.12/site-packages/sklearn/cluster/_kmeans.py:1464\u001b[39m, in \u001b[36mKMeans.fit\u001b[39m\u001b[34m(self, X, y, sample_weight)\u001b[39m\n\u001b[32m   1428\u001b[39m \u001b[38;5;250m\u001b[39m\u001b[33;03m\"\"\"Compute k-means clustering.\u001b[39;00m\n\u001b[32m   1429\u001b[39m \n\u001b[32m   1430\u001b[39m \u001b[33;03mParameters\u001b[39;00m\n\u001b[32m   (...)\u001b[39m\u001b[32m   1452\u001b[39m \u001b[33;03m    Fitted estimator.\u001b[39;00m\n\u001b[32m   1453\u001b[39m \u001b[33;03m\"\"\"\u001b[39;00m\n\u001b[32m   1454\u001b[39m X = validate_data(\n\u001b[32m   1455\u001b[39m     \u001b[38;5;28mself\u001b[39m,\n\u001b[32m   1456\u001b[39m     X,\n\u001b[32m   (...)\u001b[39m\u001b[32m   1461\u001b[39m     accept_large_sparse=\u001b[38;5;28;01mFalse\u001b[39;00m,\n\u001b[32m   1462\u001b[39m )\n\u001b[32m-> \u001b[39m\u001b[32m1464\u001b[39m \u001b[38;5;28;43mself\u001b[39;49m\u001b[43m.\u001b[49m\u001b[43m_check_params_vs_input\u001b[49m\u001b[43m(\u001b[49m\u001b[43mX\u001b[49m\u001b[43m)\u001b[49m\n\u001b[32m   1466\u001b[39m random_state = check_random_state(\u001b[38;5;28mself\u001b[39m.random_state)\n\u001b[32m   1467\u001b[39m sample_weight = _check_sample_weight(sample_weight, X, dtype=X.dtype)\n",
      "\u001b[36mFile \u001b[39m\u001b[32m~/coding/ugent/thesis_pipeline/venv/lib/python3.12/site-packages/sklearn/cluster/_kmeans.py:1404\u001b[39m, in \u001b[36mKMeans._check_params_vs_input\u001b[39m\u001b[34m(self, X)\u001b[39m\n\u001b[32m   1403\u001b[39m \u001b[38;5;28;01mdef\u001b[39;00m\u001b[38;5;250m \u001b[39m\u001b[34m_check_params_vs_input\u001b[39m(\u001b[38;5;28mself\u001b[39m, X):\n\u001b[32m-> \u001b[39m\u001b[32m1404\u001b[39m     \u001b[38;5;28;43msuper\u001b[39;49m\u001b[43m(\u001b[49m\u001b[43m)\u001b[49m\u001b[43m.\u001b[49m\u001b[43m_check_params_vs_input\u001b[49m\u001b[43m(\u001b[49m\u001b[43mX\u001b[49m\u001b[43m,\u001b[49m\u001b[43m \u001b[49m\u001b[43mdefault_n_init\u001b[49m\u001b[43m=\u001b[49m\u001b[32;43m10\u001b[39;49m\u001b[43m)\u001b[49m\n\u001b[32m   1406\u001b[39m     \u001b[38;5;28mself\u001b[39m._algorithm = \u001b[38;5;28mself\u001b[39m.algorithm\n\u001b[32m   1407\u001b[39m     \u001b[38;5;28;01mif\u001b[39;00m \u001b[38;5;28mself\u001b[39m._algorithm == \u001b[33m\"\u001b[39m\u001b[33melkan\u001b[39m\u001b[33m\"\u001b[39m \u001b[38;5;129;01mand\u001b[39;00m \u001b[38;5;28mself\u001b[39m.n_clusters == \u001b[32m1\u001b[39m:\n",
      "\u001b[36mFile \u001b[39m\u001b[32m~/coding/ugent/thesis_pipeline/venv/lib/python3.12/site-packages/sklearn/cluster/_kmeans.py:876\u001b[39m, in \u001b[36m_BaseKMeans._check_params_vs_input\u001b[39m\u001b[34m(self, X, default_n_init)\u001b[39m\n\u001b[32m    871\u001b[39m     \u001b[38;5;28;01mraise\u001b[39;00m \u001b[38;5;167;01mValueError\u001b[39;00m(\n\u001b[32m    872\u001b[39m         \u001b[33mf\u001b[39m\u001b[33m\"\u001b[39m\u001b[33mn_samples=\u001b[39m\u001b[38;5;132;01m{\u001b[39;00mX.shape[\u001b[32m0\u001b[39m]\u001b[38;5;132;01m}\u001b[39;00m\u001b[33m should be >= n_clusters=\u001b[39m\u001b[38;5;132;01m{\u001b[39;00m\u001b[38;5;28mself\u001b[39m.n_clusters\u001b[38;5;132;01m}\u001b[39;00m\u001b[33m.\u001b[39m\u001b[33m\"\u001b[39m\n\u001b[32m    873\u001b[39m     )\n\u001b[32m    875\u001b[39m \u001b[38;5;66;03m# tol\u001b[39;00m\n\u001b[32m--> \u001b[39m\u001b[32m876\u001b[39m \u001b[38;5;28mself\u001b[39m._tol = \u001b[43m_tolerance\u001b[49m\u001b[43m(\u001b[49m\u001b[43mX\u001b[49m\u001b[43m,\u001b[49m\u001b[43m \u001b[49m\u001b[38;5;28;43mself\u001b[39;49m\u001b[43m.\u001b[49m\u001b[43mtol\u001b[49m\u001b[43m)\u001b[49m\n\u001b[32m    878\u001b[39m \u001b[38;5;66;03m# n-init\u001b[39;00m\n\u001b[32m    879\u001b[39m \u001b[38;5;28;01mif\u001b[39;00m \u001b[38;5;28mself\u001b[39m.n_init == \u001b[33m\"\u001b[39m\u001b[33mauto\u001b[39m\u001b[33m\"\u001b[39m:\n",
      "\u001b[36mFile \u001b[39m\u001b[32m~/coding/ugent/thesis_pipeline/venv/lib/python3.12/site-packages/sklearn/cluster/_kmeans.py:279\u001b[39m, in \u001b[36m_tolerance\u001b[39m\u001b[34m(X, tol)\u001b[39m\n\u001b[32m    272\u001b[39m     \u001b[38;5;28;01mreturn\u001b[39;00m centers, indices\n\u001b[32m    275\u001b[39m \u001b[38;5;66;03m###############################################################################\u001b[39;00m\n\u001b[32m    276\u001b[39m \u001b[38;5;66;03m# K-means batch estimation by EM (expectation maximization)\u001b[39;00m\n\u001b[32m--> \u001b[39m\u001b[32m279\u001b[39m \u001b[38;5;28;01mdef\u001b[39;00m\u001b[38;5;250m \u001b[39m\u001b[34m_tolerance\u001b[39m(X, tol):\n\u001b[32m    280\u001b[39m \u001b[38;5;250m    \u001b[39m\u001b[33;03m\"\"\"Return a tolerance which is dependent on the dataset.\"\"\"\u001b[39;00m\n\u001b[32m    281\u001b[39m     \u001b[38;5;28;01mif\u001b[39;00m tol == \u001b[32m0\u001b[39m:\n",
      "\u001b[31mKeyboardInterrupt\u001b[39m: "
     ]
    }
   ],
   "source": [
    "from tqdm import tqdm\n",
    "for video_path in tqdm(mp4_files, desc=\"Processing videos\"):\n",
    "    tqdm.write(f\"\\nProcessing {video_path}...\")\n",
    "    if video_path.endswith('.mp4'):\n",
    "        video_path = os.path.join(input_dir, video_path)\n",
    "        process_video(video_path)"
   ]
  },
  {
   "cell_type": "code",
   "execution_count": null,
   "metadata": {},
   "outputs": [],
   "source": []
  }
 ],
 "metadata": {
  "kernelspec": {
   "display_name": "venv",
   "language": "python",
   "name": "python3"
  },
  "language_info": {
   "codemirror_mode": {
    "name": "ipython",
    "version": 3
   },
   "file_extension": ".py",
   "mimetype": "text/x-python",
   "name": "python",
   "nbconvert_exporter": "python",
   "pygments_lexer": "ipython3",
   "version": "3.12.10"
  }
 },
 "nbformat": 4,
 "nbformat_minor": 2
}
