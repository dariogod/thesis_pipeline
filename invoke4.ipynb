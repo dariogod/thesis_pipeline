{
 "cells": [
  {
   "cell_type": "code",
   "execution_count": 3,
   "metadata": {},
   "outputs": [],
   "source": [
    "import os\n",
    "\n",
    "input_dir = \"input\"\n",
    "mp4_files = sorted([f for f in os.listdir(input_dir) if f.endswith('.mp4')])"
   ]
  },
  {
   "cell_type": "code",
   "execution_count": 4,
   "metadata": {},
   "outputs": [
    {
     "name": "stderr",
     "output_type": "stream",
     "text": [
      "Processing videos:   0%|          | 0/400 [00:00<?, ?it/s]"
     ]
    },
    {
     "name": "stdout",
     "output_type": "stream",
     "text": [
      "\n",
      "Processing action_0_offence.mp4...\n",
      "Using minimap directory: intermediate_results2/action_0_offence/minimap\n",
      "Found 126 frames in intermediate_results2/action_0_offence/player_detections_with_team_with_minimap.json\n",
      "Analyzed 0 frames with referee positions\n",
      "Processing 126 frames\n",
      "Processed frame 0\n",
      "Processed frame 50\n",
      "Processed frame 100\n",
      "Enhanced minimaps saved to intermediate_results2/action_0_offence/minimap with '_augmented' suffix\n",
      "Creating video from 126 frames...\n"
     ]
    },
    {
     "name": "stderr",
     "output_type": "stream",
     "text": [
      "Processing videos:   0%|          | 1/400 [00:01<10:14,  1.54s/it]"
     ]
    },
    {
     "name": "stdout",
     "output_type": "stream",
     "text": [
      "Video created: intermediate_results2/action_0_offence/minimap_augmented.mp4\n",
      "Processing completed successfully!\n",
      "\n",
      "Processing action_1009_offence.mp4...\n",
      "Using minimap directory: intermediate_results2/action_1009_offence/minimap\n",
      "Found 126 frames in intermediate_results2/action_1009_offence/player_detections_with_team_with_minimap.json\n",
      "Analyzed 0 frames with referee positions\n",
      "Processing 126 frames\n",
      "Processed frame 0\n",
      "Processed frame 50\n",
      "Processed frame 100\n",
      "Enhanced minimaps saved to intermediate_results2/action_1009_offence/minimap with '_augmented' suffix\n",
      "Creating video from 126 frames...\n"
     ]
    },
    {
     "name": "stderr",
     "output_type": "stream",
     "text": [
      "Processing videos:   0%|          | 2/400 [00:03<11:12,  1.69s/it]"
     ]
    },
    {
     "name": "stdout",
     "output_type": "stream",
     "text": [
      "Video created: intermediate_results2/action_1009_offence/minimap_augmented.mp4\n",
      "Processing completed successfully!\n",
      "\n",
      "Processing action_1013_offence.mp4...\n",
      "Using minimap directory: intermediate_results2/action_1013_offence/minimap\n",
      "Found 126 frames in intermediate_results2/action_1013_offence/player_detections_with_team_with_minimap.json\n",
      "Analyzed 0 frames with referee positions\n",
      "Processing 126 frames\n",
      "Processed frame 0\n",
      "Processed frame 50\n",
      "Processed frame 100\n",
      "Enhanced minimaps saved to intermediate_results2/action_1013_offence/minimap with '_augmented' suffix\n",
      "Creating video from 126 frames...\n"
     ]
    },
    {
     "name": "stderr",
     "output_type": "stream",
     "text": [
      "Processing videos:   1%|          | 3/400 [00:04<10:24,  1.57s/it]"
     ]
    },
    {
     "name": "stdout",
     "output_type": "stream",
     "text": [
      "Video created: intermediate_results2/action_1013_offence/minimap_augmented.mp4\n",
      "Processing completed successfully!\n",
      "\n",
      "Processing action_1037_offence.mp4...\n",
      "Using minimap directory: intermediate_results2/action_1037_offence/minimap\n",
      "Found 126 frames in intermediate_results2/action_1037_offence/player_detections_with_team_with_minimap.json\n",
      "Analyzed 0 frames with referee positions\n",
      "Processing 126 frames\n",
      "Processed frame 0\n",
      "Processed frame 50\n",
      "Processed frame 100\n",
      "Enhanced minimaps saved to intermediate_results2/action_1037_offence/minimap with '_augmented' suffix\n",
      "Creating video from 126 frames...\n"
     ]
    },
    {
     "name": "stderr",
     "output_type": "stream",
     "text": [
      "Processing videos:   1%|          | 4/400 [00:06<10:03,  1.52s/it]"
     ]
    },
    {
     "name": "stdout",
     "output_type": "stream",
     "text": [
      "Video created: intermediate_results2/action_1037_offence/minimap_augmented.mp4\n",
      "Processing completed successfully!\n",
      "\n",
      "Processing action_104_offence.mp4...\n",
      "Using minimap directory: intermediate_results2/action_104_offence/minimap\n",
      "Found 126 frames in intermediate_results2/action_104_offence/player_detections_with_team_with_minimap.json\n",
      "Analyzed 0 frames with referee positions\n",
      "Processing 126 frames\n",
      "Processed frame 0\n",
      "Processed frame 50\n",
      "Processed frame 100\n",
      "Enhanced minimaps saved to intermediate_results2/action_104_offence/minimap with '_augmented' suffix\n",
      "Creating video from 126 frames...\n"
     ]
    },
    {
     "name": "stderr",
     "output_type": "stream",
     "text": [
      "Processing videos:   1%|▏         | 5/400 [00:07<09:52,  1.50s/it]"
     ]
    },
    {
     "name": "stdout",
     "output_type": "stream",
     "text": [
      "Video created: intermediate_results2/action_104_offence/minimap_augmented.mp4\n",
      "Processing completed successfully!\n",
      "\n",
      "Processing action_1052_offence.mp4...\n",
      "Using minimap directory: intermediate_results2/action_1052_offence/minimap\n",
      "Found 126 frames in intermediate_results2/action_1052_offence/player_detections_with_team_with_minimap.json\n",
      "Analyzed 0 frames with referee positions\n",
      "Processing 126 frames\n",
      "Processed frame 0\n",
      "Processed frame 50\n",
      "Processed frame 100\n",
      "Enhanced minimaps saved to intermediate_results2/action_1052_offence/minimap with '_augmented' suffix\n",
      "Creating video from 126 frames...\n"
     ]
    },
    {
     "name": "stderr",
     "output_type": "stream",
     "text": [
      "Processing videos:   2%|▏         | 6/400 [00:09<09:39,  1.47s/it]"
     ]
    },
    {
     "name": "stdout",
     "output_type": "stream",
     "text": [
      "Video created: intermediate_results2/action_1052_offence/minimap_augmented.mp4\n",
      "Processing completed successfully!\n",
      "\n",
      "Processing action_1054_no_offence.mp4...\n",
      "Using minimap directory: intermediate_results2/action_1054_no_offence/minimap\n",
      "Found 126 frames in intermediate_results2/action_1054_no_offence/player_detections_with_team_with_minimap.json\n",
      "Analyzed 0 frames with referee positions\n",
      "Processing 126 frames\n",
      "Processed frame 0\n",
      "Processed frame 50\n",
      "Processed frame 100\n",
      "Enhanced minimaps saved to intermediate_results2/action_1054_no_offence/minimap with '_augmented' suffix\n",
      "Creating video from 126 frames...\n"
     ]
    },
    {
     "name": "stderr",
     "output_type": "stream",
     "text": [
      "Processing videos:   2%|▏         | 7/400 [00:10<09:31,  1.45s/it]"
     ]
    },
    {
     "name": "stdout",
     "output_type": "stream",
     "text": [
      "Video created: intermediate_results2/action_1054_no_offence/minimap_augmented.mp4\n",
      "Processing completed successfully!\n",
      "\n",
      "Processing action_1055_no_offence.mp4...\n",
      "Using minimap directory: intermediate_results2/action_1055_no_offence/minimap\n",
      "Found 126 frames in intermediate_results2/action_1055_no_offence/player_detections_with_team_with_minimap.json\n",
      "Analyzed 0 frames with referee positions\n",
      "Processing 126 frames\n",
      "Processed frame 0\n",
      "Processed frame 50\n",
      "Processed frame 100\n",
      "Enhanced minimaps saved to intermediate_results2/action_1055_no_offence/minimap with '_augmented' suffix\n",
      "Creating video from 126 frames...\n"
     ]
    },
    {
     "name": "stderr",
     "output_type": "stream",
     "text": [
      "Processing videos:   2%|▏         | 8/400 [00:11<09:23,  1.44s/it]"
     ]
    },
    {
     "name": "stdout",
     "output_type": "stream",
     "text": [
      "Video created: intermediate_results2/action_1055_no_offence/minimap_augmented.mp4\n",
      "Processing completed successfully!\n",
      "\n",
      "Processing action_1064_offence.mp4...\n",
      "Using minimap directory: intermediate_results2/action_1064_offence/minimap\n",
      "Found 126 frames in intermediate_results2/action_1064_offence/player_detections_with_team_with_minimap.json\n",
      "Analyzed 0 frames with referee positions\n",
      "Processing 126 frames\n",
      "Processed frame 0\n",
      "Processed frame 50\n",
      "Processed frame 100\n",
      "Enhanced minimaps saved to intermediate_results2/action_1064_offence/minimap with '_augmented' suffix\n",
      "Creating video from 126 frames...\n"
     ]
    },
    {
     "name": "stderr",
     "output_type": "stream",
     "text": [
      "Processing videos:   2%|▏         | 9/400 [00:13<09:21,  1.44s/it]"
     ]
    },
    {
     "name": "stdout",
     "output_type": "stream",
     "text": [
      "Video created: intermediate_results2/action_1064_offence/minimap_augmented.mp4\n",
      "Processing completed successfully!\n",
      "\n",
      "Processing action_1066_offence.mp4...\n",
      "Using minimap directory: intermediate_results2/action_1066_offence/minimap\n",
      "Found 126 frames in intermediate_results2/action_1066_offence/player_detections_with_team_with_minimap.json\n",
      "Analyzed 0 frames with referee positions\n",
      "Processing 126 frames\n",
      "Processed frame 0\n",
      "Processed frame 50\n",
      "Processed frame 100\n",
      "Enhanced minimaps saved to intermediate_results2/action_1066_offence/minimap with '_augmented' suffix\n",
      "Creating video from 126 frames...\n"
     ]
    },
    {
     "name": "stderr",
     "output_type": "stream",
     "text": [
      "Processing videos:   2%|▎         | 10/400 [00:14<09:30,  1.46s/it]"
     ]
    },
    {
     "name": "stdout",
     "output_type": "stream",
     "text": [
      "Video created: intermediate_results2/action_1066_offence/minimap_augmented.mp4\n",
      "Processing completed successfully!\n",
      "\n",
      "Processing action_1075_offence.mp4...\n",
      "Using minimap directory: intermediate_results2/action_1075_offence/minimap\n",
      "Found 126 frames in intermediate_results2/action_1075_offence/player_detections_with_team_with_minimap.json\n",
      "Analyzed 0 frames with referee positions\n",
      "Processing 126 frames\n",
      "Processed frame 0\n",
      "Processed frame 50\n",
      "Processed frame 100\n",
      "Enhanced minimaps saved to intermediate_results2/action_1075_offence/minimap with '_augmented' suffix\n",
      "Creating video from 126 frames...\n"
     ]
    },
    {
     "name": "stderr",
     "output_type": "stream",
     "text": [
      "Processing videos:   3%|▎         | 11/400 [00:16<09:38,  1.49s/it]"
     ]
    },
    {
     "name": "stdout",
     "output_type": "stream",
     "text": [
      "Video created: intermediate_results2/action_1075_offence/minimap_augmented.mp4\n",
      "Processing completed successfully!\n",
      "\n",
      "Processing action_1091_offence.mp4...\n",
      "Using minimap directory: intermediate_results2/action_1091_offence/minimap\n",
      "Found 126 frames in intermediate_results2/action_1091_offence/player_detections_with_team_with_minimap.json\n",
      "Analyzed 0 frames with referee positions\n",
      "Processing 126 frames\n",
      "Processed frame 0\n",
      "Processed frame 50\n",
      "Processed frame 100\n",
      "Enhanced minimaps saved to intermediate_results2/action_1091_offence/minimap with '_augmented' suffix\n",
      "Creating video from 126 frames...\n"
     ]
    },
    {
     "name": "stderr",
     "output_type": "stream",
     "text": [
      "Processing videos:   3%|▎         | 12/400 [00:17<09:28,  1.47s/it]"
     ]
    },
    {
     "name": "stdout",
     "output_type": "stream",
     "text": [
      "Video created: intermediate_results2/action_1091_offence/minimap_augmented.mp4\n",
      "Processing completed successfully!\n",
      "\n",
      "Processing action_1094_offence.mp4...\n",
      "Using minimap directory: intermediate_results2/action_1094_offence/minimap\n",
      "Found 126 frames in intermediate_results2/action_1094_offence/player_detections_with_team_with_minimap.json\n",
      "Analyzed 0 frames with referee positions\n",
      "Processing 126 frames\n",
      "Processed frame 0\n",
      "Processed frame 50\n",
      "Processed frame 100\n",
      "Enhanced minimaps saved to intermediate_results2/action_1094_offence/minimap with '_augmented' suffix\n",
      "Creating video from 126 frames...\n"
     ]
    },
    {
     "name": "stderr",
     "output_type": "stream",
     "text": [
      "Processing videos:   3%|▎         | 13/400 [00:19<09:22,  1.45s/it]"
     ]
    },
    {
     "name": "stdout",
     "output_type": "stream",
     "text": [
      "Video created: intermediate_results2/action_1094_offence/minimap_augmented.mp4\n",
      "Processing completed successfully!\n",
      "\n",
      "Processing action_1104_no_offence.mp4...\n",
      "Using minimap directory: intermediate_results2/action_1104_no_offence/minimap\n",
      "Found 126 frames in intermediate_results2/action_1104_no_offence/player_detections_with_team_with_minimap.json\n",
      "Analyzed 0 frames with referee positions\n",
      "Processing 126 frames\n",
      "Processed frame 0\n",
      "Processed frame 50\n",
      "Processed frame 100\n",
      "Enhanced minimaps saved to intermediate_results2/action_1104_no_offence/minimap with '_augmented' suffix\n",
      "Creating video from 126 frames...\n"
     ]
    },
    {
     "name": "stderr",
     "output_type": "stream",
     "text": [
      "Processing videos:   4%|▎         | 14/400 [00:20<09:10,  1.43s/it]"
     ]
    },
    {
     "name": "stdout",
     "output_type": "stream",
     "text": [
      "Video created: intermediate_results2/action_1104_no_offence/minimap_augmented.mp4\n",
      "Processing completed successfully!\n",
      "\n",
      "Processing action_1110_offence.mp4...\n",
      "Using minimap directory: intermediate_results2/action_1110_offence/minimap\n",
      "Found 126 frames in intermediate_results2/action_1110_offence/player_detections_with_team_with_minimap.json\n",
      "Analyzed 0 frames with referee positions\n",
      "Processing 126 frames\n",
      "Processed frame 0\n",
      "Processed frame 50\n",
      "Processed frame 100\n",
      "Enhanced minimaps saved to intermediate_results2/action_1110_offence/minimap with '_augmented' suffix\n",
      "Creating video from 126 frames...\n"
     ]
    },
    {
     "name": "stderr",
     "output_type": "stream",
     "text": [
      "Processing videos:   4%|▍         | 15/400 [00:22<09:05,  1.42s/it]"
     ]
    },
    {
     "name": "stdout",
     "output_type": "stream",
     "text": [
      "Video created: intermediate_results2/action_1110_offence/minimap_augmented.mp4\n",
      "Processing completed successfully!\n",
      "\n",
      "Processing action_1113_offence.mp4...\n",
      "Using minimap directory: intermediate_results2/action_1113_offence/minimap\n",
      "Found 126 frames in intermediate_results2/action_1113_offence/player_detections_with_team_with_minimap.json\n",
      "Analyzed 0 frames with referee positions\n",
      "Processing 126 frames\n",
      "Processed frame 0\n",
      "Processed frame 50\n",
      "Processed frame 100\n",
      "Enhanced minimaps saved to intermediate_results2/action_1113_offence/minimap with '_augmented' suffix\n",
      "Creating video from 126 frames...\n"
     ]
    },
    {
     "name": "stderr",
     "output_type": "stream",
     "text": [
      "Processing videos:   4%|▍         | 16/400 [00:23<09:01,  1.41s/it]"
     ]
    },
    {
     "name": "stdout",
     "output_type": "stream",
     "text": [
      "Video created: intermediate_results2/action_1113_offence/minimap_augmented.mp4\n",
      "Processing completed successfully!\n",
      "\n",
      "Processing action_1121_offence.mp4...\n",
      "Using minimap directory: intermediate_results2/action_1121_offence/minimap\n",
      "Found 126 frames in intermediate_results2/action_1121_offence/player_detections_with_team_with_minimap.json\n",
      "Analyzed 0 frames with referee positions\n",
      "Processing 126 frames\n",
      "Processed frame 0\n",
      "Processed frame 50\n",
      "Processed frame 100\n",
      "Enhanced minimaps saved to intermediate_results2/action_1121_offence/minimap with '_augmented' suffix\n",
      "Creating video from 126 frames...\n"
     ]
    },
    {
     "name": "stderr",
     "output_type": "stream",
     "text": [
      "Processing videos:   4%|▍         | 17/400 [00:24<09:01,  1.41s/it]"
     ]
    },
    {
     "name": "stdout",
     "output_type": "stream",
     "text": [
      "Video created: intermediate_results2/action_1121_offence/minimap_augmented.mp4\n",
      "Processing completed successfully!\n",
      "\n",
      "Processing action_1127_no_offence.mp4...\n",
      "Using minimap directory: intermediate_results2/action_1127_no_offence/minimap\n",
      "Found 126 frames in intermediate_results2/action_1127_no_offence/player_detections_with_team_with_minimap.json\n",
      "Analyzed 0 frames with referee positions\n",
      "Processing 126 frames\n",
      "Processed frame 0\n",
      "Processed frame 50\n",
      "Processed frame 100\n",
      "Enhanced minimaps saved to intermediate_results2/action_1127_no_offence/minimap with '_augmented' suffix\n",
      "Creating video from 126 frames...\n"
     ]
    },
    {
     "name": "stderr",
     "output_type": "stream",
     "text": [
      "Processing videos:   4%|▍         | 18/400 [00:26<08:58,  1.41s/it]"
     ]
    },
    {
     "name": "stdout",
     "output_type": "stream",
     "text": [
      "Video created: intermediate_results2/action_1127_no_offence/minimap_augmented.mp4\n",
      "Processing completed successfully!\n",
      "\n",
      "Processing action_1155_offence.mp4...\n",
      "Using minimap directory: intermediate_results2/action_1155_offence/minimap\n",
      "Found 126 frames in intermediate_results2/action_1155_offence/player_detections_with_team_with_minimap.json\n",
      "Analyzed 0 frames with referee positions\n",
      "Processing 126 frames\n",
      "Processed frame 0\n",
      "Processed frame 50\n",
      "Processed frame 100\n",
      "Enhanced minimaps saved to intermediate_results2/action_1155_offence/minimap with '_augmented' suffix\n",
      "Creating video from 126 frames...\n"
     ]
    },
    {
     "name": "stderr",
     "output_type": "stream",
     "text": [
      "Processing videos:   5%|▍         | 19/400 [00:27<08:52,  1.40s/it]"
     ]
    },
    {
     "name": "stdout",
     "output_type": "stream",
     "text": [
      "Video created: intermediate_results2/action_1155_offence/minimap_augmented.mp4\n",
      "Processing completed successfully!\n",
      "\n",
      "Processing action_1156_no_offence.mp4...\n",
      "Using minimap directory: intermediate_results2/action_1156_no_offence/minimap\n",
      "Found 126 frames in intermediate_results2/action_1156_no_offence/player_detections_with_team_with_minimap.json\n",
      "Analyzed 0 frames with referee positions\n",
      "Processing 126 frames\n",
      "Processed frame 0\n",
      "Processed frame 50\n",
      "Processed frame 100\n",
      "Enhanced minimaps saved to intermediate_results2/action_1156_no_offence/minimap with '_augmented' suffix\n",
      "Creating video from 126 frames...\n"
     ]
    },
    {
     "name": "stderr",
     "output_type": "stream",
     "text": [
      "Processing videos:   5%|▌         | 20/400 [00:28<08:44,  1.38s/it]"
     ]
    },
    {
     "name": "stdout",
     "output_type": "stream",
     "text": [
      "Video created: intermediate_results2/action_1156_no_offence/minimap_augmented.mp4\n",
      "Processing completed successfully!\n",
      "\n",
      "Processing action_1161_offence.mp4...\n",
      "Using minimap directory: intermediate_results2/action_1161_offence/minimap\n",
      "Found 126 frames in intermediate_results2/action_1161_offence/player_detections_with_team_with_minimap.json\n",
      "Analyzed 0 frames with referee positions\n",
      "Processing 126 frames\n",
      "Processed frame 0\n",
      "Processed frame 50\n",
      "Processed frame 100\n",
      "Enhanced minimaps saved to intermediate_results2/action_1161_offence/minimap with '_augmented' suffix\n",
      "Creating video from 126 frames...\n"
     ]
    },
    {
     "name": "stderr",
     "output_type": "stream",
     "text": [
      "Processing videos:   5%|▌         | 21/400 [00:30<09:01,  1.43s/it]"
     ]
    },
    {
     "name": "stdout",
     "output_type": "stream",
     "text": [
      "Video created: intermediate_results2/action_1161_offence/minimap_augmented.mp4\n",
      "Processing completed successfully!\n",
      "\n",
      "Processing action_1174_no_offence.mp4...\n",
      "Using minimap directory: intermediate_results2/action_1174_no_offence/minimap\n",
      "Found 126 frames in intermediate_results2/action_1174_no_offence/player_detections_with_team_with_minimap.json\n",
      "Analyzed 0 frames with referee positions\n",
      "Processing 126 frames\n",
      "Processed frame 0\n",
      "Processed frame 50\n",
      "Processed frame 100\n",
      "Enhanced minimaps saved to intermediate_results2/action_1174_no_offence/minimap with '_augmented' suffix\n",
      "Creating video from 126 frames...\n"
     ]
    },
    {
     "name": "stderr",
     "output_type": "stream",
     "text": [
      "Processing videos:   6%|▌         | 22/400 [00:31<08:59,  1.43s/it]"
     ]
    },
    {
     "name": "stdout",
     "output_type": "stream",
     "text": [
      "Video created: intermediate_results2/action_1174_no_offence/minimap_augmented.mp4\n",
      "Processing completed successfully!\n",
      "\n",
      "Processing action_1181_offence.mp4...\n",
      "Using minimap directory: intermediate_results2/action_1181_offence/minimap\n",
      "Found 126 frames in intermediate_results2/action_1181_offence/player_detections_with_team_with_minimap.json\n",
      "Analyzed 0 frames with referee positions\n",
      "Processing 126 frames\n",
      "Processed frame 0\n",
      "Processed frame 50\n",
      "Processed frame 100\n",
      "Enhanced minimaps saved to intermediate_results2/action_1181_offence/minimap with '_augmented' suffix\n",
      "Creating video from 126 frames...\n"
     ]
    },
    {
     "name": "stderr",
     "output_type": "stream",
     "text": [
      "Processing videos:   6%|▌         | 23/400 [00:33<09:00,  1.43s/it]"
     ]
    },
    {
     "name": "stdout",
     "output_type": "stream",
     "text": [
      "Video created: intermediate_results2/action_1181_offence/minimap_augmented.mp4\n",
      "Processing completed successfully!\n",
      "\n",
      "Processing action_1183_no_offence.mp4...\n",
      "Using minimap directory: intermediate_results2/action_1183_no_offence/minimap\n",
      "Found 126 frames in intermediate_results2/action_1183_no_offence/player_detections_with_team_with_minimap.json\n",
      "Analyzed 0 frames with referee positions\n",
      "Processing 126 frames\n",
      "Processed frame 0\n",
      "Processed frame 50\n",
      "Processed frame 100\n",
      "Enhanced minimaps saved to intermediate_results2/action_1183_no_offence/minimap with '_augmented' suffix\n",
      "Creating video from 126 frames...\n"
     ]
    },
    {
     "name": "stderr",
     "output_type": "stream",
     "text": [
      "Processing videos:   6%|▌         | 24/400 [00:34<08:52,  1.42s/it]"
     ]
    },
    {
     "name": "stdout",
     "output_type": "stream",
     "text": [
      "Video created: intermediate_results2/action_1183_no_offence/minimap_augmented.mp4\n",
      "Processing completed successfully!\n",
      "\n",
      "Processing action_1195_offence.mp4...\n",
      "Using minimap directory: intermediate_results2/action_1195_offence/minimap\n",
      "Found 126 frames in intermediate_results2/action_1195_offence/player_detections_with_team_with_minimap.json\n",
      "Analyzed 0 frames with referee positions\n",
      "Processing 126 frames\n",
      "Processed frame 0\n",
      "Processed frame 50\n",
      "Processed frame 100\n",
      "Enhanced minimaps saved to intermediate_results2/action_1195_offence/minimap with '_augmented' suffix\n",
      "Creating video from 126 frames...\n"
     ]
    },
    {
     "name": "stderr",
     "output_type": "stream",
     "text": [
      "Processing videos:   6%|▋         | 25/400 [00:36<08:43,  1.40s/it]"
     ]
    },
    {
     "name": "stdout",
     "output_type": "stream",
     "text": [
      "Video created: intermediate_results2/action_1195_offence/minimap_augmented.mp4\n",
      "Processing completed successfully!\n",
      "\n",
      "Processing action_1199_offence.mp4...\n",
      "Using minimap directory: intermediate_results2/action_1199_offence/minimap\n",
      "Found 126 frames in intermediate_results2/action_1199_offence/player_detections_with_team_with_minimap.json\n",
      "Analyzed 0 frames with referee positions\n",
      "Processing 126 frames\n",
      "Processed frame 0\n",
      "Processed frame 50\n",
      "Processed frame 100\n",
      "Enhanced minimaps saved to intermediate_results2/action_1199_offence/minimap with '_augmented' suffix\n",
      "Creating video from 126 frames...\n"
     ]
    },
    {
     "name": "stderr",
     "output_type": "stream",
     "text": [
      "Processing videos:   6%|▋         | 26/400 [00:37<08:36,  1.38s/it]"
     ]
    },
    {
     "name": "stdout",
     "output_type": "stream",
     "text": [
      "Video created: intermediate_results2/action_1199_offence/minimap_augmented.mp4\n",
      "Processing completed successfully!\n",
      "\n",
      "Processing action_1204_offence.mp4...\n",
      "Using minimap directory: intermediate_results2/action_1204_offence/minimap\n",
      "Found 126 frames in intermediate_results2/action_1204_offence/player_detections_with_team_with_minimap.json\n",
      "Analyzed 0 frames with referee positions\n",
      "Processing 126 frames\n",
      "Processed frame 0\n",
      "Processed frame 50\n",
      "Processed frame 100\n",
      "Enhanced minimaps saved to intermediate_results2/action_1204_offence/minimap with '_augmented' suffix\n",
      "Creating video from 126 frames...\n"
     ]
    },
    {
     "name": "stderr",
     "output_type": "stream",
     "text": [
      "Processing videos:   7%|▋         | 27/400 [00:38<08:30,  1.37s/it]"
     ]
    },
    {
     "name": "stdout",
     "output_type": "stream",
     "text": [
      "Video created: intermediate_results2/action_1204_offence/minimap_augmented.mp4\n",
      "Processing completed successfully!\n",
      "\n",
      "Processing action_1210_no_offence.mp4...\n",
      "Using minimap directory: intermediate_results2/action_1210_no_offence/minimap\n",
      "Found 126 frames in intermediate_results2/action_1210_no_offence/player_detections_with_team_with_minimap.json\n",
      "Analyzed 0 frames with referee positions\n",
      "Processing 126 frames\n",
      "Processed frame 0\n",
      "Processed frame 50\n",
      "Processed frame 100\n",
      "Enhanced minimaps saved to intermediate_results2/action_1210_no_offence/minimap with '_augmented' suffix\n",
      "Creating video from 126 frames...\n"
     ]
    },
    {
     "name": "stderr",
     "output_type": "stream",
     "text": [
      "Processing videos:   7%|▋         | 28/400 [00:40<08:32,  1.38s/it]"
     ]
    },
    {
     "name": "stdout",
     "output_type": "stream",
     "text": [
      "Video created: intermediate_results2/action_1210_no_offence/minimap_augmented.mp4\n",
      "Processing completed successfully!\n",
      "\n",
      "Processing action_1218_no_offence.mp4...\n",
      "Using minimap directory: intermediate_results2/action_1218_no_offence/minimap\n",
      "Found 126 frames in intermediate_results2/action_1218_no_offence/player_detections_with_team_with_minimap.json\n",
      "Analyzed 0 frames with referee positions\n",
      "Processing 126 frames\n",
      "Processed frame 0\n",
      "Processed frame 50\n",
      "Processed frame 100\n",
      "Enhanced minimaps saved to intermediate_results2/action_1218_no_offence/minimap with '_augmented' suffix\n",
      "Creating video from 126 frames...\n"
     ]
    },
    {
     "name": "stderr",
     "output_type": "stream",
     "text": [
      "Processing videos:   7%|▋         | 29/400 [00:41<08:32,  1.38s/it]"
     ]
    },
    {
     "name": "stdout",
     "output_type": "stream",
     "text": [
      "Video created: intermediate_results2/action_1218_no_offence/minimap_augmented.mp4\n",
      "Processing completed successfully!\n",
      "\n",
      "Processing action_1234_no_offence.mp4...\n",
      "Using minimap directory: intermediate_results2/action_1234_no_offence/minimap\n",
      "Found 126 frames in intermediate_results2/action_1234_no_offence/player_detections_with_team_with_minimap.json\n",
      "Analyzed 0 frames with referee positions\n",
      "Processing 126 frames\n",
      "Processed frame 0\n",
      "Processed frame 50\n",
      "Processed frame 100\n",
      "Enhanced minimaps saved to intermediate_results2/action_1234_no_offence/minimap with '_augmented' suffix\n",
      "Creating video from 126 frames...\n"
     ]
    },
    {
     "name": "stderr",
     "output_type": "stream",
     "text": [
      "Processing videos:   8%|▊         | 30/400 [00:42<08:32,  1.38s/it]"
     ]
    },
    {
     "name": "stdout",
     "output_type": "stream",
     "text": [
      "Video created: intermediate_results2/action_1234_no_offence/minimap_augmented.mp4\n",
      "Processing completed successfully!\n",
      "\n",
      "Processing action_1237_no_offence.mp4...\n",
      "Using minimap directory: intermediate_results2/action_1237_no_offence/minimap\n",
      "Found 126 frames in intermediate_results2/action_1237_no_offence/player_detections_with_team_with_minimap.json\n",
      "Analyzed 0 frames with referee positions\n",
      "Processing 126 frames\n",
      "Processed frame 0\n",
      "Processed frame 50\n",
      "Processed frame 100\n",
      "Enhanced minimaps saved to intermediate_results2/action_1237_no_offence/minimap with '_augmented' suffix\n",
      "Creating video from 126 frames...\n"
     ]
    },
    {
     "name": "stderr",
     "output_type": "stream",
     "text": [
      "Processing videos:   8%|▊         | 31/400 [00:44<08:31,  1.39s/it]"
     ]
    },
    {
     "name": "stdout",
     "output_type": "stream",
     "text": [
      "Video created: intermediate_results2/action_1237_no_offence/minimap_augmented.mp4\n",
      "Processing completed successfully!\n",
      "\n",
      "Processing action_123_offence.mp4...\n",
      "Using minimap directory: intermediate_results2/action_123_offence/minimap\n",
      "Found 126 frames in intermediate_results2/action_123_offence/player_detections_with_team_with_minimap.json\n",
      "Analyzed 0 frames with referee positions\n",
      "Processing 126 frames\n",
      "Processed frame 0\n",
      "Processed frame 50\n",
      "Processed frame 100\n",
      "Enhanced minimaps saved to intermediate_results2/action_123_offence/minimap with '_augmented' suffix\n",
      "Creating video from 126 frames...\n"
     ]
    },
    {
     "name": "stderr",
     "output_type": "stream",
     "text": [
      "Processing videos:   8%|▊         | 32/400 [00:45<08:53,  1.45s/it]"
     ]
    },
    {
     "name": "stdout",
     "output_type": "stream",
     "text": [
      "Video created: intermediate_results2/action_123_offence/minimap_augmented.mp4\n",
      "Processing completed successfully!\n",
      "\n",
      "Processing action_1267_no_offence.mp4...\n",
      "Using minimap directory: intermediate_results2/action_1267_no_offence/minimap\n",
      "Found 126 frames in intermediate_results2/action_1267_no_offence/player_detections_with_team_with_minimap.json\n",
      "Analyzed 0 frames with referee positions\n",
      "Processing 126 frames\n",
      "Processed frame 0\n",
      "Processed frame 50\n",
      "Processed frame 100\n",
      "Enhanced minimaps saved to intermediate_results2/action_1267_no_offence/minimap with '_augmented' suffix\n",
      "Creating video from 126 frames...\n"
     ]
    },
    {
     "name": "stderr",
     "output_type": "stream",
     "text": [
      "Processing videos:   8%|▊         | 33/400 [00:47<08:51,  1.45s/it]"
     ]
    },
    {
     "name": "stdout",
     "output_type": "stream",
     "text": [
      "Video created: intermediate_results2/action_1267_no_offence/minimap_augmented.mp4\n",
      "Processing completed successfully!\n",
      "\n",
      "Processing action_1270_no_offence.mp4...\n",
      "Using minimap directory: intermediate_results2/action_1270_no_offence/minimap\n",
      "Found 126 frames in intermediate_results2/action_1270_no_offence/player_detections_with_team_with_minimap.json\n",
      "Analyzed 0 frames with referee positions\n",
      "Processing 126 frames\n",
      "Processed frame 0\n",
      "Processed frame 50\n",
      "Processed frame 100\n",
      "Enhanced minimaps saved to intermediate_results2/action_1270_no_offence/minimap with '_augmented' suffix\n",
      "Creating video from 126 frames...\n"
     ]
    },
    {
     "name": "stderr",
     "output_type": "stream",
     "text": [
      "Processing videos:   8%|▊         | 34/400 [00:48<08:51,  1.45s/it]"
     ]
    },
    {
     "name": "stdout",
     "output_type": "stream",
     "text": [
      "Video created: intermediate_results2/action_1270_no_offence/minimap_augmented.mp4\n",
      "Processing completed successfully!\n",
      "\n",
      "Processing action_1279_offence.mp4...\n",
      "Using minimap directory: intermediate_results2/action_1279_offence/minimap\n",
      "Found 126 frames in intermediate_results2/action_1279_offence/player_detections_with_team_with_minimap.json\n",
      "Analyzed 0 frames with referee positions\n",
      "Processing 126 frames\n",
      "Processed frame 0\n",
      "Processed frame 50\n",
      "Processed frame 100\n",
      "Enhanced minimaps saved to intermediate_results2/action_1279_offence/minimap with '_augmented' suffix\n",
      "Creating video from 126 frames...\n"
     ]
    },
    {
     "name": "stderr",
     "output_type": "stream",
     "text": [
      "Processing videos:   9%|▉         | 35/400 [00:50<08:46,  1.44s/it]"
     ]
    },
    {
     "name": "stdout",
     "output_type": "stream",
     "text": [
      "Video created: intermediate_results2/action_1279_offence/minimap_augmented.mp4\n",
      "Processing completed successfully!\n",
      "\n",
      "Processing action_1281_no_offence.mp4...\n",
      "Using minimap directory: intermediate_results2/action_1281_no_offence/minimap\n",
      "Found 126 frames in intermediate_results2/action_1281_no_offence/player_detections_with_team_with_minimap.json\n",
      "Analyzed 0 frames with referee positions\n",
      "Processing 126 frames\n",
      "Processed frame 0\n",
      "Processed frame 50\n",
      "Processed frame 100\n",
      "Enhanced minimaps saved to intermediate_results2/action_1281_no_offence/minimap with '_augmented' suffix\n",
      "Creating video from 126 frames...\n"
     ]
    },
    {
     "name": "stderr",
     "output_type": "stream",
     "text": [
      "Processing videos:   9%|▉         | 36/400 [00:51<08:56,  1.47s/it]"
     ]
    },
    {
     "name": "stdout",
     "output_type": "stream",
     "text": [
      "Video created: intermediate_results2/action_1281_no_offence/minimap_augmented.mp4\n",
      "Processing completed successfully!\n",
      "\n",
      "Processing action_1287_offence.mp4...\n",
      "Using minimap directory: intermediate_results2/action_1287_offence/minimap\n",
      "Found 126 frames in intermediate_results2/action_1287_offence/player_detections_with_team_with_minimap.json\n",
      "Analyzed 0 frames with referee positions\n",
      "Processing 126 frames\n",
      "Processed frame 0\n",
      "Processed frame 50\n",
      "Processed frame 100\n",
      "Enhanced minimaps saved to intermediate_results2/action_1287_offence/minimap with '_augmented' suffix\n",
      "Creating video from 126 frames...\n"
     ]
    },
    {
     "name": "stderr",
     "output_type": "stream",
     "text": [
      "Processing videos:   9%|▉         | 37/400 [00:53<08:54,  1.47s/it]"
     ]
    },
    {
     "name": "stdout",
     "output_type": "stream",
     "text": [
      "Video created: intermediate_results2/action_1287_offence/minimap_augmented.mp4\n",
      "Processing completed successfully!\n",
      "\n",
      "Processing action_1304_offence.mp4...\n",
      "Using minimap directory: intermediate_results2/action_1304_offence/minimap\n",
      "Found 126 frames in intermediate_results2/action_1304_offence/player_detections_with_team_with_minimap.json\n",
      "Analyzed 0 frames with referee positions\n",
      "Processing 126 frames\n",
      "Processed frame 0\n",
      "Processed frame 50\n",
      "Processed frame 100\n",
      "Enhanced minimaps saved to intermediate_results2/action_1304_offence/minimap with '_augmented' suffix\n",
      "Creating video from 126 frames...\n"
     ]
    },
    {
     "name": "stderr",
     "output_type": "stream",
     "text": [
      "Processing videos:  10%|▉         | 38/400 [00:54<08:41,  1.44s/it]"
     ]
    },
    {
     "name": "stdout",
     "output_type": "stream",
     "text": [
      "Video created: intermediate_results2/action_1304_offence/minimap_augmented.mp4\n",
      "Processing completed successfully!\n",
      "\n",
      "Processing action_1306_no_offence.mp4...\n",
      "Using minimap directory: intermediate_results2/action_1306_no_offence/minimap\n",
      "Found 126 frames in intermediate_results2/action_1306_no_offence/player_detections_with_team_with_minimap.json\n",
      "Analyzed 0 frames with referee positions\n",
      "Processing 126 frames\n",
      "Processed frame 0\n",
      "Processed frame 50\n",
      "Processed frame 100\n",
      "Enhanced minimaps saved to intermediate_results2/action_1306_no_offence/minimap with '_augmented' suffix\n",
      "Creating video from 126 frames...\n"
     ]
    },
    {
     "name": "stderr",
     "output_type": "stream",
     "text": [
      "Processing videos:  10%|▉         | 39/400 [00:56<08:33,  1.42s/it]"
     ]
    },
    {
     "name": "stdout",
     "output_type": "stream",
     "text": [
      "Video created: intermediate_results2/action_1306_no_offence/minimap_augmented.mp4\n",
      "Processing completed successfully!\n",
      "\n",
      "Processing action_1307_no_offence.mp4...\n",
      "Using minimap directory: intermediate_results2/action_1307_no_offence/minimap\n",
      "Found 126 frames in intermediate_results2/action_1307_no_offence/player_detections_with_team_with_minimap.json\n",
      "Analyzed 0 frames with referee positions\n",
      "Processing 126 frames\n",
      "Processed frame 0\n",
      "Processed frame 50\n",
      "Processed frame 100\n",
      "Enhanced minimaps saved to intermediate_results2/action_1307_no_offence/minimap with '_augmented' suffix\n",
      "Creating video from 126 frames...\n"
     ]
    },
    {
     "name": "stderr",
     "output_type": "stream",
     "text": [
      "Processing videos:  10%|█         | 40/400 [00:57<08:27,  1.41s/it]"
     ]
    },
    {
     "name": "stdout",
     "output_type": "stream",
     "text": [
      "Video created: intermediate_results2/action_1307_no_offence/minimap_augmented.mp4\n",
      "Processing completed successfully!\n",
      "\n",
      "Processing action_1310_offence.mp4...\n",
      "Using minimap directory: intermediate_results2/action_1310_offence/minimap\n",
      "Found 126 frames in intermediate_results2/action_1310_offence/player_detections_with_team_with_minimap.json\n",
      "Analyzed 0 frames with referee positions\n",
      "Processing 126 frames\n",
      "Processed frame 0\n",
      "Processed frame 50\n",
      "Processed frame 100\n",
      "Enhanced minimaps saved to intermediate_results2/action_1310_offence/minimap with '_augmented' suffix\n",
      "Creating video from 126 frames...\n"
     ]
    },
    {
     "name": "stderr",
     "output_type": "stream",
     "text": [
      "Processing videos:  10%|█         | 41/400 [00:58<08:21,  1.40s/it]"
     ]
    },
    {
     "name": "stdout",
     "output_type": "stream",
     "text": [
      "Video created: intermediate_results2/action_1310_offence/minimap_augmented.mp4\n",
      "Processing completed successfully!\n",
      "\n",
      "Processing action_1311_no_offence.mp4...\n",
      "Using minimap directory: intermediate_results2/action_1311_no_offence/minimap\n",
      "Found 126 frames in intermediate_results2/action_1311_no_offence/player_detections_with_team_with_minimap.json\n",
      "Analyzed 0 frames with referee positions\n",
      "Processing 126 frames\n",
      "Processed frame 0\n",
      "Processed frame 50\n",
      "Processed frame 100\n",
      "Enhanced minimaps saved to intermediate_results2/action_1311_no_offence/minimap with '_augmented' suffix\n",
      "Creating video from 126 frames...\n"
     ]
    },
    {
     "name": "stderr",
     "output_type": "stream",
     "text": [
      "Processing videos:  10%|█         | 42/400 [01:00<08:19,  1.39s/it]"
     ]
    },
    {
     "name": "stdout",
     "output_type": "stream",
     "text": [
      "Video created: intermediate_results2/action_1311_no_offence/minimap_augmented.mp4\n",
      "Processing completed successfully!\n",
      "\n",
      "Processing action_1317_no_offence.mp4...\n",
      "Using minimap directory: intermediate_results2/action_1317_no_offence/minimap\n",
      "Found 126 frames in intermediate_results2/action_1317_no_offence/player_detections_with_team_with_minimap.json\n",
      "Analyzed 0 frames with referee positions\n",
      "Processing 126 frames\n",
      "Processed frame 0\n",
      "Processed frame 50\n",
      "Processed frame 100\n",
      "Enhanced minimaps saved to intermediate_results2/action_1317_no_offence/minimap with '_augmented' suffix\n",
      "Creating video from 126 frames...\n"
     ]
    },
    {
     "name": "stderr",
     "output_type": "stream",
     "text": [
      "Processing videos:  11%|█         | 43/400 [01:01<08:19,  1.40s/it]"
     ]
    },
    {
     "name": "stdout",
     "output_type": "stream",
     "text": [
      "Video created: intermediate_results2/action_1317_no_offence/minimap_augmented.mp4\n",
      "Processing completed successfully!\n",
      "\n",
      "Processing action_1325_offence.mp4...\n",
      "Using minimap directory: intermediate_results2/action_1325_offence/minimap\n",
      "Found 126 frames in intermediate_results2/action_1325_offence/player_detections_with_team_with_minimap.json\n",
      "Analyzed 0 frames with referee positions\n",
      "Processing 126 frames\n",
      "Processed frame 0\n",
      "Processed frame 50\n",
      "Processed frame 100\n",
      "Enhanced minimaps saved to intermediate_results2/action_1325_offence/minimap with '_augmented' suffix\n",
      "Creating video from 126 frames...\n"
     ]
    },
    {
     "name": "stderr",
     "output_type": "stream",
     "text": [
      "Processing videos:  11%|█         | 44/400 [01:02<08:19,  1.40s/it]"
     ]
    },
    {
     "name": "stdout",
     "output_type": "stream",
     "text": [
      "Video created: intermediate_results2/action_1325_offence/minimap_augmented.mp4\n",
      "Processing completed successfully!\n",
      "\n",
      "Processing action_132_no_offence.mp4...\n",
      "Using minimap directory: intermediate_results2/action_132_no_offence/minimap\n",
      "Found 126 frames in intermediate_results2/action_132_no_offence/player_detections_with_team_with_minimap.json\n",
      "Analyzed 0 frames with referee positions\n",
      "Processing 126 frames\n",
      "Processed frame 0\n",
      "Processed frame 50\n",
      "Processed frame 100\n",
      "Enhanced minimaps saved to intermediate_results2/action_132_no_offence/minimap with '_augmented' suffix\n",
      "Creating video from 126 frames...\n"
     ]
    },
    {
     "name": "stderr",
     "output_type": "stream",
     "text": [
      "Processing videos:  11%|█▏        | 45/400 [01:04<08:14,  1.39s/it]"
     ]
    },
    {
     "name": "stdout",
     "output_type": "stream",
     "text": [
      "Video created: intermediate_results2/action_132_no_offence/minimap_augmented.mp4\n",
      "Processing completed successfully!\n",
      "\n",
      "Processing action_1332_offence.mp4...\n",
      "Using minimap directory: intermediate_results2/action_1332_offence/minimap\n",
      "Found 126 frames in intermediate_results2/action_1332_offence/player_detections_with_team_with_minimap.json\n",
      "Analyzed 0 frames with referee positions\n",
      "Processing 126 frames\n",
      "Processed frame 0\n",
      "Processed frame 50\n",
      "Processed frame 100\n",
      "Enhanced minimaps saved to intermediate_results2/action_1332_offence/minimap with '_augmented' suffix\n",
      "Creating video from 126 frames...\n"
     ]
    },
    {
     "name": "stderr",
     "output_type": "stream",
     "text": [
      "Processing videos:  12%|█▏        | 46/400 [01:05<08:09,  1.38s/it]"
     ]
    },
    {
     "name": "stdout",
     "output_type": "stream",
     "text": [
      "Video created: intermediate_results2/action_1332_offence/minimap_augmented.mp4\n",
      "Processing completed successfully!\n",
      "\n",
      "Processing action_135_offence.mp4...\n",
      "Using minimap directory: intermediate_results2/action_135_offence/minimap\n",
      "Found 126 frames in intermediate_results2/action_135_offence/player_detections_with_team_with_minimap.json\n",
      "Analyzed 0 frames with referee positions\n",
      "Processing 126 frames\n",
      "Processed frame 0\n",
      "Processed frame 50\n",
      "Processed frame 100\n",
      "Enhanced minimaps saved to intermediate_results2/action_135_offence/minimap with '_augmented' suffix\n",
      "Creating video from 126 frames...\n"
     ]
    },
    {
     "name": "stderr",
     "output_type": "stream",
     "text": [
      "Processing videos:  12%|█▏        | 47/400 [01:07<08:05,  1.38s/it]"
     ]
    },
    {
     "name": "stdout",
     "output_type": "stream",
     "text": [
      "Video created: intermediate_results2/action_135_offence/minimap_augmented.mp4\n",
      "Processing completed successfully!\n",
      "\n",
      "Processing action_1361_no_offence.mp4...\n",
      "Using minimap directory: intermediate_results2/action_1361_no_offence/minimap\n",
      "Found 126 frames in intermediate_results2/action_1361_no_offence/player_detections_with_team_with_minimap.json\n",
      "Analyzed 0 frames with referee positions\n",
      "Processing 126 frames\n",
      "Processed frame 0\n",
      "Processed frame 50\n",
      "Processed frame 100\n",
      "Enhanced minimaps saved to intermediate_results2/action_1361_no_offence/minimap with '_augmented' suffix\n",
      "Creating video from 126 frames...\n"
     ]
    },
    {
     "name": "stderr",
     "output_type": "stream",
     "text": [
      "Processing videos:  12%|█▏        | 48/400 [01:08<08:19,  1.42s/it]"
     ]
    },
    {
     "name": "stdout",
     "output_type": "stream",
     "text": [
      "Video created: intermediate_results2/action_1361_no_offence/minimap_augmented.mp4\n",
      "Processing completed successfully!\n",
      "\n",
      "Processing action_1367_offence.mp4...\n",
      "Using minimap directory: intermediate_results2/action_1367_offence/minimap\n",
      "Found 126 frames in intermediate_results2/action_1367_offence/player_detections_with_team_with_minimap.json\n",
      "Analyzed 0 frames with referee positions\n",
      "Processing 126 frames\n",
      "Processed frame 0\n",
      "Processed frame 50\n",
      "Processed frame 100\n",
      "Enhanced minimaps saved to intermediate_results2/action_1367_offence/minimap with '_augmented' suffix\n",
      "Creating video from 126 frames...\n"
     ]
    },
    {
     "name": "stderr",
     "output_type": "stream",
     "text": [
      "Processing videos:  12%|█▏        | 49/400 [01:10<08:21,  1.43s/it]"
     ]
    },
    {
     "name": "stdout",
     "output_type": "stream",
     "text": [
      "Video created: intermediate_results2/action_1367_offence/minimap_augmented.mp4\n",
      "Processing completed successfully!\n",
      "\n",
      "Processing action_1371_offence.mp4...\n",
      "Using minimap directory: intermediate_results2/action_1371_offence/minimap\n",
      "Found 126 frames in intermediate_results2/action_1371_offence/player_detections_with_team_with_minimap.json\n",
      "Analyzed 0 frames with referee positions\n",
      "Processing 126 frames\n",
      "Processed frame 0\n",
      "Processed frame 50\n",
      "Processed frame 100\n",
      "Enhanced minimaps saved to intermediate_results2/action_1371_offence/minimap with '_augmented' suffix\n",
      "Creating video from 126 frames...\n"
     ]
    },
    {
     "name": "stderr",
     "output_type": "stream",
     "text": [
      "Processing videos:  12%|█▎        | 50/400 [01:11<08:22,  1.44s/it]"
     ]
    },
    {
     "name": "stdout",
     "output_type": "stream",
     "text": [
      "Video created: intermediate_results2/action_1371_offence/minimap_augmented.mp4\n",
      "Processing completed successfully!\n",
      "\n",
      "Processing action_1374_no_offence.mp4...\n",
      "Using minimap directory: intermediate_results2/action_1374_no_offence/minimap\n",
      "Found 126 frames in intermediate_results2/action_1374_no_offence/player_detections_with_team_with_minimap.json\n",
      "Analyzed 0 frames with referee positions\n",
      "Processing 126 frames\n",
      "Processed frame 0\n",
      "Processed frame 50\n",
      "Processed frame 100\n",
      "Enhanced minimaps saved to intermediate_results2/action_1374_no_offence/minimap with '_augmented' suffix\n",
      "Creating video from 126 frames...\n"
     ]
    },
    {
     "name": "stderr",
     "output_type": "stream",
     "text": [
      "Processing videos:  13%|█▎        | 51/400 [01:12<08:21,  1.44s/it]"
     ]
    },
    {
     "name": "stdout",
     "output_type": "stream",
     "text": [
      "Video created: intermediate_results2/action_1374_no_offence/minimap_augmented.mp4\n",
      "Processing completed successfully!\n",
      "\n",
      "Processing action_1380_offence.mp4...\n",
      "Using minimap directory: intermediate_results2/action_1380_offence/minimap\n",
      "Found 126 frames in intermediate_results2/action_1380_offence/player_detections_with_team_with_minimap.json\n",
      "Analyzed 0 frames with referee positions\n",
      "Processing 126 frames\n",
      "Processed frame 0\n",
      "Processed frame 50\n",
      "Processed frame 100\n",
      "Enhanced minimaps saved to intermediate_results2/action_1380_offence/minimap with '_augmented' suffix\n",
      "Creating video from 126 frames...\n"
     ]
    },
    {
     "name": "stderr",
     "output_type": "stream",
     "text": [
      "Processing videos:  13%|█▎        | 52/400 [01:14<08:14,  1.42s/it]"
     ]
    },
    {
     "name": "stdout",
     "output_type": "stream",
     "text": [
      "Video created: intermediate_results2/action_1380_offence/minimap_augmented.mp4\n",
      "Processing completed successfully!\n",
      "\n",
      "Processing action_1390_offence.mp4...\n",
      "Using minimap directory: intermediate_results2/action_1390_offence/minimap\n",
      "Found 126 frames in intermediate_results2/action_1390_offence/player_detections_with_team_with_minimap.json\n",
      "Analyzed 0 frames with referee positions\n",
      "Processing 126 frames\n",
      "Processed frame 0\n",
      "Processed frame 50\n",
      "Processed frame 100\n",
      "Enhanced minimaps saved to intermediate_results2/action_1390_offence/minimap with '_augmented' suffix\n",
      "Creating video from 126 frames...\n"
     ]
    },
    {
     "name": "stderr",
     "output_type": "stream",
     "text": [
      "Processing videos:  13%|█▎        | 53/400 [01:15<08:09,  1.41s/it]"
     ]
    },
    {
     "name": "stdout",
     "output_type": "stream",
     "text": [
      "Video created: intermediate_results2/action_1390_offence/minimap_augmented.mp4\n",
      "Processing completed successfully!\n",
      "\n",
      "Processing action_1392_offence.mp4...\n",
      "Using minimap directory: intermediate_results2/action_1392_offence/minimap\n",
      "Found 126 frames in intermediate_results2/action_1392_offence/player_detections_with_team_with_minimap.json\n",
      "Analyzed 0 frames with referee positions\n",
      "Processing 126 frames\n",
      "Processed frame 0\n",
      "Processed frame 50\n",
      "Processed frame 100\n",
      "Enhanced minimaps saved to intermediate_results2/action_1392_offence/minimap with '_augmented' suffix\n",
      "Creating video from 126 frames...\n"
     ]
    },
    {
     "name": "stderr",
     "output_type": "stream",
     "text": [
      "Processing videos:  14%|█▎        | 54/400 [01:17<08:01,  1.39s/it]"
     ]
    },
    {
     "name": "stdout",
     "output_type": "stream",
     "text": [
      "Video created: intermediate_results2/action_1392_offence/minimap_augmented.mp4\n",
      "Processing completed successfully!\n",
      "\n",
      "Processing action_1399_no_offence.mp4...\n",
      "Using minimap directory: intermediate_results2/action_1399_no_offence/minimap\n",
      "Found 126 frames in intermediate_results2/action_1399_no_offence/player_detections_with_team_with_minimap.json\n",
      "Analyzed 0 frames with referee positions\n",
      "Processing 126 frames\n",
      "Processed frame 0\n",
      "Processed frame 50\n",
      "Processed frame 100\n",
      "Enhanced minimaps saved to intermediate_results2/action_1399_no_offence/minimap with '_augmented' suffix\n",
      "Creating video from 126 frames...\n"
     ]
    },
    {
     "name": "stderr",
     "output_type": "stream",
     "text": [
      "Processing videos:  14%|█▍        | 55/400 [01:18<08:05,  1.41s/it]"
     ]
    },
    {
     "name": "stdout",
     "output_type": "stream",
     "text": [
      "Video created: intermediate_results2/action_1399_no_offence/minimap_augmented.mp4\n",
      "Processing completed successfully!\n",
      "\n",
      "Processing action_1400_offence.mp4...\n",
      "Using minimap directory: intermediate_results2/action_1400_offence/minimap\n",
      "Found 126 frames in intermediate_results2/action_1400_offence/player_detections_with_team_with_minimap.json\n",
      "Analyzed 0 frames with referee positions\n",
      "Processing 126 frames\n",
      "Processed frame 0\n",
      "Processed frame 50\n",
      "Processed frame 100\n",
      "Enhanced minimaps saved to intermediate_results2/action_1400_offence/minimap with '_augmented' suffix\n",
      "Creating video from 126 frames...\n"
     ]
    },
    {
     "name": "stderr",
     "output_type": "stream",
     "text": [
      "Processing videos:  14%|█▍        | 56/400 [01:19<07:59,  1.39s/it]"
     ]
    },
    {
     "name": "stdout",
     "output_type": "stream",
     "text": [
      "Video created: intermediate_results2/action_1400_offence/minimap_augmented.mp4\n",
      "Processing completed successfully!\n",
      "\n",
      "Processing action_1407_offence.mp4...\n",
      "Using minimap directory: intermediate_results2/action_1407_offence/minimap\n",
      "Found 126 frames in intermediate_results2/action_1407_offence/player_detections_with_team_with_minimap.json\n",
      "Analyzed 0 frames with referee positions\n",
      "Processing 126 frames\n",
      "Processed frame 0\n",
      "Processed frame 50\n",
      "Processed frame 100\n",
      "Enhanced minimaps saved to intermediate_results2/action_1407_offence/minimap with '_augmented' suffix\n",
      "Creating video from 126 frames...\n"
     ]
    },
    {
     "name": "stderr",
     "output_type": "stream",
     "text": [
      "Processing videos:  14%|█▍        | 57/400 [01:21<08:00,  1.40s/it]"
     ]
    },
    {
     "name": "stdout",
     "output_type": "stream",
     "text": [
      "Video created: intermediate_results2/action_1407_offence/minimap_augmented.mp4\n",
      "Processing completed successfully!\n",
      "\n",
      "Processing action_1424_no_offence.mp4...\n",
      "Using minimap directory: intermediate_results2/action_1424_no_offence/minimap\n",
      "Found 126 frames in intermediate_results2/action_1424_no_offence/player_detections_with_team_with_minimap.json\n",
      "Analyzed 0 frames with referee positions\n",
      "Processing 126 frames\n",
      "Processed frame 0\n",
      "Processed frame 50\n",
      "Processed frame 100\n",
      "Enhanced minimaps saved to intermediate_results2/action_1424_no_offence/minimap with '_augmented' suffix\n",
      "Creating video from 126 frames...\n"
     ]
    },
    {
     "name": "stderr",
     "output_type": "stream",
     "text": [
      "Processing videos:  14%|█▍        | 58/400 [01:22<08:01,  1.41s/it]"
     ]
    },
    {
     "name": "stdout",
     "output_type": "stream",
     "text": [
      "Video created: intermediate_results2/action_1424_no_offence/minimap_augmented.mp4\n",
      "Processing completed successfully!\n",
      "\n",
      "Processing action_1434_offence.mp4...\n",
      "Using minimap directory: intermediate_results2/action_1434_offence/minimap\n",
      "Found 126 frames in intermediate_results2/action_1434_offence/player_detections_with_team_with_minimap.json\n",
      "Analyzed 0 frames with referee positions\n",
      "Processing 126 frames\n",
      "Processed frame 0\n",
      "Processed frame 50\n",
      "Processed frame 100\n",
      "Enhanced minimaps saved to intermediate_results2/action_1434_offence/minimap with '_augmented' suffix\n",
      "Creating video from 126 frames...\n"
     ]
    },
    {
     "name": "stderr",
     "output_type": "stream",
     "text": [
      "Processing videos:  15%|█▍        | 59/400 [01:24<08:14,  1.45s/it]"
     ]
    },
    {
     "name": "stdout",
     "output_type": "stream",
     "text": [
      "Video created: intermediate_results2/action_1434_offence/minimap_augmented.mp4\n",
      "Processing completed successfully!\n",
      "\n",
      "Processing action_1439_no_offence.mp4...\n",
      "Using minimap directory: intermediate_results2/action_1439_no_offence/minimap\n",
      "Found 126 frames in intermediate_results2/action_1439_no_offence/player_detections_with_team_with_minimap.json\n",
      "Analyzed 0 frames with referee positions\n",
      "Processing 126 frames\n",
      "Processed frame 0\n",
      "Processed frame 50\n",
      "Processed frame 100\n",
      "Enhanced minimaps saved to intermediate_results2/action_1439_no_offence/minimap with '_augmented' suffix\n",
      "Creating video from 126 frames...\n"
     ]
    },
    {
     "name": "stderr",
     "output_type": "stream",
     "text": [
      "Processing videos:  15%|█▌        | 60/400 [01:25<08:01,  1.42s/it]"
     ]
    },
    {
     "name": "stdout",
     "output_type": "stream",
     "text": [
      "Video created: intermediate_results2/action_1439_no_offence/minimap_augmented.mp4\n",
      "Processing completed successfully!\n",
      "\n",
      "Processing action_1463_no_offence.mp4...\n",
      "Using minimap directory: intermediate_results2/action_1463_no_offence/minimap\n",
      "Found 126 frames in intermediate_results2/action_1463_no_offence/player_detections_with_team_with_minimap.json\n",
      "Analyzed 0 frames with referee positions\n",
      "Processing 126 frames\n",
      "Processed frame 0\n",
      "Processed frame 50\n",
      "Processed frame 100\n",
      "Enhanced minimaps saved to intermediate_results2/action_1463_no_offence/minimap with '_augmented' suffix\n",
      "Creating video from 126 frames...\n"
     ]
    },
    {
     "name": "stderr",
     "output_type": "stream",
     "text": [
      "Processing videos:  15%|█▌        | 61/400 [01:26<07:55,  1.40s/it]"
     ]
    },
    {
     "name": "stdout",
     "output_type": "stream",
     "text": [
      "Video created: intermediate_results2/action_1463_no_offence/minimap_augmented.mp4\n",
      "Processing completed successfully!\n",
      "\n",
      "Processing action_1466_no_offence.mp4...\n",
      "Using minimap directory: intermediate_results2/action_1466_no_offence/minimap\n",
      "Found 126 frames in intermediate_results2/action_1466_no_offence/player_detections_with_team_with_minimap.json\n",
      "Analyzed 0 frames with referee positions\n",
      "Processing 126 frames\n",
      "Processed frame 0\n",
      "Processed frame 50\n",
      "Processed frame 100\n",
      "Enhanced minimaps saved to intermediate_results2/action_1466_no_offence/minimap with '_augmented' suffix\n",
      "Creating video from 126 frames...\n"
     ]
    },
    {
     "name": "stderr",
     "output_type": "stream",
     "text": [
      "Processing videos:  16%|█▌        | 62/400 [01:28<07:56,  1.41s/it]"
     ]
    },
    {
     "name": "stdout",
     "output_type": "stream",
     "text": [
      "Video created: intermediate_results2/action_1466_no_offence/minimap_augmented.mp4\n",
      "Processing completed successfully!\n",
      "\n",
      "Processing action_1476_no_offence.mp4...\n",
      "Using minimap directory: intermediate_results2/action_1476_no_offence/minimap\n",
      "Found 126 frames in intermediate_results2/action_1476_no_offence/player_detections_with_team_with_minimap.json\n",
      "Analyzed 0 frames with referee positions\n",
      "Processing 126 frames\n",
      "Processed frame 0\n",
      "Processed frame 50\n",
      "Processed frame 100\n",
      "Enhanced minimaps saved to intermediate_results2/action_1476_no_offence/minimap with '_augmented' suffix\n",
      "Creating video from 126 frames...\n"
     ]
    },
    {
     "name": "stderr",
     "output_type": "stream",
     "text": [
      "Processing videos:  16%|█▌        | 63/400 [01:29<07:56,  1.41s/it]"
     ]
    },
    {
     "name": "stdout",
     "output_type": "stream",
     "text": [
      "Video created: intermediate_results2/action_1476_no_offence/minimap_augmented.mp4\n",
      "Processing completed successfully!\n",
      "\n",
      "Processing action_1477_no_offence.mp4...\n",
      "Using minimap directory: intermediate_results2/action_1477_no_offence/minimap\n",
      "Found 126 frames in intermediate_results2/action_1477_no_offence/player_detections_with_team_with_minimap.json\n",
      "Analyzed 0 frames with referee positions\n",
      "Processing 126 frames\n",
      "Processed frame 0\n",
      "Processed frame 50\n",
      "Processed frame 100\n",
      "Enhanced minimaps saved to intermediate_results2/action_1477_no_offence/minimap with '_augmented' suffix\n",
      "Creating video from 126 frames...\n"
     ]
    },
    {
     "name": "stderr",
     "output_type": "stream",
     "text": [
      "Processing videos:  16%|█▌        | 64/400 [01:31<07:57,  1.42s/it]"
     ]
    },
    {
     "name": "stdout",
     "output_type": "stream",
     "text": [
      "Video created: intermediate_results2/action_1477_no_offence/minimap_augmented.mp4\n",
      "Processing completed successfully!\n",
      "\n",
      "Processing action_1485_offence.mp4...\n",
      "Using minimap directory: intermediate_results2/action_1485_offence/minimap\n",
      "Found 126 frames in intermediate_results2/action_1485_offence/player_detections_with_team_with_minimap.json\n",
      "Analyzed 0 frames with referee positions\n",
      "Processing 126 frames\n",
      "Processed frame 0\n",
      "Processed frame 50\n",
      "Processed frame 100\n",
      "Enhanced minimaps saved to intermediate_results2/action_1485_offence/minimap with '_augmented' suffix\n",
      "Creating video from 126 frames...\n"
     ]
    },
    {
     "name": "stderr",
     "output_type": "stream",
     "text": [
      "Processing videos:  16%|█▋        | 65/400 [01:32<07:59,  1.43s/it]"
     ]
    },
    {
     "name": "stdout",
     "output_type": "stream",
     "text": [
      "Video created: intermediate_results2/action_1485_offence/minimap_augmented.mp4\n",
      "Processing completed successfully!\n",
      "\n",
      "Processing action_1490_offence.mp4...\n",
      "Using minimap directory: intermediate_results2/action_1490_offence/minimap\n",
      "Found 126 frames in intermediate_results2/action_1490_offence/player_detections_with_team_with_minimap.json\n",
      "Analyzed 0 frames with referee positions\n",
      "Processing 126 frames\n",
      "Processed frame 0\n",
      "Processed frame 50\n",
      "Processed frame 100\n",
      "Enhanced minimaps saved to intermediate_results2/action_1490_offence/minimap with '_augmented' suffix\n",
      "Creating video from 126 frames...\n"
     ]
    },
    {
     "name": "stderr",
     "output_type": "stream",
     "text": [
      "Processing videos:  16%|█▋        | 66/400 [01:34<07:48,  1.40s/it]"
     ]
    },
    {
     "name": "stdout",
     "output_type": "stream",
     "text": [
      "Video created: intermediate_results2/action_1490_offence/minimap_augmented.mp4\n",
      "Processing completed successfully!\n",
      "\n",
      "Processing action_1492_offence.mp4...\n",
      "Using minimap directory: intermediate_results2/action_1492_offence/minimap\n",
      "Found 126 frames in intermediate_results2/action_1492_offence/player_detections_with_team_with_minimap.json\n",
      "Analyzed 0 frames with referee positions\n",
      "Processing 126 frames\n",
      "Processed frame 0\n",
      "Processed frame 50\n",
      "Processed frame 100\n",
      "Enhanced minimaps saved to intermediate_results2/action_1492_offence/minimap with '_augmented' suffix\n",
      "Creating video from 126 frames...\n"
     ]
    },
    {
     "name": "stderr",
     "output_type": "stream",
     "text": [
      "Processing videos:  17%|█▋        | 67/400 [01:35<07:38,  1.38s/it]"
     ]
    },
    {
     "name": "stdout",
     "output_type": "stream",
     "text": [
      "Video created: intermediate_results2/action_1492_offence/minimap_augmented.mp4\n",
      "Processing completed successfully!\n",
      "\n",
      "Processing action_1496_offence.mp4...\n",
      "Using minimap directory: intermediate_results2/action_1496_offence/minimap\n",
      "Found 126 frames in intermediate_results2/action_1496_offence/player_detections_with_team_with_minimap.json\n",
      "Analyzed 0 frames with referee positions\n",
      "Processing 126 frames\n",
      "Processed frame 0\n",
      "Processed frame 50\n",
      "Processed frame 100\n",
      "Enhanced minimaps saved to intermediate_results2/action_1496_offence/minimap with '_augmented' suffix\n",
      "Creating video from 126 frames...\n"
     ]
    },
    {
     "name": "stderr",
     "output_type": "stream",
     "text": [
      "Processing videos:  17%|█▋        | 68/400 [01:36<07:32,  1.36s/it]"
     ]
    },
    {
     "name": "stdout",
     "output_type": "stream",
     "text": [
      "Video created: intermediate_results2/action_1496_offence/minimap_augmented.mp4\n",
      "Processing completed successfully!\n",
      "\n",
      "Processing action_1501_no_offence.mp4...\n",
      "Using minimap directory: intermediate_results2/action_1501_no_offence/minimap\n",
      "Found 126 frames in intermediate_results2/action_1501_no_offence/player_detections_with_team_with_minimap.json\n",
      "Analyzed 0 frames with referee positions\n",
      "Processing 126 frames\n",
      "Processed frame 0\n",
      "Processed frame 50\n",
      "Processed frame 100\n",
      "Enhanced minimaps saved to intermediate_results2/action_1501_no_offence/minimap with '_augmented' suffix\n",
      "Creating video from 126 frames...\n"
     ]
    },
    {
     "name": "stderr",
     "output_type": "stream",
     "text": [
      "Processing videos:  17%|█▋        | 69/400 [01:38<07:28,  1.35s/it]"
     ]
    },
    {
     "name": "stdout",
     "output_type": "stream",
     "text": [
      "Video created: intermediate_results2/action_1501_no_offence/minimap_augmented.mp4\n",
      "Processing completed successfully!\n",
      "\n",
      "Processing action_1505_offence.mp4...\n",
      "Using minimap directory: intermediate_results2/action_1505_offence/minimap\n",
      "Found 126 frames in intermediate_results2/action_1505_offence/player_detections_with_team_with_minimap.json\n",
      "Analyzed 0 frames with referee positions\n",
      "Processing 126 frames\n",
      "Processed frame 0\n",
      "Processed frame 50\n",
      "Processed frame 100\n",
      "Enhanced minimaps saved to intermediate_results2/action_1505_offence/minimap with '_augmented' suffix\n",
      "Creating video from 126 frames...\n"
     ]
    },
    {
     "name": "stderr",
     "output_type": "stream",
     "text": [
      "Processing videos:  18%|█▊        | 70/400 [01:39<07:29,  1.36s/it]"
     ]
    },
    {
     "name": "stdout",
     "output_type": "stream",
     "text": [
      "Video created: intermediate_results2/action_1505_offence/minimap_augmented.mp4\n",
      "Processing completed successfully!\n",
      "\n",
      "Processing action_1507_offence.mp4...\n",
      "Using minimap directory: intermediate_results2/action_1507_offence/minimap\n",
      "Found 126 frames in intermediate_results2/action_1507_offence/player_detections_with_team_with_minimap.json\n",
      "Analyzed 0 frames with referee positions\n",
      "Processing 126 frames\n",
      "Processed frame 0\n",
      "Processed frame 50\n",
      "Processed frame 100\n",
      "Enhanced minimaps saved to intermediate_results2/action_1507_offence/minimap with '_augmented' suffix\n",
      "Creating video from 126 frames...\n"
     ]
    },
    {
     "name": "stderr",
     "output_type": "stream",
     "text": [
      "Processing videos:  18%|█▊        | 71/400 [01:40<07:49,  1.43s/it]"
     ]
    },
    {
     "name": "stdout",
     "output_type": "stream",
     "text": [
      "Video created: intermediate_results2/action_1507_offence/minimap_augmented.mp4\n",
      "Processing completed successfully!\n",
      "\n",
      "Processing action_151_no_offence.mp4...\n",
      "Using minimap directory: intermediate_results2/action_151_no_offence/minimap\n",
      "Found 126 frames in intermediate_results2/action_151_no_offence/player_detections_with_team_with_minimap.json\n",
      "Analyzed 0 frames with referee positions\n",
      "Processing 126 frames\n",
      "Processed frame 0\n",
      "Processed frame 50\n",
      "Processed frame 100\n",
      "Enhanced minimaps saved to intermediate_results2/action_151_no_offence/minimap with '_augmented' suffix\n",
      "Creating video from 126 frames...\n"
     ]
    },
    {
     "name": "stderr",
     "output_type": "stream",
     "text": [
      "Processing videos:  18%|█▊        | 72/400 [01:42<07:49,  1.43s/it]"
     ]
    },
    {
     "name": "stdout",
     "output_type": "stream",
     "text": [
      "Video created: intermediate_results2/action_151_no_offence/minimap_augmented.mp4\n",
      "Processing completed successfully!\n",
      "\n",
      "Processing action_1523_no_offence.mp4...\n",
      "Using minimap directory: intermediate_results2/action_1523_no_offence/minimap\n",
      "Found 126 frames in intermediate_results2/action_1523_no_offence/player_detections_with_team_with_minimap.json\n",
      "Analyzed 0 frames with referee positions\n",
      "Processing 126 frames\n",
      "Processed frame 0\n",
      "Processed frame 50\n",
      "Processed frame 100\n",
      "Enhanced minimaps saved to intermediate_results2/action_1523_no_offence/minimap with '_augmented' suffix\n",
      "Creating video from 126 frames...\n"
     ]
    },
    {
     "name": "stderr",
     "output_type": "stream",
     "text": [
      "Processing videos:  18%|█▊        | 73/400 [01:43<07:46,  1.43s/it]"
     ]
    },
    {
     "name": "stdout",
     "output_type": "stream",
     "text": [
      "Video created: intermediate_results2/action_1523_no_offence/minimap_augmented.mp4\n",
      "Processing completed successfully!\n",
      "\n",
      "Processing action_1524_offence.mp4...\n",
      "Using minimap directory: intermediate_results2/action_1524_offence/minimap\n",
      "Found 126 frames in intermediate_results2/action_1524_offence/player_detections_with_team_with_minimap.json\n",
      "Analyzed 0 frames with referee positions\n",
      "Processing 126 frames\n",
      "Processed frame 0\n",
      "Processed frame 50\n",
      "Processed frame 100\n",
      "Enhanced minimaps saved to intermediate_results2/action_1524_offence/minimap with '_augmented' suffix\n",
      "Creating video from 126 frames...\n"
     ]
    },
    {
     "name": "stderr",
     "output_type": "stream",
     "text": [
      "Processing videos:  18%|█▊        | 74/400 [01:45<07:45,  1.43s/it]"
     ]
    },
    {
     "name": "stdout",
     "output_type": "stream",
     "text": [
      "Video created: intermediate_results2/action_1524_offence/minimap_augmented.mp4\n",
      "Processing completed successfully!\n",
      "\n",
      "Processing action_1542_offence.mp4...\n",
      "Using minimap directory: intermediate_results2/action_1542_offence/minimap\n",
      "Found 126 frames in intermediate_results2/action_1542_offence/player_detections_with_team_with_minimap.json\n",
      "Analyzed 0 frames with referee positions\n",
      "Processing 126 frames\n",
      "Processed frame 0\n",
      "Processed frame 50\n",
      "Processed frame 100\n",
      "Enhanced minimaps saved to intermediate_results2/action_1542_offence/minimap with '_augmented' suffix\n",
      "Creating video from 126 frames...\n"
     ]
    },
    {
     "name": "stderr",
     "output_type": "stream",
     "text": [
      "Processing videos:  19%|█▉        | 75/400 [01:46<07:36,  1.40s/it]"
     ]
    },
    {
     "name": "stdout",
     "output_type": "stream",
     "text": [
      "Video created: intermediate_results2/action_1542_offence/minimap_augmented.mp4\n",
      "Processing completed successfully!\n",
      "\n",
      "Processing action_1545_no_offence.mp4...\n",
      "Using minimap directory: intermediate_results2/action_1545_no_offence/minimap\n",
      "Found 126 frames in intermediate_results2/action_1545_no_offence/player_detections_with_team_with_minimap.json\n",
      "Analyzed 0 frames with referee positions\n",
      "Processing 126 frames\n",
      "Processed frame 0\n",
      "Processed frame 50\n",
      "Processed frame 100\n",
      "Enhanced minimaps saved to intermediate_results2/action_1545_no_offence/minimap with '_augmented' suffix\n",
      "Creating video from 126 frames...\n"
     ]
    },
    {
     "name": "stderr",
     "output_type": "stream",
     "text": [
      "Processing videos:  19%|█▉        | 76/400 [01:48<07:38,  1.41s/it]"
     ]
    },
    {
     "name": "stdout",
     "output_type": "stream",
     "text": [
      "Video created: intermediate_results2/action_1545_no_offence/minimap_augmented.mp4\n",
      "Processing completed successfully!\n",
      "\n",
      "Processing action_1565_no_offence.mp4...\n",
      "Using minimap directory: intermediate_results2/action_1565_no_offence/minimap\n",
      "Found 126 frames in intermediate_results2/action_1565_no_offence/player_detections_with_team_with_minimap.json\n",
      "Analyzed 0 frames with referee positions\n",
      "Processing 126 frames\n",
      "Processed frame 0\n",
      "Processed frame 50\n",
      "Processed frame 100\n",
      "Enhanced minimaps saved to intermediate_results2/action_1565_no_offence/minimap with '_augmented' suffix\n",
      "Creating video from 126 frames...\n"
     ]
    },
    {
     "name": "stderr",
     "output_type": "stream",
     "text": [
      "Processing videos:  19%|█▉        | 77/400 [01:49<07:32,  1.40s/it]"
     ]
    },
    {
     "name": "stdout",
     "output_type": "stream",
     "text": [
      "Video created: intermediate_results2/action_1565_no_offence/minimap_augmented.mp4\n",
      "Processing completed successfully!\n",
      "\n",
      "Processing action_1581_offence.mp4...\n",
      "Using minimap directory: intermediate_results2/action_1581_offence/minimap\n",
      "Found 126 frames in intermediate_results2/action_1581_offence/player_detections_with_team_with_minimap.json\n",
      "Analyzed 0 frames with referee positions\n",
      "Processing 126 frames\n",
      "Processed frame 0\n",
      "Processed frame 50\n",
      "Processed frame 100\n",
      "Enhanced minimaps saved to intermediate_results2/action_1581_offence/minimap with '_augmented' suffix\n",
      "Creating video from 126 frames...\n"
     ]
    },
    {
     "name": "stderr",
     "output_type": "stream",
     "text": [
      "Processing videos:  20%|█▉        | 78/400 [01:50<07:27,  1.39s/it]"
     ]
    },
    {
     "name": "stdout",
     "output_type": "stream",
     "text": [
      "Video created: intermediate_results2/action_1581_offence/minimap_augmented.mp4\n",
      "Processing completed successfully!\n",
      "\n",
      "Processing action_1585_no_offence.mp4...\n",
      "Using minimap directory: intermediate_results2/action_1585_no_offence/minimap\n",
      "Found 126 frames in intermediate_results2/action_1585_no_offence/player_detections_with_team_with_minimap.json\n",
      "Analyzed 0 frames with referee positions\n",
      "Processing 126 frames\n",
      "Processed frame 0\n",
      "Processed frame 50\n",
      "Processed frame 100\n",
      "Enhanced minimaps saved to intermediate_results2/action_1585_no_offence/minimap with '_augmented' suffix\n",
      "Creating video from 126 frames...\n"
     ]
    },
    {
     "name": "stderr",
     "output_type": "stream",
     "text": [
      "Processing videos:  20%|█▉        | 79/400 [01:52<07:26,  1.39s/it]"
     ]
    },
    {
     "name": "stdout",
     "output_type": "stream",
     "text": [
      "Video created: intermediate_results2/action_1585_no_offence/minimap_augmented.mp4\n",
      "Processing completed successfully!\n",
      "\n",
      "Processing action_1591_offence.mp4...\n",
      "Using minimap directory: intermediate_results2/action_1591_offence/minimap\n",
      "Found 126 frames in intermediate_results2/action_1591_offence/player_detections_with_team_with_minimap.json\n",
      "Analyzed 0 frames with referee positions\n",
      "Processing 126 frames\n",
      "Processed frame 0\n",
      "Processed frame 50\n",
      "Processed frame 100\n",
      "Enhanced minimaps saved to intermediate_results2/action_1591_offence/minimap with '_augmented' suffix\n",
      "Creating video from 126 frames...\n"
     ]
    },
    {
     "name": "stderr",
     "output_type": "stream",
     "text": [
      "Processing videos:  20%|██        | 80/400 [01:53<07:26,  1.39s/it]"
     ]
    },
    {
     "name": "stdout",
     "output_type": "stream",
     "text": [
      "Video created: intermediate_results2/action_1591_offence/minimap_augmented.mp4\n",
      "Processing completed successfully!\n",
      "\n",
      "Processing action_1605_offence.mp4...\n",
      "Using minimap directory: intermediate_results2/action_1605_offence/minimap\n",
      "Found 126 frames in intermediate_results2/action_1605_offence/player_detections_with_team_with_minimap.json\n",
      "Analyzed 0 frames with referee positions\n",
      "Processing 126 frames\n",
      "Processed frame 0\n",
      "Processed frame 50\n",
      "Processed frame 100\n",
      "Enhanced minimaps saved to intermediate_results2/action_1605_offence/minimap with '_augmented' suffix\n",
      "Creating video from 126 frames...\n"
     ]
    },
    {
     "name": "stderr",
     "output_type": "stream",
     "text": [
      "Processing videos:  20%|██        | 81/400 [01:55<07:30,  1.41s/it]"
     ]
    },
    {
     "name": "stdout",
     "output_type": "stream",
     "text": [
      "Video created: intermediate_results2/action_1605_offence/minimap_augmented.mp4\n",
      "Processing completed successfully!\n",
      "\n",
      "Processing action_160_offence.mp4...\n",
      "Using minimap directory: intermediate_results2/action_160_offence/minimap\n",
      "Found 126 frames in intermediate_results2/action_160_offence/player_detections_with_team_with_minimap.json\n",
      "Analyzed 0 frames with referee positions\n",
      "Processing 126 frames\n",
      "Processed frame 0\n",
      "Processed frame 50\n",
      "Processed frame 100\n",
      "Enhanced minimaps saved to intermediate_results2/action_160_offence/minimap with '_augmented' suffix\n",
      "Creating video from 126 frames...\n"
     ]
    },
    {
     "name": "stderr",
     "output_type": "stream",
     "text": [
      "Processing videos:  20%|██        | 82/400 [01:56<07:36,  1.44s/it]"
     ]
    },
    {
     "name": "stdout",
     "output_type": "stream",
     "text": [
      "Video created: intermediate_results2/action_160_offence/minimap_augmented.mp4\n",
      "Processing completed successfully!\n",
      "\n",
      "Processing action_1611_offence.mp4...\n",
      "Using minimap directory: intermediate_results2/action_1611_offence/minimap\n",
      "Found 126 frames in intermediate_results2/action_1611_offence/player_detections_with_team_with_minimap.json\n",
      "Analyzed 0 frames with referee positions\n",
      "Processing 126 frames\n",
      "Processed frame 0\n",
      "Processed frame 50\n",
      "Processed frame 100\n",
      "Enhanced minimaps saved to intermediate_results2/action_1611_offence/minimap with '_augmented' suffix\n",
      "Creating video from 126 frames...\n"
     ]
    },
    {
     "name": "stderr",
     "output_type": "stream",
     "text": [
      "Processing videos:  21%|██        | 83/400 [01:57<07:27,  1.41s/it]"
     ]
    },
    {
     "name": "stdout",
     "output_type": "stream",
     "text": [
      "Video created: intermediate_results2/action_1611_offence/minimap_augmented.mp4\n",
      "Processing completed successfully!\n",
      "\n",
      "Processing action_1614_no_offence.mp4...\n",
      "Using minimap directory: intermediate_results2/action_1614_no_offence/minimap\n",
      "Found 126 frames in intermediate_results2/action_1614_no_offence/player_detections_with_team_with_minimap.json\n",
      "Analyzed 0 frames with referee positions\n",
      "Processing 126 frames\n",
      "Processed frame 0\n",
      "Processed frame 50\n",
      "Processed frame 100\n",
      "Enhanced minimaps saved to intermediate_results2/action_1614_no_offence/minimap with '_augmented' suffix\n",
      "Creating video from 126 frames...\n"
     ]
    },
    {
     "name": "stderr",
     "output_type": "stream",
     "text": [
      "Processing videos:  21%|██        | 84/400 [01:59<08:09,  1.55s/it]"
     ]
    },
    {
     "name": "stdout",
     "output_type": "stream",
     "text": [
      "Video created: intermediate_results2/action_1614_no_offence/minimap_augmented.mp4\n",
      "Processing completed successfully!\n",
      "\n",
      "Processing action_1629_offence.mp4...\n",
      "Using minimap directory: intermediate_results2/action_1629_offence/minimap\n",
      "Found 126 frames in intermediate_results2/action_1629_offence/player_detections_with_team_with_minimap.json\n",
      "Analyzed 0 frames with referee positions\n",
      "Processing 126 frames\n",
      "Processed frame 0\n",
      "Processed frame 50\n",
      "Processed frame 100\n",
      "Enhanced minimaps saved to intermediate_results2/action_1629_offence/minimap with '_augmented' suffix\n",
      "Creating video from 126 frames...\n"
     ]
    },
    {
     "name": "stderr",
     "output_type": "stream",
     "text": [
      "Processing videos:  21%|██▏       | 85/400 [02:01<07:58,  1.52s/it]"
     ]
    },
    {
     "name": "stdout",
     "output_type": "stream",
     "text": [
      "Video created: intermediate_results2/action_1629_offence/minimap_augmented.mp4\n",
      "Processing completed successfully!\n",
      "\n",
      "Processing action_1631_offence.mp4...\n",
      "Using minimap directory: intermediate_results2/action_1631_offence/minimap\n",
      "Found 126 frames in intermediate_results2/action_1631_offence/player_detections_with_team_with_minimap.json\n",
      "Analyzed 0 frames with referee positions\n",
      "Processing 126 frames\n",
      "Processed frame 0\n",
      "Processed frame 50\n",
      "Processed frame 100\n",
      "Enhanced minimaps saved to intermediate_results2/action_1631_offence/minimap with '_augmented' suffix\n",
      "Creating video from 126 frames...\n"
     ]
    },
    {
     "name": "stderr",
     "output_type": "stream",
     "text": [
      "Processing videos:  22%|██▏       | 86/400 [02:02<07:47,  1.49s/it]"
     ]
    },
    {
     "name": "stdout",
     "output_type": "stream",
     "text": [
      "Video created: intermediate_results2/action_1631_offence/minimap_augmented.mp4\n",
      "Processing completed successfully!\n",
      "\n",
      "Processing action_1657_no_offence.mp4...\n",
      "Using minimap directory: intermediate_results2/action_1657_no_offence/minimap\n",
      "Found 126 frames in intermediate_results2/action_1657_no_offence/player_detections_with_team_with_minimap.json\n",
      "Analyzed 0 frames with referee positions\n",
      "Processing 126 frames\n",
      "Processed frame 0\n",
      "Processed frame 50\n",
      "Processed frame 100\n",
      "Enhanced minimaps saved to intermediate_results2/action_1657_no_offence/minimap with '_augmented' suffix\n",
      "Creating video from 126 frames...\n"
     ]
    },
    {
     "name": "stderr",
     "output_type": "stream",
     "text": [
      "Processing videos:  22%|██▏       | 87/400 [02:03<07:36,  1.46s/it]"
     ]
    },
    {
     "name": "stdout",
     "output_type": "stream",
     "text": [
      "Video created: intermediate_results2/action_1657_no_offence/minimap_augmented.mp4\n",
      "Processing completed successfully!\n",
      "\n",
      "Processing action_1670_no_offence.mp4...\n",
      "Using minimap directory: intermediate_results2/action_1670_no_offence/minimap\n",
      "Found 126 frames in intermediate_results2/action_1670_no_offence/player_detections_with_team_with_minimap.json\n",
      "Analyzed 0 frames with referee positions\n",
      "Processing 126 frames\n",
      "Processed frame 0\n",
      "Processed frame 50\n",
      "Processed frame 100\n",
      "Enhanced minimaps saved to intermediate_results2/action_1670_no_offence/minimap with '_augmented' suffix\n",
      "Creating video from 126 frames...\n"
     ]
    },
    {
     "name": "stderr",
     "output_type": "stream",
     "text": [
      "Processing videos:  22%|██▏       | 88/400 [02:05<07:27,  1.43s/it]"
     ]
    },
    {
     "name": "stdout",
     "output_type": "stream",
     "text": [
      "Video created: intermediate_results2/action_1670_no_offence/minimap_augmented.mp4\n",
      "Processing completed successfully!\n",
      "\n",
      "Processing action_1676_offence.mp4...\n",
      "Using minimap directory: intermediate_results2/action_1676_offence/minimap\n",
      "Found 126 frames in intermediate_results2/action_1676_offence/player_detections_with_team_with_minimap.json\n",
      "Analyzed 0 frames with referee positions\n",
      "Processing 126 frames\n",
      "Processed frame 0\n",
      "Processed frame 50\n",
      "Processed frame 100\n",
      "Enhanced minimaps saved to intermediate_results2/action_1676_offence/minimap with '_augmented' suffix\n",
      "Creating video from 126 frames...\n"
     ]
    },
    {
     "name": "stderr",
     "output_type": "stream",
     "text": [
      "Processing videos:  22%|██▏       | 89/400 [02:06<07:29,  1.44s/it]"
     ]
    },
    {
     "name": "stdout",
     "output_type": "stream",
     "text": [
      "Video created: intermediate_results2/action_1676_offence/minimap_augmented.mp4\n",
      "Processing completed successfully!\n",
      "\n",
      "Processing action_1681_offence.mp4...\n",
      "Using minimap directory: intermediate_results2/action_1681_offence/minimap\n",
      "Found 126 frames in intermediate_results2/action_1681_offence/player_detections_with_team_with_minimap.json\n",
      "Analyzed 0 frames with referee positions\n",
      "Processing 126 frames\n",
      "Processed frame 0\n",
      "Processed frame 50\n",
      "Processed frame 100\n",
      "Enhanced minimaps saved to intermediate_results2/action_1681_offence/minimap with '_augmented' suffix\n",
      "Creating video from 126 frames...\n"
     ]
    },
    {
     "name": "stderr",
     "output_type": "stream",
     "text": [
      "Processing videos:  22%|██▎       | 90/400 [02:08<07:24,  1.43s/it]"
     ]
    },
    {
     "name": "stdout",
     "output_type": "stream",
     "text": [
      "Video created: intermediate_results2/action_1681_offence/minimap_augmented.mp4\n",
      "Processing completed successfully!\n",
      "\n",
      "Processing action_1685_no_offence.mp4...\n",
      "Using minimap directory: intermediate_results2/action_1685_no_offence/minimap\n",
      "Found 126 frames in intermediate_results2/action_1685_no_offence/player_detections_with_team_with_minimap.json\n",
      "Analyzed 0 frames with referee positions\n",
      "Processing 126 frames\n",
      "Processed frame 0\n",
      "Processed frame 50\n",
      "Processed frame 100\n",
      "Enhanced minimaps saved to intermediate_results2/action_1685_no_offence/minimap with '_augmented' suffix\n",
      "Creating video from 126 frames...\n"
     ]
    },
    {
     "name": "stderr",
     "output_type": "stream",
     "text": [
      "Processing videos:  23%|██▎       | 91/400 [02:09<07:20,  1.43s/it]"
     ]
    },
    {
     "name": "stdout",
     "output_type": "stream",
     "text": [
      "Video created: intermediate_results2/action_1685_no_offence/minimap_augmented.mp4\n",
      "Processing completed successfully!\n",
      "\n",
      "Processing action_1691_no_offence.mp4...\n",
      "Using minimap directory: intermediate_results2/action_1691_no_offence/minimap\n",
      "Found 126 frames in intermediate_results2/action_1691_no_offence/player_detections_with_team_with_minimap.json\n",
      "Analyzed 0 frames with referee positions\n",
      "Processing 126 frames\n",
      "Processed frame 0\n",
      "Processed frame 50\n",
      "Processed frame 100\n",
      "Enhanced minimaps saved to intermediate_results2/action_1691_no_offence/minimap with '_augmented' suffix\n",
      "Creating video from 126 frames...\n"
     ]
    },
    {
     "name": "stderr",
     "output_type": "stream",
     "text": [
      "Processing videos:  23%|██▎       | 92/400 [02:11<07:36,  1.48s/it]"
     ]
    },
    {
     "name": "stdout",
     "output_type": "stream",
     "text": [
      "Video created: intermediate_results2/action_1691_no_offence/minimap_augmented.mp4\n",
      "Processing completed successfully!\n",
      "\n",
      "Processing action_1694_no_offence.mp4...\n",
      "Using minimap directory: intermediate_results2/action_1694_no_offence/minimap\n",
      "Found 126 frames in intermediate_results2/action_1694_no_offence/player_detections_with_team_with_minimap.json\n",
      "Analyzed 0 frames with referee positions\n",
      "Processing 126 frames\n",
      "Processed frame 0\n",
      "Processed frame 50\n",
      "Processed frame 100\n",
      "Enhanced minimaps saved to intermediate_results2/action_1694_no_offence/minimap with '_augmented' suffix\n",
      "Creating video from 126 frames...\n"
     ]
    },
    {
     "name": "stderr",
     "output_type": "stream",
     "text": [
      "Processing videos:  23%|██▎       | 93/400 [02:12<07:24,  1.45s/it]"
     ]
    },
    {
     "name": "stdout",
     "output_type": "stream",
     "text": [
      "Video created: intermediate_results2/action_1694_no_offence/minimap_augmented.mp4\n",
      "Processing completed successfully!\n",
      "\n",
      "Processing action_1700_no_offence.mp4...\n",
      "Using minimap directory: intermediate_results2/action_1700_no_offence/minimap\n",
      "Found 126 frames in intermediate_results2/action_1700_no_offence/player_detections_with_team_with_minimap.json\n",
      "Analyzed 0 frames with referee positions\n",
      "Processing 126 frames\n",
      "Processed frame 0\n",
      "Processed frame 50\n",
      "Processed frame 100\n",
      "Enhanced minimaps saved to intermediate_results2/action_1700_no_offence/minimap with '_augmented' suffix\n",
      "Creating video from 126 frames...\n"
     ]
    },
    {
     "name": "stderr",
     "output_type": "stream",
     "text": [
      "Processing videos:  24%|██▎       | 94/400 [02:13<07:15,  1.42s/it]"
     ]
    },
    {
     "name": "stdout",
     "output_type": "stream",
     "text": [
      "Video created: intermediate_results2/action_1700_no_offence/minimap_augmented.mp4\n",
      "Processing completed successfully!\n",
      "\n",
      "Processing action_1706_no_offence.mp4...\n",
      "Using minimap directory: intermediate_results2/action_1706_no_offence/minimap\n",
      "Found 126 frames in intermediate_results2/action_1706_no_offence/player_detections_with_team_with_minimap.json\n",
      "Analyzed 0 frames with referee positions\n",
      "Processing 126 frames\n",
      "Processed frame 0\n",
      "Processed frame 50\n",
      "Processed frame 100\n",
      "Enhanced minimaps saved to intermediate_results2/action_1706_no_offence/minimap with '_augmented' suffix\n",
      "Creating video from 126 frames...\n"
     ]
    },
    {
     "name": "stderr",
     "output_type": "stream",
     "text": [
      "Processing videos:  24%|██▍       | 95/400 [02:15<07:08,  1.41s/it]"
     ]
    },
    {
     "name": "stdout",
     "output_type": "stream",
     "text": [
      "Video created: intermediate_results2/action_1706_no_offence/minimap_augmented.mp4\n",
      "Processing completed successfully!\n",
      "\n",
      "Processing action_1748_no_offence.mp4...\n",
      "Using minimap directory: intermediate_results2/action_1748_no_offence/minimap\n",
      "Found 126 frames in intermediate_results2/action_1748_no_offence/player_detections_with_team_with_minimap.json\n",
      "Analyzed 0 frames with referee positions\n",
      "Processing 126 frames\n",
      "Processed frame 0\n",
      "Processed frame 50\n",
      "Processed frame 100\n",
      "Enhanced minimaps saved to intermediate_results2/action_1748_no_offence/minimap with '_augmented' suffix\n",
      "Creating video from 126 frames...\n"
     ]
    },
    {
     "name": "stderr",
     "output_type": "stream",
     "text": [
      "Processing videos:  24%|██▍       | 96/400 [02:16<07:06,  1.40s/it]"
     ]
    },
    {
     "name": "stdout",
     "output_type": "stream",
     "text": [
      "Video created: intermediate_results2/action_1748_no_offence/minimap_augmented.mp4\n",
      "Processing completed successfully!\n",
      "\n",
      "Processing action_1750_no_offence.mp4...\n",
      "Using minimap directory: intermediate_results2/action_1750_no_offence/minimap\n",
      "Found 126 frames in intermediate_results2/action_1750_no_offence/player_detections_with_team_with_minimap.json\n",
      "Analyzed 0 frames with referee positions\n",
      "Processing 126 frames\n",
      "Processed frame 0\n",
      "Processed frame 50\n",
      "Processed frame 100\n",
      "Enhanced minimaps saved to intermediate_results2/action_1750_no_offence/minimap with '_augmented' suffix\n",
      "Creating video from 126 frames...\n"
     ]
    },
    {
     "name": "stderr",
     "output_type": "stream",
     "text": [
      "Processing videos:  24%|██▍       | 97/400 [02:18<07:08,  1.42s/it]"
     ]
    },
    {
     "name": "stdout",
     "output_type": "stream",
     "text": [
      "Video created: intermediate_results2/action_1750_no_offence/minimap_augmented.mp4\n",
      "Processing completed successfully!\n",
      "\n",
      "Processing action_176_no_offence.mp4...\n",
      "Using minimap directory: intermediate_results2/action_176_no_offence/minimap\n",
      "Found 126 frames in intermediate_results2/action_176_no_offence/player_detections_with_team_with_minimap.json\n",
      "Analyzed 0 frames with referee positions\n",
      "Processing 126 frames\n",
      "Processed frame 0\n",
      "Processed frame 50\n",
      "Processed frame 100\n",
      "Enhanced minimaps saved to intermediate_results2/action_176_no_offence/minimap with '_augmented' suffix\n",
      "Creating video from 126 frames...\n"
     ]
    },
    {
     "name": "stderr",
     "output_type": "stream",
     "text": [
      "Processing videos:  24%|██▍       | 98/400 [02:19<07:05,  1.41s/it]"
     ]
    },
    {
     "name": "stdout",
     "output_type": "stream",
     "text": [
      "Video created: intermediate_results2/action_176_no_offence/minimap_augmented.mp4\n",
      "Processing completed successfully!\n",
      "\n",
      "Processing action_1774_offence.mp4...\n",
      "Using minimap directory: intermediate_results2/action_1774_offence/minimap\n",
      "Found 126 frames in intermediate_results2/action_1774_offence/player_detections_with_team_with_minimap.json\n",
      "Analyzed 0 frames with referee positions\n",
      "Processing 126 frames\n",
      "Processed frame 0\n",
      "Processed frame 50\n",
      "Processed frame 100\n",
      "Enhanced minimaps saved to intermediate_results2/action_1774_offence/minimap with '_augmented' suffix\n",
      "Creating video from 126 frames...\n"
     ]
    },
    {
     "name": "stderr",
     "output_type": "stream",
     "text": [
      "Processing videos:  25%|██▍       | 99/400 [02:20<06:58,  1.39s/it]"
     ]
    },
    {
     "name": "stdout",
     "output_type": "stream",
     "text": [
      "Video created: intermediate_results2/action_1774_offence/minimap_augmented.mp4\n",
      "Processing completed successfully!\n",
      "\n",
      "Processing action_1776_offence.mp4...\n",
      "Using minimap directory: intermediate_results2/action_1776_offence/minimap\n",
      "Found 126 frames in intermediate_results2/action_1776_offence/player_detections_with_team_with_minimap.json\n",
      "Analyzed 0 frames with referee positions\n",
      "Processing 126 frames\n",
      "Processed frame 0\n",
      "Processed frame 50\n",
      "Processed frame 100\n",
      "Enhanced minimaps saved to intermediate_results2/action_1776_offence/minimap with '_augmented' suffix\n",
      "Creating video from 126 frames...\n"
     ]
    },
    {
     "name": "stderr",
     "output_type": "stream",
     "text": [
      "Processing videos:  25%|██▌       | 100/400 [02:22<06:55,  1.38s/it]"
     ]
    },
    {
     "name": "stdout",
     "output_type": "stream",
     "text": [
      "Video created: intermediate_results2/action_1776_offence/minimap_augmented.mp4\n",
      "Processing completed successfully!\n",
      "\n",
      "Processing action_1778_offence.mp4...\n",
      "Using minimap directory: intermediate_results2/action_1778_offence/minimap\n",
      "Found 126 frames in intermediate_results2/action_1778_offence/player_detections_with_team_with_minimap.json\n",
      "Analyzed 0 frames with referee positions\n",
      "Processing 126 frames\n",
      "Processed frame 0\n",
      "Processed frame 50\n",
      "Processed frame 100\n",
      "Enhanced minimaps saved to intermediate_results2/action_1778_offence/minimap with '_augmented' suffix\n",
      "Creating video from 126 frames...\n"
     ]
    },
    {
     "name": "stderr",
     "output_type": "stream",
     "text": [
      "Processing videos:  25%|██▌       | 101/400 [02:23<06:49,  1.37s/it]"
     ]
    },
    {
     "name": "stdout",
     "output_type": "stream",
     "text": [
      "Video created: intermediate_results2/action_1778_offence/minimap_augmented.mp4\n",
      "Processing completed successfully!\n",
      "\n",
      "Processing action_1806_no_offence.mp4...\n",
      "Using minimap directory: intermediate_results2/action_1806_no_offence/minimap\n",
      "Found 126 frames in intermediate_results2/action_1806_no_offence/player_detections_with_team_with_minimap.json\n",
      "Analyzed 0 frames with referee positions\n",
      "Processing 126 frames\n",
      "Processed frame 0\n",
      "Processed frame 50\n",
      "Processed frame 100\n",
      "Enhanced minimaps saved to intermediate_results2/action_1806_no_offence/minimap with '_augmented' suffix\n",
      "Creating video from 126 frames...\n"
     ]
    },
    {
     "name": "stderr",
     "output_type": "stream",
     "text": [
      "Processing videos:  26%|██▌       | 102/400 [02:25<06:48,  1.37s/it]"
     ]
    },
    {
     "name": "stdout",
     "output_type": "stream",
     "text": [
      "Video created: intermediate_results2/action_1806_no_offence/minimap_augmented.mp4\n",
      "Processing completed successfully!\n",
      "\n",
      "Processing action_1814_offence.mp4...\n",
      "Using minimap directory: intermediate_results2/action_1814_offence/minimap\n",
      "Found 126 frames in intermediate_results2/action_1814_offence/player_detections_with_team_with_minimap.json\n",
      "Analyzed 0 frames with referee positions\n",
      "Processing 126 frames\n",
      "Processed frame 0\n",
      "Processed frame 50\n",
      "Processed frame 100\n",
      "Enhanced minimaps saved to intermediate_results2/action_1814_offence/minimap with '_augmented' suffix\n",
      "Creating video from 126 frames...\n"
     ]
    },
    {
     "name": "stderr",
     "output_type": "stream",
     "text": [
      "Processing videos:  26%|██▌       | 103/400 [02:26<06:43,  1.36s/it]"
     ]
    },
    {
     "name": "stdout",
     "output_type": "stream",
     "text": [
      "Video created: intermediate_results2/action_1814_offence/minimap_augmented.mp4\n",
      "Processing completed successfully!\n",
      "\n",
      "Processing action_1816_no_offence.mp4...\n",
      "Using minimap directory: intermediate_results2/action_1816_no_offence/minimap\n",
      "Found 126 frames in intermediate_results2/action_1816_no_offence/player_detections_with_team_with_minimap.json\n",
      "Analyzed 0 frames with referee positions\n",
      "Processing 126 frames\n",
      "Processed frame 0\n",
      "Processed frame 50\n",
      "Processed frame 100\n",
      "Enhanced minimaps saved to intermediate_results2/action_1816_no_offence/minimap with '_augmented' suffix\n",
      "Creating video from 126 frames...\n"
     ]
    },
    {
     "name": "stderr",
     "output_type": "stream",
     "text": [
      "Processing videos:  26%|██▌       | 104/400 [02:27<06:47,  1.38s/it]"
     ]
    },
    {
     "name": "stdout",
     "output_type": "stream",
     "text": [
      "Video created: intermediate_results2/action_1816_no_offence/minimap_augmented.mp4\n",
      "Processing completed successfully!\n",
      "\n",
      "Processing action_1818_offence.mp4...\n",
      "Using minimap directory: intermediate_results2/action_1818_offence/minimap\n",
      "Found 126 frames in intermediate_results2/action_1818_offence/player_detections_with_team_with_minimap.json\n",
      "Analyzed 0 frames with referee positions\n",
      "Processing 126 frames\n",
      "Processed frame 0\n",
      "Processed frame 50\n",
      "Processed frame 100\n",
      "Enhanced minimaps saved to intermediate_results2/action_1818_offence/minimap with '_augmented' suffix\n",
      "Creating video from 126 frames...\n"
     ]
    },
    {
     "name": "stderr",
     "output_type": "stream",
     "text": [
      "Processing videos:  26%|██▋       | 105/400 [02:29<06:55,  1.41s/it]"
     ]
    },
    {
     "name": "stdout",
     "output_type": "stream",
     "text": [
      "Video created: intermediate_results2/action_1818_offence/minimap_augmented.mp4\n",
      "Processing completed successfully!\n",
      "\n",
      "Processing action_1820_offence.mp4...\n",
      "Using minimap directory: intermediate_results2/action_1820_offence/minimap\n",
      "Found 126 frames in intermediate_results2/action_1820_offence/player_detections_with_team_with_minimap.json\n",
      "Analyzed 0 frames with referee positions\n",
      "Processing 126 frames\n",
      "Processed frame 0\n",
      "Processed frame 50\n",
      "Processed frame 100\n",
      "Enhanced minimaps saved to intermediate_results2/action_1820_offence/minimap with '_augmented' suffix\n",
      "Creating video from 126 frames...\n"
     ]
    },
    {
     "name": "stderr",
     "output_type": "stream",
     "text": [
      "Processing videos:  26%|██▋       | 106/400 [02:30<06:56,  1.42s/it]"
     ]
    },
    {
     "name": "stdout",
     "output_type": "stream",
     "text": [
      "Video created: intermediate_results2/action_1820_offence/minimap_augmented.mp4\n",
      "Processing completed successfully!\n",
      "\n",
      "Processing action_1821_offence.mp4...\n",
      "Using minimap directory: intermediate_results2/action_1821_offence/minimap\n",
      "Found 126 frames in intermediate_results2/action_1821_offence/player_detections_with_team_with_minimap.json\n",
      "Analyzed 0 frames with referee positions\n",
      "Processing 126 frames\n",
      "Processed frame 0\n",
      "Processed frame 50\n",
      "Processed frame 100\n",
      "Enhanced minimaps saved to intermediate_results2/action_1821_offence/minimap with '_augmented' suffix\n",
      "Creating video from 126 frames...\n"
     ]
    },
    {
     "name": "stderr",
     "output_type": "stream",
     "text": [
      "Processing videos:  27%|██▋       | 107/400 [02:32<06:53,  1.41s/it]"
     ]
    },
    {
     "name": "stdout",
     "output_type": "stream",
     "text": [
      "Video created: intermediate_results2/action_1821_offence/minimap_augmented.mp4\n",
      "Processing completed successfully!\n",
      "\n",
      "Processing action_1825_no_offence.mp4...\n",
      "Using minimap directory: intermediate_results2/action_1825_no_offence/minimap\n",
      "Found 126 frames in intermediate_results2/action_1825_no_offence/player_detections_with_team_with_minimap.json\n",
      "Analyzed 0 frames with referee positions\n",
      "Processing 126 frames\n",
      "Processed frame 0\n",
      "Processed frame 50\n",
      "Processed frame 100\n",
      "Enhanced minimaps saved to intermediate_results2/action_1825_no_offence/minimap with '_augmented' suffix\n",
      "Creating video from 126 frames...\n"
     ]
    },
    {
     "name": "stderr",
     "output_type": "stream",
     "text": [
      "Processing videos:  27%|██▋       | 108/400 [02:33<06:49,  1.40s/it]"
     ]
    },
    {
     "name": "stdout",
     "output_type": "stream",
     "text": [
      "Video created: intermediate_results2/action_1825_no_offence/minimap_augmented.mp4\n",
      "Processing completed successfully!\n",
      "\n",
      "Processing action_182_offence.mp4...\n",
      "Using minimap directory: intermediate_results2/action_182_offence/minimap\n",
      "Found 126 frames in intermediate_results2/action_182_offence/player_detections_with_team_with_minimap.json\n",
      "Analyzed 0 frames with referee positions\n",
      "Processing 126 frames\n",
      "Processed frame 0\n",
      "Processed frame 50\n",
      "Processed frame 100\n",
      "Enhanced minimaps saved to intermediate_results2/action_182_offence/minimap with '_augmented' suffix\n",
      "Creating video from 126 frames...\n"
     ]
    },
    {
     "name": "stderr",
     "output_type": "stream",
     "text": [
      "Processing videos:  27%|██▋       | 109/400 [02:34<06:43,  1.39s/it]"
     ]
    },
    {
     "name": "stdout",
     "output_type": "stream",
     "text": [
      "Video created: intermediate_results2/action_182_offence/minimap_augmented.mp4\n",
      "Processing completed successfully!\n",
      "\n",
      "Processing action_1836_no_offence.mp4...\n",
      "Using minimap directory: intermediate_results2/action_1836_no_offence/minimap\n",
      "Found 126 frames in intermediate_results2/action_1836_no_offence/player_detections_with_team_with_minimap.json\n",
      "Analyzed 0 frames with referee positions\n",
      "Processing 126 frames\n",
      "Processed frame 0\n",
      "Processed frame 50\n",
      "Processed frame 100\n",
      "Enhanced minimaps saved to intermediate_results2/action_1836_no_offence/minimap with '_augmented' suffix\n",
      "Creating video from 126 frames...\n"
     ]
    },
    {
     "name": "stderr",
     "output_type": "stream",
     "text": [
      "Processing videos:  28%|██▊       | 110/400 [02:36<06:40,  1.38s/it]"
     ]
    },
    {
     "name": "stdout",
     "output_type": "stream",
     "text": [
      "Video created: intermediate_results2/action_1836_no_offence/minimap_augmented.mp4\n",
      "Processing completed successfully!\n",
      "\n",
      "Processing action_1838_offence.mp4...\n",
      "Using minimap directory: intermediate_results2/action_1838_offence/minimap\n",
      "Found 126 frames in intermediate_results2/action_1838_offence/player_detections_with_team_with_minimap.json\n",
      "Analyzed 0 frames with referee positions\n",
      "Processing 126 frames\n",
      "Processed frame 0\n",
      "Processed frame 50\n",
      "Processed frame 100\n",
      "Enhanced minimaps saved to intermediate_results2/action_1838_offence/minimap with '_augmented' suffix\n",
      "Creating video from 126 frames...\n"
     ]
    },
    {
     "name": "stderr",
     "output_type": "stream",
     "text": [
      "Processing videos:  28%|██▊       | 111/400 [02:37<06:39,  1.38s/it]"
     ]
    },
    {
     "name": "stdout",
     "output_type": "stream",
     "text": [
      "Video created: intermediate_results2/action_1838_offence/minimap_augmented.mp4\n",
      "Processing completed successfully!\n",
      "\n",
      "Processing action_183_offence.mp4...\n",
      "Using minimap directory: intermediate_results2/action_183_offence/minimap\n",
      "Found 126 frames in intermediate_results2/action_183_offence/player_detections_with_team_with_minimap.json\n",
      "Analyzed 0 frames with referee positions\n",
      "Processing 126 frames\n",
      "Processed frame 0\n",
      "Processed frame 50\n",
      "Processed frame 100\n",
      "Enhanced minimaps saved to intermediate_results2/action_183_offence/minimap with '_augmented' suffix\n",
      "Creating video from 126 frames...\n"
     ]
    },
    {
     "name": "stderr",
     "output_type": "stream",
     "text": [
      "Processing videos:  28%|██▊       | 112/400 [02:38<06:33,  1.37s/it]"
     ]
    },
    {
     "name": "stdout",
     "output_type": "stream",
     "text": [
      "Video created: intermediate_results2/action_183_offence/minimap_augmented.mp4\n",
      "Processing completed successfully!\n",
      "\n",
      "Processing action_1854_offence.mp4...\n",
      "Using minimap directory: intermediate_results2/action_1854_offence/minimap\n",
      "Found 126 frames in intermediate_results2/action_1854_offence/player_detections_with_team_with_minimap.json\n",
      "Analyzed 0 frames with referee positions\n",
      "Processing 126 frames\n",
      "Processed frame 0\n",
      "Processed frame 50\n",
      "Processed frame 100\n",
      "Enhanced minimaps saved to intermediate_results2/action_1854_offence/minimap with '_augmented' suffix\n",
      "Creating video from 126 frames...\n"
     ]
    },
    {
     "name": "stderr",
     "output_type": "stream",
     "text": [
      "Processing videos:  28%|██▊       | 113/400 [02:40<06:33,  1.37s/it]"
     ]
    },
    {
     "name": "stdout",
     "output_type": "stream",
     "text": [
      "Video created: intermediate_results2/action_1854_offence/minimap_augmented.mp4\n",
      "Processing completed successfully!\n",
      "\n",
      "Processing action_1861_offence.mp4...\n",
      "Using minimap directory: intermediate_results2/action_1861_offence/minimap\n",
      "Found 126 frames in intermediate_results2/action_1861_offence/player_detections_with_team_with_minimap.json\n",
      "Analyzed 0 frames with referee positions\n",
      "Processing 126 frames\n",
      "Processed frame 0\n",
      "Processed frame 50\n",
      "Processed frame 100\n",
      "Enhanced minimaps saved to intermediate_results2/action_1861_offence/minimap with '_augmented' suffix\n",
      "Creating video from 126 frames...\n"
     ]
    },
    {
     "name": "stderr",
     "output_type": "stream",
     "text": [
      "Processing videos:  28%|██▊       | 114/400 [02:41<06:38,  1.39s/it]"
     ]
    },
    {
     "name": "stdout",
     "output_type": "stream",
     "text": [
      "Video created: intermediate_results2/action_1861_offence/minimap_augmented.mp4\n",
      "Processing completed successfully!\n",
      "\n",
      "Processing action_1864_offence.mp4...\n",
      "Using minimap directory: intermediate_results2/action_1864_offence/minimap\n",
      "Found 126 frames in intermediate_results2/action_1864_offence/player_detections_with_team_with_minimap.json\n",
      "Analyzed 0 frames with referee positions\n",
      "Processing 126 frames\n",
      "Processed frame 0\n",
      "Processed frame 50\n",
      "Processed frame 100\n",
      "Enhanced minimaps saved to intermediate_results2/action_1864_offence/minimap with '_augmented' suffix\n",
      "Creating video from 126 frames...\n"
     ]
    },
    {
     "name": "stderr",
     "output_type": "stream",
     "text": [
      "Processing videos:  29%|██▉       | 115/400 [02:43<06:56,  1.46s/it]"
     ]
    },
    {
     "name": "stdout",
     "output_type": "stream",
     "text": [
      "Video created: intermediate_results2/action_1864_offence/minimap_augmented.mp4\n",
      "Processing completed successfully!\n",
      "\n",
      "Processing action_1871_offence.mp4...\n",
      "Using minimap directory: intermediate_results2/action_1871_offence/minimap\n",
      "Found 126 frames in intermediate_results2/action_1871_offence/player_detections_with_team_with_minimap.json\n",
      "Analyzed 0 frames with referee positions\n",
      "Processing 126 frames\n",
      "Processed frame 0\n",
      "Processed frame 50\n",
      "Processed frame 100\n",
      "Enhanced minimaps saved to intermediate_results2/action_1871_offence/minimap with '_augmented' suffix\n",
      "Creating video from 126 frames...\n"
     ]
    },
    {
     "name": "stderr",
     "output_type": "stream",
     "text": [
      "Processing videos:  29%|██▉       | 116/400 [02:44<06:51,  1.45s/it]"
     ]
    },
    {
     "name": "stdout",
     "output_type": "stream",
     "text": [
      "Video created: intermediate_results2/action_1871_offence/minimap_augmented.mp4\n",
      "Processing completed successfully!\n",
      "\n",
      "Processing action_1873_no_offence.mp4...\n",
      "Using minimap directory: intermediate_results2/action_1873_no_offence/minimap\n",
      "Found 126 frames in intermediate_results2/action_1873_no_offence/player_detections_with_team_with_minimap.json\n",
      "Analyzed 0 frames with referee positions\n",
      "Processing 126 frames\n",
      "Processed frame 0\n",
      "Processed frame 50\n",
      "Processed frame 100\n",
      "Enhanced minimaps saved to intermediate_results2/action_1873_no_offence/minimap with '_augmented' suffix\n",
      "Creating video from 126 frames...\n"
     ]
    },
    {
     "name": "stderr",
     "output_type": "stream",
     "text": [
      "Processing videos:  29%|██▉       | 117/400 [02:46<06:47,  1.44s/it]"
     ]
    },
    {
     "name": "stdout",
     "output_type": "stream",
     "text": [
      "Video created: intermediate_results2/action_1873_no_offence/minimap_augmented.mp4\n",
      "Processing completed successfully!\n",
      "\n",
      "Processing action_1906_no_offence.mp4...\n",
      "Using minimap directory: intermediate_results2/action_1906_no_offence/minimap\n",
      "Found 126 frames in intermediate_results2/action_1906_no_offence/player_detections_with_team_with_minimap.json\n",
      "Analyzed 0 frames with referee positions\n",
      "Processing 126 frames\n",
      "Processed frame 0\n",
      "Processed frame 50\n",
      "Processed frame 100\n",
      "Enhanced minimaps saved to intermediate_results2/action_1906_no_offence/minimap with '_augmented' suffix\n",
      "Creating video from 126 frames...\n"
     ]
    },
    {
     "name": "stderr",
     "output_type": "stream",
     "text": [
      "Processing videos:  30%|██▉       | 118/400 [02:47<06:41,  1.42s/it]"
     ]
    },
    {
     "name": "stdout",
     "output_type": "stream",
     "text": [
      "Video created: intermediate_results2/action_1906_no_offence/minimap_augmented.mp4\n",
      "Processing completed successfully!\n",
      "\n",
      "Processing action_1911_no_offence.mp4...\n",
      "Using minimap directory: intermediate_results2/action_1911_no_offence/minimap\n",
      "Found 126 frames in intermediate_results2/action_1911_no_offence/player_detections_with_team_with_minimap.json\n",
      "Analyzed 0 frames with referee positions\n",
      "Processing 126 frames\n",
      "Processed frame 0\n",
      "Processed frame 50\n",
      "Processed frame 100\n",
      "Enhanced minimaps saved to intermediate_results2/action_1911_no_offence/minimap with '_augmented' suffix\n",
      "Creating video from 126 frames...\n"
     ]
    },
    {
     "name": "stderr",
     "output_type": "stream",
     "text": [
      "Processing videos:  30%|██▉       | 119/400 [02:48<06:34,  1.41s/it]"
     ]
    },
    {
     "name": "stdout",
     "output_type": "stream",
     "text": [
      "Video created: intermediate_results2/action_1911_no_offence/minimap_augmented.mp4\n",
      "Processing completed successfully!\n",
      "\n",
      "Processing action_1913_offence.mp4...\n",
      "Using minimap directory: intermediate_results2/action_1913_offence/minimap\n",
      "Found 126 frames in intermediate_results2/action_1913_offence/player_detections_with_team_with_minimap.json\n",
      "Analyzed 0 frames with referee positions\n",
      "Processing 126 frames\n",
      "Processed frame 0\n",
      "Processed frame 50\n",
      "Processed frame 100\n",
      "Enhanced minimaps saved to intermediate_results2/action_1913_offence/minimap with '_augmented' suffix\n",
      "Creating video from 126 frames...\n"
     ]
    },
    {
     "name": "stderr",
     "output_type": "stream",
     "text": [
      "Processing videos:  30%|███       | 120/400 [02:50<06:29,  1.39s/it]"
     ]
    },
    {
     "name": "stdout",
     "output_type": "stream",
     "text": [
      "Video created: intermediate_results2/action_1913_offence/minimap_augmented.mp4\n",
      "Processing completed successfully!\n",
      "\n",
      "Processing action_1916_offence.mp4...\n",
      "Using minimap directory: intermediate_results2/action_1916_offence/minimap\n",
      "Found 126 frames in intermediate_results2/action_1916_offence/player_detections_with_team_with_minimap.json\n",
      "Analyzed 0 frames with referee positions\n",
      "Processing 126 frames\n",
      "Processed frame 0\n",
      "Processed frame 50\n",
      "Processed frame 100\n",
      "Enhanced minimaps saved to intermediate_results2/action_1916_offence/minimap with '_augmented' suffix\n",
      "Creating video from 126 frames...\n"
     ]
    },
    {
     "name": "stderr",
     "output_type": "stream",
     "text": [
      "Processing videos:  30%|███       | 121/400 [02:51<06:38,  1.43s/it]"
     ]
    },
    {
     "name": "stdout",
     "output_type": "stream",
     "text": [
      "Video created: intermediate_results2/action_1916_offence/minimap_augmented.mp4\n",
      "Processing completed successfully!\n",
      "\n",
      "Processing action_1920_no_offence.mp4...\n",
      "Using minimap directory: intermediate_results2/action_1920_no_offence/minimap\n",
      "Found 126 frames in intermediate_results2/action_1920_no_offence/player_detections_with_team_with_minimap.json\n",
      "Analyzed 0 frames with referee positions\n",
      "Processing 126 frames\n",
      "Processed frame 0\n",
      "Processed frame 50\n",
      "Processed frame 100\n",
      "Enhanced minimaps saved to intermediate_results2/action_1920_no_offence/minimap with '_augmented' suffix\n",
      "Creating video from 126 frames...\n"
     ]
    },
    {
     "name": "stderr",
     "output_type": "stream",
     "text": [
      "Processing videos:  30%|███       | 122/400 [02:53<06:38,  1.43s/it]"
     ]
    },
    {
     "name": "stdout",
     "output_type": "stream",
     "text": [
      "Video created: intermediate_results2/action_1920_no_offence/minimap_augmented.mp4\n",
      "Processing completed successfully!\n",
      "\n",
      "Processing action_1923_offence.mp4...\n",
      "Using minimap directory: intermediate_results2/action_1923_offence/minimap\n",
      "Found 126 frames in intermediate_results2/action_1923_offence/player_detections_with_team_with_minimap.json\n",
      "Analyzed 0 frames with referee positions\n",
      "Processing 126 frames\n",
      "Processed frame 0\n",
      "Processed frame 50\n",
      "Processed frame 100\n",
      "Enhanced minimaps saved to intermediate_results2/action_1923_offence/minimap with '_augmented' suffix\n",
      "Creating video from 126 frames...\n"
     ]
    },
    {
     "name": "stderr",
     "output_type": "stream",
     "text": [
      "Processing videos:  31%|███       | 123/400 [02:54<06:40,  1.45s/it]"
     ]
    },
    {
     "name": "stdout",
     "output_type": "stream",
     "text": [
      "Video created: intermediate_results2/action_1923_offence/minimap_augmented.mp4\n",
      "Processing completed successfully!\n",
      "\n",
      "Processing action_1925_no_offence.mp4...\n",
      "Using minimap directory: intermediate_results2/action_1925_no_offence/minimap\n",
      "Found 126 frames in intermediate_results2/action_1925_no_offence/player_detections_with_team_with_minimap.json\n",
      "Analyzed 0 frames with referee positions\n",
      "Processing 126 frames\n",
      "Processed frame 0\n",
      "Processed frame 50\n",
      "Processed frame 100\n",
      "Enhanced minimaps saved to intermediate_results2/action_1925_no_offence/minimap with '_augmented' suffix\n",
      "Creating video from 126 frames...\n"
     ]
    },
    {
     "name": "stderr",
     "output_type": "stream",
     "text": [
      "Processing videos:  31%|███       | 124/400 [02:56<06:40,  1.45s/it]"
     ]
    },
    {
     "name": "stdout",
     "output_type": "stream",
     "text": [
      "Video created: intermediate_results2/action_1925_no_offence/minimap_augmented.mp4\n",
      "Processing completed successfully!\n",
      "\n",
      "Processing action_1928_offence.mp4...\n",
      "Using minimap directory: intermediate_results2/action_1928_offence/minimap\n",
      "Found 126 frames in intermediate_results2/action_1928_offence/player_detections_with_team_with_minimap.json\n",
      "Analyzed 0 frames with referee positions\n",
      "Processing 126 frames\n",
      "Processed frame 0\n",
      "Processed frame 50\n",
      "Processed frame 100\n",
      "Enhanced minimaps saved to intermediate_results2/action_1928_offence/minimap with '_augmented' suffix\n",
      "Creating video from 126 frames...\n"
     ]
    },
    {
     "name": "stderr",
     "output_type": "stream",
     "text": [
      "Processing videos:  31%|███▏      | 125/400 [02:57<06:36,  1.44s/it]"
     ]
    },
    {
     "name": "stdout",
     "output_type": "stream",
     "text": [
      "Video created: intermediate_results2/action_1928_offence/minimap_augmented.mp4\n",
      "Processing completed successfully!\n",
      "\n",
      "Processing action_1932_no_offence.mp4...\n",
      "Using minimap directory: intermediate_results2/action_1932_no_offence/minimap\n",
      "Found 126 frames in intermediate_results2/action_1932_no_offence/player_detections_with_team_with_minimap.json\n",
      "Analyzed 0 frames with referee positions\n",
      "Processing 126 frames\n",
      "Processed frame 0\n",
      "Processed frame 50\n",
      "Processed frame 100\n",
      "Enhanced minimaps saved to intermediate_results2/action_1932_no_offence/minimap with '_augmented' suffix\n",
      "Creating video from 126 frames...\n"
     ]
    },
    {
     "name": "stderr",
     "output_type": "stream",
     "text": [
      "Processing videos:  32%|███▏      | 126/400 [02:59<06:46,  1.49s/it]"
     ]
    },
    {
     "name": "stdout",
     "output_type": "stream",
     "text": [
      "Video created: intermediate_results2/action_1932_no_offence/minimap_augmented.mp4\n",
      "Processing completed successfully!\n",
      "\n",
      "Processing action_1943_offence.mp4...\n",
      "Using minimap directory: intermediate_results2/action_1943_offence/minimap\n",
      "Found 126 frames in intermediate_results2/action_1943_offence/player_detections_with_team_with_minimap.json\n",
      "Analyzed 0 frames with referee positions\n",
      "Processing 126 frames\n",
      "Processed frame 0\n",
      "Processed frame 50\n",
      "Processed frame 100\n",
      "Enhanced minimaps saved to intermediate_results2/action_1943_offence/minimap with '_augmented' suffix\n",
      "Creating video from 126 frames...\n"
     ]
    },
    {
     "name": "stderr",
     "output_type": "stream",
     "text": [
      "Processing videos:  32%|███▏      | 127/400 [03:00<06:44,  1.48s/it]"
     ]
    },
    {
     "name": "stdout",
     "output_type": "stream",
     "text": [
      "Video created: intermediate_results2/action_1943_offence/minimap_augmented.mp4\n",
      "Processing completed successfully!\n",
      "\n",
      "Processing action_1947_no_offence.mp4...\n",
      "Using minimap directory: intermediate_results2/action_1947_no_offence/minimap\n",
      "Found 126 frames in intermediate_results2/action_1947_no_offence/player_detections_with_team_with_minimap.json\n",
      "Analyzed 0 frames with referee positions\n",
      "Processing 126 frames\n",
      "Processed frame 0\n",
      "Processed frame 50\n",
      "Processed frame 100\n",
      "Enhanced minimaps saved to intermediate_results2/action_1947_no_offence/minimap with '_augmented' suffix\n",
      "Creating video from 126 frames...\n"
     ]
    },
    {
     "name": "stderr",
     "output_type": "stream",
     "text": [
      "Processing videos:  32%|███▏      | 128/400 [03:02<06:45,  1.49s/it]"
     ]
    },
    {
     "name": "stdout",
     "output_type": "stream",
     "text": [
      "Video created: intermediate_results2/action_1947_no_offence/minimap_augmented.mp4\n",
      "Processing completed successfully!\n",
      "\n",
      "Processing action_1949_no_offence.mp4...\n",
      "Using minimap directory: intermediate_results2/action_1949_no_offence/minimap\n",
      "Found 126 frames in intermediate_results2/action_1949_no_offence/player_detections_with_team_with_minimap.json\n",
      "Analyzed 0 frames with referee positions\n",
      "Processing 126 frames\n",
      "Processed frame 0\n",
      "Processed frame 50\n",
      "Processed frame 100\n",
      "Enhanced minimaps saved to intermediate_results2/action_1949_no_offence/minimap with '_augmented' suffix\n",
      "Creating video from 126 frames...\n"
     ]
    },
    {
     "name": "stderr",
     "output_type": "stream",
     "text": [
      "Processing videos:  32%|███▏      | 129/400 [03:03<06:40,  1.48s/it]"
     ]
    },
    {
     "name": "stdout",
     "output_type": "stream",
     "text": [
      "Video created: intermediate_results2/action_1949_no_offence/minimap_augmented.mp4\n",
      "Processing completed successfully!\n",
      "\n",
      "Processing action_1957_offence.mp4...\n",
      "Using minimap directory: intermediate_results2/action_1957_offence/minimap\n",
      "Found 126 frames in intermediate_results2/action_1957_offence/player_detections_with_team_with_minimap.json\n",
      "Analyzed 0 frames with referee positions\n",
      "Processing 126 frames\n",
      "Processed frame 0\n",
      "Processed frame 50\n",
      "Processed frame 100\n",
      "Enhanced minimaps saved to intermediate_results2/action_1957_offence/minimap with '_augmented' suffix\n",
      "Creating video from 126 frames...\n"
     ]
    },
    {
     "name": "stderr",
     "output_type": "stream",
     "text": [
      "Processing videos:  32%|███▎      | 130/400 [03:05<06:37,  1.47s/it]"
     ]
    },
    {
     "name": "stdout",
     "output_type": "stream",
     "text": [
      "Video created: intermediate_results2/action_1957_offence/minimap_augmented.mp4\n",
      "Processing completed successfully!\n",
      "\n",
      "Processing action_1959_no_offence.mp4...\n",
      "Using minimap directory: intermediate_results2/action_1959_no_offence/minimap\n",
      "Found 126 frames in intermediate_results2/action_1959_no_offence/player_detections_with_team_with_minimap.json\n",
      "Analyzed 0 frames with referee positions\n",
      "Processing 126 frames\n",
      "Processed frame 0\n",
      "Processed frame 50\n",
      "Processed frame 100\n",
      "Enhanced minimaps saved to intermediate_results2/action_1959_no_offence/minimap with '_augmented' suffix\n",
      "Creating video from 126 frames...\n"
     ]
    },
    {
     "name": "stderr",
     "output_type": "stream",
     "text": [
      "Processing videos:  33%|███▎      | 131/400 [03:06<06:32,  1.46s/it]"
     ]
    },
    {
     "name": "stdout",
     "output_type": "stream",
     "text": [
      "Video created: intermediate_results2/action_1959_no_offence/minimap_augmented.mp4\n",
      "Processing completed successfully!\n",
      "\n",
      "Processing action_1963_no_offence.mp4...\n",
      "Using minimap directory: intermediate_results2/action_1963_no_offence/minimap\n",
      "Found 126 frames in intermediate_results2/action_1963_no_offence/player_detections_with_team_with_minimap.json\n",
      "Analyzed 0 frames with referee positions\n",
      "Processing 126 frames\n",
      "Processed frame 0\n",
      "Processed frame 50\n",
      "Processed frame 100\n",
      "Enhanced minimaps saved to intermediate_results2/action_1963_no_offence/minimap with '_augmented' suffix\n",
      "Creating video from 126 frames...\n"
     ]
    },
    {
     "name": "stderr",
     "output_type": "stream",
     "text": [
      "Processing videos:  33%|███▎      | 132/400 [03:07<06:22,  1.43s/it]"
     ]
    },
    {
     "name": "stdout",
     "output_type": "stream",
     "text": [
      "Video created: intermediate_results2/action_1963_no_offence/minimap_augmented.mp4\n",
      "Processing completed successfully!\n",
      "\n",
      "Processing action_1967_no_offence.mp4...\n",
      "Using minimap directory: intermediate_results2/action_1967_no_offence/minimap\n",
      "Found 126 frames in intermediate_results2/action_1967_no_offence/player_detections_with_team_with_minimap.json\n",
      "Analyzed 0 frames with referee positions\n",
      "Processing 126 frames\n",
      "Processed frame 0\n",
      "Processed frame 50\n",
      "Processed frame 100\n",
      "Enhanced minimaps saved to intermediate_results2/action_1967_no_offence/minimap with '_augmented' suffix\n",
      "Creating video from 126 frames...\n"
     ]
    },
    {
     "name": "stderr",
     "output_type": "stream",
     "text": [
      "Processing videos:  33%|███▎      | 133/400 [03:09<06:21,  1.43s/it]"
     ]
    },
    {
     "name": "stdout",
     "output_type": "stream",
     "text": [
      "Video created: intermediate_results2/action_1967_no_offence/minimap_augmented.mp4\n",
      "Processing completed successfully!\n",
      "\n",
      "Processing action_1975_no_offence.mp4...\n",
      "Using minimap directory: intermediate_results2/action_1975_no_offence/minimap\n",
      "Found 126 frames in intermediate_results2/action_1975_no_offence/player_detections_with_team_with_minimap.json\n",
      "Analyzed 0 frames with referee positions\n",
      "Processing 126 frames\n",
      "Processed frame 0\n",
      "Processed frame 50\n",
      "Processed frame 100\n",
      "Enhanced minimaps saved to intermediate_results2/action_1975_no_offence/minimap with '_augmented' suffix\n",
      "Creating video from 126 frames...\n"
     ]
    },
    {
     "name": "stderr",
     "output_type": "stream",
     "text": [
      "Processing videos:  34%|███▎      | 134/400 [03:10<06:20,  1.43s/it]"
     ]
    },
    {
     "name": "stdout",
     "output_type": "stream",
     "text": [
      "Video created: intermediate_results2/action_1975_no_offence/minimap_augmented.mp4\n",
      "Processing completed successfully!\n",
      "\n",
      "Processing action_1982_offence.mp4...\n",
      "Using minimap directory: intermediate_results2/action_1982_offence/minimap\n",
      "Found 126 frames in intermediate_results2/action_1982_offence/player_detections_with_team_with_minimap.json\n",
      "Analyzed 0 frames with referee positions\n",
      "Processing 126 frames\n",
      "Processed frame 0\n",
      "Processed frame 50\n",
      "Processed frame 100\n",
      "Enhanced minimaps saved to intermediate_results2/action_1982_offence/minimap with '_augmented' suffix\n",
      "Creating video from 126 frames...\n"
     ]
    },
    {
     "name": "stderr",
     "output_type": "stream",
     "text": [
      "Processing videos:  34%|███▍      | 135/400 [03:12<06:25,  1.45s/it]"
     ]
    },
    {
     "name": "stdout",
     "output_type": "stream",
     "text": [
      "Video created: intermediate_results2/action_1982_offence/minimap_augmented.mp4\n",
      "Processing completed successfully!\n",
      "\n",
      "Processing action_1985_offence.mp4...\n",
      "Using minimap directory: intermediate_results2/action_1985_offence/minimap\n",
      "Found 126 frames in intermediate_results2/action_1985_offence/player_detections_with_team_with_minimap.json\n",
      "Analyzed 0 frames with referee positions\n",
      "Processing 126 frames\n",
      "Processed frame 0\n",
      "Processed frame 50\n",
      "Processed frame 100\n",
      "Enhanced minimaps saved to intermediate_results2/action_1985_offence/minimap with '_augmented' suffix\n",
      "Creating video from 126 frames...\n"
     ]
    },
    {
     "name": "stderr",
     "output_type": "stream",
     "text": [
      "Processing videos:  34%|███▍      | 136/400 [03:13<06:27,  1.47s/it]"
     ]
    },
    {
     "name": "stdout",
     "output_type": "stream",
     "text": [
      "Video created: intermediate_results2/action_1985_offence/minimap_augmented.mp4\n",
      "Processing completed successfully!\n",
      "\n",
      "Processing action_1991_no_offence.mp4...\n",
      "Using minimap directory: intermediate_results2/action_1991_no_offence/minimap\n",
      "Found 126 frames in intermediate_results2/action_1991_no_offence/player_detections_with_team_with_minimap.json\n",
      "Analyzed 0 frames with referee positions\n",
      "Processing 126 frames\n",
      "Processed frame 0\n",
      "Processed frame 50\n",
      "Processed frame 100\n",
      "Enhanced minimaps saved to intermediate_results2/action_1991_no_offence/minimap with '_augmented' suffix\n",
      "Creating video from 126 frames...\n"
     ]
    },
    {
     "name": "stderr",
     "output_type": "stream",
     "text": [
      "Processing videos:  34%|███▍      | 137/400 [03:15<06:19,  1.44s/it]"
     ]
    },
    {
     "name": "stdout",
     "output_type": "stream",
     "text": [
      "Video created: intermediate_results2/action_1991_no_offence/minimap_augmented.mp4\n",
      "Processing completed successfully!\n",
      "\n",
      "Processing action_19_no_offence.mp4...\n",
      "Using minimap directory: intermediate_results2/action_19_no_offence/minimap\n",
      "Found 126 frames in intermediate_results2/action_19_no_offence/player_detections_with_team_with_minimap.json\n",
      "Analyzed 0 frames with referee positions\n",
      "Processing 126 frames\n",
      "Processed frame 0\n",
      "Processed frame 50\n",
      "Processed frame 100\n",
      "Enhanced minimaps saved to intermediate_results2/action_19_no_offence/minimap with '_augmented' suffix\n",
      "Creating video from 126 frames...\n"
     ]
    },
    {
     "name": "stderr",
     "output_type": "stream",
     "text": [
      "Processing videos:  34%|███▍      | 138/400 [03:16<06:15,  1.43s/it]"
     ]
    },
    {
     "name": "stdout",
     "output_type": "stream",
     "text": [
      "Video created: intermediate_results2/action_19_no_offence/minimap_augmented.mp4\n",
      "Processing completed successfully!\n",
      "\n",
      "Processing action_200_offence.mp4...\n",
      "Using minimap directory: intermediate_results2/action_200_offence/minimap\n",
      "Found 126 frames in intermediate_results2/action_200_offence/player_detections_with_team_with_minimap.json\n",
      "Analyzed 0 frames with referee positions\n",
      "Processing 126 frames\n",
      "Processed frame 0\n",
      "Processed frame 50\n",
      "Processed frame 100\n",
      "Enhanced minimaps saved to intermediate_results2/action_200_offence/minimap with '_augmented' suffix\n",
      "Creating video from 126 frames...\n"
     ]
    },
    {
     "name": "stderr",
     "output_type": "stream",
     "text": [
      "Processing videos:  35%|███▍      | 139/400 [03:17<06:11,  1.42s/it]"
     ]
    },
    {
     "name": "stdout",
     "output_type": "stream",
     "text": [
      "Video created: intermediate_results2/action_200_offence/minimap_augmented.mp4\n",
      "Processing completed successfully!\n",
      "\n",
      "Processing action_2012_no_offence.mp4...\n",
      "Using minimap directory: intermediate_results2/action_2012_no_offence/minimap\n",
      "Found 126 frames in intermediate_results2/action_2012_no_offence/player_detections_with_team_with_minimap.json\n",
      "Analyzed 0 frames with referee positions\n",
      "Processing 126 frames\n",
      "Processed frame 0\n",
      "Processed frame 50\n",
      "Processed frame 100\n",
      "Enhanced minimaps saved to intermediate_results2/action_2012_no_offence/minimap with '_augmented' suffix\n",
      "Creating video from 126 frames...\n"
     ]
    },
    {
     "name": "stderr",
     "output_type": "stream",
     "text": [
      "Processing videos:  35%|███▌      | 140/400 [03:19<06:07,  1.41s/it]"
     ]
    },
    {
     "name": "stdout",
     "output_type": "stream",
     "text": [
      "Video created: intermediate_results2/action_2012_no_offence/minimap_augmented.mp4\n",
      "Processing completed successfully!\n",
      "\n",
      "Processing action_2017_offence.mp4...\n",
      "Using minimap directory: intermediate_results2/action_2017_offence/minimap\n",
      "Found 126 frames in intermediate_results2/action_2017_offence/player_detections_with_team_with_minimap.json\n",
      "Analyzed 0 frames with referee positions\n",
      "Processing 126 frames\n",
      "Processed frame 0\n",
      "Processed frame 50\n",
      "Processed frame 100\n",
      "Enhanced minimaps saved to intermediate_results2/action_2017_offence/minimap with '_augmented' suffix\n",
      "Creating video from 126 frames...\n"
     ]
    },
    {
     "name": "stderr",
     "output_type": "stream",
     "text": [
      "Processing videos:  35%|███▌      | 141/400 [03:20<06:03,  1.40s/it]"
     ]
    },
    {
     "name": "stdout",
     "output_type": "stream",
     "text": [
      "Video created: intermediate_results2/action_2017_offence/minimap_augmented.mp4\n",
      "Processing completed successfully!\n",
      "\n",
      "Processing action_2033_no_offence.mp4...\n",
      "Using minimap directory: intermediate_results2/action_2033_no_offence/minimap\n",
      "Found 126 frames in intermediate_results2/action_2033_no_offence/player_detections_with_team_with_minimap.json\n",
      "Analyzed 0 frames with referee positions\n",
      "Processing 126 frames\n",
      "Processed frame 0\n",
      "Processed frame 50\n",
      "Processed frame 100\n",
      "Enhanced minimaps saved to intermediate_results2/action_2033_no_offence/minimap with '_augmented' suffix\n",
      "Creating video from 126 frames...\n"
     ]
    },
    {
     "name": "stderr",
     "output_type": "stream",
     "text": [
      "Processing videos:  36%|███▌      | 142/400 [03:22<06:09,  1.43s/it]"
     ]
    },
    {
     "name": "stdout",
     "output_type": "stream",
     "text": [
      "Video created: intermediate_results2/action_2033_no_offence/minimap_augmented.mp4\n",
      "Processing completed successfully!\n",
      "\n",
      "Processing action_2035_offence.mp4...\n",
      "Using minimap directory: intermediate_results2/action_2035_offence/minimap\n",
      "Found 126 frames in intermediate_results2/action_2035_offence/player_detections_with_team_with_minimap.json\n",
      "Analyzed 0 frames with referee positions\n",
      "Processing 126 frames\n",
      "Processed frame 0\n",
      "Processed frame 50\n",
      "Processed frame 100\n",
      "Enhanced minimaps saved to intermediate_results2/action_2035_offence/minimap with '_augmented' suffix\n",
      "Creating video from 126 frames...\n"
     ]
    },
    {
     "name": "stderr",
     "output_type": "stream",
     "text": [
      "Processing videos:  36%|███▌      | 143/400 [03:23<06:08,  1.43s/it]"
     ]
    },
    {
     "name": "stdout",
     "output_type": "stream",
     "text": [
      "Video created: intermediate_results2/action_2035_offence/minimap_augmented.mp4\n",
      "Processing completed successfully!\n",
      "\n",
      "Processing action_203_no_offence.mp4...\n",
      "Using minimap directory: intermediate_results2/action_203_no_offence/minimap\n",
      "Found 126 frames in intermediate_results2/action_203_no_offence/player_detections_with_team_with_minimap.json\n",
      "Analyzed 0 frames with referee positions\n",
      "Processing 126 frames\n",
      "Processed frame 0\n",
      "Processed frame 50\n",
      "Processed frame 100\n",
      "Enhanced minimaps saved to intermediate_results2/action_203_no_offence/minimap with '_augmented' suffix\n",
      "Creating video from 126 frames...\n"
     ]
    },
    {
     "name": "stderr",
     "output_type": "stream",
     "text": [
      "Processing videos:  36%|███▌      | 144/400 [03:25<06:59,  1.64s/it]"
     ]
    },
    {
     "name": "stdout",
     "output_type": "stream",
     "text": [
      "Video created: intermediate_results2/action_203_no_offence/minimap_augmented.mp4\n",
      "Processing completed successfully!\n",
      "\n",
      "Processing action_2041_offence.mp4...\n",
      "Using minimap directory: intermediate_results2/action_2041_offence/minimap\n",
      "Found 126 frames in intermediate_results2/action_2041_offence/player_detections_with_team_with_minimap.json\n",
      "Analyzed 0 frames with referee positions\n",
      "Processing 126 frames\n",
      "Processed frame 0\n",
      "Processed frame 50\n",
      "Processed frame 100\n",
      "Enhanced minimaps saved to intermediate_results2/action_2041_offence/minimap with '_augmented' suffix\n",
      "Creating video from 126 frames...\n"
     ]
    },
    {
     "name": "stderr",
     "output_type": "stream",
     "text": [
      "Processing videos:  36%|███▋      | 145/400 [03:27<06:52,  1.62s/it]"
     ]
    },
    {
     "name": "stdout",
     "output_type": "stream",
     "text": [
      "Video created: intermediate_results2/action_2041_offence/minimap_augmented.mp4\n",
      "Processing completed successfully!\n",
      "\n",
      "Processing action_2042_offence.mp4...\n",
      "Using minimap directory: intermediate_results2/action_2042_offence/minimap\n",
      "Found 126 frames in intermediate_results2/action_2042_offence/player_detections_with_team_with_minimap.json\n",
      "Analyzed 0 frames with referee positions\n",
      "Processing 126 frames\n",
      "Processed frame 0\n",
      "Processed frame 50\n",
      "Processed frame 100\n",
      "Enhanced minimaps saved to intermediate_results2/action_2042_offence/minimap with '_augmented' suffix\n",
      "Creating video from 126 frames...\n"
     ]
    },
    {
     "name": "stderr",
     "output_type": "stream",
     "text": [
      "Processing videos:  36%|███▋      | 146/400 [03:28<06:38,  1.57s/it]"
     ]
    },
    {
     "name": "stdout",
     "output_type": "stream",
     "text": [
      "Video created: intermediate_results2/action_2042_offence/minimap_augmented.mp4\n",
      "Processing completed successfully!\n",
      "\n",
      "Processing action_2048_no_offence.mp4...\n",
      "Using minimap directory: intermediate_results2/action_2048_no_offence/minimap\n",
      "Found 126 frames in intermediate_results2/action_2048_no_offence/player_detections_with_team_with_minimap.json\n",
      "Analyzed 0 frames with referee positions\n",
      "Processing 126 frames\n",
      "Processed frame 0\n",
      "Processed frame 50\n",
      "Processed frame 100\n",
      "Enhanced minimaps saved to intermediate_results2/action_2048_no_offence/minimap with '_augmented' suffix\n",
      "Creating video from 126 frames...\n"
     ]
    },
    {
     "name": "stderr",
     "output_type": "stream",
     "text": [
      "Processing videos:  37%|███▋      | 147/400 [03:30<06:24,  1.52s/it]"
     ]
    },
    {
     "name": "stdout",
     "output_type": "stream",
     "text": [
      "Video created: intermediate_results2/action_2048_no_offence/minimap_augmented.mp4\n",
      "Processing completed successfully!\n",
      "\n",
      "Processing action_2065_offence.mp4...\n",
      "Using minimap directory: intermediate_results2/action_2065_offence/minimap\n",
      "Found 126 frames in intermediate_results2/action_2065_offence/player_detections_with_team_with_minimap.json\n",
      "Analyzed 0 frames with referee positions\n",
      "Processing 126 frames\n",
      "Processed frame 0\n",
      "Processed frame 50\n",
      "Processed frame 100\n",
      "Enhanced minimaps saved to intermediate_results2/action_2065_offence/minimap with '_augmented' suffix\n",
      "Creating video from 126 frames...\n"
     ]
    },
    {
     "name": "stderr",
     "output_type": "stream",
     "text": [
      "Processing videos:  37%|███▋      | 148/400 [03:31<06:33,  1.56s/it]"
     ]
    },
    {
     "name": "stdout",
     "output_type": "stream",
     "text": [
      "Video created: intermediate_results2/action_2065_offence/minimap_augmented.mp4\n",
      "Processing completed successfully!\n",
      "\n",
      "Processing action_2083_offence.mp4...\n",
      "Using minimap directory: intermediate_results2/action_2083_offence/minimap\n",
      "Found 126 frames in intermediate_results2/action_2083_offence/player_detections_with_team_with_minimap.json\n",
      "Analyzed 0 frames with referee positions\n",
      "Processing 126 frames\n",
      "Processed frame 0\n",
      "Processed frame 50\n",
      "Processed frame 100\n",
      "Enhanced minimaps saved to intermediate_results2/action_2083_offence/minimap with '_augmented' suffix\n",
      "Creating video from 126 frames...\n"
     ]
    },
    {
     "name": "stderr",
     "output_type": "stream",
     "text": [
      "Processing videos:  37%|███▋      | 149/400 [03:33<06:26,  1.54s/it]"
     ]
    },
    {
     "name": "stdout",
     "output_type": "stream",
     "text": [
      "Video created: intermediate_results2/action_2083_offence/minimap_augmented.mp4\n",
      "Processing completed successfully!\n",
      "\n",
      "Processing action_2085_no_offence.mp4...\n",
      "Using minimap directory: intermediate_results2/action_2085_no_offence/minimap\n",
      "Found 126 frames in intermediate_results2/action_2085_no_offence/player_detections_with_team_with_minimap.json\n",
      "Analyzed 0 frames with referee positions\n",
      "Processing 126 frames\n",
      "Processed frame 0\n",
      "Processed frame 50\n",
      "Processed frame 100\n",
      "Enhanced minimaps saved to intermediate_results2/action_2085_no_offence/minimap with '_augmented' suffix\n",
      "Creating video from 126 frames...\n"
     ]
    },
    {
     "name": "stderr",
     "output_type": "stream",
     "text": [
      "Processing videos:  38%|███▊      | 150/400 [03:34<06:23,  1.53s/it]"
     ]
    },
    {
     "name": "stdout",
     "output_type": "stream",
     "text": [
      "Video created: intermediate_results2/action_2085_no_offence/minimap_augmented.mp4\n",
      "Processing completed successfully!\n",
      "\n",
      "Processing action_2089_no_offence.mp4...\n",
      "Using minimap directory: intermediate_results2/action_2089_no_offence/minimap\n",
      "Found 126 frames in intermediate_results2/action_2089_no_offence/player_detections_with_team_with_minimap.json\n",
      "Analyzed 0 frames with referee positions\n",
      "Processing 126 frames\n",
      "Processed frame 0\n",
      "Processed frame 50\n",
      "Processed frame 100\n",
      "Enhanced minimaps saved to intermediate_results2/action_2089_no_offence/minimap with '_augmented' suffix\n",
      "Creating video from 126 frames...\n"
     ]
    },
    {
     "name": "stderr",
     "output_type": "stream",
     "text": [
      "Processing videos:  38%|███▊      | 151/400 [03:36<06:25,  1.55s/it]"
     ]
    },
    {
     "name": "stdout",
     "output_type": "stream",
     "text": [
      "Video created: intermediate_results2/action_2089_no_offence/minimap_augmented.mp4\n",
      "Processing completed successfully!\n",
      "\n",
      "Processing action_2092_offence.mp4...\n",
      "Using minimap directory: intermediate_results2/action_2092_offence/minimap\n",
      "Found 126 frames in intermediate_results2/action_2092_offence/player_detections_with_team_with_minimap.json\n",
      "Analyzed 0 frames with referee positions\n",
      "Processing 126 frames\n",
      "Processed frame 0\n",
      "Processed frame 50\n",
      "Processed frame 100\n",
      "Enhanced minimaps saved to intermediate_results2/action_2092_offence/minimap with '_augmented' suffix\n",
      "Creating video from 126 frames...\n"
     ]
    },
    {
     "name": "stderr",
     "output_type": "stream",
     "text": [
      "Processing videos:  38%|███▊      | 152/400 [03:38<06:42,  1.62s/it]"
     ]
    },
    {
     "name": "stdout",
     "output_type": "stream",
     "text": [
      "Video created: intermediate_results2/action_2092_offence/minimap_augmented.mp4\n",
      "Processing completed successfully!\n",
      "\n",
      "Processing action_2099_offence.mp4...\n",
      "Using minimap directory: intermediate_results2/action_2099_offence/minimap\n",
      "Found 126 frames in intermediate_results2/action_2099_offence/player_detections_with_team_with_minimap.json\n",
      "Analyzed 0 frames with referee positions\n",
      "Processing 126 frames\n",
      "Processed frame 0\n",
      "Processed frame 50\n",
      "Processed frame 100\n",
      "Enhanced minimaps saved to intermediate_results2/action_2099_offence/minimap with '_augmented' suffix\n",
      "Creating video from 126 frames...\n"
     ]
    },
    {
     "name": "stderr",
     "output_type": "stream",
     "text": [
      "Processing videos:  38%|███▊      | 153/400 [03:39<06:30,  1.58s/it]"
     ]
    },
    {
     "name": "stdout",
     "output_type": "stream",
     "text": [
      "Video created: intermediate_results2/action_2099_offence/minimap_augmented.mp4\n",
      "Processing completed successfully!\n",
      "\n",
      "Processing action_20_offence.mp4...\n",
      "Using minimap directory: intermediate_results2/action_20_offence/minimap\n",
      "Found 126 frames in intermediate_results2/action_20_offence/player_detections_with_team_with_minimap.json\n",
      "Analyzed 0 frames with referee positions\n",
      "Processing 126 frames\n",
      "Processed frame 0\n",
      "Processed frame 50\n",
      "Processed frame 100\n",
      "Enhanced minimaps saved to intermediate_results2/action_20_offence/minimap with '_augmented' suffix\n",
      "Creating video from 126 frames...\n"
     ]
    },
    {
     "name": "stderr",
     "output_type": "stream",
     "text": [
      "Processing videos:  38%|███▊      | 154/400 [03:41<06:22,  1.56s/it]"
     ]
    },
    {
     "name": "stdout",
     "output_type": "stream",
     "text": [
      "Video created: intermediate_results2/action_20_offence/minimap_augmented.mp4\n",
      "Processing completed successfully!\n",
      "\n",
      "Processing action_2100_no_offence.mp4...\n",
      "Using minimap directory: intermediate_results2/action_2100_no_offence/minimap\n",
      "Found 126 frames in intermediate_results2/action_2100_no_offence/player_detections_with_team_with_minimap.json\n",
      "Analyzed 0 frames with referee positions\n",
      "Processing 126 frames\n",
      "Processed frame 0\n",
      "Processed frame 50\n",
      "Processed frame 100\n",
      "Enhanced minimaps saved to intermediate_results2/action_2100_no_offence/minimap with '_augmented' suffix\n",
      "Creating video from 126 frames...\n"
     ]
    },
    {
     "name": "stderr",
     "output_type": "stream",
     "text": [
      "Processing videos:  39%|███▉      | 155/400 [03:42<06:17,  1.54s/it]"
     ]
    },
    {
     "name": "stdout",
     "output_type": "stream",
     "text": [
      "Video created: intermediate_results2/action_2100_no_offence/minimap_augmented.mp4\n",
      "Processing completed successfully!\n",
      "\n",
      "Processing action_2104_no_offence.mp4...\n",
      "Using minimap directory: intermediate_results2/action_2104_no_offence/minimap\n",
      "Found 126 frames in intermediate_results2/action_2104_no_offence/player_detections_with_team_with_minimap.json\n",
      "Analyzed 0 frames with referee positions\n",
      "Processing 126 frames\n",
      "Processed frame 0\n",
      "Processed frame 50\n",
      "Processed frame 100\n",
      "Enhanced minimaps saved to intermediate_results2/action_2104_no_offence/minimap with '_augmented' suffix\n",
      "Creating video from 126 frames...\n"
     ]
    },
    {
     "name": "stderr",
     "output_type": "stream",
     "text": [
      "Processing videos:  39%|███▉      | 156/400 [03:44<06:19,  1.56s/it]"
     ]
    },
    {
     "name": "stdout",
     "output_type": "stream",
     "text": [
      "Video created: intermediate_results2/action_2104_no_offence/minimap_augmented.mp4\n",
      "Processing completed successfully!\n",
      "\n",
      "Processing action_2114_no_offence.mp4...\n",
      "Using minimap directory: intermediate_results2/action_2114_no_offence/minimap\n",
      "Found 126 frames in intermediate_results2/action_2114_no_offence/player_detections_with_team_with_minimap.json\n",
      "Analyzed 0 frames with referee positions\n",
      "Processing 126 frames\n",
      "Processed frame 0\n",
      "Processed frame 50\n",
      "Processed frame 100\n",
      "Enhanced minimaps saved to intermediate_results2/action_2114_no_offence/minimap with '_augmented' suffix\n",
      "Creating video from 126 frames...\n"
     ]
    },
    {
     "name": "stderr",
     "output_type": "stream",
     "text": [
      "Processing videos:  39%|███▉      | 157/400 [03:45<06:13,  1.54s/it]"
     ]
    },
    {
     "name": "stdout",
     "output_type": "stream",
     "text": [
      "Video created: intermediate_results2/action_2114_no_offence/minimap_augmented.mp4\n",
      "Processing completed successfully!\n",
      "\n",
      "Processing action_2130_offence.mp4...\n",
      "Using minimap directory: intermediate_results2/action_2130_offence/minimap\n",
      "Found 126 frames in intermediate_results2/action_2130_offence/player_detections_with_team_with_minimap.json\n",
      "Analyzed 0 frames with referee positions\n",
      "Processing 126 frames\n",
      "Processed frame 0\n",
      "Processed frame 50\n",
      "Processed frame 100\n",
      "Enhanced minimaps saved to intermediate_results2/action_2130_offence/minimap with '_augmented' suffix\n",
      "Creating video from 126 frames...\n"
     ]
    },
    {
     "name": "stderr",
     "output_type": "stream",
     "text": [
      "Processing videos:  40%|███▉      | 158/400 [03:47<06:06,  1.51s/it]"
     ]
    },
    {
     "name": "stdout",
     "output_type": "stream",
     "text": [
      "Video created: intermediate_results2/action_2130_offence/minimap_augmented.mp4\n",
      "Processing completed successfully!\n",
      "\n",
      "Processing action_2144_offence.mp4...\n",
      "Using minimap directory: intermediate_results2/action_2144_offence/minimap\n",
      "Found 126 frames in intermediate_results2/action_2144_offence/player_detections_with_team_with_minimap.json\n",
      "Analyzed 0 frames with referee positions\n",
      "Processing 126 frames\n",
      "Processed frame 0\n",
      "Processed frame 50\n",
      "Processed frame 100\n",
      "Enhanced minimaps saved to intermediate_results2/action_2144_offence/minimap with '_augmented' suffix\n",
      "Creating video from 126 frames...\n"
     ]
    },
    {
     "name": "stderr",
     "output_type": "stream",
     "text": [
      "Processing videos:  40%|███▉      | 159/400 [03:48<05:59,  1.49s/it]"
     ]
    },
    {
     "name": "stdout",
     "output_type": "stream",
     "text": [
      "Video created: intermediate_results2/action_2144_offence/minimap_augmented.mp4\n",
      "Processing completed successfully!\n",
      "\n",
      "Processing action_2149_offence.mp4...\n",
      "Using minimap directory: intermediate_results2/action_2149_offence/minimap\n",
      "Found 126 frames in intermediate_results2/action_2149_offence/player_detections_with_team_with_minimap.json\n",
      "Analyzed 0 frames with referee positions\n",
      "Processing 126 frames\n",
      "Processed frame 0\n",
      "Processed frame 50\n",
      "Processed frame 100\n",
      "Enhanced minimaps saved to intermediate_results2/action_2149_offence/minimap with '_augmented' suffix\n",
      "Creating video from 126 frames...\n"
     ]
    },
    {
     "name": "stderr",
     "output_type": "stream",
     "text": [
      "Processing videos:  40%|████      | 160/400 [03:50<05:59,  1.50s/it]"
     ]
    },
    {
     "name": "stdout",
     "output_type": "stream",
     "text": [
      "Video created: intermediate_results2/action_2149_offence/minimap_augmented.mp4\n",
      "Processing completed successfully!\n",
      "\n",
      "Processing action_2150_offence.mp4...\n",
      "Using minimap directory: intermediate_results2/action_2150_offence/minimap\n",
      "Found 126 frames in intermediate_results2/action_2150_offence/player_detections_with_team_with_minimap.json\n",
      "Analyzed 0 frames with referee positions\n",
      "Processing 126 frames\n",
      "Processed frame 0\n",
      "Processed frame 50\n",
      "Processed frame 100\n",
      "Enhanced minimaps saved to intermediate_results2/action_2150_offence/minimap with '_augmented' suffix\n",
      "Creating video from 126 frames...\n"
     ]
    },
    {
     "name": "stderr",
     "output_type": "stream",
     "text": [
      "Processing videos:  40%|████      | 161/400 [03:51<05:57,  1.50s/it]"
     ]
    },
    {
     "name": "stdout",
     "output_type": "stream",
     "text": [
      "Video created: intermediate_results2/action_2150_offence/minimap_augmented.mp4\n",
      "Processing completed successfully!\n",
      "\n",
      "Processing action_2164_offence.mp4...\n",
      "Using minimap directory: intermediate_results2/action_2164_offence/minimap\n",
      "Found 126 frames in intermediate_results2/action_2164_offence/player_detections_with_team_with_minimap.json\n",
      "Analyzed 0 frames with referee positions\n",
      "Processing 126 frames\n",
      "Processed frame 0\n",
      "Processed frame 50\n",
      "Processed frame 100\n",
      "Enhanced minimaps saved to intermediate_results2/action_2164_offence/minimap with '_augmented' suffix\n",
      "Creating video from 126 frames...\n"
     ]
    },
    {
     "name": "stderr",
     "output_type": "stream",
     "text": [
      "Processing videos:  40%|████      | 162/400 [03:53<05:55,  1.49s/it]"
     ]
    },
    {
     "name": "stdout",
     "output_type": "stream",
     "text": [
      "Video created: intermediate_results2/action_2164_offence/minimap_augmented.mp4\n",
      "Processing completed successfully!\n",
      "\n",
      "Processing action_2195_offence.mp4...\n",
      "Using minimap directory: intermediate_results2/action_2195_offence/minimap\n",
      "Found 126 frames in intermediate_results2/action_2195_offence/player_detections_with_team_with_minimap.json\n",
      "Analyzed 0 frames with referee positions\n",
      "Processing 126 frames\n",
      "Processed frame 0\n",
      "Processed frame 50\n",
      "Processed frame 100\n",
      "Enhanced minimaps saved to intermediate_results2/action_2195_offence/minimap with '_augmented' suffix\n",
      "Creating video from 126 frames...\n"
     ]
    },
    {
     "name": "stderr",
     "output_type": "stream",
     "text": [
      "Processing videos:  41%|████      | 163/400 [03:54<05:53,  1.49s/it]"
     ]
    },
    {
     "name": "stdout",
     "output_type": "stream",
     "text": [
      "Video created: intermediate_results2/action_2195_offence/minimap_augmented.mp4\n",
      "Processing completed successfully!\n",
      "\n",
      "Processing action_2197_no_offence.mp4...\n",
      "Using minimap directory: intermediate_results2/action_2197_no_offence/minimap\n",
      "Found 126 frames in intermediate_results2/action_2197_no_offence/player_detections_with_team_with_minimap.json\n",
      "Analyzed 0 frames with referee positions\n",
      "Processing 126 frames\n",
      "Processed frame 0\n",
      "Processed frame 50\n",
      "Processed frame 100\n",
      "Enhanced minimaps saved to intermediate_results2/action_2197_no_offence/minimap with '_augmented' suffix\n",
      "Creating video from 126 frames...\n"
     ]
    },
    {
     "name": "stderr",
     "output_type": "stream",
     "text": [
      "Processing videos:  41%|████      | 164/400 [03:56<05:47,  1.47s/it]"
     ]
    },
    {
     "name": "stdout",
     "output_type": "stream",
     "text": [
      "Video created: intermediate_results2/action_2197_no_offence/minimap_augmented.mp4\n",
      "Processing completed successfully!\n",
      "\n",
      "Processing action_21_offence.mp4...\n",
      "Using minimap directory: intermediate_results2/action_21_offence/minimap\n",
      "Found 126 frames in intermediate_results2/action_21_offence/player_detections_with_team_with_minimap.json\n",
      "Analyzed 0 frames with referee positions\n",
      "Processing 126 frames\n",
      "Processed frame 0\n",
      "Processed frame 50\n",
      "Processed frame 100\n",
      "Enhanced minimaps saved to intermediate_results2/action_21_offence/minimap with '_augmented' suffix\n",
      "Creating video from 126 frames...\n"
     ]
    },
    {
     "name": "stderr",
     "output_type": "stream",
     "text": [
      "Processing videos:  41%|████▏     | 165/400 [03:57<05:55,  1.51s/it]"
     ]
    },
    {
     "name": "stdout",
     "output_type": "stream",
     "text": [
      "Video created: intermediate_results2/action_21_offence/minimap_augmented.mp4\n",
      "Processing completed successfully!\n",
      "\n",
      "Processing action_2201_offence.mp4...\n",
      "Using minimap directory: intermediate_results2/action_2201_offence/minimap\n",
      "Found 126 frames in intermediate_results2/action_2201_offence/player_detections_with_team_with_minimap.json\n",
      "Analyzed 0 frames with referee positions\n",
      "Processing 126 frames\n",
      "Processed frame 0\n",
      "Processed frame 50\n",
      "Processed frame 100\n",
      "Enhanced minimaps saved to intermediate_results2/action_2201_offence/minimap with '_augmented' suffix\n",
      "Creating video from 126 frames...\n"
     ]
    },
    {
     "name": "stderr",
     "output_type": "stream",
     "text": [
      "Processing videos:  42%|████▏     | 166/400 [03:59<05:46,  1.48s/it]"
     ]
    },
    {
     "name": "stdout",
     "output_type": "stream",
     "text": [
      "Video created: intermediate_results2/action_2201_offence/minimap_augmented.mp4\n",
      "Processing completed successfully!\n",
      "\n",
      "Processing action_2203_no_offence.mp4...\n",
      "Using minimap directory: intermediate_results2/action_2203_no_offence/minimap\n",
      "Found 126 frames in intermediate_results2/action_2203_no_offence/player_detections_with_team_with_minimap.json\n",
      "Analyzed 0 frames with referee positions\n",
      "Processing 126 frames\n",
      "Processed frame 0\n",
      "Processed frame 50\n",
      "Processed frame 100\n",
      "Enhanced minimaps saved to intermediate_results2/action_2203_no_offence/minimap with '_augmented' suffix\n",
      "Creating video from 126 frames...\n"
     ]
    },
    {
     "name": "stderr",
     "output_type": "stream",
     "text": [
      "Processing videos:  42%|████▏     | 167/400 [04:00<05:40,  1.46s/it]"
     ]
    },
    {
     "name": "stdout",
     "output_type": "stream",
     "text": [
      "Video created: intermediate_results2/action_2203_no_offence/minimap_augmented.mp4\n",
      "Processing completed successfully!\n",
      "\n",
      "Processing action_220_no_offence.mp4...\n",
      "Using minimap directory: intermediate_results2/action_220_no_offence/minimap\n",
      "Found 126 frames in intermediate_results2/action_220_no_offence/player_detections_with_team_with_minimap.json\n",
      "Analyzed 0 frames with referee positions\n",
      "Processing 126 frames\n",
      "Processed frame 0\n",
      "Processed frame 50\n",
      "Processed frame 100\n",
      "Enhanced minimaps saved to intermediate_results2/action_220_no_offence/minimap with '_augmented' suffix\n",
      "Creating video from 126 frames...\n"
     ]
    },
    {
     "name": "stderr",
     "output_type": "stream",
     "text": [
      "Processing videos:  42%|████▏     | 168/400 [04:01<05:34,  1.44s/it]"
     ]
    },
    {
     "name": "stdout",
     "output_type": "stream",
     "text": [
      "Video created: intermediate_results2/action_220_no_offence/minimap_augmented.mp4\n",
      "Processing completed successfully!\n",
      "\n",
      "Processing action_2226_offence.mp4...\n",
      "Using minimap directory: intermediate_results2/action_2226_offence/minimap\n",
      "Found 126 frames in intermediate_results2/action_2226_offence/player_detections_with_team_with_minimap.json\n",
      "Analyzed 0 frames with referee positions\n",
      "Processing 126 frames\n",
      "Processed frame 0\n",
      "Processed frame 50\n",
      "Processed frame 100\n",
      "Enhanced minimaps saved to intermediate_results2/action_2226_offence/minimap with '_augmented' suffix\n",
      "Creating video from 126 frames...\n"
     ]
    },
    {
     "name": "stderr",
     "output_type": "stream",
     "text": [
      "Processing videos:  42%|████▏     | 169/400 [04:03<05:32,  1.44s/it]"
     ]
    },
    {
     "name": "stdout",
     "output_type": "stream",
     "text": [
      "Video created: intermediate_results2/action_2226_offence/minimap_augmented.mp4\n",
      "Processing completed successfully!\n",
      "\n",
      "Processing action_2228_no_offence.mp4...\n",
      "Using minimap directory: intermediate_results2/action_2228_no_offence/minimap\n",
      "Found 126 frames in intermediate_results2/action_2228_no_offence/player_detections_with_team_with_minimap.json\n",
      "Analyzed 0 frames with referee positions\n",
      "Processing 126 frames\n",
      "Processed frame 0\n",
      "Processed frame 50\n",
      "Processed frame 100\n",
      "Enhanced minimaps saved to intermediate_results2/action_2228_no_offence/minimap with '_augmented' suffix\n",
      "Creating video from 126 frames...\n"
     ]
    },
    {
     "name": "stderr",
     "output_type": "stream",
     "text": [
      "Processing videos:  42%|████▎     | 170/400 [04:04<05:29,  1.43s/it]"
     ]
    },
    {
     "name": "stdout",
     "output_type": "stream",
     "text": [
      "Video created: intermediate_results2/action_2228_no_offence/minimap_augmented.mp4\n",
      "Processing completed successfully!\n",
      "\n",
      "Processing action_222_offence.mp4...\n",
      "Using minimap directory: intermediate_results2/action_222_offence/minimap\n",
      "Found 126 frames in intermediate_results2/action_222_offence/player_detections_with_team_with_minimap.json\n",
      "Analyzed 0 frames with referee positions\n",
      "Processing 126 frames\n",
      "Processed frame 0\n",
      "Processed frame 50\n",
      "Processed frame 100\n",
      "Enhanced minimaps saved to intermediate_results2/action_222_offence/minimap with '_augmented' suffix\n",
      "Creating video from 126 frames...\n"
     ]
    },
    {
     "name": "stderr",
     "output_type": "stream",
     "text": [
      "Processing videos:  43%|████▎     | 171/400 [04:06<05:27,  1.43s/it]"
     ]
    },
    {
     "name": "stdout",
     "output_type": "stream",
     "text": [
      "Video created: intermediate_results2/action_222_offence/minimap_augmented.mp4\n",
      "Processing completed successfully!\n",
      "\n",
      "Processing action_2230_no_offence.mp4...\n",
      "Using minimap directory: intermediate_results2/action_2230_no_offence/minimap\n",
      "Found 126 frames in intermediate_results2/action_2230_no_offence/player_detections_with_team_with_minimap.json\n",
      "Analyzed 0 frames with referee positions\n",
      "Processing 126 frames\n",
      "Processed frame 0\n",
      "Processed frame 50\n",
      "Processed frame 100\n",
      "Enhanced minimaps saved to intermediate_results2/action_2230_no_offence/minimap with '_augmented' suffix\n",
      "Creating video from 126 frames...\n"
     ]
    },
    {
     "name": "stderr",
     "output_type": "stream",
     "text": [
      "Processing videos:  43%|████▎     | 172/400 [04:07<05:27,  1.44s/it]"
     ]
    },
    {
     "name": "stdout",
     "output_type": "stream",
     "text": [
      "Video created: intermediate_results2/action_2230_no_offence/minimap_augmented.mp4\n",
      "Processing completed successfully!\n",
      "\n",
      "Processing action_2237_no_offence.mp4...\n",
      "Using minimap directory: intermediate_results2/action_2237_no_offence/minimap\n",
      "Found 126 frames in intermediate_results2/action_2237_no_offence/player_detections_with_team_with_minimap.json\n",
      "Analyzed 0 frames with referee positions\n",
      "Processing 126 frames\n",
      "Processed frame 0\n",
      "Processed frame 50\n",
      "Processed frame 100\n",
      "Enhanced minimaps saved to intermediate_results2/action_2237_no_offence/minimap with '_augmented' suffix\n",
      "Creating video from 126 frames...\n"
     ]
    },
    {
     "name": "stderr",
     "output_type": "stream",
     "text": [
      "Processing videos:  43%|████▎     | 173/400 [04:09<05:28,  1.45s/it]"
     ]
    },
    {
     "name": "stdout",
     "output_type": "stream",
     "text": [
      "Video created: intermediate_results2/action_2237_no_offence/minimap_augmented.mp4\n",
      "Processing completed successfully!\n",
      "\n",
      "Processing action_2243_no_offence.mp4...\n",
      "Using minimap directory: intermediate_results2/action_2243_no_offence/minimap\n",
      "Found 126 frames in intermediate_results2/action_2243_no_offence/player_detections_with_team_with_minimap.json\n",
      "Analyzed 0 frames with referee positions\n",
      "Processing 126 frames\n",
      "Processed frame 0\n",
      "Processed frame 50\n",
      "Processed frame 100\n",
      "Enhanced minimaps saved to intermediate_results2/action_2243_no_offence/minimap with '_augmented' suffix\n",
      "Creating video from 126 frames...\n"
     ]
    },
    {
     "name": "stderr",
     "output_type": "stream",
     "text": [
      "Processing videos:  44%|████▎     | 174/400 [04:10<05:24,  1.44s/it]"
     ]
    },
    {
     "name": "stdout",
     "output_type": "stream",
     "text": [
      "Video created: intermediate_results2/action_2243_no_offence/minimap_augmented.mp4\n",
      "Processing completed successfully!\n",
      "\n",
      "Processing action_224_no_offence.mp4...\n",
      "Using minimap directory: intermediate_results2/action_224_no_offence/minimap\n",
      "Found 126 frames in intermediate_results2/action_224_no_offence/player_detections_with_team_with_minimap.json\n",
      "Analyzed 0 frames with referee positions\n",
      "Processing 126 frames\n",
      "Processed frame 0\n",
      "Processed frame 50\n",
      "Processed frame 100\n",
      "Enhanced minimaps saved to intermediate_results2/action_224_no_offence/minimap with '_augmented' suffix\n",
      "Creating video from 126 frames...\n"
     ]
    },
    {
     "name": "stderr",
     "output_type": "stream",
     "text": [
      "Processing videos:  44%|████▍     | 175/400 [04:11<05:19,  1.42s/it]"
     ]
    },
    {
     "name": "stdout",
     "output_type": "stream",
     "text": [
      "Video created: intermediate_results2/action_224_no_offence/minimap_augmented.mp4\n",
      "Processing completed successfully!\n",
      "\n",
      "Processing action_2274_offence.mp4...\n",
      "Using minimap directory: intermediate_results2/action_2274_offence/minimap\n",
      "Found 126 frames in intermediate_results2/action_2274_offence/player_detections_with_team_with_minimap.json\n",
      "Analyzed 0 frames with referee positions\n",
      "Processing 126 frames\n",
      "Processed frame 0\n",
      "Processed frame 50\n",
      "Processed frame 100\n",
      "Enhanced minimaps saved to intermediate_results2/action_2274_offence/minimap with '_augmented' suffix\n",
      "Creating video from 126 frames...\n"
     ]
    },
    {
     "name": "stderr",
     "output_type": "stream",
     "text": [
      "Processing videos:  44%|████▍     | 176/400 [04:13<05:20,  1.43s/it]"
     ]
    },
    {
     "name": "stdout",
     "output_type": "stream",
     "text": [
      "Video created: intermediate_results2/action_2274_offence/minimap_augmented.mp4\n",
      "Processing completed successfully!\n",
      "\n",
      "Processing action_2279_offence.mp4...\n",
      "Using minimap directory: intermediate_results2/action_2279_offence/minimap\n",
      "Found 126 frames in intermediate_results2/action_2279_offence/player_detections_with_team_with_minimap.json\n",
      "Analyzed 0 frames with referee positions\n",
      "Processing 126 frames\n",
      "Processed frame 0\n",
      "Processed frame 50\n",
      "Processed frame 100\n",
      "Enhanced minimaps saved to intermediate_results2/action_2279_offence/minimap with '_augmented' suffix\n",
      "Creating video from 126 frames...\n"
     ]
    },
    {
     "name": "stderr",
     "output_type": "stream",
     "text": [
      "Processing videos:  44%|████▍     | 177/400 [04:14<05:12,  1.40s/it]"
     ]
    },
    {
     "name": "stdout",
     "output_type": "stream",
     "text": [
      "Video created: intermediate_results2/action_2279_offence/minimap_augmented.mp4\n",
      "Processing completed successfully!\n",
      "\n",
      "Processing action_2282_offence.mp4...\n",
      "Using minimap directory: intermediate_results2/action_2282_offence/minimap\n",
      "Found 126 frames in intermediate_results2/action_2282_offence/player_detections_with_team_with_minimap.json\n",
      "Analyzed 0 frames with referee positions\n",
      "Processing 126 frames\n",
      "Processed frame 0\n",
      "Processed frame 50\n",
      "Processed frame 100\n",
      "Enhanced minimaps saved to intermediate_results2/action_2282_offence/minimap with '_augmented' suffix\n",
      "Creating video from 126 frames...\n"
     ]
    },
    {
     "name": "stderr",
     "output_type": "stream",
     "text": [
      "Processing videos:  44%|████▍     | 178/400 [04:16<05:08,  1.39s/it]"
     ]
    },
    {
     "name": "stdout",
     "output_type": "stream",
     "text": [
      "Video created: intermediate_results2/action_2282_offence/minimap_augmented.mp4\n",
      "Processing completed successfully!\n",
      "\n",
      "Processing action_2285_offence.mp4...\n",
      "Using minimap directory: intermediate_results2/action_2285_offence/minimap\n",
      "Found 126 frames in intermediate_results2/action_2285_offence/player_detections_with_team_with_minimap.json\n",
      "Analyzed 0 frames with referee positions\n",
      "Processing 126 frames\n",
      "Processed frame 0\n",
      "Processed frame 50\n",
      "Processed frame 100\n",
      "Enhanced minimaps saved to intermediate_results2/action_2285_offence/minimap with '_augmented' suffix\n",
      "Creating video from 126 frames...\n"
     ]
    },
    {
     "name": "stderr",
     "output_type": "stream",
     "text": [
      "Processing videos:  45%|████▍     | 179/400 [04:17<05:08,  1.40s/it]"
     ]
    },
    {
     "name": "stdout",
     "output_type": "stream",
     "text": [
      "Video created: intermediate_results2/action_2285_offence/minimap_augmented.mp4\n",
      "Processing completed successfully!\n",
      "\n",
      "Processing action_2291_no_offence.mp4...\n",
      "Using minimap directory: intermediate_results2/action_2291_no_offence/minimap\n",
      "Found 126 frames in intermediate_results2/action_2291_no_offence/player_detections_with_team_with_minimap.json\n",
      "Analyzed 0 frames with referee positions\n",
      "Processing 126 frames\n",
      "Processed frame 0\n",
      "Processed frame 50\n",
      "Processed frame 100\n",
      "Enhanced minimaps saved to intermediate_results2/action_2291_no_offence/minimap with '_augmented' suffix\n",
      "Creating video from 126 frames...\n"
     ]
    },
    {
     "name": "stderr",
     "output_type": "stream",
     "text": [
      "Processing videos:  45%|████▌     | 180/400 [04:18<05:11,  1.42s/it]"
     ]
    },
    {
     "name": "stdout",
     "output_type": "stream",
     "text": [
      "Video created: intermediate_results2/action_2291_no_offence/minimap_augmented.mp4\n",
      "Processing completed successfully!\n",
      "\n",
      "Processing action_2305_offence.mp4...\n",
      "Using minimap directory: intermediate_results2/action_2305_offence/minimap\n",
      "Found 126 frames in intermediate_results2/action_2305_offence/player_detections_with_team_with_minimap.json\n",
      "Analyzed 0 frames with referee positions\n",
      "Processing 126 frames\n",
      "Processed frame 0\n",
      "Processed frame 50\n",
      "Processed frame 100\n",
      "Enhanced minimaps saved to intermediate_results2/action_2305_offence/minimap with '_augmented' suffix\n",
      "Creating video from 126 frames...\n"
     ]
    },
    {
     "name": "stderr",
     "output_type": "stream",
     "text": [
      "Processing videos:  45%|████▌     | 181/400 [04:20<05:12,  1.43s/it]"
     ]
    },
    {
     "name": "stdout",
     "output_type": "stream",
     "text": [
      "Video created: intermediate_results2/action_2305_offence/minimap_augmented.mp4\n",
      "Processing completed successfully!\n",
      "\n",
      "Processing action_2309_offence.mp4...\n",
      "Using minimap directory: intermediate_results2/action_2309_offence/minimap\n",
      "Found 126 frames in intermediate_results2/action_2309_offence/player_detections_with_team_with_minimap.json\n",
      "Analyzed 0 frames with referee positions\n",
      "Processing 126 frames\n",
      "Processed frame 0\n",
      "Processed frame 50\n",
      "Processed frame 100\n",
      "Enhanced minimaps saved to intermediate_results2/action_2309_offence/minimap with '_augmented' suffix\n",
      "Creating video from 126 frames...\n"
     ]
    },
    {
     "name": "stderr",
     "output_type": "stream",
     "text": [
      "Processing videos:  46%|████▌     | 182/400 [04:21<05:14,  1.44s/it]"
     ]
    },
    {
     "name": "stdout",
     "output_type": "stream",
     "text": [
      "Video created: intermediate_results2/action_2309_offence/minimap_augmented.mp4\n",
      "Processing completed successfully!\n",
      "\n",
      "Processing action_2313_no_offence.mp4...\n",
      "Using minimap directory: intermediate_results2/action_2313_no_offence/minimap\n",
      "Found 126 frames in intermediate_results2/action_2313_no_offence/player_detections_with_team_with_minimap.json\n",
      "Analyzed 0 frames with referee positions\n",
      "Processing 126 frames\n",
      "Processed frame 0\n",
      "Processed frame 50\n",
      "Processed frame 100\n",
      "Enhanced minimaps saved to intermediate_results2/action_2313_no_offence/minimap with '_augmented' suffix\n",
      "Creating video from 126 frames...\n"
     ]
    },
    {
     "name": "stderr",
     "output_type": "stream",
     "text": [
      "Processing videos:  46%|████▌     | 183/400 [04:23<05:09,  1.43s/it]"
     ]
    },
    {
     "name": "stdout",
     "output_type": "stream",
     "text": [
      "Video created: intermediate_results2/action_2313_no_offence/minimap_augmented.mp4\n",
      "Processing completed successfully!\n",
      "\n",
      "Processing action_231_no_offence.mp4...\n",
      "Using minimap directory: intermediate_results2/action_231_no_offence/minimap\n",
      "Found 126 frames in intermediate_results2/action_231_no_offence/player_detections_with_team_with_minimap.json\n",
      "Analyzed 0 frames with referee positions\n",
      "Processing 126 frames\n",
      "Processed frame 0\n",
      "Processed frame 50\n",
      "Processed frame 100\n",
      "Enhanced minimaps saved to intermediate_results2/action_231_no_offence/minimap with '_augmented' suffix\n",
      "Creating video from 126 frames...\n"
     ]
    },
    {
     "name": "stderr",
     "output_type": "stream",
     "text": [
      "Processing videos:  46%|████▌     | 184/400 [04:24<05:08,  1.43s/it]"
     ]
    },
    {
     "name": "stdout",
     "output_type": "stream",
     "text": [
      "Video created: intermediate_results2/action_231_no_offence/minimap_augmented.mp4\n",
      "Processing completed successfully!\n",
      "\n",
      "Processing action_2320_offence.mp4...\n",
      "Using minimap directory: intermediate_results2/action_2320_offence/minimap\n",
      "Found 126 frames in intermediate_results2/action_2320_offence/player_detections_with_team_with_minimap.json\n",
      "Analyzed 0 frames with referee positions\n",
      "Processing 126 frames\n",
      "Processed frame 0\n",
      "Processed frame 50\n",
      "Processed frame 100\n",
      "Enhanced minimaps saved to intermediate_results2/action_2320_offence/minimap with '_augmented' suffix\n",
      "Creating video from 126 frames...\n"
     ]
    },
    {
     "name": "stderr",
     "output_type": "stream",
     "text": [
      "Processing videos:  46%|████▋     | 185/400 [04:26<05:06,  1.42s/it]"
     ]
    },
    {
     "name": "stdout",
     "output_type": "stream",
     "text": [
      "Video created: intermediate_results2/action_2320_offence/minimap_augmented.mp4\n",
      "Processing completed successfully!\n",
      "\n",
      "Processing action_2340_offence.mp4...\n",
      "Using minimap directory: intermediate_results2/action_2340_offence/minimap\n",
      "Found 126 frames in intermediate_results2/action_2340_offence/player_detections_with_team_with_minimap.json\n",
      "Analyzed 0 frames with referee positions\n",
      "Processing 126 frames\n",
      "Processed frame 0\n",
      "Processed frame 50\n",
      "Processed frame 100\n",
      "Enhanced minimaps saved to intermediate_results2/action_2340_offence/minimap with '_augmented' suffix\n",
      "Creating video from 126 frames...\n"
     ]
    },
    {
     "name": "stderr",
     "output_type": "stream",
     "text": [
      "Processing videos:  46%|████▋     | 186/400 [04:27<05:14,  1.47s/it]"
     ]
    },
    {
     "name": "stdout",
     "output_type": "stream",
     "text": [
      "Video created: intermediate_results2/action_2340_offence/minimap_augmented.mp4\n",
      "Processing completed successfully!\n",
      "\n",
      "Processing action_2346_no_offence.mp4...\n",
      "Using minimap directory: intermediate_results2/action_2346_no_offence/minimap\n",
      "Found 126 frames in intermediate_results2/action_2346_no_offence/player_detections_with_team_with_minimap.json\n",
      "Analyzed 0 frames with referee positions\n",
      "Processing 126 frames\n",
      "Processed frame 0\n",
      "Processed frame 50\n",
      "Processed frame 100\n",
      "Enhanced minimaps saved to intermediate_results2/action_2346_no_offence/minimap with '_augmented' suffix\n",
      "Creating video from 126 frames...\n"
     ]
    },
    {
     "name": "stderr",
     "output_type": "stream",
     "text": [
      "Processing videos:  47%|████▋     | 187/400 [04:29<05:07,  1.44s/it]"
     ]
    },
    {
     "name": "stdout",
     "output_type": "stream",
     "text": [
      "Video created: intermediate_results2/action_2346_no_offence/minimap_augmented.mp4\n",
      "Processing completed successfully!\n",
      "\n",
      "Processing action_2350_offence.mp4...\n",
      "Using minimap directory: intermediate_results2/action_2350_offence/minimap\n",
      "Found 126 frames in intermediate_results2/action_2350_offence/player_detections_with_team_with_minimap.json\n",
      "Analyzed 0 frames with referee positions\n",
      "Processing 126 frames\n",
      "Processed frame 0\n",
      "Processed frame 50\n",
      "Processed frame 100\n",
      "Enhanced minimaps saved to intermediate_results2/action_2350_offence/minimap with '_augmented' suffix\n",
      "Creating video from 126 frames...\n"
     ]
    },
    {
     "name": "stderr",
     "output_type": "stream",
     "text": [
      "Processing videos:  47%|████▋     | 188/400 [04:30<05:03,  1.43s/it]"
     ]
    },
    {
     "name": "stdout",
     "output_type": "stream",
     "text": [
      "Video created: intermediate_results2/action_2350_offence/minimap_augmented.mp4\n",
      "Processing completed successfully!\n",
      "\n",
      "Processing action_2354_offence.mp4...\n",
      "Using minimap directory: intermediate_results2/action_2354_offence/minimap\n",
      "Found 126 frames in intermediate_results2/action_2354_offence/player_detections_with_team_with_minimap.json\n",
      "Analyzed 0 frames with referee positions\n",
      "Processing 126 frames\n",
      "Processed frame 0\n",
      "Processed frame 50\n",
      "Processed frame 100\n",
      "Enhanced minimaps saved to intermediate_results2/action_2354_offence/minimap with '_augmented' suffix\n",
      "Creating video from 126 frames...\n"
     ]
    },
    {
     "name": "stderr",
     "output_type": "stream",
     "text": [
      "Processing videos:  47%|████▋     | 189/400 [04:31<05:04,  1.44s/it]"
     ]
    },
    {
     "name": "stdout",
     "output_type": "stream",
     "text": [
      "Video created: intermediate_results2/action_2354_offence/minimap_augmented.mp4\n",
      "Processing completed successfully!\n",
      "\n",
      "Processing action_2370_offence.mp4...\n",
      "Using minimap directory: intermediate_results2/action_2370_offence/minimap\n",
      "Found 126 frames in intermediate_results2/action_2370_offence/player_detections_with_team_with_minimap.json\n",
      "Analyzed 0 frames with referee positions\n",
      "Processing 126 frames\n",
      "Processed frame 0\n",
      "Processed frame 50\n",
      "Processed frame 100\n",
      "Enhanced minimaps saved to intermediate_results2/action_2370_offence/minimap with '_augmented' suffix\n",
      "Creating video from 126 frames...\n"
     ]
    },
    {
     "name": "stderr",
     "output_type": "stream",
     "text": [
      "Processing videos:  48%|████▊     | 190/400 [04:33<05:04,  1.45s/it]"
     ]
    },
    {
     "name": "stdout",
     "output_type": "stream",
     "text": [
      "Video created: intermediate_results2/action_2370_offence/minimap_augmented.mp4\n",
      "Processing completed successfully!\n",
      "\n",
      "Processing action_2383_offence.mp4...\n",
      "Using minimap directory: intermediate_results2/action_2383_offence/minimap\n",
      "Found 126 frames in intermediate_results2/action_2383_offence/player_detections_with_team_with_minimap.json\n",
      "Analyzed 0 frames with referee positions\n",
      "Processing 126 frames\n",
      "Processed frame 0\n",
      "Processed frame 50\n",
      "Processed frame 100\n",
      "Enhanced minimaps saved to intermediate_results2/action_2383_offence/minimap with '_augmented' suffix\n",
      "Creating video from 126 frames...\n"
     ]
    },
    {
     "name": "stderr",
     "output_type": "stream",
     "text": [
      "Processing videos:  48%|████▊     | 191/400 [04:34<04:57,  1.42s/it]"
     ]
    },
    {
     "name": "stdout",
     "output_type": "stream",
     "text": [
      "Video created: intermediate_results2/action_2383_offence/minimap_augmented.mp4\n",
      "Processing completed successfully!\n",
      "\n",
      "Processing action_238_no_offence.mp4...\n",
      "Using minimap directory: intermediate_results2/action_238_no_offence/minimap\n",
      "Found 126 frames in intermediate_results2/action_238_no_offence/player_detections_with_team_with_minimap.json\n",
      "Analyzed 0 frames with referee positions\n",
      "Processing 126 frames\n",
      "Processed frame 0\n",
      "Processed frame 50\n",
      "Processed frame 100\n",
      "Enhanced minimaps saved to intermediate_results2/action_238_no_offence/minimap with '_augmented' suffix\n",
      "Creating video from 126 frames...\n"
     ]
    },
    {
     "name": "stderr",
     "output_type": "stream",
     "text": [
      "Processing videos:  48%|████▊     | 192/400 [04:36<04:54,  1.42s/it]"
     ]
    },
    {
     "name": "stdout",
     "output_type": "stream",
     "text": [
      "Video created: intermediate_results2/action_238_no_offence/minimap_augmented.mp4\n",
      "Processing completed successfully!\n",
      "\n",
      "Processing action_2397_no_offence.mp4...\n",
      "Using minimap directory: intermediate_results2/action_2397_no_offence/minimap\n",
      "Found 126 frames in intermediate_results2/action_2397_no_offence/player_detections_with_team_with_minimap.json\n",
      "Analyzed 0 frames with referee positions\n",
      "Processing 126 frames\n",
      "Processed frame 0\n",
      "Processed frame 50\n",
      "Processed frame 100\n",
      "Enhanced minimaps saved to intermediate_results2/action_2397_no_offence/minimap with '_augmented' suffix\n",
      "Creating video from 126 frames...\n"
     ]
    },
    {
     "name": "stderr",
     "output_type": "stream",
     "text": [
      "Processing videos:  48%|████▊     | 193/400 [04:37<04:51,  1.41s/it]"
     ]
    },
    {
     "name": "stdout",
     "output_type": "stream",
     "text": [
      "Video created: intermediate_results2/action_2397_no_offence/minimap_augmented.mp4\n",
      "Processing completed successfully!\n",
      "\n",
      "Processing action_2402_no_offence.mp4...\n",
      "Using minimap directory: intermediate_results2/action_2402_no_offence/minimap\n",
      "Found 126 frames in intermediate_results2/action_2402_no_offence/player_detections_with_team_with_minimap.json\n",
      "Analyzed 0 frames with referee positions\n",
      "Processing 126 frames\n",
      "Processed frame 0\n",
      "Processed frame 50\n",
      "Processed frame 100\n",
      "Enhanced minimaps saved to intermediate_results2/action_2402_no_offence/minimap with '_augmented' suffix\n",
      "Creating video from 126 frames...\n"
     ]
    },
    {
     "name": "stderr",
     "output_type": "stream",
     "text": [
      "Processing videos:  48%|████▊     | 194/400 [04:39<04:56,  1.44s/it]"
     ]
    },
    {
     "name": "stdout",
     "output_type": "stream",
     "text": [
      "Video created: intermediate_results2/action_2402_no_offence/minimap_augmented.mp4\n",
      "Processing completed successfully!\n",
      "\n",
      "Processing action_2404_no_offence.mp4...\n",
      "Using minimap directory: intermediate_results2/action_2404_no_offence/minimap\n",
      "Found 126 frames in intermediate_results2/action_2404_no_offence/player_detections_with_team_with_minimap.json\n",
      "Analyzed 0 frames with referee positions\n",
      "Processing 126 frames\n",
      "Processed frame 0\n",
      "Processed frame 50\n",
      "Processed frame 100\n",
      "Enhanced minimaps saved to intermediate_results2/action_2404_no_offence/minimap with '_augmented' suffix\n",
      "Creating video from 126 frames...\n"
     ]
    },
    {
     "name": "stderr",
     "output_type": "stream",
     "text": [
      "Processing videos:  49%|████▉     | 195/400 [04:40<04:50,  1.42s/it]"
     ]
    },
    {
     "name": "stdout",
     "output_type": "stream",
     "text": [
      "Video created: intermediate_results2/action_2404_no_offence/minimap_augmented.mp4\n",
      "Processing completed successfully!\n",
      "\n",
      "Processing action_2405_offence.mp4...\n",
      "Using minimap directory: intermediate_results2/action_2405_offence/minimap\n",
      "Found 126 frames in intermediate_results2/action_2405_offence/player_detections_with_team_with_minimap.json\n",
      "Analyzed 0 frames with referee positions\n",
      "Processing 126 frames\n",
      "Processed frame 0\n",
      "Processed frame 50\n",
      "Processed frame 100\n",
      "Enhanced minimaps saved to intermediate_results2/action_2405_offence/minimap with '_augmented' suffix\n",
      "Creating video from 126 frames...\n"
     ]
    },
    {
     "name": "stderr",
     "output_type": "stream",
     "text": [
      "Processing videos:  49%|████▉     | 196/400 [04:41<04:45,  1.40s/it]"
     ]
    },
    {
     "name": "stdout",
     "output_type": "stream",
     "text": [
      "Video created: intermediate_results2/action_2405_offence/minimap_augmented.mp4\n",
      "Processing completed successfully!\n",
      "\n",
      "Processing action_2411_no_offence.mp4...\n",
      "Using minimap directory: intermediate_results2/action_2411_no_offence/minimap\n",
      "Found 126 frames in intermediate_results2/action_2411_no_offence/player_detections_with_team_with_minimap.json\n",
      "Analyzed 0 frames with referee positions\n",
      "Processing 126 frames\n",
      "Processed frame 0\n",
      "Processed frame 50\n",
      "Processed frame 100\n",
      "Enhanced minimaps saved to intermediate_results2/action_2411_no_offence/minimap with '_augmented' suffix\n",
      "Creating video from 126 frames...\n"
     ]
    },
    {
     "name": "stderr",
     "output_type": "stream",
     "text": [
      "Processing videos:  49%|████▉     | 197/400 [04:43<04:41,  1.39s/it]"
     ]
    },
    {
     "name": "stdout",
     "output_type": "stream",
     "text": [
      "Video created: intermediate_results2/action_2411_no_offence/minimap_augmented.mp4\n",
      "Processing completed successfully!\n",
      "\n",
      "Processing action_2425_no_offence.mp4...\n",
      "Using minimap directory: intermediate_results2/action_2425_no_offence/minimap\n",
      "Found 126 frames in intermediate_results2/action_2425_no_offence/player_detections_with_team_with_minimap.json\n",
      "Analyzed 0 frames with referee positions\n",
      "Processing 126 frames\n",
      "Processed frame 0\n",
      "Processed frame 50\n",
      "Processed frame 100\n",
      "Enhanced minimaps saved to intermediate_results2/action_2425_no_offence/minimap with '_augmented' suffix\n",
      "Creating video from 126 frames...\n"
     ]
    },
    {
     "name": "stderr",
     "output_type": "stream",
     "text": [
      "Processing videos:  50%|████▉     | 198/400 [04:44<04:38,  1.38s/it]"
     ]
    },
    {
     "name": "stdout",
     "output_type": "stream",
     "text": [
      "Video created: intermediate_results2/action_2425_no_offence/minimap_augmented.mp4\n",
      "Processing completed successfully!\n",
      "\n",
      "Processing action_2428_offence.mp4...\n",
      "Using minimap directory: intermediate_results2/action_2428_offence/minimap\n",
      "Found 126 frames in intermediate_results2/action_2428_offence/player_detections_with_team_with_minimap.json\n",
      "Analyzed 0 frames with referee positions\n",
      "Processing 126 frames\n",
      "Processed frame 0\n",
      "Processed frame 50\n",
      "Processed frame 100\n",
      "Enhanced minimaps saved to intermediate_results2/action_2428_offence/minimap with '_augmented' suffix\n",
      "Creating video from 126 frames...\n"
     ]
    },
    {
     "name": "stderr",
     "output_type": "stream",
     "text": [
      "Processing videos:  50%|████▉     | 199/400 [04:45<04:35,  1.37s/it]"
     ]
    },
    {
     "name": "stdout",
     "output_type": "stream",
     "text": [
      "Video created: intermediate_results2/action_2428_offence/minimap_augmented.mp4\n",
      "Processing completed successfully!\n",
      "\n",
      "Processing action_242_no_offence.mp4...\n",
      "Using minimap directory: intermediate_results2/action_242_no_offence/minimap\n",
      "Found 126 frames in intermediate_results2/action_242_no_offence/player_detections_with_team_with_minimap.json\n",
      "Analyzed 0 frames with referee positions\n",
      "Processing 126 frames\n",
      "Processed frame 0\n",
      "Processed frame 50\n",
      "Processed frame 100\n",
      "Enhanced minimaps saved to intermediate_results2/action_242_no_offence/minimap with '_augmented' suffix\n",
      "Creating video from 126 frames...\n"
     ]
    },
    {
     "name": "stderr",
     "output_type": "stream",
     "text": [
      "Processing videos:  50%|█████     | 200/400 [04:47<04:33,  1.37s/it]"
     ]
    },
    {
     "name": "stdout",
     "output_type": "stream",
     "text": [
      "Video created: intermediate_results2/action_242_no_offence/minimap_augmented.mp4\n",
      "Processing completed successfully!\n",
      "\n",
      "Processing action_2430_offence.mp4...\n",
      "Using minimap directory: intermediate_results2/action_2430_offence/minimap\n",
      "Found 126 frames in intermediate_results2/action_2430_offence/player_detections_with_team_with_minimap.json\n",
      "Analyzed 0 frames with referee positions\n",
      "Processing 126 frames\n",
      "Processed frame 0\n",
      "Processed frame 50\n",
      "Processed frame 100\n",
      "Enhanced minimaps saved to intermediate_results2/action_2430_offence/minimap with '_augmented' suffix\n",
      "Creating video from 126 frames...\n"
     ]
    },
    {
     "name": "stderr",
     "output_type": "stream",
     "text": [
      "Processing videos:  50%|█████     | 201/400 [04:48<04:34,  1.38s/it]"
     ]
    },
    {
     "name": "stdout",
     "output_type": "stream",
     "text": [
      "Video created: intermediate_results2/action_2430_offence/minimap_augmented.mp4\n",
      "Processing completed successfully!\n",
      "\n",
      "Processing action_2433_no_offence.mp4...\n",
      "Using minimap directory: intermediate_results2/action_2433_no_offence/minimap\n",
      "Found 126 frames in intermediate_results2/action_2433_no_offence/player_detections_with_team_with_minimap.json\n",
      "Analyzed 0 frames with referee positions\n",
      "Processing 126 frames\n",
      "Processed frame 0\n",
      "Processed frame 50\n",
      "Processed frame 100\n",
      "Enhanced minimaps saved to intermediate_results2/action_2433_no_offence/minimap with '_augmented' suffix\n",
      "Creating video from 126 frames...\n"
     ]
    },
    {
     "name": "stderr",
     "output_type": "stream",
     "text": [
      "Processing videos:  50%|█████     | 202/400 [04:50<04:40,  1.42s/it]"
     ]
    },
    {
     "name": "stdout",
     "output_type": "stream",
     "text": [
      "Video created: intermediate_results2/action_2433_no_offence/minimap_augmented.mp4\n",
      "Processing completed successfully!\n",
      "\n",
      "Processing action_243_no_offence.mp4...\n",
      "Using minimap directory: intermediate_results2/action_243_no_offence/minimap\n",
      "Found 126 frames in intermediate_results2/action_243_no_offence/player_detections_with_team_with_minimap.json\n",
      "Analyzed 0 frames with referee positions\n",
      "Processing 126 frames\n",
      "Processed frame 0\n",
      "Processed frame 50\n",
      "Processed frame 100\n",
      "Enhanced minimaps saved to intermediate_results2/action_243_no_offence/minimap with '_augmented' suffix\n",
      "Creating video from 126 frames...\n"
     ]
    },
    {
     "name": "stderr",
     "output_type": "stream",
     "text": [
      "Processing videos:  51%|█████     | 203/400 [04:51<04:37,  1.41s/it]"
     ]
    },
    {
     "name": "stdout",
     "output_type": "stream",
     "text": [
      "Video created: intermediate_results2/action_243_no_offence/minimap_augmented.mp4\n",
      "Processing completed successfully!\n",
      "\n",
      "Processing action_2445_offence.mp4...\n",
      "Using minimap directory: intermediate_results2/action_2445_offence/minimap\n",
      "Found 125 frames in intermediate_results2/action_2445_offence/player_detections_with_team_with_minimap.json\n",
      "Analyzed 0 frames with referee positions\n",
      "Processing 125 frames\n",
      "Processed frame 0\n",
      "Processed frame 50\n",
      "Processed frame 100\n",
      "Enhanced minimaps saved to intermediate_results2/action_2445_offence/minimap with '_augmented' suffix\n",
      "Creating video from 125 frames...\n"
     ]
    },
    {
     "name": "stderr",
     "output_type": "stream",
     "text": [
      "Processing videos:  51%|█████     | 204/400 [04:52<04:31,  1.38s/it]"
     ]
    },
    {
     "name": "stdout",
     "output_type": "stream",
     "text": [
      "Video created: intermediate_results2/action_2445_offence/minimap_augmented.mp4\n",
      "Processing completed successfully!\n",
      "\n",
      "Processing action_2450_no_offence.mp4...\n",
      "Using minimap directory: intermediate_results2/action_2450_no_offence/minimap\n",
      "Found 126 frames in intermediate_results2/action_2450_no_offence/player_detections_with_team_with_minimap.json\n",
      "Analyzed 0 frames with referee positions\n",
      "Processing 126 frames\n",
      "Processed frame 0\n",
      "Processed frame 50\n",
      "Processed frame 100\n",
      "Enhanced minimaps saved to intermediate_results2/action_2450_no_offence/minimap with '_augmented' suffix\n",
      "Creating video from 126 frames...\n"
     ]
    },
    {
     "name": "stderr",
     "output_type": "stream",
     "text": [
      "Processing videos:  51%|█████▏    | 205/400 [04:54<04:27,  1.37s/it]"
     ]
    },
    {
     "name": "stdout",
     "output_type": "stream",
     "text": [
      "Video created: intermediate_results2/action_2450_no_offence/minimap_augmented.mp4\n",
      "Processing completed successfully!\n",
      "\n",
      "Processing action_2458_no_offence.mp4...\n",
      "Using minimap directory: intermediate_results2/action_2458_no_offence/minimap\n",
      "Found 126 frames in intermediate_results2/action_2458_no_offence/player_detections_with_team_with_minimap.json\n",
      "Analyzed 0 frames with referee positions\n",
      "Processing 126 frames\n",
      "Processed frame 0\n",
      "Processed frame 50\n",
      "Processed frame 100\n",
      "Enhanced minimaps saved to intermediate_results2/action_2458_no_offence/minimap with '_augmented' suffix\n",
      "Creating video from 126 frames...\n"
     ]
    },
    {
     "name": "stderr",
     "output_type": "stream",
     "text": [
      "Processing videos:  52%|█████▏    | 206/400 [04:55<04:26,  1.37s/it]"
     ]
    },
    {
     "name": "stdout",
     "output_type": "stream",
     "text": [
      "Video created: intermediate_results2/action_2458_no_offence/minimap_augmented.mp4\n",
      "Processing completed successfully!\n",
      "\n",
      "Processing action_2459_no_offence.mp4...\n",
      "Using minimap directory: intermediate_results2/action_2459_no_offence/minimap\n",
      "Found 126 frames in intermediate_results2/action_2459_no_offence/player_detections_with_team_with_minimap.json\n",
      "Analyzed 0 frames with referee positions\n",
      "Processing 126 frames\n",
      "Processed frame 0\n",
      "Processed frame 50\n",
      "Processed frame 100\n",
      "Enhanced minimaps saved to intermediate_results2/action_2459_no_offence/minimap with '_augmented' suffix\n",
      "Creating video from 126 frames...\n"
     ]
    },
    {
     "name": "stderr",
     "output_type": "stream",
     "text": [
      "Processing videos:  52%|█████▏    | 207/400 [04:56<04:24,  1.37s/it]"
     ]
    },
    {
     "name": "stdout",
     "output_type": "stream",
     "text": [
      "Video created: intermediate_results2/action_2459_no_offence/minimap_augmented.mp4\n",
      "Processing completed successfully!\n",
      "\n",
      "Processing action_2460_no_offence.mp4...\n",
      "Using minimap directory: intermediate_results2/action_2460_no_offence/minimap\n",
      "Found 126 frames in intermediate_results2/action_2460_no_offence/player_detections_with_team_with_minimap.json\n",
      "Analyzed 0 frames with referee positions\n",
      "Processing 126 frames\n",
      "Processed frame 0\n",
      "Processed frame 50\n",
      "Processed frame 100\n",
      "Enhanced minimaps saved to intermediate_results2/action_2460_no_offence/minimap with '_augmented' suffix\n",
      "Creating video from 126 frames...\n"
     ]
    },
    {
     "name": "stderr",
     "output_type": "stream",
     "text": [
      "Processing videos:  52%|█████▏    | 208/400 [04:58<04:27,  1.39s/it]"
     ]
    },
    {
     "name": "stdout",
     "output_type": "stream",
     "text": [
      "Video created: intermediate_results2/action_2460_no_offence/minimap_augmented.mp4\n",
      "Processing completed successfully!\n",
      "\n",
      "Processing action_2464_no_offence.mp4...\n",
      "Using minimap directory: intermediate_results2/action_2464_no_offence/minimap\n",
      "Found 126 frames in intermediate_results2/action_2464_no_offence/player_detections_with_team_with_minimap.json\n",
      "Analyzed 0 frames with referee positions\n",
      "Processing 126 frames\n",
      "Processed frame 0\n",
      "Processed frame 50\n",
      "Processed frame 100\n",
      "Enhanced minimaps saved to intermediate_results2/action_2464_no_offence/minimap with '_augmented' suffix\n",
      "Creating video from 126 frames...\n"
     ]
    },
    {
     "name": "stderr",
     "output_type": "stream",
     "text": [
      "Processing videos:  52%|█████▏    | 209/400 [04:59<04:25,  1.39s/it]"
     ]
    },
    {
     "name": "stdout",
     "output_type": "stream",
     "text": [
      "Video created: intermediate_results2/action_2464_no_offence/minimap_augmented.mp4\n",
      "Processing completed successfully!\n",
      "\n",
      "Processing action_2468_offence.mp4...\n",
      "Using minimap directory: intermediate_results2/action_2468_offence/minimap\n",
      "Found 126 frames in intermediate_results2/action_2468_offence/player_detections_with_team_with_minimap.json\n",
      "Analyzed 0 frames with referee positions\n",
      "Processing 126 frames\n",
      "Processed frame 0\n",
      "Processed frame 50\n",
      "Processed frame 100\n",
      "Enhanced minimaps saved to intermediate_results2/action_2468_offence/minimap with '_augmented' suffix\n",
      "Creating video from 126 frames...\n"
     ]
    },
    {
     "name": "stderr",
     "output_type": "stream",
     "text": [
      "Processing videos:  52%|█████▎    | 210/400 [05:01<04:21,  1.38s/it]"
     ]
    },
    {
     "name": "stdout",
     "output_type": "stream",
     "text": [
      "Video created: intermediate_results2/action_2468_offence/minimap_augmented.mp4\n",
      "Processing completed successfully!\n",
      "\n",
      "Processing action_2473_offence.mp4...\n",
      "Using minimap directory: intermediate_results2/action_2473_offence/minimap\n",
      "Found 126 frames in intermediate_results2/action_2473_offence/player_detections_with_team_with_minimap.json\n",
      "Analyzed 0 frames with referee positions\n",
      "Processing 126 frames\n",
      "Processed frame 0\n",
      "Processed frame 50\n",
      "Processed frame 100\n",
      "Enhanced minimaps saved to intermediate_results2/action_2473_offence/minimap with '_augmented' suffix\n",
      "Creating video from 126 frames...\n"
     ]
    },
    {
     "name": "stderr",
     "output_type": "stream",
     "text": [
      "Processing videos:  53%|█████▎    | 211/400 [05:02<04:18,  1.37s/it]"
     ]
    },
    {
     "name": "stdout",
     "output_type": "stream",
     "text": [
      "Video created: intermediate_results2/action_2473_offence/minimap_augmented.mp4\n",
      "Processing completed successfully!\n",
      "\n",
      "Processing action_2475_no_offence.mp4...\n",
      "Using minimap directory: intermediate_results2/action_2475_no_offence/minimap\n",
      "Found 126 frames in intermediate_results2/action_2475_no_offence/player_detections_with_team_with_minimap.json\n",
      "Analyzed 0 frames with referee positions\n",
      "Processing 126 frames\n",
      "Processed frame 0\n",
      "Processed frame 50\n",
      "Processed frame 100\n",
      "Enhanced minimaps saved to intermediate_results2/action_2475_no_offence/minimap with '_augmented' suffix\n",
      "Creating video from 126 frames...\n"
     ]
    },
    {
     "name": "stderr",
     "output_type": "stream",
     "text": [
      "Processing videos:  53%|█████▎    | 212/400 [05:03<04:19,  1.38s/it]"
     ]
    },
    {
     "name": "stdout",
     "output_type": "stream",
     "text": [
      "Video created: intermediate_results2/action_2475_no_offence/minimap_augmented.mp4\n",
      "Processing completed successfully!\n",
      "\n",
      "Processing action_2500_offence.mp4...\n",
      "Using minimap directory: intermediate_results2/action_2500_offence/minimap\n",
      "Found 126 frames in intermediate_results2/action_2500_offence/player_detections_with_team_with_minimap.json\n",
      "Analyzed 0 frames with referee positions\n",
      "Processing 126 frames\n",
      "Processed frame 0\n",
      "Processed frame 50\n",
      "Processed frame 100\n",
      "Enhanced minimaps saved to intermediate_results2/action_2500_offence/minimap with '_augmented' suffix\n",
      "Creating video from 126 frames...\n"
     ]
    },
    {
     "name": "stderr",
     "output_type": "stream",
     "text": [
      "Processing videos:  53%|█████▎    | 213/400 [05:05<04:24,  1.41s/it]"
     ]
    },
    {
     "name": "stdout",
     "output_type": "stream",
     "text": [
      "Video created: intermediate_results2/action_2500_offence/minimap_augmented.mp4\n",
      "Processing completed successfully!\n",
      "\n",
      "Processing action_2506_offence.mp4...\n",
      "Using minimap directory: intermediate_results2/action_2506_offence/minimap\n",
      "Found 126 frames in intermediate_results2/action_2506_offence/player_detections_with_team_with_minimap.json\n",
      "Analyzed 0 frames with referee positions\n",
      "Processing 126 frames\n",
      "Processed frame 0\n",
      "Processed frame 50\n",
      "Processed frame 100\n",
      "Enhanced minimaps saved to intermediate_results2/action_2506_offence/minimap with '_augmented' suffix\n",
      "Creating video from 126 frames...\n"
     ]
    },
    {
     "name": "stderr",
     "output_type": "stream",
     "text": [
      "Processing videos:  54%|█████▎    | 214/400 [05:06<04:21,  1.41s/it]"
     ]
    },
    {
     "name": "stdout",
     "output_type": "stream",
     "text": [
      "Video created: intermediate_results2/action_2506_offence/minimap_augmented.mp4\n",
      "Processing completed successfully!\n",
      "\n",
      "Processing action_2508_offence.mp4...\n",
      "Using minimap directory: intermediate_results2/action_2508_offence/minimap\n",
      "Found 126 frames in intermediate_results2/action_2508_offence/player_detections_with_team_with_minimap.json\n",
      "Analyzed 0 frames with referee positions\n",
      "Processing 126 frames\n",
      "Processed frame 0\n",
      "Processed frame 50\n",
      "Processed frame 100\n",
      "Enhanced minimaps saved to intermediate_results2/action_2508_offence/minimap with '_augmented' suffix\n",
      "Creating video from 126 frames...\n"
     ]
    },
    {
     "name": "stderr",
     "output_type": "stream",
     "text": [
      "Processing videos:  54%|█████▍    | 215/400 [05:08<04:16,  1.39s/it]"
     ]
    },
    {
     "name": "stdout",
     "output_type": "stream",
     "text": [
      "Video created: intermediate_results2/action_2508_offence/minimap_augmented.mp4\n",
      "Processing completed successfully!\n",
      "\n",
      "Processing action_2522_no_offence.mp4...\n",
      "Using minimap directory: intermediate_results2/action_2522_no_offence/minimap\n",
      "Found 126 frames in intermediate_results2/action_2522_no_offence/player_detections_with_team_with_minimap.json\n",
      "Analyzed 0 frames with referee positions\n",
      "Processing 126 frames\n",
      "Processed frame 0\n",
      "Processed frame 50\n",
      "Processed frame 100\n",
      "Enhanced minimaps saved to intermediate_results2/action_2522_no_offence/minimap with '_augmented' suffix\n",
      "Creating video from 126 frames...\n"
     ]
    },
    {
     "name": "stderr",
     "output_type": "stream",
     "text": [
      "Processing videos:  54%|█████▍    | 216/400 [05:09<04:18,  1.40s/it]"
     ]
    },
    {
     "name": "stdout",
     "output_type": "stream",
     "text": [
      "Video created: intermediate_results2/action_2522_no_offence/minimap_augmented.mp4\n",
      "Processing completed successfully!\n",
      "\n",
      "Processing action_2523_offence.mp4...\n",
      "Using minimap directory: intermediate_results2/action_2523_offence/minimap\n",
      "Found 126 frames in intermediate_results2/action_2523_offence/player_detections_with_team_with_minimap.json\n",
      "Analyzed 0 frames with referee positions\n",
      "Processing 126 frames\n",
      "Processed frame 0\n",
      "Processed frame 50\n",
      "Processed frame 100\n",
      "Enhanced minimaps saved to intermediate_results2/action_2523_offence/minimap with '_augmented' suffix\n",
      "Creating video from 126 frames...\n"
     ]
    },
    {
     "name": "stderr",
     "output_type": "stream",
     "text": [
      "Processing videos:  54%|█████▍    | 217/400 [05:10<04:18,  1.41s/it]"
     ]
    },
    {
     "name": "stdout",
     "output_type": "stream",
     "text": [
      "Video created: intermediate_results2/action_2523_offence/minimap_augmented.mp4\n",
      "Processing completed successfully!\n",
      "\n",
      "Processing action_2526_no_offence.mp4...\n",
      "Using minimap directory: intermediate_results2/action_2526_no_offence/minimap\n",
      "Found 126 frames in intermediate_results2/action_2526_no_offence/player_detections_with_team_with_minimap.json\n",
      "Analyzed 0 frames with referee positions\n",
      "Processing 126 frames\n",
      "Processed frame 0\n",
      "Processed frame 50\n",
      "Processed frame 100\n",
      "Enhanced minimaps saved to intermediate_results2/action_2526_no_offence/minimap with '_augmented' suffix\n",
      "Creating video from 126 frames...\n"
     ]
    },
    {
     "name": "stderr",
     "output_type": "stream",
     "text": [
      "Processing videos:  55%|█████▍    | 218/400 [05:12<04:15,  1.40s/it]"
     ]
    },
    {
     "name": "stdout",
     "output_type": "stream",
     "text": [
      "Video created: intermediate_results2/action_2526_no_offence/minimap_augmented.mp4\n",
      "Processing completed successfully!\n",
      "\n",
      "Processing action_252_no_offence.mp4...\n",
      "Using minimap directory: intermediate_results2/action_252_no_offence/minimap\n",
      "Found 126 frames in intermediate_results2/action_252_no_offence/player_detections_with_team_with_minimap.json\n",
      "Analyzed 0 frames with referee positions\n",
      "Processing 126 frames\n",
      "Processed frame 0\n",
      "Processed frame 50\n",
      "Processed frame 100\n",
      "Enhanced minimaps saved to intermediate_results2/action_252_no_offence/minimap with '_augmented' suffix\n",
      "Creating video from 126 frames...\n"
     ]
    },
    {
     "name": "stderr",
     "output_type": "stream",
     "text": [
      "Processing videos:  55%|█████▍    | 219/400 [05:13<04:17,  1.42s/it]"
     ]
    },
    {
     "name": "stdout",
     "output_type": "stream",
     "text": [
      "Video created: intermediate_results2/action_252_no_offence/minimap_augmented.mp4\n",
      "Processing completed successfully!\n",
      "\n",
      "Processing action_253_no_offence.mp4...\n",
      "Using minimap directory: intermediate_results2/action_253_no_offence/minimap\n",
      "Found 126 frames in intermediate_results2/action_253_no_offence/player_detections_with_team_with_minimap.json\n",
      "Analyzed 0 frames with referee positions\n",
      "Processing 126 frames\n",
      "Processed frame 0\n",
      "Processed frame 50\n",
      "Processed frame 100\n",
      "Enhanced minimaps saved to intermediate_results2/action_253_no_offence/minimap with '_augmented' suffix\n",
      "Creating video from 126 frames...\n"
     ]
    },
    {
     "name": "stderr",
     "output_type": "stream",
     "text": [
      "Processing videos:  55%|█████▌    | 220/400 [05:15<04:14,  1.41s/it]"
     ]
    },
    {
     "name": "stdout",
     "output_type": "stream",
     "text": [
      "Video created: intermediate_results2/action_253_no_offence/minimap_augmented.mp4\n",
      "Processing completed successfully!\n",
      "\n",
      "Processing action_2540_offence.mp4...\n",
      "Using minimap directory: intermediate_results2/action_2540_offence/minimap\n",
      "Found 126 frames in intermediate_results2/action_2540_offence/player_detections_with_team_with_minimap.json\n",
      "Analyzed 0 frames with referee positions\n",
      "Processing 126 frames\n",
      "Processed frame 0\n",
      "Processed frame 50\n",
      "Processed frame 100\n",
      "Enhanced minimaps saved to intermediate_results2/action_2540_offence/minimap with '_augmented' suffix\n",
      "Creating video from 126 frames...\n"
     ]
    },
    {
     "name": "stderr",
     "output_type": "stream",
     "text": [
      "Processing videos:  55%|█████▌    | 221/400 [05:16<04:12,  1.41s/it]"
     ]
    },
    {
     "name": "stdout",
     "output_type": "stream",
     "text": [
      "Video created: intermediate_results2/action_2540_offence/minimap_augmented.mp4\n",
      "Processing completed successfully!\n",
      "\n",
      "Processing action_2547_no_offence.mp4...\n",
      "Using minimap directory: intermediate_results2/action_2547_no_offence/minimap\n",
      "Found 126 frames in intermediate_results2/action_2547_no_offence/player_detections_with_team_with_minimap.json\n",
      "Analyzed 0 frames with referee positions\n",
      "Processing 126 frames\n",
      "Processed frame 0\n",
      "Processed frame 50\n",
      "Processed frame 100\n",
      "Enhanced minimaps saved to intermediate_results2/action_2547_no_offence/minimap with '_augmented' suffix\n",
      "Creating video from 126 frames...\n"
     ]
    },
    {
     "name": "stderr",
     "output_type": "stream",
     "text": [
      "Processing videos:  56%|█████▌    | 222/400 [05:18<04:09,  1.40s/it]"
     ]
    },
    {
     "name": "stdout",
     "output_type": "stream",
     "text": [
      "Video created: intermediate_results2/action_2547_no_offence/minimap_augmented.mp4\n",
      "Processing completed successfully!\n",
      "\n",
      "Processing action_254_no_offence.mp4...\n",
      "Using minimap directory: intermediate_results2/action_254_no_offence/minimap\n",
      "Found 126 frames in intermediate_results2/action_254_no_offence/player_detections_with_team_with_minimap.json\n",
      "Analyzed 0 frames with referee positions\n",
      "Processing 126 frames\n",
      "Processed frame 0\n",
      "Processed frame 50\n",
      "Processed frame 100\n",
      "Enhanced minimaps saved to intermediate_results2/action_254_no_offence/minimap with '_augmented' suffix\n",
      "Creating video from 126 frames...\n"
     ]
    },
    {
     "name": "stderr",
     "output_type": "stream",
     "text": [
      "Processing videos:  56%|█████▌    | 223/400 [05:19<04:16,  1.45s/it]"
     ]
    },
    {
     "name": "stdout",
     "output_type": "stream",
     "text": [
      "Video created: intermediate_results2/action_254_no_offence/minimap_augmented.mp4\n",
      "Processing completed successfully!\n",
      "\n",
      "Processing action_2568_offence.mp4...\n",
      "Using minimap directory: intermediate_results2/action_2568_offence/minimap\n",
      "Found 126 frames in intermediate_results2/action_2568_offence/player_detections_with_team_with_minimap.json\n",
      "Analyzed 0 frames with referee positions\n",
      "Processing 126 frames\n",
      "Processed frame 0\n",
      "Processed frame 50\n",
      "Processed frame 100\n",
      "Enhanced minimaps saved to intermediate_results2/action_2568_offence/minimap with '_augmented' suffix\n",
      "Creating video from 126 frames...\n"
     ]
    },
    {
     "name": "stderr",
     "output_type": "stream",
     "text": [
      "Processing videos:  56%|█████▌    | 224/400 [05:20<04:10,  1.43s/it]"
     ]
    },
    {
     "name": "stdout",
     "output_type": "stream",
     "text": [
      "Video created: intermediate_results2/action_2568_offence/minimap_augmented.mp4\n",
      "Processing completed successfully!\n",
      "\n",
      "Processing action_2572_offence.mp4...\n",
      "Using minimap directory: intermediate_results2/action_2572_offence/minimap\n",
      "Found 126 frames in intermediate_results2/action_2572_offence/player_detections_with_team_with_minimap.json\n",
      "Analyzed 0 frames with referee positions\n",
      "Processing 126 frames\n",
      "Processed frame 0\n",
      "Processed frame 50\n",
      "Processed frame 100\n",
      "Enhanced minimaps saved to intermediate_results2/action_2572_offence/minimap with '_augmented' suffix\n",
      "Creating video from 126 frames...\n"
     ]
    },
    {
     "name": "stderr",
     "output_type": "stream",
     "text": [
      "Processing videos:  56%|█████▋    | 225/400 [05:22<04:17,  1.47s/it]"
     ]
    },
    {
     "name": "stdout",
     "output_type": "stream",
     "text": [
      "Video created: intermediate_results2/action_2572_offence/minimap_augmented.mp4\n",
      "Processing completed successfully!\n",
      "\n",
      "Processing action_2579_no_offence.mp4...\n",
      "Using minimap directory: intermediate_results2/action_2579_no_offence/minimap\n",
      "Found 126 frames in intermediate_results2/action_2579_no_offence/player_detections_with_team_with_minimap.json\n",
      "Analyzed 0 frames with referee positions\n",
      "Processing 126 frames\n",
      "Processed frame 0\n",
      "Processed frame 50\n",
      "Processed frame 100\n",
      "Enhanced minimaps saved to intermediate_results2/action_2579_no_offence/minimap with '_augmented' suffix\n",
      "Creating video from 126 frames...\n"
     ]
    },
    {
     "name": "stderr",
     "output_type": "stream",
     "text": [
      "Processing videos:  56%|█████▋    | 226/400 [05:24<04:16,  1.48s/it]"
     ]
    },
    {
     "name": "stdout",
     "output_type": "stream",
     "text": [
      "Video created: intermediate_results2/action_2579_no_offence/minimap_augmented.mp4\n",
      "Processing completed successfully!\n",
      "\n",
      "Processing action_2590_offence.mp4...\n",
      "Using minimap directory: intermediate_results2/action_2590_offence/minimap\n",
      "Found 126 frames in intermediate_results2/action_2590_offence/player_detections_with_team_with_minimap.json\n",
      "Analyzed 0 frames with referee positions\n",
      "Processing 126 frames\n",
      "Processed frame 0\n",
      "Processed frame 50\n",
      "Processed frame 100\n",
      "Enhanced minimaps saved to intermediate_results2/action_2590_offence/minimap with '_augmented' suffix\n",
      "Creating video from 126 frames...\n"
     ]
    },
    {
     "name": "stderr",
     "output_type": "stream",
     "text": [
      "Processing videos:  57%|█████▋    | 227/400 [05:25<04:16,  1.48s/it]"
     ]
    },
    {
     "name": "stdout",
     "output_type": "stream",
     "text": [
      "Video created: intermediate_results2/action_2590_offence/minimap_augmented.mp4\n",
      "Processing completed successfully!\n",
      "\n",
      "Processing action_2595_offence.mp4...\n",
      "Using minimap directory: intermediate_results2/action_2595_offence/minimap\n",
      "Found 126 frames in intermediate_results2/action_2595_offence/player_detections_with_team_with_minimap.json\n",
      "Analyzed 0 frames with referee positions\n",
      "Processing 126 frames\n",
      "Processed frame 0\n",
      "Processed frame 50\n",
      "Processed frame 100\n",
      "Enhanced minimaps saved to intermediate_results2/action_2595_offence/minimap with '_augmented' suffix\n",
      "Creating video from 126 frames...\n"
     ]
    },
    {
     "name": "stderr",
     "output_type": "stream",
     "text": [
      "Processing videos:  57%|█████▋    | 228/400 [05:26<04:12,  1.47s/it]"
     ]
    },
    {
     "name": "stdout",
     "output_type": "stream",
     "text": [
      "Video created: intermediate_results2/action_2595_offence/minimap_augmented.mp4\n",
      "Processing completed successfully!\n",
      "\n",
      "Processing action_2598_offence.mp4...\n",
      "Using minimap directory: intermediate_results2/action_2598_offence/minimap\n",
      "Found 126 frames in intermediate_results2/action_2598_offence/player_detections_with_team_with_minimap.json\n",
      "Analyzed 0 frames with referee positions\n",
      "Processing 126 frames\n",
      "Processed frame 0\n",
      "Processed frame 50\n",
      "Processed frame 100\n",
      "Enhanced minimaps saved to intermediate_results2/action_2598_offence/minimap with '_augmented' suffix\n",
      "Creating video from 126 frames...\n"
     ]
    },
    {
     "name": "stderr",
     "output_type": "stream",
     "text": [
      "Processing videos:  57%|█████▋    | 229/400 [05:28<04:09,  1.46s/it]"
     ]
    },
    {
     "name": "stdout",
     "output_type": "stream",
     "text": [
      "Video created: intermediate_results2/action_2598_offence/minimap_augmented.mp4\n",
      "Processing completed successfully!\n",
      "\n",
      "Processing action_25_no_offence.mp4...\n",
      "Using minimap directory: intermediate_results2/action_25_no_offence/minimap\n",
      "Found 126 frames in intermediate_results2/action_25_no_offence/player_detections_with_team_with_minimap.json\n",
      "Analyzed 0 frames with referee positions\n",
      "Processing 126 frames\n",
      "Processed frame 0\n",
      "Processed frame 50\n",
      "Processed frame 100\n",
      "Enhanced minimaps saved to intermediate_results2/action_25_no_offence/minimap with '_augmented' suffix\n",
      "Creating video from 126 frames...\n"
     ]
    },
    {
     "name": "stderr",
     "output_type": "stream",
     "text": [
      "Processing videos:  57%|█████▊    | 230/400 [05:29<04:08,  1.46s/it]"
     ]
    },
    {
     "name": "stdout",
     "output_type": "stream",
     "text": [
      "Video created: intermediate_results2/action_25_no_offence/minimap_augmented.mp4\n",
      "Processing completed successfully!\n",
      "\n",
      "Processing action_2602_offence.mp4...\n",
      "Using minimap directory: intermediate_results2/action_2602_offence/minimap\n",
      "Found 126 frames in intermediate_results2/action_2602_offence/player_detections_with_team_with_minimap.json\n",
      "Analyzed 0 frames with referee positions\n",
      "Processing 126 frames\n",
      "Processed frame 0\n",
      "Processed frame 50\n",
      "Processed frame 100\n",
      "Enhanced minimaps saved to intermediate_results2/action_2602_offence/minimap with '_augmented' suffix\n",
      "Creating video from 126 frames...\n"
     ]
    },
    {
     "name": "stderr",
     "output_type": "stream",
     "text": [
      "Processing videos:  58%|█████▊    | 231/400 [05:31<04:05,  1.45s/it]"
     ]
    },
    {
     "name": "stdout",
     "output_type": "stream",
     "text": [
      "Video created: intermediate_results2/action_2602_offence/minimap_augmented.mp4\n",
      "Processing completed successfully!\n",
      "\n",
      "Processing action_2608_no_offence.mp4...\n",
      "Using minimap directory: intermediate_results2/action_2608_no_offence/minimap\n",
      "Found 126 frames in intermediate_results2/action_2608_no_offence/player_detections_with_team_with_minimap.json\n",
      "Analyzed 0 frames with referee positions\n",
      "Processing 126 frames\n",
      "Processed frame 0\n",
      "Processed frame 50\n",
      "Processed frame 100\n",
      "Enhanced minimaps saved to intermediate_results2/action_2608_no_offence/minimap with '_augmented' suffix\n",
      "Creating video from 126 frames...\n"
     ]
    },
    {
     "name": "stderr",
     "output_type": "stream",
     "text": [
      "Processing videos:  58%|█████▊    | 232/400 [05:32<04:01,  1.44s/it]"
     ]
    },
    {
     "name": "stdout",
     "output_type": "stream",
     "text": [
      "Video created: intermediate_results2/action_2608_no_offence/minimap_augmented.mp4\n",
      "Processing completed successfully!\n",
      "\n",
      "Processing action_2616_no_offence.mp4...\n",
      "Using minimap directory: intermediate_results2/action_2616_no_offence/minimap\n",
      "Found 126 frames in intermediate_results2/action_2616_no_offence/player_detections_with_team_with_minimap.json\n",
      "Analyzed 0 frames with referee positions\n",
      "Processing 126 frames\n",
      "Processed frame 0\n",
      "Processed frame 50\n",
      "Processed frame 100\n",
      "Enhanced minimaps saved to intermediate_results2/action_2616_no_offence/minimap with '_augmented' suffix\n",
      "Creating video from 126 frames...\n"
     ]
    },
    {
     "name": "stderr",
     "output_type": "stream",
     "text": [
      "Processing videos:  58%|█████▊    | 233/400 [05:34<03:57,  1.42s/it]"
     ]
    },
    {
     "name": "stdout",
     "output_type": "stream",
     "text": [
      "Video created: intermediate_results2/action_2616_no_offence/minimap_augmented.mp4\n",
      "Processing completed successfully!\n",
      "\n",
      "Processing action_2618_offence.mp4...\n",
      "Using minimap directory: intermediate_results2/action_2618_offence/minimap\n",
      "Found 126 frames in intermediate_results2/action_2618_offence/player_detections_with_team_with_minimap.json\n",
      "Analyzed 0 frames with referee positions\n",
      "Processing 126 frames\n",
      "Processed frame 0\n",
      "Processed frame 50\n",
      "Processed frame 100\n",
      "Enhanced minimaps saved to intermediate_results2/action_2618_offence/minimap with '_augmented' suffix\n",
      "Creating video from 126 frames...\n"
     ]
    },
    {
     "name": "stderr",
     "output_type": "stream",
     "text": [
      "Processing videos:  58%|█████▊    | 234/400 [05:35<03:56,  1.42s/it]"
     ]
    },
    {
     "name": "stdout",
     "output_type": "stream",
     "text": [
      "Video created: intermediate_results2/action_2618_offence/minimap_augmented.mp4\n",
      "Processing completed successfully!\n",
      "\n",
      "Processing action_2622_no_offence.mp4...\n",
      "Using minimap directory: intermediate_results2/action_2622_no_offence/minimap\n",
      "Found 126 frames in intermediate_results2/action_2622_no_offence/player_detections_with_team_with_minimap.json\n",
      "Analyzed 0 frames with referee positions\n",
      "Processing 126 frames\n",
      "Processed frame 0\n",
      "Processed frame 50\n",
      "Processed frame 100\n",
      "Enhanced minimaps saved to intermediate_results2/action_2622_no_offence/minimap with '_augmented' suffix\n",
      "Creating video from 126 frames...\n"
     ]
    },
    {
     "name": "stderr",
     "output_type": "stream",
     "text": [
      "Processing videos:  59%|█████▉    | 235/400 [05:37<04:03,  1.48s/it]"
     ]
    },
    {
     "name": "stdout",
     "output_type": "stream",
     "text": [
      "Video created: intermediate_results2/action_2622_no_offence/minimap_augmented.mp4\n",
      "Processing completed successfully!\n",
      "\n",
      "Processing action_2623_offence.mp4...\n",
      "Using minimap directory: intermediate_results2/action_2623_offence/minimap\n",
      "Found 126 frames in intermediate_results2/action_2623_offence/player_detections_with_team_with_minimap.json\n",
      "Analyzed 0 frames with referee positions\n",
      "Processing 126 frames\n",
      "Processed frame 0\n",
      "Processed frame 50\n",
      "Processed frame 100\n",
      "Enhanced minimaps saved to intermediate_results2/action_2623_offence/minimap with '_augmented' suffix\n",
      "Creating video from 126 frames...\n"
     ]
    },
    {
     "name": "stderr",
     "output_type": "stream",
     "text": [
      "Processing videos:  59%|█████▉    | 236/400 [05:38<04:01,  1.47s/it]"
     ]
    },
    {
     "name": "stdout",
     "output_type": "stream",
     "text": [
      "Video created: intermediate_results2/action_2623_offence/minimap_augmented.mp4\n",
      "Processing completed successfully!\n",
      "\n",
      "Processing action_2629_no_offence.mp4...\n",
      "Using minimap directory: intermediate_results2/action_2629_no_offence/minimap\n",
      "Found 126 frames in intermediate_results2/action_2629_no_offence/player_detections_with_team_with_minimap.json\n",
      "Analyzed 0 frames with referee positions\n",
      "Processing 126 frames\n",
      "Processed frame 0\n",
      "Processed frame 50\n",
      "Processed frame 100\n",
      "Enhanced minimaps saved to intermediate_results2/action_2629_no_offence/minimap with '_augmented' suffix\n",
      "Creating video from 126 frames...\n"
     ]
    },
    {
     "name": "stderr",
     "output_type": "stream",
     "text": [
      "Processing videos:  59%|█████▉    | 237/400 [05:39<03:57,  1.46s/it]"
     ]
    },
    {
     "name": "stdout",
     "output_type": "stream",
     "text": [
      "Video created: intermediate_results2/action_2629_no_offence/minimap_augmented.mp4\n",
      "Processing completed successfully!\n",
      "\n",
      "Processing action_2631_no_offence.mp4...\n",
      "Using minimap directory: intermediate_results2/action_2631_no_offence/minimap\n",
      "Found 126 frames in intermediate_results2/action_2631_no_offence/player_detections_with_team_with_minimap.json\n",
      "Analyzed 0 frames with referee positions\n",
      "Processing 126 frames\n",
      "Processed frame 0\n",
      "Processed frame 50\n",
      "Processed frame 100\n",
      "Enhanced minimaps saved to intermediate_results2/action_2631_no_offence/minimap with '_augmented' suffix\n",
      "Creating video from 126 frames...\n"
     ]
    },
    {
     "name": "stderr",
     "output_type": "stream",
     "text": [
      "Processing videos:  60%|█████▉    | 238/400 [05:41<03:51,  1.43s/it]"
     ]
    },
    {
     "name": "stdout",
     "output_type": "stream",
     "text": [
      "Video created: intermediate_results2/action_2631_no_offence/minimap_augmented.mp4\n",
      "Processing completed successfully!\n",
      "\n",
      "Processing action_2636_offence.mp4...\n",
      "Using minimap directory: intermediate_results2/action_2636_offence/minimap\n",
      "Found 126 frames in intermediate_results2/action_2636_offence/player_detections_with_team_with_minimap.json\n",
      "Analyzed 0 frames with referee positions\n",
      "Processing 126 frames\n",
      "Processed frame 0\n",
      "Processed frame 50\n",
      "Processed frame 100\n",
      "Enhanced minimaps saved to intermediate_results2/action_2636_offence/minimap with '_augmented' suffix\n",
      "Creating video from 126 frames...\n"
     ]
    },
    {
     "name": "stderr",
     "output_type": "stream",
     "text": [
      "Processing videos:  60%|█████▉    | 239/400 [05:42<03:47,  1.42s/it]"
     ]
    },
    {
     "name": "stdout",
     "output_type": "stream",
     "text": [
      "Video created: intermediate_results2/action_2636_offence/minimap_augmented.mp4\n",
      "Processing completed successfully!\n",
      "\n",
      "Processing action_2642_offence.mp4...\n",
      "Using minimap directory: intermediate_results2/action_2642_offence/minimap\n",
      "Found 126 frames in intermediate_results2/action_2642_offence/player_detections_with_team_with_minimap.json\n",
      "Analyzed 0 frames with referee positions\n",
      "Processing 126 frames\n",
      "Processed frame 0\n",
      "Processed frame 50\n",
      "Processed frame 100\n",
      "Enhanced minimaps saved to intermediate_results2/action_2642_offence/minimap with '_augmented' suffix\n",
      "Creating video from 126 frames...\n"
     ]
    },
    {
     "name": "stderr",
     "output_type": "stream",
     "text": [
      "Processing videos:  60%|██████    | 240/400 [05:44<03:44,  1.41s/it]"
     ]
    },
    {
     "name": "stdout",
     "output_type": "stream",
     "text": [
      "Video created: intermediate_results2/action_2642_offence/minimap_augmented.mp4\n",
      "Processing completed successfully!\n",
      "\n",
      "Processing action_2643_offence.mp4...\n",
      "Using minimap directory: intermediate_results2/action_2643_offence/minimap\n",
      "Found 126 frames in intermediate_results2/action_2643_offence/player_detections_with_team_with_minimap.json\n",
      "Analyzed 0 frames with referee positions\n",
      "Processing 126 frames\n",
      "Processed frame 0\n",
      "Processed frame 50\n",
      "Processed frame 100\n",
      "Enhanced minimaps saved to intermediate_results2/action_2643_offence/minimap with '_augmented' suffix\n",
      "Creating video from 126 frames...\n"
     ]
    },
    {
     "name": "stderr",
     "output_type": "stream",
     "text": [
      "Processing videos:  60%|██████    | 241/400 [05:45<03:42,  1.40s/it]"
     ]
    },
    {
     "name": "stdout",
     "output_type": "stream",
     "text": [
      "Video created: intermediate_results2/action_2643_offence/minimap_augmented.mp4\n",
      "Processing completed successfully!\n",
      "\n",
      "Processing action_2651_offence.mp4...\n",
      "Using minimap directory: intermediate_results2/action_2651_offence/minimap\n",
      "Found 126 frames in intermediate_results2/action_2651_offence/player_detections_with_team_with_minimap.json\n",
      "Analyzed 0 frames with referee positions\n",
      "Processing 126 frames\n",
      "Processed frame 0\n",
      "Processed frame 50\n",
      "Processed frame 100\n",
      "Enhanced minimaps saved to intermediate_results2/action_2651_offence/minimap with '_augmented' suffix\n",
      "Creating video from 126 frames...\n"
     ]
    },
    {
     "name": "stderr",
     "output_type": "stream",
     "text": [
      "Processing videos:  60%|██████    | 242/400 [05:46<03:37,  1.37s/it]"
     ]
    },
    {
     "name": "stdout",
     "output_type": "stream",
     "text": [
      "Video created: intermediate_results2/action_2651_offence/minimap_augmented.mp4\n",
      "Processing completed successfully!\n",
      "\n",
      "Processing action_2656_no_offence.mp4...\n",
      "Using minimap directory: intermediate_results2/action_2656_no_offence/minimap\n",
      "Found 126 frames in intermediate_results2/action_2656_no_offence/player_detections_with_team_with_minimap.json\n",
      "Analyzed 0 frames with referee positions\n",
      "Processing 126 frames\n",
      "Processed frame 0\n",
      "Processed frame 50\n",
      "Processed frame 100\n",
      "Enhanced minimaps saved to intermediate_results2/action_2656_no_offence/minimap with '_augmented' suffix\n",
      "Creating video from 126 frames...\n"
     ]
    },
    {
     "name": "stderr",
     "output_type": "stream",
     "text": [
      "Processing videos:  61%|██████    | 243/400 [05:48<03:33,  1.36s/it]"
     ]
    },
    {
     "name": "stdout",
     "output_type": "stream",
     "text": [
      "Video created: intermediate_results2/action_2656_no_offence/minimap_augmented.mp4\n",
      "Processing completed successfully!\n",
      "\n",
      "Processing action_2658_offence.mp4...\n",
      "Using minimap directory: intermediate_results2/action_2658_offence/minimap\n",
      "Found 126 frames in intermediate_results2/action_2658_offence/player_detections_with_team_with_minimap.json\n",
      "Analyzed 0 frames with referee positions\n",
      "Processing 126 frames\n",
      "Processed frame 0\n",
      "Processed frame 50\n",
      "Processed frame 100\n",
      "Enhanced minimaps saved to intermediate_results2/action_2658_offence/minimap with '_augmented' suffix\n",
      "Creating video from 126 frames...\n"
     ]
    },
    {
     "name": "stderr",
     "output_type": "stream",
     "text": [
      "Processing videos:  61%|██████    | 244/400 [05:49<03:31,  1.36s/it]"
     ]
    },
    {
     "name": "stdout",
     "output_type": "stream",
     "text": [
      "Video created: intermediate_results2/action_2658_offence/minimap_augmented.mp4\n",
      "Processing completed successfully!\n",
      "\n",
      "Processing action_2659_no_offence.mp4...\n",
      "Using minimap directory: intermediate_results2/action_2659_no_offence/minimap\n",
      "Found 126 frames in intermediate_results2/action_2659_no_offence/player_detections_with_team_with_minimap.json\n",
      "Analyzed 0 frames with referee positions\n",
      "Processing 126 frames\n",
      "Processed frame 0\n",
      "Processed frame 50\n",
      "Processed frame 100\n",
      "Enhanced minimaps saved to intermediate_results2/action_2659_no_offence/minimap with '_augmented' suffix\n",
      "Creating video from 126 frames...\n"
     ]
    },
    {
     "name": "stderr",
     "output_type": "stream",
     "text": [
      "Processing videos:  61%|██████▏   | 245/400 [05:50<03:32,  1.37s/it]"
     ]
    },
    {
     "name": "stdout",
     "output_type": "stream",
     "text": [
      "Video created: intermediate_results2/action_2659_no_offence/minimap_augmented.mp4\n",
      "Processing completed successfully!\n",
      "\n",
      "Processing action_265_offence.mp4...\n",
      "Using minimap directory: intermediate_results2/action_265_offence/minimap\n",
      "Found 126 frames in intermediate_results2/action_265_offence/player_detections_with_team_with_minimap.json\n",
      "Analyzed 0 frames with referee positions\n",
      "Processing 126 frames\n",
      "Processed frame 0\n",
      "Processed frame 50\n",
      "Processed frame 100\n",
      "Enhanced minimaps saved to intermediate_results2/action_265_offence/minimap with '_augmented' suffix\n",
      "Creating video from 126 frames...\n"
     ]
    },
    {
     "name": "stderr",
     "output_type": "stream",
     "text": [
      "Processing videos:  62%|██████▏   | 246/400 [05:52<03:38,  1.42s/it]"
     ]
    },
    {
     "name": "stdout",
     "output_type": "stream",
     "text": [
      "Video created: intermediate_results2/action_265_offence/minimap_augmented.mp4\n",
      "Processing completed successfully!\n",
      "\n",
      "Processing action_2677_no_offence.mp4...\n",
      "Using minimap directory: intermediate_results2/action_2677_no_offence/minimap\n",
      "Found 126 frames in intermediate_results2/action_2677_no_offence/player_detections_with_team_with_minimap.json\n",
      "Analyzed 0 frames with referee positions\n",
      "Processing 126 frames\n",
      "Processed frame 0\n",
      "Processed frame 50\n",
      "Processed frame 100\n",
      "Enhanced minimaps saved to intermediate_results2/action_2677_no_offence/minimap with '_augmented' suffix\n",
      "Creating video from 126 frames...\n"
     ]
    },
    {
     "name": "stderr",
     "output_type": "stream",
     "text": [
      "Processing videos:  62%|██████▏   | 247/400 [05:53<03:37,  1.42s/it]"
     ]
    },
    {
     "name": "stdout",
     "output_type": "stream",
     "text": [
      "Video created: intermediate_results2/action_2677_no_offence/minimap_augmented.mp4\n",
      "Processing completed successfully!\n",
      "\n",
      "Processing action_2683_no_offence.mp4...\n",
      "Using minimap directory: intermediate_results2/action_2683_no_offence/minimap\n",
      "Found 126 frames in intermediate_results2/action_2683_no_offence/player_detections_with_team_with_minimap.json\n",
      "Analyzed 0 frames with referee positions\n",
      "Processing 126 frames\n",
      "Processed frame 0\n",
      "Processed frame 50\n",
      "Processed frame 100\n",
      "Enhanced minimaps saved to intermediate_results2/action_2683_no_offence/minimap with '_augmented' suffix\n",
      "Creating video from 126 frames...\n"
     ]
    },
    {
     "name": "stderr",
     "output_type": "stream",
     "text": [
      "Processing videos:  62%|██████▏   | 248/400 [05:55<03:37,  1.43s/it]"
     ]
    },
    {
     "name": "stdout",
     "output_type": "stream",
     "text": [
      "Video created: intermediate_results2/action_2683_no_offence/minimap_augmented.mp4\n",
      "Processing completed successfully!\n",
      "\n",
      "Processing action_2697_no_offence.mp4...\n",
      "Using minimap directory: intermediate_results2/action_2697_no_offence/minimap\n",
      "Found 126 frames in intermediate_results2/action_2697_no_offence/player_detections_with_team_with_minimap.json\n",
      "Analyzed 0 frames with referee positions\n",
      "Processing 126 frames\n",
      "Processed frame 0\n",
      "Processed frame 50\n",
      "Processed frame 100\n",
      "Enhanced minimaps saved to intermediate_results2/action_2697_no_offence/minimap with '_augmented' suffix\n",
      "Creating video from 126 frames...\n"
     ]
    },
    {
     "name": "stderr",
     "output_type": "stream",
     "text": [
      "Processing videos:  62%|██████▏   | 249/400 [05:56<03:34,  1.42s/it]"
     ]
    },
    {
     "name": "stdout",
     "output_type": "stream",
     "text": [
      "Video created: intermediate_results2/action_2697_no_offence/minimap_augmented.mp4\n",
      "Processing completed successfully!\n",
      "\n",
      "Processing action_2703_offence.mp4...\n",
      "Using minimap directory: intermediate_results2/action_2703_offence/minimap\n",
      "Found 126 frames in intermediate_results2/action_2703_offence/player_detections_with_team_with_minimap.json\n",
      "Analyzed 0 frames with referee positions\n",
      "Processing 126 frames\n",
      "Processed frame 0\n",
      "Processed frame 50\n",
      "Processed frame 100\n",
      "Enhanced minimaps saved to intermediate_results2/action_2703_offence/minimap with '_augmented' suffix\n",
      "Creating video from 126 frames...\n"
     ]
    },
    {
     "name": "stderr",
     "output_type": "stream",
     "text": [
      "Processing videos:  62%|██████▎   | 250/400 [05:58<03:32,  1.41s/it]"
     ]
    },
    {
     "name": "stdout",
     "output_type": "stream",
     "text": [
      "Video created: intermediate_results2/action_2703_offence/minimap_augmented.mp4\n",
      "Processing completed successfully!\n",
      "\n",
      "Processing action_2705_offence.mp4...\n",
      "Using minimap directory: intermediate_results2/action_2705_offence/minimap\n",
      "Found 126 frames in intermediate_results2/action_2705_offence/player_detections_with_team_with_minimap.json\n",
      "Analyzed 0 frames with referee positions\n",
      "Processing 126 frames\n",
      "Processed frame 0\n",
      "Processed frame 50\n",
      "Processed frame 100\n",
      "Enhanced minimaps saved to intermediate_results2/action_2705_offence/minimap with '_augmented' suffix\n",
      "Creating video from 126 frames...\n"
     ]
    },
    {
     "name": "stderr",
     "output_type": "stream",
     "text": [
      "Processing videos:  63%|██████▎   | 251/400 [05:59<03:32,  1.43s/it]"
     ]
    },
    {
     "name": "stdout",
     "output_type": "stream",
     "text": [
      "Video created: intermediate_results2/action_2705_offence/minimap_augmented.mp4\n",
      "Processing completed successfully!\n",
      "\n",
      "Processing action_2706_offence.mp4...\n",
      "Using minimap directory: intermediate_results2/action_2706_offence/minimap\n",
      "Found 126 frames in intermediate_results2/action_2706_offence/player_detections_with_team_with_minimap.json\n",
      "Analyzed 0 frames with referee positions\n",
      "Processing 126 frames\n",
      "Processed frame 0\n",
      "Processed frame 50\n",
      "Processed frame 100\n",
      "Enhanced minimaps saved to intermediate_results2/action_2706_offence/minimap with '_augmented' suffix\n",
      "Creating video from 126 frames...\n"
     ]
    },
    {
     "name": "stderr",
     "output_type": "stream",
     "text": [
      "Processing videos:  63%|██████▎   | 252/400 [06:00<03:31,  1.43s/it]"
     ]
    },
    {
     "name": "stdout",
     "output_type": "stream",
     "text": [
      "Video created: intermediate_results2/action_2706_offence/minimap_augmented.mp4\n",
      "Processing completed successfully!\n",
      "\n",
      "Processing action_2710_no_offence.mp4...\n",
      "Using minimap directory: intermediate_results2/action_2710_no_offence/minimap\n",
      "Found 126 frames in intermediate_results2/action_2710_no_offence/player_detections_with_team_with_minimap.json\n",
      "Analyzed 0 frames with referee positions\n",
      "Processing 126 frames\n",
      "Processed frame 0\n",
      "Processed frame 50\n",
      "Processed frame 100\n",
      "Enhanced minimaps saved to intermediate_results2/action_2710_no_offence/minimap with '_augmented' suffix\n",
      "Creating video from 126 frames...\n"
     ]
    },
    {
     "name": "stderr",
     "output_type": "stream",
     "text": [
      "Processing videos:  63%|██████▎   | 253/400 [06:02<03:33,  1.45s/it]"
     ]
    },
    {
     "name": "stdout",
     "output_type": "stream",
     "text": [
      "Video created: intermediate_results2/action_2710_no_offence/minimap_augmented.mp4\n",
      "Processing completed successfully!\n",
      "\n",
      "Processing action_2716_offence.mp4...\n",
      "Using minimap directory: intermediate_results2/action_2716_offence/minimap\n",
      "Found 126 frames in intermediate_results2/action_2716_offence/player_detections_with_team_with_minimap.json\n",
      "Analyzed 0 frames with referee positions\n",
      "Processing 126 frames\n",
      "Processed frame 0\n",
      "Processed frame 50\n",
      "Processed frame 100\n",
      "Enhanced minimaps saved to intermediate_results2/action_2716_offence/minimap with '_augmented' suffix\n",
      "Creating video from 126 frames...\n"
     ]
    },
    {
     "name": "stderr",
     "output_type": "stream",
     "text": [
      "Processing videos:  64%|██████▎   | 254/400 [06:03<03:32,  1.45s/it]"
     ]
    },
    {
     "name": "stdout",
     "output_type": "stream",
     "text": [
      "Video created: intermediate_results2/action_2716_offence/minimap_augmented.mp4\n",
      "Processing completed successfully!\n",
      "\n",
      "Processing action_2718_offence.mp4...\n",
      "Using minimap directory: intermediate_results2/action_2718_offence/minimap\n",
      "Found 126 frames in intermediate_results2/action_2718_offence/player_detections_with_team_with_minimap.json\n",
      "Analyzed 0 frames with referee positions\n",
      "Processing 126 frames\n",
      "Processed frame 0\n",
      "Processed frame 50\n",
      "Processed frame 100\n",
      "Enhanced minimaps saved to intermediate_results2/action_2718_offence/minimap with '_augmented' suffix\n",
      "Creating video from 126 frames...\n"
     ]
    },
    {
     "name": "stderr",
     "output_type": "stream",
     "text": [
      "Processing videos:  64%|██████▍   | 255/400 [06:05<03:29,  1.45s/it]"
     ]
    },
    {
     "name": "stdout",
     "output_type": "stream",
     "text": [
      "Video created: intermediate_results2/action_2718_offence/minimap_augmented.mp4\n",
      "Processing completed successfully!\n",
      "\n",
      "Processing action_2723_no_offence.mp4...\n",
      "Using minimap directory: intermediate_results2/action_2723_no_offence/minimap\n",
      "Found 126 frames in intermediate_results2/action_2723_no_offence/player_detections_with_team_with_minimap.json\n",
      "Analyzed 0 frames with referee positions\n",
      "Processing 126 frames\n",
      "Processed frame 0\n",
      "Processed frame 50\n",
      "Processed frame 100\n",
      "Enhanced minimaps saved to intermediate_results2/action_2723_no_offence/minimap with '_augmented' suffix\n",
      "Creating video from 126 frames...\n"
     ]
    },
    {
     "name": "stderr",
     "output_type": "stream",
     "text": [
      "Processing videos:  64%|██████▍   | 256/400 [06:06<03:28,  1.45s/it]"
     ]
    },
    {
     "name": "stdout",
     "output_type": "stream",
     "text": [
      "Video created: intermediate_results2/action_2723_no_offence/minimap_augmented.mp4\n",
      "Processing completed successfully!\n",
      "\n",
      "Processing action_2724_offence.mp4...\n",
      "Using minimap directory: intermediate_results2/action_2724_offence/minimap\n",
      "Found 126 frames in intermediate_results2/action_2724_offence/player_detections_with_team_with_minimap.json\n",
      "Analyzed 0 frames with referee positions\n",
      "Processing 126 frames\n",
      "Processed frame 0\n",
      "Processed frame 50\n",
      "Processed frame 100\n",
      "Enhanced minimaps saved to intermediate_results2/action_2724_offence/minimap with '_augmented' suffix\n",
      "Creating video from 126 frames...\n"
     ]
    },
    {
     "name": "stderr",
     "output_type": "stream",
     "text": [
      "Processing videos:  64%|██████▍   | 257/400 [06:08<03:25,  1.43s/it]"
     ]
    },
    {
     "name": "stdout",
     "output_type": "stream",
     "text": [
      "Video created: intermediate_results2/action_2724_offence/minimap_augmented.mp4\n",
      "Processing completed successfully!\n",
      "\n",
      "Processing action_2725_no_offence.mp4...\n",
      "Using minimap directory: intermediate_results2/action_2725_no_offence/minimap\n",
      "Found 126 frames in intermediate_results2/action_2725_no_offence/player_detections_with_team_with_minimap.json\n",
      "Analyzed 0 frames with referee positions\n",
      "Processing 126 frames\n",
      "Processed frame 0\n",
      "Processed frame 50\n",
      "Processed frame 100\n",
      "Enhanced minimaps saved to intermediate_results2/action_2725_no_offence/minimap with '_augmented' suffix\n",
      "Creating video from 126 frames...\n"
     ]
    },
    {
     "name": "stderr",
     "output_type": "stream",
     "text": [
      "Processing videos:  64%|██████▍   | 258/400 [06:09<03:23,  1.44s/it]"
     ]
    },
    {
     "name": "stdout",
     "output_type": "stream",
     "text": [
      "Video created: intermediate_results2/action_2725_no_offence/minimap_augmented.mp4\n",
      "Processing completed successfully!\n",
      "\n",
      "Processing action_2727_no_offence.mp4...\n",
      "Using minimap directory: intermediate_results2/action_2727_no_offence/minimap\n",
      "Found 126 frames in intermediate_results2/action_2727_no_offence/player_detections_with_team_with_minimap.json\n",
      "Analyzed 0 frames with referee positions\n",
      "Processing 126 frames\n",
      "Processed frame 0\n",
      "Processed frame 50\n",
      "Processed frame 100\n",
      "Enhanced minimaps saved to intermediate_results2/action_2727_no_offence/minimap with '_augmented' suffix\n",
      "Creating video from 126 frames...\n"
     ]
    },
    {
     "name": "stderr",
     "output_type": "stream",
     "text": [
      "Processing videos:  65%|██████▍   | 259/400 [06:11<03:21,  1.43s/it]"
     ]
    },
    {
     "name": "stdout",
     "output_type": "stream",
     "text": [
      "Video created: intermediate_results2/action_2727_no_offence/minimap_augmented.mp4\n",
      "Processing completed successfully!\n",
      "\n",
      "Processing action_272_offence.mp4...\n",
      "Using minimap directory: intermediate_results2/action_272_offence/minimap\n",
      "Found 126 frames in intermediate_results2/action_272_offence/player_detections_with_team_with_minimap.json\n",
      "Analyzed 0 frames with referee positions\n",
      "Processing 126 frames\n",
      "Processed frame 0\n",
      "Processed frame 50\n",
      "Processed frame 100\n",
      "Enhanced minimaps saved to intermediate_results2/action_272_offence/minimap with '_augmented' suffix\n",
      "Creating video from 126 frames...\n"
     ]
    },
    {
     "name": "stderr",
     "output_type": "stream",
     "text": [
      "Processing videos:  65%|██████▌   | 260/400 [06:12<03:20,  1.43s/it]"
     ]
    },
    {
     "name": "stdout",
     "output_type": "stream",
     "text": [
      "Video created: intermediate_results2/action_272_offence/minimap_augmented.mp4\n",
      "Processing completed successfully!\n",
      "\n",
      "Processing action_2730_no_offence.mp4...\n",
      "Using minimap directory: intermediate_results2/action_2730_no_offence/minimap\n",
      "Found 126 frames in intermediate_results2/action_2730_no_offence/player_detections_with_team_with_minimap.json\n",
      "Analyzed 0 frames with referee positions\n",
      "Processing 126 frames\n",
      "Processed frame 0\n",
      "Processed frame 50\n",
      "Processed frame 100\n",
      "Enhanced minimaps saved to intermediate_results2/action_2730_no_offence/minimap with '_augmented' suffix\n",
      "Creating video from 126 frames...\n"
     ]
    },
    {
     "name": "stderr",
     "output_type": "stream",
     "text": [
      "Processing videos:  65%|██████▌   | 261/400 [06:13<03:19,  1.43s/it]"
     ]
    },
    {
     "name": "stdout",
     "output_type": "stream",
     "text": [
      "Video created: intermediate_results2/action_2730_no_offence/minimap_augmented.mp4\n",
      "Processing completed successfully!\n",
      "\n",
      "Processing action_2739_no_offence.mp4...\n",
      "Using minimap directory: intermediate_results2/action_2739_no_offence/minimap\n",
      "Found 126 frames in intermediate_results2/action_2739_no_offence/player_detections_with_team_with_minimap.json\n",
      "Analyzed 0 frames with referee positions\n",
      "Processing 126 frames\n",
      "Processed frame 0\n",
      "Processed frame 50\n",
      "Processed frame 100\n",
      "Enhanced minimaps saved to intermediate_results2/action_2739_no_offence/minimap with '_augmented' suffix\n",
      "Creating video from 126 frames...\n"
     ]
    },
    {
     "name": "stderr",
     "output_type": "stream",
     "text": [
      "Processing videos:  66%|██████▌   | 262/400 [06:15<03:25,  1.49s/it]"
     ]
    },
    {
     "name": "stdout",
     "output_type": "stream",
     "text": [
      "Video created: intermediate_results2/action_2739_no_offence/minimap_augmented.mp4\n",
      "Processing completed successfully!\n",
      "\n",
      "Processing action_2748_no_offence.mp4...\n",
      "Using minimap directory: intermediate_results2/action_2748_no_offence/minimap\n",
      "Found 126 frames in intermediate_results2/action_2748_no_offence/player_detections_with_team_with_minimap.json\n",
      "Analyzed 0 frames with referee positions\n",
      "Processing 126 frames\n",
      "Processed frame 0\n",
      "Processed frame 50\n",
      "Processed frame 100\n",
      "Enhanced minimaps saved to intermediate_results2/action_2748_no_offence/minimap with '_augmented' suffix\n",
      "Creating video from 126 frames...\n"
     ]
    },
    {
     "name": "stderr",
     "output_type": "stream",
     "text": [
      "Processing videos:  66%|██████▌   | 263/400 [06:16<03:20,  1.46s/it]"
     ]
    },
    {
     "name": "stdout",
     "output_type": "stream",
     "text": [
      "Video created: intermediate_results2/action_2748_no_offence/minimap_augmented.mp4\n",
      "Processing completed successfully!\n",
      "\n",
      "Processing action_2749_offence.mp4...\n",
      "Using minimap directory: intermediate_results2/action_2749_offence/minimap\n",
      "Found 126 frames in intermediate_results2/action_2749_offence/player_detections_with_team_with_minimap.json\n",
      "Analyzed 0 frames with referee positions\n",
      "Processing 126 frames\n",
      "Processed frame 0\n",
      "Processed frame 50\n",
      "Processed frame 100\n",
      "Enhanced minimaps saved to intermediate_results2/action_2749_offence/minimap with '_augmented' suffix\n",
      "Creating video from 126 frames...\n"
     ]
    },
    {
     "name": "stderr",
     "output_type": "stream",
     "text": [
      "Processing videos:  66%|██████▌   | 264/400 [06:18<03:16,  1.44s/it]"
     ]
    },
    {
     "name": "stdout",
     "output_type": "stream",
     "text": [
      "Video created: intermediate_results2/action_2749_offence/minimap_augmented.mp4\n",
      "Processing completed successfully!\n",
      "\n",
      "Processing action_2752_no_offence.mp4...\n",
      "Using minimap directory: intermediate_results2/action_2752_no_offence/minimap\n",
      "Found 126 frames in intermediate_results2/action_2752_no_offence/player_detections_with_team_with_minimap.json\n",
      "Analyzed 0 frames with referee positions\n",
      "Processing 126 frames\n",
      "Processed frame 0\n",
      "Processed frame 50\n",
      "Processed frame 100\n",
      "Enhanced minimaps saved to intermediate_results2/action_2752_no_offence/minimap with '_augmented' suffix\n",
      "Creating video from 126 frames...\n"
     ]
    },
    {
     "name": "stderr",
     "output_type": "stream",
     "text": [
      "Processing videos:  66%|██████▋   | 265/400 [06:19<03:14,  1.44s/it]"
     ]
    },
    {
     "name": "stdout",
     "output_type": "stream",
     "text": [
      "Video created: intermediate_results2/action_2752_no_offence/minimap_augmented.mp4\n",
      "Processing completed successfully!\n",
      "\n",
      "Processing action_2758_offence.mp4...\n",
      "Using minimap directory: intermediate_results2/action_2758_offence/minimap\n",
      "Found 126 frames in intermediate_results2/action_2758_offence/player_detections_with_team_with_minimap.json\n",
      "Analyzed 0 frames with referee positions\n",
      "Processing 126 frames\n",
      "Processed frame 0\n",
      "Processed frame 50\n",
      "Processed frame 100\n",
      "Enhanced minimaps saved to intermediate_results2/action_2758_offence/minimap with '_augmented' suffix\n",
      "Creating video from 126 frames...\n"
     ]
    },
    {
     "name": "stderr",
     "output_type": "stream",
     "text": [
      "Processing videos:  66%|██████▋   | 266/400 [06:21<03:11,  1.43s/it]"
     ]
    },
    {
     "name": "stdout",
     "output_type": "stream",
     "text": [
      "Video created: intermediate_results2/action_2758_offence/minimap_augmented.mp4\n",
      "Processing completed successfully!\n",
      "\n",
      "Processing action_2760_no_offence.mp4...\n",
      "Using minimap directory: intermediate_results2/action_2760_no_offence/minimap\n",
      "Found 126 frames in intermediate_results2/action_2760_no_offence/player_detections_with_team_with_minimap.json\n",
      "Analyzed 0 frames with referee positions\n",
      "Processing 126 frames\n",
      "Processed frame 0\n",
      "Processed frame 50\n",
      "Processed frame 100\n",
      "Enhanced minimaps saved to intermediate_results2/action_2760_no_offence/minimap with '_augmented' suffix\n",
      "Creating video from 126 frames...\n"
     ]
    },
    {
     "name": "stderr",
     "output_type": "stream",
     "text": [
      "Processing videos:  67%|██████▋   | 267/400 [06:22<03:12,  1.45s/it]"
     ]
    },
    {
     "name": "stdout",
     "output_type": "stream",
     "text": [
      "Video created: intermediate_results2/action_2760_no_offence/minimap_augmented.mp4\n",
      "Processing completed successfully!\n",
      "\n",
      "Processing action_2763_no_offence.mp4...\n",
      "Using minimap directory: intermediate_results2/action_2763_no_offence/minimap\n",
      "Found 126 frames in intermediate_results2/action_2763_no_offence/player_detections_with_team_with_minimap.json\n",
      "Analyzed 0 frames with referee positions\n",
      "Processing 126 frames\n",
      "Processed frame 0\n",
      "Processed frame 50\n",
      "Processed frame 100\n",
      "Enhanced minimaps saved to intermediate_results2/action_2763_no_offence/minimap with '_augmented' suffix\n",
      "Creating video from 126 frames...\n"
     ]
    },
    {
     "name": "stderr",
     "output_type": "stream",
     "text": [
      "Processing videos:  67%|██████▋   | 268/400 [06:24<03:09,  1.44s/it]"
     ]
    },
    {
     "name": "stdout",
     "output_type": "stream",
     "text": [
      "Video created: intermediate_results2/action_2763_no_offence/minimap_augmented.mp4\n",
      "Processing completed successfully!\n",
      "\n",
      "Processing action_2769_offence.mp4...\n",
      "Using minimap directory: intermediate_results2/action_2769_offence/minimap\n",
      "Found 126 frames in intermediate_results2/action_2769_offence/player_detections_with_team_with_minimap.json\n",
      "Analyzed 0 frames with referee positions\n",
      "Processing 126 frames\n",
      "Processed frame 0\n",
      "Processed frame 50\n",
      "Processed frame 100\n",
      "Enhanced minimaps saved to intermediate_results2/action_2769_offence/minimap with '_augmented' suffix\n",
      "Creating video from 126 frames...\n"
     ]
    },
    {
     "name": "stderr",
     "output_type": "stream",
     "text": [
      "Processing videos:  67%|██████▋   | 269/400 [06:25<03:07,  1.43s/it]"
     ]
    },
    {
     "name": "stdout",
     "output_type": "stream",
     "text": [
      "Video created: intermediate_results2/action_2769_offence/minimap_augmented.mp4\n",
      "Processing completed successfully!\n",
      "\n",
      "Processing action_2777_offence.mp4...\n",
      "Using minimap directory: intermediate_results2/action_2777_offence/minimap\n",
      "Found 126 frames in intermediate_results2/action_2777_offence/player_detections_with_team_with_minimap.json\n",
      "Analyzed 0 frames with referee positions\n",
      "Processing 126 frames\n",
      "Processed frame 0\n",
      "Processed frame 50\n",
      "Processed frame 100\n",
      "Enhanced minimaps saved to intermediate_results2/action_2777_offence/minimap with '_augmented' suffix\n",
      "Creating video from 126 frames...\n"
     ]
    },
    {
     "name": "stderr",
     "output_type": "stream",
     "text": [
      "Processing videos:  68%|██████▊   | 270/400 [06:27<03:08,  1.45s/it]"
     ]
    },
    {
     "name": "stdout",
     "output_type": "stream",
     "text": [
      "Video created: intermediate_results2/action_2777_offence/minimap_augmented.mp4\n",
      "Processing completed successfully!\n",
      "\n",
      "Processing action_2778_offence.mp4...\n",
      "Using minimap directory: intermediate_results2/action_2778_offence/minimap\n",
      "Found 126 frames in intermediate_results2/action_2778_offence/player_detections_with_team_with_minimap.json\n",
      "Analyzed 0 frames with referee positions\n",
      "Processing 126 frames\n",
      "Processed frame 0\n",
      "Processed frame 50\n",
      "Processed frame 100\n",
      "Enhanced minimaps saved to intermediate_results2/action_2778_offence/minimap with '_augmented' suffix\n",
      "Creating video from 126 frames...\n"
     ]
    },
    {
     "name": "stderr",
     "output_type": "stream",
     "text": [
      "Processing videos:  68%|██████▊   | 271/400 [06:28<03:05,  1.44s/it]"
     ]
    },
    {
     "name": "stdout",
     "output_type": "stream",
     "text": [
      "Video created: intermediate_results2/action_2778_offence/minimap_augmented.mp4\n",
      "Processing completed successfully!\n",
      "\n",
      "Processing action_277_no_offence.mp4...\n",
      "Using minimap directory: intermediate_results2/action_277_no_offence/minimap\n",
      "Found 126 frames in intermediate_results2/action_277_no_offence/player_detections_with_team_with_minimap.json\n",
      "Analyzed 0 frames with referee positions\n",
      "Processing 126 frames\n",
      "Processed frame 0\n",
      "Processed frame 50\n",
      "Processed frame 100\n",
      "Enhanced minimaps saved to intermediate_results2/action_277_no_offence/minimap with '_augmented' suffix\n",
      "Creating video from 126 frames...\n"
     ]
    },
    {
     "name": "stderr",
     "output_type": "stream",
     "text": [
      "Processing videos:  68%|██████▊   | 272/400 [06:29<03:01,  1.42s/it]"
     ]
    },
    {
     "name": "stdout",
     "output_type": "stream",
     "text": [
      "Video created: intermediate_results2/action_277_no_offence/minimap_augmented.mp4\n",
      "Processing completed successfully!\n",
      "\n",
      "Processing action_2797_no_offence.mp4...\n",
      "Using minimap directory: intermediate_results2/action_2797_no_offence/minimap\n",
      "Found 126 frames in intermediate_results2/action_2797_no_offence/player_detections_with_team_with_minimap.json\n",
      "Analyzed 0 frames with referee positions\n",
      "Processing 126 frames\n",
      "Processed frame 0\n",
      "Processed frame 50\n",
      "Processed frame 100\n",
      "Enhanced minimaps saved to intermediate_results2/action_2797_no_offence/minimap with '_augmented' suffix\n",
      "Creating video from 126 frames...\n"
     ]
    },
    {
     "name": "stderr",
     "output_type": "stream",
     "text": [
      "Processing videos:  68%|██████▊   | 273/400 [06:31<03:00,  1.42s/it]"
     ]
    },
    {
     "name": "stdout",
     "output_type": "stream",
     "text": [
      "Video created: intermediate_results2/action_2797_no_offence/minimap_augmented.mp4\n",
      "Processing completed successfully!\n",
      "\n",
      "Processing action_2798_no_offence.mp4...\n",
      "Using minimap directory: intermediate_results2/action_2798_no_offence/minimap\n",
      "Found 126 frames in intermediate_results2/action_2798_no_offence/player_detections_with_team_with_minimap.json\n",
      "Analyzed 0 frames with referee positions\n",
      "Processing 126 frames\n",
      "Processed frame 0\n",
      "Processed frame 50\n",
      "Processed frame 100\n",
      "Enhanced minimaps saved to intermediate_results2/action_2798_no_offence/minimap with '_augmented' suffix\n",
      "Creating video from 126 frames...\n"
     ]
    },
    {
     "name": "stderr",
     "output_type": "stream",
     "text": [
      "Processing videos:  68%|██████▊   | 274/400 [06:32<02:58,  1.42s/it]"
     ]
    },
    {
     "name": "stdout",
     "output_type": "stream",
     "text": [
      "Video created: intermediate_results2/action_2798_no_offence/minimap_augmented.mp4\n",
      "Processing completed successfully!\n",
      "\n",
      "Processing action_2801_no_offence.mp4...\n",
      "Using minimap directory: intermediate_results2/action_2801_no_offence/minimap\n",
      "Found 126 frames in intermediate_results2/action_2801_no_offence/player_detections_with_team_with_minimap.json\n",
      "Analyzed 0 frames with referee positions\n",
      "Processing 126 frames\n",
      "Processed frame 0\n",
      "Processed frame 50\n",
      "Processed frame 100\n",
      "Enhanced minimaps saved to intermediate_results2/action_2801_no_offence/minimap with '_augmented' suffix\n",
      "Creating video from 126 frames...\n"
     ]
    },
    {
     "name": "stderr",
     "output_type": "stream",
     "text": [
      "Processing videos:  69%|██████▉   | 275/400 [06:34<02:55,  1.41s/it]"
     ]
    },
    {
     "name": "stdout",
     "output_type": "stream",
     "text": [
      "Video created: intermediate_results2/action_2801_no_offence/minimap_augmented.mp4\n",
      "Processing completed successfully!\n",
      "\n",
      "Processing action_2807_no_offence.mp4...\n",
      "Using minimap directory: intermediate_results2/action_2807_no_offence/minimap\n",
      "Found 126 frames in intermediate_results2/action_2807_no_offence/player_detections_with_team_with_minimap.json\n",
      "Analyzed 0 frames with referee positions\n",
      "Processing 126 frames\n",
      "Processed frame 0\n",
      "Processed frame 50\n",
      "Processed frame 100\n",
      "Enhanced minimaps saved to intermediate_results2/action_2807_no_offence/minimap with '_augmented' suffix\n",
      "Creating video from 126 frames...\n"
     ]
    },
    {
     "name": "stderr",
     "output_type": "stream",
     "text": [
      "Processing videos:  69%|██████▉   | 276/400 [06:35<02:52,  1.39s/it]"
     ]
    },
    {
     "name": "stdout",
     "output_type": "stream",
     "text": [
      "Video created: intermediate_results2/action_2807_no_offence/minimap_augmented.mp4\n",
      "Processing completed successfully!\n",
      "\n",
      "Processing action_2812_no_offence.mp4...\n",
      "Using minimap directory: intermediate_results2/action_2812_no_offence/minimap\n",
      "Found 126 frames in intermediate_results2/action_2812_no_offence/player_detections_with_team_with_minimap.json\n",
      "Analyzed 0 frames with referee positions\n",
      "Processing 126 frames\n",
      "Processed frame 0\n",
      "Processed frame 50\n",
      "Processed frame 100\n",
      "Enhanced minimaps saved to intermediate_results2/action_2812_no_offence/minimap with '_augmented' suffix\n",
      "Creating video from 126 frames...\n"
     ]
    },
    {
     "name": "stderr",
     "output_type": "stream",
     "text": [
      "Processing videos:  69%|██████▉   | 277/400 [06:36<02:49,  1.37s/it]"
     ]
    },
    {
     "name": "stdout",
     "output_type": "stream",
     "text": [
      "Video created: intermediate_results2/action_2812_no_offence/minimap_augmented.mp4\n",
      "Processing completed successfully!\n",
      "\n",
      "Processing action_2813_no_offence.mp4...\n",
      "Using minimap directory: intermediate_results2/action_2813_no_offence/minimap\n",
      "Found 126 frames in intermediate_results2/action_2813_no_offence/player_detections_with_team_with_minimap.json\n",
      "Analyzed 0 frames with referee positions\n",
      "Processing 126 frames\n",
      "Processed frame 0\n",
      "Processed frame 50\n",
      "Processed frame 100\n",
      "Enhanced minimaps saved to intermediate_results2/action_2813_no_offence/minimap with '_augmented' suffix\n",
      "Creating video from 126 frames...\n"
     ]
    },
    {
     "name": "stderr",
     "output_type": "stream",
     "text": [
      "Processing videos:  70%|██████▉   | 278/400 [06:38<02:46,  1.37s/it]"
     ]
    },
    {
     "name": "stdout",
     "output_type": "stream",
     "text": [
      "Video created: intermediate_results2/action_2813_no_offence/minimap_augmented.mp4\n",
      "Processing completed successfully!\n",
      "\n",
      "Processing action_2819_no_offence.mp4...\n",
      "Using minimap directory: intermediate_results2/action_2819_no_offence/minimap\n",
      "Found 126 frames in intermediate_results2/action_2819_no_offence/player_detections_with_team_with_minimap.json\n",
      "Analyzed 0 frames with referee positions\n",
      "Processing 126 frames\n",
      "Processed frame 0\n",
      "Processed frame 50\n",
      "Processed frame 100\n",
      "Enhanced minimaps saved to intermediate_results2/action_2819_no_offence/minimap with '_augmented' suffix\n",
      "Creating video from 126 frames...\n"
     ]
    },
    {
     "name": "stderr",
     "output_type": "stream",
     "text": [
      "Processing videos:  70%|██████▉   | 279/400 [06:39<02:44,  1.36s/it]"
     ]
    },
    {
     "name": "stdout",
     "output_type": "stream",
     "text": [
      "Video created: intermediate_results2/action_2819_no_offence/minimap_augmented.mp4\n",
      "Processing completed successfully!\n",
      "\n",
      "Processing action_2824_no_offence.mp4...\n",
      "Using minimap directory: intermediate_results2/action_2824_no_offence/minimap\n",
      "Found 126 frames in intermediate_results2/action_2824_no_offence/player_detections_with_team_with_minimap.json\n",
      "Analyzed 0 frames with referee positions\n",
      "Processing 126 frames\n",
      "Processed frame 0\n",
      "Processed frame 50\n",
      "Processed frame 100\n",
      "Enhanced minimaps saved to intermediate_results2/action_2824_no_offence/minimap with '_augmented' suffix\n",
      "Creating video from 126 frames...\n"
     ]
    },
    {
     "name": "stderr",
     "output_type": "stream",
     "text": [
      "Processing videos:  70%|███████   | 280/400 [06:40<02:45,  1.38s/it]"
     ]
    },
    {
     "name": "stdout",
     "output_type": "stream",
     "text": [
      "Video created: intermediate_results2/action_2824_no_offence/minimap_augmented.mp4\n",
      "Processing completed successfully!\n",
      "\n",
      "Processing action_2825_no_offence.mp4...\n",
      "Using minimap directory: intermediate_results2/action_2825_no_offence/minimap\n",
      "Found 126 frames in intermediate_results2/action_2825_no_offence/player_detections_with_team_with_minimap.json\n",
      "Analyzed 0 frames with referee positions\n",
      "Processing 126 frames\n",
      "Processed frame 0\n",
      "Processed frame 50\n",
      "Processed frame 100\n",
      "Enhanced minimaps saved to intermediate_results2/action_2825_no_offence/minimap with '_augmented' suffix\n",
      "Creating video from 126 frames...\n"
     ]
    },
    {
     "name": "stderr",
     "output_type": "stream",
     "text": [
      "Processing videos:  70%|███████   | 281/400 [06:42<02:44,  1.38s/it]"
     ]
    },
    {
     "name": "stdout",
     "output_type": "stream",
     "text": [
      "Video created: intermediate_results2/action_2825_no_offence/minimap_augmented.mp4\n",
      "Processing completed successfully!\n",
      "\n",
      "Processing action_2826_offence.mp4...\n",
      "Using minimap directory: intermediate_results2/action_2826_offence/minimap\n",
      "Found 126 frames in intermediate_results2/action_2826_offence/player_detections_with_team_with_minimap.json\n",
      "Analyzed 0 frames with referee positions\n",
      "Processing 126 frames\n",
      "Processed frame 0\n",
      "Processed frame 50\n",
      "Processed frame 100\n",
      "Enhanced minimaps saved to intermediate_results2/action_2826_offence/minimap with '_augmented' suffix\n",
      "Creating video from 126 frames...\n"
     ]
    },
    {
     "name": "stderr",
     "output_type": "stream",
     "text": [
      "Processing videos:  70%|███████   | 282/400 [06:43<02:44,  1.39s/it]"
     ]
    },
    {
     "name": "stdout",
     "output_type": "stream",
     "text": [
      "Video created: intermediate_results2/action_2826_offence/minimap_augmented.mp4\n",
      "Processing completed successfully!\n",
      "\n",
      "Processing action_2831_no_offence.mp4...\n",
      "Using minimap directory: intermediate_results2/action_2831_no_offence/minimap\n",
      "Found 126 frames in intermediate_results2/action_2831_no_offence/player_detections_with_team_with_minimap.json\n",
      "Analyzed 0 frames with referee positions\n",
      "Processing 126 frames\n",
      "Processed frame 0\n",
      "Processed frame 50\n",
      "Processed frame 100\n",
      "Enhanced minimaps saved to intermediate_results2/action_2831_no_offence/minimap with '_augmented' suffix\n",
      "Creating video from 126 frames...\n"
     ]
    },
    {
     "name": "stderr",
     "output_type": "stream",
     "text": [
      "Processing videos:  71%|███████   | 283/400 [06:45<02:48,  1.44s/it]"
     ]
    },
    {
     "name": "stdout",
     "output_type": "stream",
     "text": [
      "Video created: intermediate_results2/action_2831_no_offence/minimap_augmented.mp4\n",
      "Processing completed successfully!\n",
      "\n",
      "Processing action_2836_no_offence.mp4...\n",
      "Using minimap directory: intermediate_results2/action_2836_no_offence/minimap\n",
      "Found 126 frames in intermediate_results2/action_2836_no_offence/player_detections_with_team_with_minimap.json\n",
      "Analyzed 0 frames with referee positions\n",
      "Processing 126 frames\n",
      "Processed frame 0\n",
      "Processed frame 50\n",
      "Processed frame 100\n",
      "Enhanced minimaps saved to intermediate_results2/action_2836_no_offence/minimap with '_augmented' suffix\n",
      "Creating video from 126 frames...\n"
     ]
    },
    {
     "name": "stderr",
     "output_type": "stream",
     "text": [
      "Processing videos:  71%|███████   | 284/400 [06:46<02:44,  1.42s/it]"
     ]
    },
    {
     "name": "stdout",
     "output_type": "stream",
     "text": [
      "Video created: intermediate_results2/action_2836_no_offence/minimap_augmented.mp4\n",
      "Processing completed successfully!\n",
      "\n",
      "Processing action_2839_offence.mp4...\n",
      "Using minimap directory: intermediate_results2/action_2839_offence/minimap\n",
      "Found 126 frames in intermediate_results2/action_2839_offence/player_detections_with_team_with_minimap.json\n",
      "Analyzed 0 frames with referee positions\n",
      "Processing 126 frames\n",
      "Processed frame 0\n",
      "Processed frame 50\n",
      "Processed frame 100\n",
      "Enhanced minimaps saved to intermediate_results2/action_2839_offence/minimap with '_augmented' suffix\n",
      "Creating video from 126 frames...\n"
     ]
    },
    {
     "name": "stderr",
     "output_type": "stream",
     "text": [
      "Processing videos:  71%|███████▏  | 285/400 [06:47<02:41,  1.40s/it]"
     ]
    },
    {
     "name": "stdout",
     "output_type": "stream",
     "text": [
      "Video created: intermediate_results2/action_2839_offence/minimap_augmented.mp4\n",
      "Processing completed successfully!\n",
      "\n",
      "Processing action_2841_no_offence.mp4...\n",
      "Using minimap directory: intermediate_results2/action_2841_no_offence/minimap\n",
      "Found 126 frames in intermediate_results2/action_2841_no_offence/player_detections_with_team_with_minimap.json\n",
      "Analyzed 0 frames with referee positions\n",
      "Processing 126 frames\n",
      "Processed frame 0\n",
      "Processed frame 50\n",
      "Processed frame 100\n",
      "Enhanced minimaps saved to intermediate_results2/action_2841_no_offence/minimap with '_augmented' suffix\n",
      "Creating video from 126 frames...\n"
     ]
    },
    {
     "name": "stderr",
     "output_type": "stream",
     "text": [
      "Processing videos:  72%|███████▏  | 286/400 [06:49<02:38,  1.39s/it]"
     ]
    },
    {
     "name": "stdout",
     "output_type": "stream",
     "text": [
      "Video created: intermediate_results2/action_2841_no_offence/minimap_augmented.mp4\n",
      "Processing completed successfully!\n",
      "\n",
      "Processing action_2847_no_offence.mp4...\n",
      "Using minimap directory: intermediate_results2/action_2847_no_offence/minimap\n",
      "Found 126 frames in intermediate_results2/action_2847_no_offence/player_detections_with_team_with_minimap.json\n",
      "Analyzed 0 frames with referee positions\n",
      "Processing 126 frames\n",
      "Processed frame 0\n",
      "Processed frame 50\n",
      "Processed frame 100\n",
      "Enhanced minimaps saved to intermediate_results2/action_2847_no_offence/minimap with '_augmented' suffix\n",
      "Creating video from 126 frames...\n"
     ]
    },
    {
     "name": "stderr",
     "output_type": "stream",
     "text": [
      "Processing videos:  72%|███████▏  | 287/400 [06:50<02:37,  1.39s/it]"
     ]
    },
    {
     "name": "stdout",
     "output_type": "stream",
     "text": [
      "Video created: intermediate_results2/action_2847_no_offence/minimap_augmented.mp4\n",
      "Processing completed successfully!\n",
      "\n",
      "Processing action_2850_no_offence.mp4...\n",
      "Using minimap directory: intermediate_results2/action_2850_no_offence/minimap\n",
      "Found 126 frames in intermediate_results2/action_2850_no_offence/player_detections_with_team_with_minimap.json\n",
      "Analyzed 0 frames with referee positions\n",
      "Processing 126 frames\n",
      "Processed frame 0\n",
      "Processed frame 50\n",
      "Processed frame 100\n",
      "Enhanced minimaps saved to intermediate_results2/action_2850_no_offence/minimap with '_augmented' suffix\n",
      "Creating video from 126 frames...\n"
     ]
    },
    {
     "name": "stderr",
     "output_type": "stream",
     "text": [
      "Processing videos:  72%|███████▏  | 288/400 [06:52<02:38,  1.42s/it]"
     ]
    },
    {
     "name": "stdout",
     "output_type": "stream",
     "text": [
      "Video created: intermediate_results2/action_2850_no_offence/minimap_augmented.mp4\n",
      "Processing completed successfully!\n",
      "\n",
      "Processing action_2853_no_offence.mp4...\n",
      "Using minimap directory: intermediate_results2/action_2853_no_offence/minimap\n",
      "Found 126 frames in intermediate_results2/action_2853_no_offence/player_detections_with_team_with_minimap.json\n",
      "Analyzed 0 frames with referee positions\n",
      "Processing 126 frames\n",
      "Processed frame 0\n",
      "Processed frame 50\n",
      "Processed frame 100\n",
      "Enhanced minimaps saved to intermediate_results2/action_2853_no_offence/minimap with '_augmented' suffix\n",
      "Creating video from 126 frames...\n"
     ]
    },
    {
     "name": "stderr",
     "output_type": "stream",
     "text": [
      "Processing videos:  72%|███████▏  | 289/400 [06:53<02:37,  1.42s/it]"
     ]
    },
    {
     "name": "stdout",
     "output_type": "stream",
     "text": [
      "Video created: intermediate_results2/action_2853_no_offence/minimap_augmented.mp4\n",
      "Processing completed successfully!\n",
      "\n",
      "Processing action_2856_no_offence.mp4...\n",
      "Using minimap directory: intermediate_results2/action_2856_no_offence/minimap\n",
      "Found 126 frames in intermediate_results2/action_2856_no_offence/player_detections_with_team_with_minimap.json\n",
      "Analyzed 0 frames with referee positions\n",
      "Processing 126 frames\n",
      "Processed frame 0\n",
      "Processed frame 50\n",
      "Processed frame 100\n",
      "Enhanced minimaps saved to intermediate_results2/action_2856_no_offence/minimap with '_augmented' suffix\n",
      "Creating video from 126 frames...\n"
     ]
    },
    {
     "name": "stderr",
     "output_type": "stream",
     "text": [
      "Processing videos:  72%|███████▎  | 290/400 [06:55<02:36,  1.42s/it]"
     ]
    },
    {
     "name": "stdout",
     "output_type": "stream",
     "text": [
      "Video created: intermediate_results2/action_2856_no_offence/minimap_augmented.mp4\n",
      "Processing completed successfully!\n",
      "\n",
      "Processing action_2857_offence.mp4...\n",
      "Using minimap directory: intermediate_results2/action_2857_offence/minimap\n",
      "Found 126 frames in intermediate_results2/action_2857_offence/player_detections_with_team_with_minimap.json\n",
      "Analyzed 0 frames with referee positions\n",
      "Processing 126 frames\n",
      "Processed frame 0\n",
      "Processed frame 50\n",
      "Processed frame 100\n",
      "Enhanced minimaps saved to intermediate_results2/action_2857_offence/minimap with '_augmented' suffix\n",
      "Creating video from 126 frames...\n"
     ]
    },
    {
     "name": "stderr",
     "output_type": "stream",
     "text": [
      "Processing videos:  73%|███████▎  | 291/400 [06:56<02:33,  1.41s/it]"
     ]
    },
    {
     "name": "stdout",
     "output_type": "stream",
     "text": [
      "Video created: intermediate_results2/action_2857_offence/minimap_augmented.mp4\n",
      "Processing completed successfully!\n",
      "\n",
      "Processing action_2861_no_offence.mp4...\n",
      "Using minimap directory: intermediate_results2/action_2861_no_offence/minimap\n",
      "Found 126 frames in intermediate_results2/action_2861_no_offence/player_detections_with_team_with_minimap.json\n",
      "Analyzed 0 frames with referee positions\n",
      "Processing 126 frames\n",
      "Processed frame 0\n",
      "Processed frame 50\n",
      "Processed frame 100\n",
      "Enhanced minimaps saved to intermediate_results2/action_2861_no_offence/minimap with '_augmented' suffix\n",
      "Creating video from 126 frames...\n"
     ]
    },
    {
     "name": "stderr",
     "output_type": "stream",
     "text": [
      "Processing videos:  73%|███████▎  | 292/400 [06:57<02:29,  1.39s/it]"
     ]
    },
    {
     "name": "stdout",
     "output_type": "stream",
     "text": [
      "Video created: intermediate_results2/action_2861_no_offence/minimap_augmented.mp4\n",
      "Processing completed successfully!\n",
      "\n",
      "Processing action_2866_offence.mp4...\n",
      "Using minimap directory: intermediate_results2/action_2866_offence/minimap\n",
      "Found 126 frames in intermediate_results2/action_2866_offence/player_detections_with_team_with_minimap.json\n",
      "Analyzed 0 frames with referee positions\n",
      "Processing 126 frames\n",
      "Processed frame 0\n",
      "Processed frame 50\n",
      "Processed frame 100\n",
      "Enhanced minimaps saved to intermediate_results2/action_2866_offence/minimap with '_augmented' suffix\n",
      "Creating video from 126 frames...\n"
     ]
    },
    {
     "name": "stderr",
     "output_type": "stream",
     "text": [
      "Processing videos:  73%|███████▎  | 293/400 [06:59<02:27,  1.37s/it]"
     ]
    },
    {
     "name": "stdout",
     "output_type": "stream",
     "text": [
      "Video created: intermediate_results2/action_2866_offence/minimap_augmented.mp4\n",
      "Processing completed successfully!\n",
      "\n",
      "Processing action_2871_no_offence.mp4...\n",
      "Using minimap directory: intermediate_results2/action_2871_no_offence/minimap\n",
      "Found 126 frames in intermediate_results2/action_2871_no_offence/player_detections_with_team_with_minimap.json\n",
      "Analyzed 0 frames with referee positions\n",
      "Processing 126 frames\n",
      "Processed frame 0\n",
      "Processed frame 50\n",
      "Processed frame 100\n",
      "Enhanced minimaps saved to intermediate_results2/action_2871_no_offence/minimap with '_augmented' suffix\n",
      "Creating video from 126 frames...\n"
     ]
    },
    {
     "name": "stderr",
     "output_type": "stream",
     "text": [
      "Processing videos:  74%|███████▎  | 294/400 [07:00<02:27,  1.39s/it]"
     ]
    },
    {
     "name": "stdout",
     "output_type": "stream",
     "text": [
      "Video created: intermediate_results2/action_2871_no_offence/minimap_augmented.mp4\n",
      "Processing completed successfully!\n",
      "\n",
      "Processing action_2874_no_offence.mp4...\n",
      "Using minimap directory: intermediate_results2/action_2874_no_offence/minimap\n",
      "Found 126 frames in intermediate_results2/action_2874_no_offence/player_detections_with_team_with_minimap.json\n",
      "Analyzed 0 frames with referee positions\n",
      "Processing 126 frames\n",
      "Processed frame 0\n",
      "Processed frame 50\n",
      "Processed frame 100\n",
      "Enhanced minimaps saved to intermediate_results2/action_2874_no_offence/minimap with '_augmented' suffix\n",
      "Creating video from 126 frames...\n"
     ]
    },
    {
     "name": "stderr",
     "output_type": "stream",
     "text": [
      "Processing videos:  74%|███████▍  | 295/400 [07:01<02:26,  1.39s/it]"
     ]
    },
    {
     "name": "stdout",
     "output_type": "stream",
     "text": [
      "Video created: intermediate_results2/action_2874_no_offence/minimap_augmented.mp4\n",
      "Processing completed successfully!\n",
      "\n",
      "Processing action_2904_no_offence.mp4...\n",
      "Using minimap directory: intermediate_results2/action_2904_no_offence/minimap\n",
      "Found 126 frames in intermediate_results2/action_2904_no_offence/player_detections_with_team_with_minimap.json\n",
      "Analyzed 0 frames with referee positions\n",
      "Processing 126 frames\n",
      "Processed frame 0\n",
      "Processed frame 50\n",
      "Processed frame 100\n",
      "Enhanced minimaps saved to intermediate_results2/action_2904_no_offence/minimap with '_augmented' suffix\n",
      "Creating video from 126 frames...\n"
     ]
    },
    {
     "name": "stderr",
     "output_type": "stream",
     "text": [
      "Processing videos:  74%|███████▍  | 296/400 [07:03<02:29,  1.44s/it]"
     ]
    },
    {
     "name": "stdout",
     "output_type": "stream",
     "text": [
      "Video created: intermediate_results2/action_2904_no_offence/minimap_augmented.mp4\n",
      "Processing completed successfully!\n",
      "\n",
      "Processing action_2915_no_offence.mp4...\n",
      "Using minimap directory: intermediate_results2/action_2915_no_offence/minimap\n",
      "Found 126 frames in intermediate_results2/action_2915_no_offence/player_detections_with_team_with_minimap.json\n",
      "Analyzed 0 frames with referee positions\n",
      "Processing 126 frames\n",
      "Processed frame 0\n",
      "Processed frame 50\n",
      "Processed frame 100\n",
      "Enhanced minimaps saved to intermediate_results2/action_2915_no_offence/minimap with '_augmented' suffix\n",
      "Creating video from 126 frames...\n"
     ]
    },
    {
     "name": "stderr",
     "output_type": "stream",
     "text": [
      "Processing videos:  74%|███████▍  | 297/400 [07:04<02:28,  1.44s/it]"
     ]
    },
    {
     "name": "stdout",
     "output_type": "stream",
     "text": [
      "Video created: intermediate_results2/action_2915_no_offence/minimap_augmented.mp4\n",
      "Processing completed successfully!\n",
      "\n",
      "Processing action_301_no_offence.mp4...\n",
      "Using minimap directory: intermediate_results2/action_301_no_offence/minimap\n",
      "Found 126 frames in intermediate_results2/action_301_no_offence/player_detections_with_team_with_minimap.json\n",
      "Analyzed 0 frames with referee positions\n",
      "Processing 126 frames\n",
      "Processed frame 0\n",
      "Processed frame 50\n",
      "Processed frame 100\n",
      "Enhanced minimaps saved to intermediate_results2/action_301_no_offence/minimap with '_augmented' suffix\n",
      "Creating video from 126 frames...\n"
     ]
    },
    {
     "name": "stderr",
     "output_type": "stream",
     "text": [
      "Processing videos:  74%|███████▍  | 298/400 [07:06<02:26,  1.44s/it]"
     ]
    },
    {
     "name": "stdout",
     "output_type": "stream",
     "text": [
      "Video created: intermediate_results2/action_301_no_offence/minimap_augmented.mp4\n",
      "Processing completed successfully!\n",
      "\n",
      "Processing action_319_offence.mp4...\n",
      "Using minimap directory: intermediate_results2/action_319_offence/minimap\n",
      "Found 126 frames in intermediate_results2/action_319_offence/player_detections_with_team_with_minimap.json\n",
      "Analyzed 0 frames with referee positions\n",
      "Processing 126 frames\n",
      "Processed frame 0\n",
      "Processed frame 50\n",
      "Processed frame 100\n",
      "Enhanced minimaps saved to intermediate_results2/action_319_offence/minimap with '_augmented' suffix\n",
      "Creating video from 126 frames...\n"
     ]
    },
    {
     "name": "stderr",
     "output_type": "stream",
     "text": [
      "Processing videos:  75%|███████▍  | 299/400 [07:07<02:23,  1.42s/it]"
     ]
    },
    {
     "name": "stdout",
     "output_type": "stream",
     "text": [
      "Video created: intermediate_results2/action_319_offence/minimap_augmented.mp4\n",
      "Processing completed successfully!\n",
      "\n",
      "Processing action_338_offence.mp4...\n",
      "Using minimap directory: intermediate_results2/action_338_offence/minimap\n",
      "Found 126 frames in intermediate_results2/action_338_offence/player_detections_with_team_with_minimap.json\n",
      "Analyzed 0 frames with referee positions\n",
      "Processing 126 frames\n",
      "Processed frame 0\n",
      "Processed frame 50\n",
      "Processed frame 100\n",
      "Enhanced minimaps saved to intermediate_results2/action_338_offence/minimap with '_augmented' suffix\n",
      "Creating video from 126 frames...\n"
     ]
    },
    {
     "name": "stderr",
     "output_type": "stream",
     "text": [
      "Processing videos:  75%|███████▌  | 300/400 [07:09<02:20,  1.41s/it]"
     ]
    },
    {
     "name": "stdout",
     "output_type": "stream",
     "text": [
      "Video created: intermediate_results2/action_338_offence/minimap_augmented.mp4\n",
      "Processing completed successfully!\n",
      "\n",
      "Processing action_33_no_offence.mp4...\n",
      "Using minimap directory: intermediate_results2/action_33_no_offence/minimap\n",
      "Found 126 frames in intermediate_results2/action_33_no_offence/player_detections_with_team_with_minimap.json\n",
      "Analyzed 0 frames with referee positions\n",
      "Processing 126 frames\n",
      "Processed frame 0\n",
      "Processed frame 50\n",
      "Processed frame 100\n",
      "Enhanced minimaps saved to intermediate_results2/action_33_no_offence/minimap with '_augmented' suffix\n",
      "Creating video from 126 frames...\n"
     ]
    },
    {
     "name": "stderr",
     "output_type": "stream",
     "text": [
      "Processing videos:  75%|███████▌  | 301/400 [07:10<02:19,  1.41s/it]"
     ]
    },
    {
     "name": "stdout",
     "output_type": "stream",
     "text": [
      "Video created: intermediate_results2/action_33_no_offence/minimap_augmented.mp4\n",
      "Processing completed successfully!\n",
      "\n",
      "Processing action_345_no_offence.mp4...\n",
      "Using minimap directory: intermediate_results2/action_345_no_offence/minimap\n",
      "Found 126 frames in intermediate_results2/action_345_no_offence/player_detections_with_team_with_minimap.json\n",
      "Analyzed 0 frames with referee positions\n",
      "Processing 126 frames\n",
      "Processed frame 0\n",
      "Processed frame 50\n",
      "Processed frame 100\n",
      "Enhanced minimaps saved to intermediate_results2/action_345_no_offence/minimap with '_augmented' suffix\n",
      "Creating video from 126 frames...\n"
     ]
    },
    {
     "name": "stderr",
     "output_type": "stream",
     "text": [
      "Processing videos:  76%|███████▌  | 302/400 [07:11<02:18,  1.41s/it]"
     ]
    },
    {
     "name": "stdout",
     "output_type": "stream",
     "text": [
      "Video created: intermediate_results2/action_345_no_offence/minimap_augmented.mp4\n",
      "Processing completed successfully!\n",
      "\n",
      "Processing action_349_no_offence.mp4...\n",
      "Using minimap directory: intermediate_results2/action_349_no_offence/minimap\n",
      "Found 126 frames in intermediate_results2/action_349_no_offence/player_detections_with_team_with_minimap.json\n",
      "Analyzed 0 frames with referee positions\n",
      "Processing 126 frames\n",
      "Processed frame 0\n",
      "Processed frame 50\n",
      "Processed frame 100\n",
      "Enhanced minimaps saved to intermediate_results2/action_349_no_offence/minimap with '_augmented' suffix\n",
      "Creating video from 126 frames...\n"
     ]
    },
    {
     "name": "stderr",
     "output_type": "stream",
     "text": [
      "Processing videos:  76%|███████▌  | 303/400 [07:13<02:15,  1.40s/it]"
     ]
    },
    {
     "name": "stdout",
     "output_type": "stream",
     "text": [
      "Video created: intermediate_results2/action_349_no_offence/minimap_augmented.mp4\n",
      "Processing completed successfully!\n",
      "\n",
      "Processing action_34_offence.mp4...\n",
      "Using minimap directory: intermediate_results2/action_34_offence/minimap\n",
      "Found 126 frames in intermediate_results2/action_34_offence/player_detections_with_team_with_minimap.json\n",
      "Analyzed 0 frames with referee positions\n",
      "Processing 126 frames\n",
      "Processed frame 0\n",
      "Processed frame 50\n",
      "Processed frame 100\n",
      "Enhanced minimaps saved to intermediate_results2/action_34_offence/minimap with '_augmented' suffix\n",
      "Creating video from 126 frames...\n"
     ]
    },
    {
     "name": "stderr",
     "output_type": "stream",
     "text": [
      "Processing videos:  76%|███████▌  | 304/400 [07:14<02:13,  1.39s/it]"
     ]
    },
    {
     "name": "stdout",
     "output_type": "stream",
     "text": [
      "Video created: intermediate_results2/action_34_offence/minimap_augmented.mp4\n",
      "Processing completed successfully!\n",
      "\n",
      "Processing action_352_no_offence.mp4...\n",
      "Using minimap directory: intermediate_results2/action_352_no_offence/minimap\n",
      "Found 126 frames in intermediate_results2/action_352_no_offence/player_detections_with_team_with_minimap.json\n",
      "Analyzed 0 frames with referee positions\n",
      "Processing 126 frames\n",
      "Processed frame 0\n",
      "Processed frame 50\n",
      "Processed frame 100\n",
      "Enhanced minimaps saved to intermediate_results2/action_352_no_offence/minimap with '_augmented' suffix\n",
      "Creating video from 126 frames...\n"
     ]
    },
    {
     "name": "stderr",
     "output_type": "stream",
     "text": [
      "Processing videos:  76%|███████▋  | 305/400 [07:16<02:11,  1.38s/it]"
     ]
    },
    {
     "name": "stdout",
     "output_type": "stream",
     "text": [
      "Video created: intermediate_results2/action_352_no_offence/minimap_augmented.mp4\n",
      "Processing completed successfully!\n",
      "\n",
      "Processing action_359_no_offence.mp4...\n",
      "Using minimap directory: intermediate_results2/action_359_no_offence/minimap\n",
      "Found 126 frames in intermediate_results2/action_359_no_offence/player_detections_with_team_with_minimap.json\n",
      "Analyzed 0 frames with referee positions\n",
      "Processing 126 frames\n",
      "Processed frame 0\n",
      "Processed frame 50\n",
      "Processed frame 100\n",
      "Enhanced minimaps saved to intermediate_results2/action_359_no_offence/minimap with '_augmented' suffix\n",
      "Creating video from 126 frames...\n"
     ]
    },
    {
     "name": "stderr",
     "output_type": "stream",
     "text": [
      "Processing videos:  76%|███████▋  | 306/400 [07:17<02:09,  1.38s/it]"
     ]
    },
    {
     "name": "stdout",
     "output_type": "stream",
     "text": [
      "Video created: intermediate_results2/action_359_no_offence/minimap_augmented.mp4\n",
      "Processing completed successfully!\n",
      "\n",
      "Processing action_366_offence.mp4...\n",
      "Using minimap directory: intermediate_results2/action_366_offence/minimap\n",
      "Found 126 frames in intermediate_results2/action_366_offence/player_detections_with_team_with_minimap.json\n",
      "Analyzed 0 frames with referee positions\n",
      "Processing 126 frames\n",
      "Processed frame 0\n",
      "Processed frame 50\n",
      "Processed frame 100\n",
      "Enhanced minimaps saved to intermediate_results2/action_366_offence/minimap with '_augmented' suffix\n",
      "Creating video from 126 frames...\n"
     ]
    },
    {
     "name": "stderr",
     "output_type": "stream",
     "text": [
      "Processing videos:  77%|███████▋  | 307/400 [07:18<02:09,  1.39s/it]"
     ]
    },
    {
     "name": "stdout",
     "output_type": "stream",
     "text": [
      "Video created: intermediate_results2/action_366_offence/minimap_augmented.mp4\n",
      "Processing completed successfully!\n",
      "\n",
      "Processing action_369_no_offence.mp4...\n",
      "Using minimap directory: intermediate_results2/action_369_no_offence/minimap\n",
      "Found 126 frames in intermediate_results2/action_369_no_offence/player_detections_with_team_with_minimap.json\n",
      "Analyzed 0 frames with referee positions\n",
      "Processing 126 frames\n",
      "Processed frame 0\n",
      "Processed frame 50\n",
      "Processed frame 100\n",
      "Enhanced minimaps saved to intermediate_results2/action_369_no_offence/minimap with '_augmented' suffix\n",
      "Creating video from 126 frames...\n"
     ]
    },
    {
     "name": "stderr",
     "output_type": "stream",
     "text": [
      "Processing videos:  77%|███████▋  | 308/400 [07:20<02:10,  1.42s/it]"
     ]
    },
    {
     "name": "stdout",
     "output_type": "stream",
     "text": [
      "Video created: intermediate_results2/action_369_no_offence/minimap_augmented.mp4\n",
      "Processing completed successfully!\n",
      "\n",
      "Processing action_36_offence.mp4...\n",
      "Using minimap directory: intermediate_results2/action_36_offence/minimap\n",
      "Found 126 frames in intermediate_results2/action_36_offence/player_detections_with_team_with_minimap.json\n",
      "Analyzed 0 frames with referee positions\n",
      "Processing 126 frames\n",
      "Processed frame 0\n",
      "Processed frame 50\n",
      "Processed frame 100\n",
      "Enhanced minimaps saved to intermediate_results2/action_36_offence/minimap with '_augmented' suffix\n",
      "Creating video from 126 frames...\n"
     ]
    },
    {
     "name": "stderr",
     "output_type": "stream",
     "text": [
      "Processing videos:  77%|███████▋  | 309/400 [07:21<02:10,  1.43s/it]"
     ]
    },
    {
     "name": "stdout",
     "output_type": "stream",
     "text": [
      "Video created: intermediate_results2/action_36_offence/minimap_augmented.mp4\n",
      "Processing completed successfully!\n",
      "\n",
      "Processing action_373_no_offence.mp4...\n",
      "Using minimap directory: intermediate_results2/action_373_no_offence/minimap\n",
      "Found 126 frames in intermediate_results2/action_373_no_offence/player_detections_with_team_with_minimap.json\n",
      "Analyzed 0 frames with referee positions\n",
      "Processing 126 frames\n",
      "Processed frame 0\n",
      "Processed frame 50\n",
      "Processed frame 100\n",
      "Enhanced minimaps saved to intermediate_results2/action_373_no_offence/minimap with '_augmented' suffix\n",
      "Creating video from 126 frames...\n"
     ]
    },
    {
     "name": "stderr",
     "output_type": "stream",
     "text": [
      "Processing videos:  78%|███████▊  | 310/400 [07:23<02:08,  1.43s/it]"
     ]
    },
    {
     "name": "stdout",
     "output_type": "stream",
     "text": [
      "Video created: intermediate_results2/action_373_no_offence/minimap_augmented.mp4\n",
      "Processing completed successfully!\n",
      "\n",
      "Processing action_391_offence.mp4...\n",
      "Using minimap directory: intermediate_results2/action_391_offence/minimap\n",
      "Found 126 frames in intermediate_results2/action_391_offence/player_detections_with_team_with_minimap.json\n",
      "Analyzed 0 frames with referee positions\n",
      "Processing 126 frames\n",
      "Processed frame 0\n",
      "Processed frame 50\n",
      "Processed frame 100\n",
      "Enhanced minimaps saved to intermediate_results2/action_391_offence/minimap with '_augmented' suffix\n",
      "Creating video from 126 frames...\n"
     ]
    },
    {
     "name": "stderr",
     "output_type": "stream",
     "text": [
      "Processing videos:  78%|███████▊  | 311/400 [07:24<02:07,  1.44s/it]"
     ]
    },
    {
     "name": "stdout",
     "output_type": "stream",
     "text": [
      "Video created: intermediate_results2/action_391_offence/minimap_augmented.mp4\n",
      "Processing completed successfully!\n",
      "\n",
      "Processing action_394_no_offence.mp4...\n",
      "Using minimap directory: intermediate_results2/action_394_no_offence/minimap\n",
      "Found 126 frames in intermediate_results2/action_394_no_offence/player_detections_with_team_with_minimap.json\n",
      "Analyzed 0 frames with referee positions\n",
      "Processing 126 frames\n",
      "Processed frame 0\n",
      "Processed frame 50\n",
      "Processed frame 100\n",
      "Enhanced minimaps saved to intermediate_results2/action_394_no_offence/minimap with '_augmented' suffix\n",
      "Creating video from 126 frames...\n"
     ]
    },
    {
     "name": "stderr",
     "output_type": "stream",
     "text": [
      "Processing videos:  78%|███████▊  | 312/400 [07:26<02:05,  1.43s/it]"
     ]
    },
    {
     "name": "stdout",
     "output_type": "stream",
     "text": [
      "Video created: intermediate_results2/action_394_no_offence/minimap_augmented.mp4\n",
      "Processing completed successfully!\n",
      "\n",
      "Processing action_398_offence.mp4...\n",
      "Using minimap directory: intermediate_results2/action_398_offence/minimap\n",
      "Found 126 frames in intermediate_results2/action_398_offence/player_detections_with_team_with_minimap.json\n",
      "Analyzed 0 frames with referee positions\n",
      "Processing 126 frames\n",
      "Processed frame 0\n",
      "Processed frame 50\n",
      "Processed frame 100\n",
      "Enhanced minimaps saved to intermediate_results2/action_398_offence/minimap with '_augmented' suffix\n",
      "Creating video from 126 frames...\n"
     ]
    },
    {
     "name": "stderr",
     "output_type": "stream",
     "text": [
      "Processing videos:  78%|███████▊  | 313/400 [07:27<02:04,  1.43s/it]"
     ]
    },
    {
     "name": "stdout",
     "output_type": "stream",
     "text": [
      "Video created: intermediate_results2/action_398_offence/minimap_augmented.mp4\n",
      "Processing completed successfully!\n",
      "\n",
      "Processing action_399_offence.mp4...\n",
      "Using minimap directory: intermediate_results2/action_399_offence/minimap\n",
      "Found 126 frames in intermediate_results2/action_399_offence/player_detections_with_team_with_minimap.json\n",
      "Analyzed 0 frames with referee positions\n",
      "Processing 126 frames\n",
      "Processed frame 0\n",
      "Processed frame 50\n",
      "Processed frame 100\n",
      "Enhanced minimaps saved to intermediate_results2/action_399_offence/minimap with '_augmented' suffix\n",
      "Creating video from 126 frames...\n"
     ]
    },
    {
     "name": "stderr",
     "output_type": "stream",
     "text": [
      "Processing videos:  78%|███████▊  | 314/400 [07:28<02:03,  1.44s/it]"
     ]
    },
    {
     "name": "stdout",
     "output_type": "stream",
     "text": [
      "Video created: intermediate_results2/action_399_offence/minimap_augmented.mp4\n",
      "Processing completed successfully!\n",
      "\n",
      "Processing action_400_offence.mp4...\n",
      "Using minimap directory: intermediate_results2/action_400_offence/minimap\n",
      "Found 126 frames in intermediate_results2/action_400_offence/player_detections_with_team_with_minimap.json\n",
      "Analyzed 0 frames with referee positions\n",
      "Processing 126 frames\n",
      "Processed frame 0\n",
      "Processed frame 50\n",
      "Processed frame 100\n",
      "Enhanced minimaps saved to intermediate_results2/action_400_offence/minimap with '_augmented' suffix\n",
      "Creating video from 126 frames...\n"
     ]
    },
    {
     "name": "stderr",
     "output_type": "stream",
     "text": [
      "Processing videos:  79%|███████▉  | 315/400 [07:30<02:02,  1.44s/it]"
     ]
    },
    {
     "name": "stdout",
     "output_type": "stream",
     "text": [
      "Video created: intermediate_results2/action_400_offence/minimap_augmented.mp4\n",
      "Processing completed successfully!\n",
      "\n",
      "Processing action_405_offence.mp4...\n",
      "Using minimap directory: intermediate_results2/action_405_offence/minimap\n",
      "Found 126 frames in intermediate_results2/action_405_offence/player_detections_with_team_with_minimap.json\n",
      "Analyzed 0 frames with referee positions\n",
      "Processing 126 frames\n",
      "Processed frame 0\n",
      "Processed frame 50\n",
      "Processed frame 100\n",
      "Enhanced minimaps saved to intermediate_results2/action_405_offence/minimap with '_augmented' suffix\n",
      "Creating video from 126 frames...\n"
     ]
    },
    {
     "name": "stderr",
     "output_type": "stream",
     "text": [
      "Processing videos:  79%|███████▉  | 316/400 [07:31<02:01,  1.45s/it]"
     ]
    },
    {
     "name": "stdout",
     "output_type": "stream",
     "text": [
      "Video created: intermediate_results2/action_405_offence/minimap_augmented.mp4\n",
      "Processing completed successfully!\n",
      "\n",
      "Processing action_407_no_offence.mp4...\n",
      "Using minimap directory: intermediate_results2/action_407_no_offence/minimap\n",
      "Found 126 frames in intermediate_results2/action_407_no_offence/player_detections_with_team_with_minimap.json\n",
      "Analyzed 0 frames with referee positions\n",
      "Processing 126 frames\n",
      "Processed frame 0\n",
      "Processed frame 50\n",
      "Processed frame 100\n",
      "Enhanced minimaps saved to intermediate_results2/action_407_no_offence/minimap with '_augmented' suffix\n",
      "Creating video from 126 frames...\n"
     ]
    },
    {
     "name": "stderr",
     "output_type": "stream",
     "text": [
      "Processing videos:  79%|███████▉  | 317/400 [07:33<02:00,  1.45s/it]"
     ]
    },
    {
     "name": "stdout",
     "output_type": "stream",
     "text": [
      "Video created: intermediate_results2/action_407_no_offence/minimap_augmented.mp4\n",
      "Processing completed successfully!\n",
      "\n",
      "Processing action_40_no_offence.mp4...\n",
      "Using minimap directory: intermediate_results2/action_40_no_offence/minimap\n",
      "Found 126 frames in intermediate_results2/action_40_no_offence/player_detections_with_team_with_minimap.json\n",
      "Analyzed 0 frames with referee positions\n",
      "Processing 126 frames\n",
      "Processed frame 0\n",
      "Processed frame 50\n",
      "Processed frame 100\n",
      "Enhanced minimaps saved to intermediate_results2/action_40_no_offence/minimap with '_augmented' suffix\n",
      "Creating video from 126 frames...\n"
     ]
    },
    {
     "name": "stderr",
     "output_type": "stream",
     "text": [
      "Processing videos:  80%|███████▉  | 318/400 [07:34<02:00,  1.47s/it]"
     ]
    },
    {
     "name": "stdout",
     "output_type": "stream",
     "text": [
      "Video created: intermediate_results2/action_40_no_offence/minimap_augmented.mp4\n",
      "Processing completed successfully!\n",
      "\n",
      "Processing action_427_offence.mp4...\n",
      "Using minimap directory: intermediate_results2/action_427_offence/minimap\n",
      "Found 126 frames in intermediate_results2/action_427_offence/player_detections_with_team_with_minimap.json\n",
      "Analyzed 0 frames with referee positions\n",
      "Processing 126 frames\n",
      "Processed frame 0\n",
      "Processed frame 50\n",
      "Processed frame 100\n",
      "Enhanced minimaps saved to intermediate_results2/action_427_offence/minimap with '_augmented' suffix\n",
      "Creating video from 126 frames...\n"
     ]
    },
    {
     "name": "stderr",
     "output_type": "stream",
     "text": [
      "Processing videos:  80%|███████▉  | 319/400 [07:36<01:58,  1.46s/it]"
     ]
    },
    {
     "name": "stdout",
     "output_type": "stream",
     "text": [
      "Video created: intermediate_results2/action_427_offence/minimap_augmented.mp4\n",
      "Processing completed successfully!\n",
      "\n",
      "Processing action_429_offence.mp4...\n",
      "Using minimap directory: intermediate_results2/action_429_offence/minimap\n",
      "Found 126 frames in intermediate_results2/action_429_offence/player_detections_with_team_with_minimap.json\n",
      "Analyzed 0 frames with referee positions\n",
      "Processing 126 frames\n",
      "Processed frame 0\n",
      "Processed frame 50\n",
      "Processed frame 100\n",
      "Enhanced minimaps saved to intermediate_results2/action_429_offence/minimap with '_augmented' suffix\n",
      "Creating video from 126 frames...\n"
     ]
    },
    {
     "name": "stderr",
     "output_type": "stream",
     "text": [
      "Processing videos:  80%|████████  | 320/400 [07:37<01:54,  1.43s/it]"
     ]
    },
    {
     "name": "stdout",
     "output_type": "stream",
     "text": [
      "Video created: intermediate_results2/action_429_offence/minimap_augmented.mp4\n",
      "Processing completed successfully!\n",
      "\n",
      "Processing action_443_no_offence.mp4...\n",
      "Using minimap directory: intermediate_results2/action_443_no_offence/minimap\n",
      "Found 126 frames in intermediate_results2/action_443_no_offence/player_detections_with_team_with_minimap.json\n",
      "Analyzed 0 frames with referee positions\n",
      "Processing 126 frames\n",
      "Processed frame 0\n",
      "Processed frame 50\n",
      "Processed frame 100\n",
      "Enhanced minimaps saved to intermediate_results2/action_443_no_offence/minimap with '_augmented' suffix\n",
      "Creating video from 126 frames...\n"
     ]
    },
    {
     "name": "stderr",
     "output_type": "stream",
     "text": [
      "Processing videos:  80%|████████  | 321/400 [07:38<01:51,  1.42s/it]"
     ]
    },
    {
     "name": "stdout",
     "output_type": "stream",
     "text": [
      "Video created: intermediate_results2/action_443_no_offence/minimap_augmented.mp4\n",
      "Processing completed successfully!\n",
      "\n",
      "Processing action_445_no_offence.mp4...\n",
      "Using minimap directory: intermediate_results2/action_445_no_offence/minimap\n",
      "Found 126 frames in intermediate_results2/action_445_no_offence/player_detections_with_team_with_minimap.json\n",
      "Analyzed 0 frames with referee positions\n",
      "Processing 126 frames\n",
      "Processed frame 0\n",
      "Processed frame 50\n",
      "Processed frame 100\n",
      "Enhanced minimaps saved to intermediate_results2/action_445_no_offence/minimap with '_augmented' suffix\n",
      "Creating video from 126 frames...\n"
     ]
    },
    {
     "name": "stderr",
     "output_type": "stream",
     "text": [
      "Processing videos:  80%|████████  | 322/400 [07:40<01:50,  1.42s/it]"
     ]
    },
    {
     "name": "stdout",
     "output_type": "stream",
     "text": [
      "Video created: intermediate_results2/action_445_no_offence/minimap_augmented.mp4\n",
      "Processing completed successfully!\n",
      "\n",
      "Processing action_461_no_offence.mp4...\n",
      "Using minimap directory: intermediate_results2/action_461_no_offence/minimap\n",
      "Found 126 frames in intermediate_results2/action_461_no_offence/player_detections_with_team_with_minimap.json\n",
      "Analyzed 0 frames with referee positions\n",
      "Processing 126 frames\n",
      "Processed frame 0\n",
      "Processed frame 50\n",
      "Processed frame 100\n",
      "Enhanced minimaps saved to intermediate_results2/action_461_no_offence/minimap with '_augmented' suffix\n",
      "Creating video from 126 frames...\n"
     ]
    },
    {
     "name": "stderr",
     "output_type": "stream",
     "text": [
      "Processing videos:  81%|████████  | 323/400 [07:41<01:50,  1.43s/it]"
     ]
    },
    {
     "name": "stdout",
     "output_type": "stream",
     "text": [
      "Video created: intermediate_results2/action_461_no_offence/minimap_augmented.mp4\n",
      "Processing completed successfully!\n",
      "\n",
      "Processing action_466_offence.mp4...\n",
      "Using minimap directory: intermediate_results2/action_466_offence/minimap\n",
      "Found 126 frames in intermediate_results2/action_466_offence/player_detections_with_team_with_minimap.json\n",
      "Analyzed 0 frames with referee positions\n",
      "Processing 126 frames\n",
      "Processed frame 0\n",
      "Processed frame 50\n",
      "Processed frame 100\n",
      "Enhanced minimaps saved to intermediate_results2/action_466_offence/minimap with '_augmented' suffix\n",
      "Creating video from 126 frames...\n"
     ]
    },
    {
     "name": "stderr",
     "output_type": "stream",
     "text": [
      "Processing videos:  81%|████████  | 324/400 [07:43<01:47,  1.42s/it]"
     ]
    },
    {
     "name": "stdout",
     "output_type": "stream",
     "text": [
      "Video created: intermediate_results2/action_466_offence/minimap_augmented.mp4\n",
      "Processing completed successfully!\n",
      "\n",
      "Processing action_476_no_offence.mp4...\n",
      "Using minimap directory: intermediate_results2/action_476_no_offence/minimap\n",
      "Found 126 frames in intermediate_results2/action_476_no_offence/player_detections_with_team_with_minimap.json\n",
      "Analyzed 0 frames with referee positions\n",
      "Processing 126 frames\n",
      "Processed frame 0\n",
      "Processed frame 50\n",
      "Processed frame 100\n",
      "Enhanced minimaps saved to intermediate_results2/action_476_no_offence/minimap with '_augmented' suffix\n",
      "Creating video from 126 frames...\n"
     ]
    },
    {
     "name": "stderr",
     "output_type": "stream",
     "text": [
      "Processing videos:  81%|████████▏ | 325/400 [07:44<01:45,  1.41s/it]"
     ]
    },
    {
     "name": "stdout",
     "output_type": "stream",
     "text": [
      "Video created: intermediate_results2/action_476_no_offence/minimap_augmented.mp4\n",
      "Processing completed successfully!\n",
      "\n",
      "Processing action_477_no_offence.mp4...\n",
      "Using minimap directory: intermediate_results2/action_477_no_offence/minimap\n",
      "Found 126 frames in intermediate_results2/action_477_no_offence/player_detections_with_team_with_minimap.json\n",
      "Analyzed 0 frames with referee positions\n",
      "Processing 126 frames\n",
      "Processed frame 0\n",
      "Processed frame 50\n",
      "Processed frame 100\n",
      "Enhanced minimaps saved to intermediate_results2/action_477_no_offence/minimap with '_augmented' suffix\n",
      "Creating video from 126 frames...\n"
     ]
    },
    {
     "name": "stderr",
     "output_type": "stream",
     "text": [
      "Processing videos:  82%|████████▏ | 326/400 [07:46<01:44,  1.41s/it]"
     ]
    },
    {
     "name": "stdout",
     "output_type": "stream",
     "text": [
      "Video created: intermediate_results2/action_477_no_offence/minimap_augmented.mp4\n",
      "Processing completed successfully!\n",
      "\n",
      "Processing action_486_no_offence.mp4...\n",
      "Using minimap directory: intermediate_results2/action_486_no_offence/minimap\n",
      "Found 126 frames in intermediate_results2/action_486_no_offence/player_detections_with_team_with_minimap.json\n",
      "Analyzed 0 frames with referee positions\n",
      "Processing 126 frames\n",
      "Processed frame 0\n",
      "Processed frame 50\n",
      "Processed frame 100\n",
      "Enhanced minimaps saved to intermediate_results2/action_486_no_offence/minimap with '_augmented' suffix\n",
      "Creating video from 126 frames...\n"
     ]
    },
    {
     "name": "stderr",
     "output_type": "stream",
     "text": [
      "Processing videos:  82%|████████▏ | 327/400 [07:47<01:50,  1.51s/it]"
     ]
    },
    {
     "name": "stdout",
     "output_type": "stream",
     "text": [
      "Video created: intermediate_results2/action_486_no_offence/minimap_augmented.mp4\n",
      "Processing completed successfully!\n",
      "\n",
      "Processing action_496_offence.mp4...\n",
      "Using minimap directory: intermediate_results2/action_496_offence/minimap\n",
      "Found 126 frames in intermediate_results2/action_496_offence/player_detections_with_team_with_minimap.json\n",
      "Analyzed 0 frames with referee positions\n",
      "Processing 126 frames\n",
      "Processed frame 0\n",
      "Processed frame 50\n",
      "Processed frame 100\n",
      "Enhanced minimaps saved to intermediate_results2/action_496_offence/minimap with '_augmented' suffix\n",
      "Creating video from 126 frames...\n"
     ]
    },
    {
     "name": "stderr",
     "output_type": "stream",
     "text": [
      "Processing videos:  82%|████████▏ | 328/400 [07:49<01:47,  1.50s/it]"
     ]
    },
    {
     "name": "stdout",
     "output_type": "stream",
     "text": [
      "Video created: intermediate_results2/action_496_offence/minimap_augmented.mp4\n",
      "Processing completed successfully!\n",
      "\n",
      "Processing action_501_no_offence.mp4...\n",
      "Using minimap directory: intermediate_results2/action_501_no_offence/minimap\n",
      "Found 126 frames in intermediate_results2/action_501_no_offence/player_detections_with_team_with_minimap.json\n",
      "Analyzed 0 frames with referee positions\n",
      "Processing 126 frames\n",
      "Processed frame 0\n",
      "Processed frame 50\n",
      "Processed frame 100\n",
      "Enhanced minimaps saved to intermediate_results2/action_501_no_offence/minimap with '_augmented' suffix\n",
      "Creating video from 126 frames...\n"
     ]
    },
    {
     "name": "stderr",
     "output_type": "stream",
     "text": [
      "Processing videos:  82%|████████▏ | 329/400 [07:50<01:44,  1.48s/it]"
     ]
    },
    {
     "name": "stdout",
     "output_type": "stream",
     "text": [
      "Video created: intermediate_results2/action_501_no_offence/minimap_augmented.mp4\n",
      "Processing completed successfully!\n",
      "\n",
      "Processing action_504_offence.mp4...\n",
      "Using minimap directory: intermediate_results2/action_504_offence/minimap\n",
      "Found 126 frames in intermediate_results2/action_504_offence/player_detections_with_team_with_minimap.json\n",
      "Analyzed 0 frames with referee positions\n",
      "Processing 126 frames\n",
      "Processed frame 0\n",
      "Processed frame 50\n",
      "Processed frame 100\n",
      "Enhanced minimaps saved to intermediate_results2/action_504_offence/minimap with '_augmented' suffix\n",
      "Creating video from 126 frames...\n"
     ]
    },
    {
     "name": "stderr",
     "output_type": "stream",
     "text": [
      "Processing videos:  82%|████████▎ | 330/400 [07:52<01:42,  1.47s/it]"
     ]
    },
    {
     "name": "stdout",
     "output_type": "stream",
     "text": [
      "Video created: intermediate_results2/action_504_offence/minimap_augmented.mp4\n",
      "Processing completed successfully!\n",
      "\n",
      "Processing action_506_no_offence.mp4...\n",
      "Using minimap directory: intermediate_results2/action_506_no_offence/minimap\n",
      "Found 126 frames in intermediate_results2/action_506_no_offence/player_detections_with_team_with_minimap.json\n",
      "Analyzed 0 frames with referee positions\n",
      "Processing 126 frames\n",
      "Processed frame 0\n",
      "Processed frame 50\n",
      "Processed frame 100\n",
      "Enhanced minimaps saved to intermediate_results2/action_506_no_offence/minimap with '_augmented' suffix\n",
      "Creating video from 126 frames...\n"
     ]
    },
    {
     "name": "stderr",
     "output_type": "stream",
     "text": [
      "Processing videos:  83%|████████▎ | 331/400 [07:53<01:40,  1.46s/it]"
     ]
    },
    {
     "name": "stdout",
     "output_type": "stream",
     "text": [
      "Video created: intermediate_results2/action_506_no_offence/minimap_augmented.mp4\n",
      "Processing completed successfully!\n",
      "\n",
      "Processing action_507_no_offence.mp4...\n",
      "Using minimap directory: intermediate_results2/action_507_no_offence/minimap\n",
      "Found 126 frames in intermediate_results2/action_507_no_offence/player_detections_with_team_with_minimap.json\n",
      "Analyzed 0 frames with referee positions\n",
      "Processing 126 frames\n",
      "Processed frame 0\n",
      "Processed frame 50\n",
      "Processed frame 100\n",
      "Enhanced minimaps saved to intermediate_results2/action_507_no_offence/minimap with '_augmented' suffix\n",
      "Creating video from 126 frames...\n"
     ]
    },
    {
     "name": "stderr",
     "output_type": "stream",
     "text": [
      "Processing videos:  83%|████████▎ | 332/400 [07:55<01:38,  1.45s/it]"
     ]
    },
    {
     "name": "stdout",
     "output_type": "stream",
     "text": [
      "Video created: intermediate_results2/action_507_no_offence/minimap_augmented.mp4\n",
      "Processing completed successfully!\n",
      "\n",
      "Processing action_533_offence.mp4...\n",
      "Using minimap directory: intermediate_results2/action_533_offence/minimap\n",
      "Found 126 frames in intermediate_results2/action_533_offence/player_detections_with_team_with_minimap.json\n",
      "Analyzed 0 frames with referee positions\n",
      "Processing 126 frames\n",
      "Processed frame 0\n",
      "Processed frame 50\n",
      "Processed frame 100\n",
      "Enhanced minimaps saved to intermediate_results2/action_533_offence/minimap with '_augmented' suffix\n",
      "Creating video from 126 frames...\n"
     ]
    },
    {
     "name": "stderr",
     "output_type": "stream",
     "text": [
      "Processing videos:  83%|████████▎ | 333/400 [07:56<01:35,  1.43s/it]"
     ]
    },
    {
     "name": "stdout",
     "output_type": "stream",
     "text": [
      "Video created: intermediate_results2/action_533_offence/minimap_augmented.mp4\n",
      "Processing completed successfully!\n",
      "\n",
      "Processing action_534_no_offence.mp4...\n",
      "Using minimap directory: intermediate_results2/action_534_no_offence/minimap\n",
      "Found 126 frames in intermediate_results2/action_534_no_offence/player_detections_with_team_with_minimap.json\n",
      "Analyzed 0 frames with referee positions\n",
      "Processing 126 frames\n",
      "Processed frame 0\n",
      "Processed frame 50\n",
      "Processed frame 100\n",
      "Enhanced minimaps saved to intermediate_results2/action_534_no_offence/minimap with '_augmented' suffix\n",
      "Creating video from 126 frames...\n"
     ]
    },
    {
     "name": "stderr",
     "output_type": "stream",
     "text": [
      "Processing videos:  84%|████████▎ | 334/400 [07:57<01:33,  1.41s/it]"
     ]
    },
    {
     "name": "stdout",
     "output_type": "stream",
     "text": [
      "Video created: intermediate_results2/action_534_no_offence/minimap_augmented.mp4\n",
      "Processing completed successfully!\n",
      "\n",
      "Processing action_537_no_offence.mp4...\n",
      "Using minimap directory: intermediate_results2/action_537_no_offence/minimap\n",
      "Found 126 frames in intermediate_results2/action_537_no_offence/player_detections_with_team_with_minimap.json\n",
      "Analyzed 0 frames with referee positions\n",
      "Processing 126 frames\n",
      "Processed frame 0\n",
      "Processed frame 50\n",
      "Processed frame 100\n",
      "Enhanced minimaps saved to intermediate_results2/action_537_no_offence/minimap with '_augmented' suffix\n",
      "Creating video from 126 frames...\n"
     ]
    },
    {
     "name": "stderr",
     "output_type": "stream",
     "text": [
      "Processing videos:  84%|████████▍ | 335/400 [07:59<01:31,  1.41s/it]"
     ]
    },
    {
     "name": "stdout",
     "output_type": "stream",
     "text": [
      "Video created: intermediate_results2/action_537_no_offence/minimap_augmented.mp4\n",
      "Processing completed successfully!\n",
      "\n",
      "Processing action_539_offence.mp4...\n",
      "Using minimap directory: intermediate_results2/action_539_offence/minimap\n",
      "Found 126 frames in intermediate_results2/action_539_offence/player_detections_with_team_with_minimap.json\n",
      "Analyzed 0 frames with referee positions\n",
      "Processing 126 frames\n",
      "Processed frame 0\n",
      "Processed frame 50\n",
      "Processed frame 100\n",
      "Enhanced minimaps saved to intermediate_results2/action_539_offence/minimap with '_augmented' suffix\n",
      "Creating video from 126 frames...\n"
     ]
    },
    {
     "name": "stderr",
     "output_type": "stream",
     "text": [
      "Processing videos:  84%|████████▍ | 336/400 [08:00<01:32,  1.45s/it]"
     ]
    },
    {
     "name": "stdout",
     "output_type": "stream",
     "text": [
      "Video created: intermediate_results2/action_539_offence/minimap_augmented.mp4\n",
      "Processing completed successfully!\n",
      "\n",
      "Processing action_540_offence.mp4...\n",
      "Using minimap directory: intermediate_results2/action_540_offence/minimap\n",
      "Found 126 frames in intermediate_results2/action_540_offence/player_detections_with_team_with_minimap.json\n",
      "Analyzed 0 frames with referee positions\n",
      "Processing 126 frames\n",
      "Processed frame 0\n",
      "Processed frame 50\n",
      "Processed frame 100\n",
      "Enhanced minimaps saved to intermediate_results2/action_540_offence/minimap with '_augmented' suffix\n",
      "Creating video from 126 frames...\n"
     ]
    },
    {
     "name": "stderr",
     "output_type": "stream",
     "text": [
      "Processing videos:  84%|████████▍ | 337/400 [08:02<01:30,  1.44s/it]"
     ]
    },
    {
     "name": "stdout",
     "output_type": "stream",
     "text": [
      "Video created: intermediate_results2/action_540_offence/minimap_augmented.mp4\n",
      "Processing completed successfully!\n",
      "\n",
      "Processing action_544_offence.mp4...\n",
      "Using minimap directory: intermediate_results2/action_544_offence/minimap\n",
      "Found 126 frames in intermediate_results2/action_544_offence/player_detections_with_team_with_minimap.json\n",
      "Analyzed 0 frames with referee positions\n",
      "Processing 126 frames\n",
      "Processed frame 0\n",
      "Processed frame 50\n",
      "Processed frame 100\n",
      "Enhanced minimaps saved to intermediate_results2/action_544_offence/minimap with '_augmented' suffix\n",
      "Creating video from 126 frames...\n"
     ]
    },
    {
     "name": "stderr",
     "output_type": "stream",
     "text": [
      "Processing videos:  84%|████████▍ | 338/400 [08:03<01:29,  1.44s/it]"
     ]
    },
    {
     "name": "stdout",
     "output_type": "stream",
     "text": [
      "Video created: intermediate_results2/action_544_offence/minimap_augmented.mp4\n",
      "Processing completed successfully!\n",
      "\n",
      "Processing action_548_offence.mp4...\n",
      "Using minimap directory: intermediate_results2/action_548_offence/minimap\n",
      "Found 126 frames in intermediate_results2/action_548_offence/player_detections_with_team_with_minimap.json\n",
      "Analyzed 0 frames with referee positions\n",
      "Processing 126 frames\n",
      "Processed frame 0\n",
      "Processed frame 50\n",
      "Processed frame 100\n",
      "Enhanced minimaps saved to intermediate_results2/action_548_offence/minimap with '_augmented' suffix\n",
      "Creating video from 126 frames...\n"
     ]
    },
    {
     "name": "stderr",
     "output_type": "stream",
     "text": [
      "Processing videos:  85%|████████▍ | 339/400 [08:05<01:27,  1.43s/it]"
     ]
    },
    {
     "name": "stdout",
     "output_type": "stream",
     "text": [
      "Video created: intermediate_results2/action_548_offence/minimap_augmented.mp4\n",
      "Processing completed successfully!\n",
      "\n",
      "Processing action_568_no_offence.mp4...\n",
      "Using minimap directory: intermediate_results2/action_568_no_offence/minimap\n",
      "Found 126 frames in intermediate_results2/action_568_no_offence/player_detections_with_team_with_minimap.json\n",
      "Analyzed 0 frames with referee positions\n",
      "Processing 126 frames\n",
      "Processed frame 0\n",
      "Processed frame 50\n",
      "Processed frame 100\n",
      "Enhanced minimaps saved to intermediate_results2/action_568_no_offence/minimap with '_augmented' suffix\n",
      "Creating video from 126 frames...\n"
     ]
    },
    {
     "name": "stderr",
     "output_type": "stream",
     "text": [
      "Processing videos:  85%|████████▌ | 340/400 [08:06<01:25,  1.43s/it]"
     ]
    },
    {
     "name": "stdout",
     "output_type": "stream",
     "text": [
      "Video created: intermediate_results2/action_568_no_offence/minimap_augmented.mp4\n",
      "Processing completed successfully!\n",
      "\n",
      "Processing action_573_offence.mp4...\n",
      "Using minimap directory: intermediate_results2/action_573_offence/minimap\n",
      "Found 126 frames in intermediate_results2/action_573_offence/player_detections_with_team_with_minimap.json\n",
      "Analyzed 0 frames with referee positions\n",
      "Processing 126 frames\n",
      "Processed frame 0\n",
      "Processed frame 50\n",
      "Processed frame 100\n",
      "Enhanced minimaps saved to intermediate_results2/action_573_offence/minimap with '_augmented' suffix\n",
      "Creating video from 126 frames...\n"
     ]
    },
    {
     "name": "stderr",
     "output_type": "stream",
     "text": [
      "Processing videos:  85%|████████▌ | 341/400 [08:07<01:23,  1.41s/it]"
     ]
    },
    {
     "name": "stdout",
     "output_type": "stream",
     "text": [
      "Video created: intermediate_results2/action_573_offence/minimap_augmented.mp4\n",
      "Processing completed successfully!\n",
      "\n",
      "Processing action_584_offence.mp4...\n",
      "Using minimap directory: intermediate_results2/action_584_offence/minimap\n",
      "Found 126 frames in intermediate_results2/action_584_offence/player_detections_with_team_with_minimap.json\n",
      "Analyzed 0 frames with referee positions\n",
      "Processing 126 frames\n",
      "Processed frame 0\n",
      "Processed frame 50\n",
      "Processed frame 100\n",
      "Enhanced minimaps saved to intermediate_results2/action_584_offence/minimap with '_augmented' suffix\n",
      "Creating video from 126 frames...\n"
     ]
    },
    {
     "name": "stderr",
     "output_type": "stream",
     "text": [
      "Processing videos:  86%|████████▌ | 342/400 [08:09<01:20,  1.40s/it]"
     ]
    },
    {
     "name": "stdout",
     "output_type": "stream",
     "text": [
      "Video created: intermediate_results2/action_584_offence/minimap_augmented.mp4\n",
      "Processing completed successfully!\n",
      "\n",
      "Processing action_587_no_offence.mp4...\n",
      "Using minimap directory: intermediate_results2/action_587_no_offence/minimap\n",
      "Found 126 frames in intermediate_results2/action_587_no_offence/player_detections_with_team_with_minimap.json\n",
      "Analyzed 0 frames with referee positions\n",
      "Processing 126 frames\n",
      "Processed frame 0\n",
      "Processed frame 50\n",
      "Processed frame 100\n",
      "Enhanced minimaps saved to intermediate_results2/action_587_no_offence/minimap with '_augmented' suffix\n",
      "Creating video from 126 frames...\n"
     ]
    },
    {
     "name": "stderr",
     "output_type": "stream",
     "text": [
      "Processing videos:  86%|████████▌ | 343/400 [08:10<01:19,  1.39s/it]"
     ]
    },
    {
     "name": "stdout",
     "output_type": "stream",
     "text": [
      "Video created: intermediate_results2/action_587_no_offence/minimap_augmented.mp4\n",
      "Processing completed successfully!\n",
      "\n",
      "Processing action_58_no_offence.mp4...\n",
      "Using minimap directory: intermediate_results2/action_58_no_offence/minimap\n",
      "Found 126 frames in intermediate_results2/action_58_no_offence/player_detections_with_team_with_minimap.json\n",
      "Analyzed 0 frames with referee positions\n",
      "Processing 126 frames\n",
      "Processed frame 0\n",
      "Processed frame 50\n",
      "Processed frame 100\n",
      "Enhanced minimaps saved to intermediate_results2/action_58_no_offence/minimap with '_augmented' suffix\n",
      "Creating video from 126 frames...\n"
     ]
    },
    {
     "name": "stderr",
     "output_type": "stream",
     "text": [
      "Processing videos:  86%|████████▌ | 344/400 [08:11<01:18,  1.40s/it]"
     ]
    },
    {
     "name": "stdout",
     "output_type": "stream",
     "text": [
      "Video created: intermediate_results2/action_58_no_offence/minimap_augmented.mp4\n",
      "Processing completed successfully!\n",
      "\n",
      "Processing action_615_offence.mp4...\n",
      "Using minimap directory: intermediate_results2/action_615_offence/minimap\n",
      "Found 126 frames in intermediate_results2/action_615_offence/player_detections_with_team_with_minimap.json\n",
      "Analyzed 0 frames with referee positions\n",
      "Processing 126 frames\n",
      "Processed frame 0\n",
      "Processed frame 50\n",
      "Processed frame 100\n",
      "Enhanced minimaps saved to intermediate_results2/action_615_offence/minimap with '_augmented' suffix\n",
      "Creating video from 126 frames...\n"
     ]
    },
    {
     "name": "stderr",
     "output_type": "stream",
     "text": [
      "Processing videos:  86%|████████▋ | 345/400 [08:13<01:16,  1.40s/it]"
     ]
    },
    {
     "name": "stdout",
     "output_type": "stream",
     "text": [
      "Video created: intermediate_results2/action_615_offence/minimap_augmented.mp4\n",
      "Processing completed successfully!\n",
      "\n",
      "Processing action_637_offence.mp4...\n",
      "Using minimap directory: intermediate_results2/action_637_offence/minimap\n",
      "Found 126 frames in intermediate_results2/action_637_offence/player_detections_with_team_with_minimap.json\n",
      "Analyzed 0 frames with referee positions\n",
      "Processing 126 frames\n",
      "Processed frame 0\n",
      "Processed frame 50\n",
      "Processed frame 100\n",
      "Enhanced minimaps saved to intermediate_results2/action_637_offence/minimap with '_augmented' suffix\n",
      "Creating video from 126 frames...\n"
     ]
    },
    {
     "name": "stderr",
     "output_type": "stream",
     "text": [
      "Processing videos:  86%|████████▋ | 346/400 [08:14<01:15,  1.39s/it]"
     ]
    },
    {
     "name": "stdout",
     "output_type": "stream",
     "text": [
      "Video created: intermediate_results2/action_637_offence/minimap_augmented.mp4\n",
      "Processing completed successfully!\n",
      "\n",
      "Processing action_639_no_offence.mp4...\n",
      "Using minimap directory: intermediate_results2/action_639_no_offence/minimap\n",
      "Found 126 frames in intermediate_results2/action_639_no_offence/player_detections_with_team_with_minimap.json\n",
      "Analyzed 0 frames with referee positions\n",
      "Processing 126 frames\n",
      "Processed frame 0\n",
      "Processed frame 50\n",
      "Processed frame 100\n",
      "Enhanced minimaps saved to intermediate_results2/action_639_no_offence/minimap with '_augmented' suffix\n",
      "Creating video from 126 frames...\n"
     ]
    },
    {
     "name": "stderr",
     "output_type": "stream",
     "text": [
      "Processing videos:  87%|████████▋ | 347/400 [08:16<01:12,  1.38s/it]"
     ]
    },
    {
     "name": "stdout",
     "output_type": "stream",
     "text": [
      "Video created: intermediate_results2/action_639_no_offence/minimap_augmented.mp4\n",
      "Processing completed successfully!\n",
      "\n",
      "Processing action_63_no_offence.mp4...\n",
      "Using minimap directory: intermediate_results2/action_63_no_offence/minimap\n",
      "Found 126 frames in intermediate_results2/action_63_no_offence/player_detections_with_team_with_minimap.json\n",
      "Analyzed 0 frames with referee positions\n",
      "Processing 126 frames\n",
      "Processed frame 0\n",
      "Processed frame 50\n",
      "Processed frame 100\n",
      "Enhanced minimaps saved to intermediate_results2/action_63_no_offence/minimap with '_augmented' suffix\n",
      "Creating video from 126 frames...\n"
     ]
    },
    {
     "name": "stderr",
     "output_type": "stream",
     "text": [
      "Processing videos:  87%|████████▋ | 348/400 [08:17<01:11,  1.37s/it]"
     ]
    },
    {
     "name": "stdout",
     "output_type": "stream",
     "text": [
      "Video created: intermediate_results2/action_63_no_offence/minimap_augmented.mp4\n",
      "Processing completed successfully!\n",
      "\n",
      "Processing action_645_offence.mp4...\n",
      "Using minimap directory: intermediate_results2/action_645_offence/minimap\n",
      "Found 126 frames in intermediate_results2/action_645_offence/player_detections_with_team_with_minimap.json\n",
      "Analyzed 0 frames with referee positions\n",
      "Processing 126 frames\n",
      "Processed frame 0\n",
      "Processed frame 50\n",
      "Processed frame 100\n",
      "Enhanced minimaps saved to intermediate_results2/action_645_offence/minimap with '_augmented' suffix\n",
      "Creating video from 126 frames...\n"
     ]
    },
    {
     "name": "stderr",
     "output_type": "stream",
     "text": [
      "Processing videos:  87%|████████▋ | 349/400 [08:18<01:11,  1.39s/it]"
     ]
    },
    {
     "name": "stdout",
     "output_type": "stream",
     "text": [
      "Video created: intermediate_results2/action_645_offence/minimap_augmented.mp4\n",
      "Processing completed successfully!\n",
      "\n",
      "Processing action_663_no_offence.mp4...\n",
      "Using minimap directory: intermediate_results2/action_663_no_offence/minimap\n",
      "Found 126 frames in intermediate_results2/action_663_no_offence/player_detections_with_team_with_minimap.json\n",
      "Analyzed 0 frames with referee positions\n",
      "Processing 126 frames\n",
      "Processed frame 0\n",
      "Processed frame 50\n",
      "Processed frame 100\n",
      "Enhanced minimaps saved to intermediate_results2/action_663_no_offence/minimap with '_augmented' suffix\n",
      "Creating video from 126 frames...\n"
     ]
    },
    {
     "name": "stderr",
     "output_type": "stream",
     "text": [
      "Processing videos:  88%|████████▊ | 350/400 [08:20<01:09,  1.38s/it]"
     ]
    },
    {
     "name": "stdout",
     "output_type": "stream",
     "text": [
      "Video created: intermediate_results2/action_663_no_offence/minimap_augmented.mp4\n",
      "Processing completed successfully!\n",
      "\n",
      "Processing action_667_offence.mp4...\n",
      "Using minimap directory: intermediate_results2/action_667_offence/minimap\n",
      "Found 126 frames in intermediate_results2/action_667_offence/player_detections_with_team_with_minimap.json\n",
      "Analyzed 0 frames with referee positions\n",
      "Processing 126 frames\n",
      "Processed frame 0\n",
      "Processed frame 50\n",
      "Processed frame 100\n",
      "Enhanced minimaps saved to intermediate_results2/action_667_offence/minimap with '_augmented' suffix\n",
      "Creating video from 126 frames...\n"
     ]
    },
    {
     "name": "stderr",
     "output_type": "stream",
     "text": [
      "Processing videos:  88%|████████▊ | 351/400 [08:21<01:06,  1.37s/it]"
     ]
    },
    {
     "name": "stdout",
     "output_type": "stream",
     "text": [
      "Video created: intermediate_results2/action_667_offence/minimap_augmented.mp4\n",
      "Processing completed successfully!\n",
      "\n",
      "Processing action_673_no_offence.mp4...\n",
      "Using minimap directory: intermediate_results2/action_673_no_offence/minimap\n",
      "Found 126 frames in intermediate_results2/action_673_no_offence/player_detections_with_team_with_minimap.json\n",
      "Analyzed 0 frames with referee positions\n",
      "Processing 126 frames\n",
      "Processed frame 0\n",
      "Processed frame 50\n",
      "Processed frame 100\n",
      "Enhanced minimaps saved to intermediate_results2/action_673_no_offence/minimap with '_augmented' suffix\n",
      "Creating video from 126 frames...\n"
     ]
    },
    {
     "name": "stderr",
     "output_type": "stream",
     "text": [
      "Processing videos:  88%|████████▊ | 352/400 [08:23<01:06,  1.39s/it]"
     ]
    },
    {
     "name": "stdout",
     "output_type": "stream",
     "text": [
      "Video created: intermediate_results2/action_673_no_offence/minimap_augmented.mp4\n",
      "Processing completed successfully!\n",
      "\n",
      "Processing action_677_no_offence.mp4...\n",
      "Using minimap directory: intermediate_results2/action_677_no_offence/minimap\n",
      "Found 126 frames in intermediate_results2/action_677_no_offence/player_detections_with_team_with_minimap.json\n",
      "Analyzed 0 frames with referee positions\n",
      "Processing 126 frames\n",
      "Processed frame 0\n",
      "Processed frame 50\n",
      "Processed frame 100\n",
      "Enhanced minimaps saved to intermediate_results2/action_677_no_offence/minimap with '_augmented' suffix\n",
      "Creating video from 126 frames...\n"
     ]
    },
    {
     "name": "stderr",
     "output_type": "stream",
     "text": [
      "Processing videos:  88%|████████▊ | 353/400 [08:24<01:04,  1.38s/it]"
     ]
    },
    {
     "name": "stdout",
     "output_type": "stream",
     "text": [
      "Video created: intermediate_results2/action_677_no_offence/minimap_augmented.mp4\n",
      "Processing completed successfully!\n",
      "\n",
      "Processing action_694_no_offence.mp4...\n",
      "Using minimap directory: intermediate_results2/action_694_no_offence/minimap\n",
      "Found 126 frames in intermediate_results2/action_694_no_offence/player_detections_with_team_with_minimap.json\n",
      "Analyzed 0 frames with referee positions\n",
      "Processing 126 frames\n",
      "Processed frame 0\n",
      "Processed frame 50\n",
      "Processed frame 100\n",
      "Enhanced minimaps saved to intermediate_results2/action_694_no_offence/minimap with '_augmented' suffix\n",
      "Creating video from 126 frames...\n"
     ]
    },
    {
     "name": "stderr",
     "output_type": "stream",
     "text": [
      "Processing videos:  88%|████████▊ | 354/400 [08:25<01:03,  1.38s/it]"
     ]
    },
    {
     "name": "stdout",
     "output_type": "stream",
     "text": [
      "Video created: intermediate_results2/action_694_no_offence/minimap_augmented.mp4\n",
      "Processing completed successfully!\n",
      "\n",
      "Processing action_697_no_offence.mp4...\n",
      "Using minimap directory: intermediate_results2/action_697_no_offence/minimap\n",
      "Found 126 frames in intermediate_results2/action_697_no_offence/player_detections_with_team_with_minimap.json\n",
      "Analyzed 0 frames with referee positions\n",
      "Processing 126 frames\n",
      "Processed frame 0\n",
      "Processed frame 50\n",
      "Processed frame 100\n",
      "Enhanced minimaps saved to intermediate_results2/action_697_no_offence/minimap with '_augmented' suffix\n",
      "Creating video from 126 frames...\n"
     ]
    },
    {
     "name": "stderr",
     "output_type": "stream",
     "text": [
      "Processing videos:  89%|████████▉ | 355/400 [08:27<01:03,  1.41s/it]"
     ]
    },
    {
     "name": "stdout",
     "output_type": "stream",
     "text": [
      "Video created: intermediate_results2/action_697_no_offence/minimap_augmented.mp4\n",
      "Processing completed successfully!\n",
      "\n",
      "Processing action_702_offence.mp4...\n",
      "Using minimap directory: intermediate_results2/action_702_offence/minimap\n",
      "Found 126 frames in intermediate_results2/action_702_offence/player_detections_with_team_with_minimap.json\n",
      "Analyzed 0 frames with referee positions\n",
      "Processing 126 frames\n",
      "Processed frame 0\n",
      "Processed frame 50\n",
      "Processed frame 100\n",
      "Enhanced minimaps saved to intermediate_results2/action_702_offence/minimap with '_augmented' suffix\n",
      "Creating video from 126 frames...\n"
     ]
    },
    {
     "name": "stderr",
     "output_type": "stream",
     "text": [
      "Processing videos:  89%|████████▉ | 356/400 [08:28<01:02,  1.41s/it]"
     ]
    },
    {
     "name": "stdout",
     "output_type": "stream",
     "text": [
      "Video created: intermediate_results2/action_702_offence/minimap_augmented.mp4\n",
      "Processing completed successfully!\n",
      "\n",
      "Processing action_704_offence.mp4...\n",
      "Using minimap directory: intermediate_results2/action_704_offence/minimap\n",
      "Found 126 frames in intermediate_results2/action_704_offence/player_detections_with_team_with_minimap.json\n",
      "Analyzed 0 frames with referee positions\n",
      "Processing 126 frames\n",
      "Processed frame 0\n",
      "Processed frame 50\n",
      "Processed frame 100\n",
      "Enhanced minimaps saved to intermediate_results2/action_704_offence/minimap with '_augmented' suffix\n",
      "Creating video from 126 frames...\n"
     ]
    },
    {
     "name": "stderr",
     "output_type": "stream",
     "text": [
      "Processing videos:  89%|████████▉ | 357/400 [08:30<01:00,  1.41s/it]"
     ]
    },
    {
     "name": "stdout",
     "output_type": "stream",
     "text": [
      "Video created: intermediate_results2/action_704_offence/minimap_augmented.mp4\n",
      "Processing completed successfully!\n",
      "\n",
      "Processing action_713_offence.mp4...\n",
      "Using minimap directory: intermediate_results2/action_713_offence/minimap\n",
      "Found 126 frames in intermediate_results2/action_713_offence/player_detections_with_team_with_minimap.json\n",
      "Analyzed 0 frames with referee positions\n",
      "Processing 126 frames\n",
      "Processed frame 0\n",
      "Processed frame 50\n",
      "Processed frame 100\n",
      "Enhanced minimaps saved to intermediate_results2/action_713_offence/minimap with '_augmented' suffix\n",
      "Creating video from 126 frames...\n"
     ]
    },
    {
     "name": "stderr",
     "output_type": "stream",
     "text": [
      "Processing videos:  90%|████████▉ | 358/400 [08:31<00:59,  1.41s/it]"
     ]
    },
    {
     "name": "stdout",
     "output_type": "stream",
     "text": [
      "Video created: intermediate_results2/action_713_offence/minimap_augmented.mp4\n",
      "Processing completed successfully!\n",
      "\n",
      "Processing action_717_no_offence.mp4...\n",
      "Using minimap directory: intermediate_results2/action_717_no_offence/minimap\n",
      "Found 126 frames in intermediate_results2/action_717_no_offence/player_detections_with_team_with_minimap.json\n",
      "Analyzed 0 frames with referee positions\n",
      "Processing 126 frames\n",
      "Processed frame 0\n",
      "Processed frame 50\n",
      "Processed frame 100\n",
      "Enhanced minimaps saved to intermediate_results2/action_717_no_offence/minimap with '_augmented' suffix\n",
      "Creating video from 126 frames...\n"
     ]
    },
    {
     "name": "stderr",
     "output_type": "stream",
     "text": [
      "Processing videos:  90%|████████▉ | 359/400 [08:32<00:57,  1.40s/it]"
     ]
    },
    {
     "name": "stdout",
     "output_type": "stream",
     "text": [
      "Video created: intermediate_results2/action_717_no_offence/minimap_augmented.mp4\n",
      "Processing completed successfully!\n",
      "\n",
      "Processing action_723_no_offence.mp4...\n",
      "Using minimap directory: intermediate_results2/action_723_no_offence/minimap\n",
      "Found 126 frames in intermediate_results2/action_723_no_offence/player_detections_with_team_with_minimap.json\n",
      "Analyzed 0 frames with referee positions\n",
      "Processing 126 frames\n",
      "Processed frame 0\n",
      "Processed frame 50\n",
      "Processed frame 100\n",
      "Enhanced minimaps saved to intermediate_results2/action_723_no_offence/minimap with '_augmented' suffix\n",
      "Creating video from 126 frames...\n"
     ]
    },
    {
     "name": "stderr",
     "output_type": "stream",
     "text": [
      "Processing videos:  90%|█████████ | 360/400 [08:34<00:56,  1.40s/it]"
     ]
    },
    {
     "name": "stdout",
     "output_type": "stream",
     "text": [
      "Video created: intermediate_results2/action_723_no_offence/minimap_augmented.mp4\n",
      "Processing completed successfully!\n",
      "\n",
      "Processing action_72_offence.mp4...\n",
      "Using minimap directory: intermediate_results2/action_72_offence/minimap\n",
      "Found 126 frames in intermediate_results2/action_72_offence/player_detections_with_team_with_minimap.json\n",
      "Analyzed 0 frames with referee positions\n",
      "Processing 126 frames\n",
      "Processed frame 0\n",
      "Processed frame 50\n",
      "Processed frame 100\n",
      "Enhanced minimaps saved to intermediate_results2/action_72_offence/minimap with '_augmented' suffix\n",
      "Creating video from 126 frames...\n"
     ]
    },
    {
     "name": "stderr",
     "output_type": "stream",
     "text": [
      "Processing videos:  90%|█████████ | 361/400 [08:35<00:55,  1.42s/it]"
     ]
    },
    {
     "name": "stdout",
     "output_type": "stream",
     "text": [
      "Video created: intermediate_results2/action_72_offence/minimap_augmented.mp4\n",
      "Processing completed successfully!\n",
      "\n",
      "Processing action_739_offence.mp4...\n",
      "Using minimap directory: intermediate_results2/action_739_offence/minimap\n",
      "Found 126 frames in intermediate_results2/action_739_offence/player_detections_with_team_with_minimap.json\n",
      "Analyzed 0 frames with referee positions\n",
      "Processing 126 frames\n",
      "Processed frame 0\n",
      "Processed frame 50\n",
      "Processed frame 100\n",
      "Enhanced minimaps saved to intermediate_results2/action_739_offence/minimap with '_augmented' suffix\n",
      "Creating video from 126 frames...\n"
     ]
    },
    {
     "name": "stderr",
     "output_type": "stream",
     "text": [
      "Processing videos:  90%|█████████ | 362/400 [08:37<00:54,  1.43s/it]"
     ]
    },
    {
     "name": "stdout",
     "output_type": "stream",
     "text": [
      "Video created: intermediate_results2/action_739_offence/minimap_augmented.mp4\n",
      "Processing completed successfully!\n",
      "\n",
      "Processing action_745_no_offence.mp4...\n",
      "Using minimap directory: intermediate_results2/action_745_no_offence/minimap\n",
      "Found 126 frames in intermediate_results2/action_745_no_offence/player_detections_with_team_with_minimap.json\n",
      "Analyzed 0 frames with referee positions\n",
      "Processing 126 frames\n",
      "Processed frame 0\n",
      "Processed frame 50\n",
      "Processed frame 100\n",
      "Enhanced minimaps saved to intermediate_results2/action_745_no_offence/minimap with '_augmented' suffix\n",
      "Creating video from 126 frames...\n"
     ]
    },
    {
     "name": "stderr",
     "output_type": "stream",
     "text": [
      "Processing videos:  91%|█████████ | 363/400 [08:38<00:52,  1.42s/it]"
     ]
    },
    {
     "name": "stdout",
     "output_type": "stream",
     "text": [
      "Video created: intermediate_results2/action_745_no_offence/minimap_augmented.mp4\n",
      "Processing completed successfully!\n",
      "\n",
      "Processing action_748_offence.mp4...\n",
      "Using minimap directory: intermediate_results2/action_748_offence/minimap\n",
      "Found 126 frames in intermediate_results2/action_748_offence/player_detections_with_team_with_minimap.json\n",
      "Analyzed 0 frames with referee positions\n",
      "Processing 126 frames\n",
      "Processed frame 0\n",
      "Processed frame 50\n",
      "Processed frame 100\n",
      "Enhanced minimaps saved to intermediate_results2/action_748_offence/minimap with '_augmented' suffix\n",
      "Creating video from 126 frames...\n"
     ]
    },
    {
     "name": "stderr",
     "output_type": "stream",
     "text": [
      "Processing videos:  91%|█████████ | 364/400 [08:39<00:50,  1.42s/it]"
     ]
    },
    {
     "name": "stdout",
     "output_type": "stream",
     "text": [
      "Video created: intermediate_results2/action_748_offence/minimap_augmented.mp4\n",
      "Processing completed successfully!\n",
      "\n",
      "Processing action_750_offence.mp4...\n",
      "Using minimap directory: intermediate_results2/action_750_offence/minimap\n",
      "Found 126 frames in intermediate_results2/action_750_offence/player_detections_with_team_with_minimap.json\n",
      "Analyzed 0 frames with referee positions\n",
      "Processing 126 frames\n",
      "Processed frame 0\n",
      "Processed frame 50\n",
      "Processed frame 100\n",
      "Enhanced minimaps saved to intermediate_results2/action_750_offence/minimap with '_augmented' suffix\n",
      "Creating video from 126 frames...\n"
     ]
    },
    {
     "name": "stderr",
     "output_type": "stream",
     "text": [
      "Processing videos:  91%|█████████▏| 365/400 [08:41<00:49,  1.42s/it]"
     ]
    },
    {
     "name": "stdout",
     "output_type": "stream",
     "text": [
      "Video created: intermediate_results2/action_750_offence/minimap_augmented.mp4\n",
      "Processing completed successfully!\n",
      "\n",
      "Processing action_769_offence.mp4...\n",
      "Using minimap directory: intermediate_results2/action_769_offence/minimap\n",
      "Found 126 frames in intermediate_results2/action_769_offence/player_detections_with_team_with_minimap.json\n",
      "Analyzed 0 frames with referee positions\n",
      "Processing 126 frames\n",
      "Processed frame 0\n",
      "Processed frame 50\n",
      "Processed frame 100\n",
      "Enhanced minimaps saved to intermediate_results2/action_769_offence/minimap with '_augmented' suffix\n",
      "Creating video from 126 frames...\n"
     ]
    },
    {
     "name": "stderr",
     "output_type": "stream",
     "text": [
      "Processing videos:  92%|█████████▏| 366/400 [08:42<00:47,  1.41s/it]"
     ]
    },
    {
     "name": "stdout",
     "output_type": "stream",
     "text": [
      "Video created: intermediate_results2/action_769_offence/minimap_augmented.mp4\n",
      "Processing completed successfully!\n",
      "\n",
      "Processing action_776_offence.mp4...\n",
      "Using minimap directory: intermediate_results2/action_776_offence/minimap\n",
      "Found 126 frames in intermediate_results2/action_776_offence/player_detections_with_team_with_minimap.json\n",
      "Analyzed 0 frames with referee positions\n",
      "Processing 126 frames\n",
      "Processed frame 0\n",
      "Processed frame 50\n",
      "Processed frame 100\n",
      "Enhanced minimaps saved to intermediate_results2/action_776_offence/minimap with '_augmented' suffix\n",
      "Creating video from 126 frames...\n"
     ]
    },
    {
     "name": "stderr",
     "output_type": "stream",
     "text": [
      "Processing videos:  92%|█████████▏| 367/400 [08:44<00:46,  1.42s/it]"
     ]
    },
    {
     "name": "stdout",
     "output_type": "stream",
     "text": [
      "Video created: intermediate_results2/action_776_offence/minimap_augmented.mp4\n",
      "Processing completed successfully!\n",
      "\n",
      "Processing action_798_offence.mp4...\n",
      "Using minimap directory: intermediate_results2/action_798_offence/minimap\n",
      "Found 126 frames in intermediate_results2/action_798_offence/player_detections_with_team_with_minimap.json\n",
      "Analyzed 0 frames with referee positions\n",
      "Processing 126 frames\n",
      "Processed frame 0\n",
      "Processed frame 50\n",
      "Processed frame 100\n",
      "Enhanced minimaps saved to intermediate_results2/action_798_offence/minimap with '_augmented' suffix\n",
      "Creating video from 126 frames...\n"
     ]
    },
    {
     "name": "stderr",
     "output_type": "stream",
     "text": [
      "Processing videos:  92%|█████████▏| 368/400 [08:45<00:44,  1.39s/it]"
     ]
    },
    {
     "name": "stdout",
     "output_type": "stream",
     "text": [
      "Video created: intermediate_results2/action_798_offence/minimap_augmented.mp4\n",
      "Processing completed successfully!\n",
      "\n",
      "Processing action_804_offence.mp4...\n",
      "Using minimap directory: intermediate_results2/action_804_offence/minimap\n",
      "Found 126 frames in intermediate_results2/action_804_offence/player_detections_with_team_with_minimap.json\n",
      "Analyzed 0 frames with referee positions\n",
      "Processing 126 frames\n",
      "Processed frame 0\n",
      "Processed frame 50\n",
      "Processed frame 100\n",
      "Enhanced minimaps saved to intermediate_results2/action_804_offence/minimap with '_augmented' suffix\n",
      "Creating video from 126 frames...\n"
     ]
    },
    {
     "name": "stderr",
     "output_type": "stream",
     "text": [
      "Processing videos:  92%|█████████▏| 369/400 [08:46<00:43,  1.39s/it]"
     ]
    },
    {
     "name": "stdout",
     "output_type": "stream",
     "text": [
      "Video created: intermediate_results2/action_804_offence/minimap_augmented.mp4\n",
      "Processing completed successfully!\n",
      "\n",
      "Processing action_824_offence.mp4...\n",
      "Using minimap directory: intermediate_results2/action_824_offence/minimap\n",
      "Found 126 frames in intermediate_results2/action_824_offence/player_detections_with_team_with_minimap.json\n",
      "Analyzed 0 frames with referee positions\n",
      "Processing 126 frames\n",
      "Processed frame 0\n",
      "Processed frame 50\n",
      "Processed frame 100\n",
      "Enhanced minimaps saved to intermediate_results2/action_824_offence/minimap with '_augmented' suffix\n",
      "Creating video from 126 frames...\n"
     ]
    },
    {
     "name": "stderr",
     "output_type": "stream",
     "text": [
      "Processing videos:  92%|█████████▎| 370/400 [08:48<00:41,  1.38s/it]"
     ]
    },
    {
     "name": "stdout",
     "output_type": "stream",
     "text": [
      "Video created: intermediate_results2/action_824_offence/minimap_augmented.mp4\n",
      "Processing completed successfully!\n",
      "\n",
      "Processing action_826_offence.mp4...\n",
      "Using minimap directory: intermediate_results2/action_826_offence/minimap\n",
      "Found 126 frames in intermediate_results2/action_826_offence/player_detections_with_team_with_minimap.json\n",
      "Analyzed 0 frames with referee positions\n",
      "Processing 126 frames\n",
      "Processed frame 0\n",
      "Processed frame 50\n",
      "Processed frame 100\n",
      "Enhanced minimaps saved to intermediate_results2/action_826_offence/minimap with '_augmented' suffix\n",
      "Creating video from 126 frames...\n"
     ]
    },
    {
     "name": "stderr",
     "output_type": "stream",
     "text": [
      "Processing videos:  93%|█████████▎| 371/400 [08:49<00:39,  1.38s/it]"
     ]
    },
    {
     "name": "stdout",
     "output_type": "stream",
     "text": [
      "Video created: intermediate_results2/action_826_offence/minimap_augmented.mp4\n",
      "Processing completed successfully!\n",
      "\n",
      "Processing action_831_offence.mp4...\n",
      "Using minimap directory: intermediate_results2/action_831_offence/minimap\n",
      "Found 126 frames in intermediate_results2/action_831_offence/player_detections_with_team_with_minimap.json\n",
      "Analyzed 0 frames with referee positions\n",
      "Processing 126 frames\n",
      "Processed frame 0\n",
      "Processed frame 50\n",
      "Processed frame 100\n",
      "Enhanced minimaps saved to intermediate_results2/action_831_offence/minimap with '_augmented' suffix\n",
      "Creating video from 126 frames...\n"
     ]
    },
    {
     "name": "stderr",
     "output_type": "stream",
     "text": [
      "Processing videos:  93%|█████████▎| 372/400 [08:51<00:39,  1.39s/it]"
     ]
    },
    {
     "name": "stdout",
     "output_type": "stream",
     "text": [
      "Video created: intermediate_results2/action_831_offence/minimap_augmented.mp4\n",
      "Processing completed successfully!\n",
      "\n",
      "Processing action_832_offence.mp4...\n",
      "Using minimap directory: intermediate_results2/action_832_offence/minimap\n",
      "Found 126 frames in intermediate_results2/action_832_offence/player_detections_with_team_with_minimap.json\n",
      "Analyzed 0 frames with referee positions\n",
      "Processing 126 frames\n",
      "Processed frame 0\n",
      "Processed frame 50\n",
      "Processed frame 100\n",
      "Enhanced minimaps saved to intermediate_results2/action_832_offence/minimap with '_augmented' suffix\n",
      "Creating video from 126 frames...\n"
     ]
    },
    {
     "name": "stderr",
     "output_type": "stream",
     "text": [
      "Processing videos:  93%|█████████▎| 373/400 [08:52<00:38,  1.42s/it]"
     ]
    },
    {
     "name": "stdout",
     "output_type": "stream",
     "text": [
      "Video created: intermediate_results2/action_832_offence/minimap_augmented.mp4\n",
      "Processing completed successfully!\n",
      "\n",
      "Processing action_845_no_offence.mp4...\n",
      "Using minimap directory: intermediate_results2/action_845_no_offence/minimap\n",
      "Found 126 frames in intermediate_results2/action_845_no_offence/player_detections_with_team_with_minimap.json\n",
      "Analyzed 0 frames with referee positions\n",
      "Processing 126 frames\n",
      "Processed frame 0\n",
      "Processed frame 50\n",
      "Processed frame 100\n",
      "Enhanced minimaps saved to intermediate_results2/action_845_no_offence/minimap with '_augmented' suffix\n",
      "Creating video from 126 frames...\n"
     ]
    },
    {
     "name": "stderr",
     "output_type": "stream",
     "text": [
      "Processing videos:  94%|█████████▎| 374/400 [08:53<00:36,  1.41s/it]"
     ]
    },
    {
     "name": "stdout",
     "output_type": "stream",
     "text": [
      "Video created: intermediate_results2/action_845_no_offence/minimap_augmented.mp4\n",
      "Processing completed successfully!\n",
      "\n",
      "Processing action_853_no_offence.mp4...\n",
      "Using minimap directory: intermediate_results2/action_853_no_offence/minimap\n",
      "Found 126 frames in intermediate_results2/action_853_no_offence/player_detections_with_team_with_minimap.json\n",
      "Analyzed 0 frames with referee positions\n",
      "Processing 126 frames\n",
      "Processed frame 0\n",
      "Processed frame 50\n",
      "Processed frame 100\n",
      "Enhanced minimaps saved to intermediate_results2/action_853_no_offence/minimap with '_augmented' suffix\n",
      "Creating video from 126 frames...\n"
     ]
    },
    {
     "name": "stderr",
     "output_type": "stream",
     "text": [
      "Processing videos:  94%|█████████▍| 375/400 [08:55<00:37,  1.50s/it]"
     ]
    },
    {
     "name": "stdout",
     "output_type": "stream",
     "text": [
      "Video created: intermediate_results2/action_853_no_offence/minimap_augmented.mp4\n",
      "Processing completed successfully!\n",
      "\n",
      "Processing action_856_no_offence.mp4...\n",
      "Using minimap directory: intermediate_results2/action_856_no_offence/minimap\n",
      "Found 126 frames in intermediate_results2/action_856_no_offence/player_detections_with_team_with_minimap.json\n",
      "Analyzed 0 frames with referee positions\n",
      "Processing 126 frames\n",
      "Processed frame 0\n",
      "Processed frame 50\n",
      "Processed frame 100\n",
      "Enhanced minimaps saved to intermediate_results2/action_856_no_offence/minimap with '_augmented' suffix\n",
      "Creating video from 126 frames...\n"
     ]
    },
    {
     "name": "stderr",
     "output_type": "stream",
     "text": [
      "Processing videos:  94%|█████████▍| 376/400 [08:57<00:35,  1.46s/it]"
     ]
    },
    {
     "name": "stdout",
     "output_type": "stream",
     "text": [
      "Video created: intermediate_results2/action_856_no_offence/minimap_augmented.mp4\n",
      "Processing completed successfully!\n",
      "\n",
      "Processing action_861_no_offence.mp4...\n",
      "Using minimap directory: intermediate_results2/action_861_no_offence/minimap\n",
      "Found 126 frames in intermediate_results2/action_861_no_offence/player_detections_with_team_with_minimap.json\n",
      "Analyzed 0 frames with referee positions\n",
      "Processing 126 frames\n",
      "Processed frame 0\n",
      "Processed frame 50\n",
      "Processed frame 100\n",
      "Enhanced minimaps saved to intermediate_results2/action_861_no_offence/minimap with '_augmented' suffix\n",
      "Creating video from 126 frames...\n"
     ]
    },
    {
     "name": "stderr",
     "output_type": "stream",
     "text": [
      "Processing videos:  94%|█████████▍| 377/400 [08:58<00:32,  1.43s/it]"
     ]
    },
    {
     "name": "stdout",
     "output_type": "stream",
     "text": [
      "Video created: intermediate_results2/action_861_no_offence/minimap_augmented.mp4\n",
      "Processing completed successfully!\n",
      "\n",
      "Processing action_863_no_offence.mp4...\n",
      "Using minimap directory: intermediate_results2/action_863_no_offence/minimap\n",
      "Found 126 frames in intermediate_results2/action_863_no_offence/player_detections_with_team_with_minimap.json\n",
      "Analyzed 0 frames with referee positions\n",
      "Processing 126 frames\n",
      "Processed frame 0\n",
      "Processed frame 50\n",
      "Processed frame 100\n",
      "Enhanced minimaps saved to intermediate_results2/action_863_no_offence/minimap with '_augmented' suffix\n",
      "Creating video from 126 frames...\n"
     ]
    },
    {
     "name": "stderr",
     "output_type": "stream",
     "text": [
      "Processing videos:  94%|█████████▍| 378/400 [08:59<00:30,  1.40s/it]"
     ]
    },
    {
     "name": "stdout",
     "output_type": "stream",
     "text": [
      "Video created: intermediate_results2/action_863_no_offence/minimap_augmented.mp4\n",
      "Processing completed successfully!\n",
      "\n",
      "Processing action_872_offence.mp4...\n",
      "Using minimap directory: intermediate_results2/action_872_offence/minimap\n",
      "Found 126 frames in intermediate_results2/action_872_offence/player_detections_with_team_with_minimap.json\n",
      "Analyzed 0 frames with referee positions\n",
      "Processing 126 frames\n",
      "Processed frame 0\n",
      "Processed frame 50\n",
      "Processed frame 100\n",
      "Enhanced minimaps saved to intermediate_results2/action_872_offence/minimap with '_augmented' suffix\n",
      "Creating video from 126 frames...\n"
     ]
    },
    {
     "name": "stderr",
     "output_type": "stream",
     "text": [
      "Processing videos:  95%|█████████▍| 379/400 [09:01<00:28,  1.38s/it]"
     ]
    },
    {
     "name": "stdout",
     "output_type": "stream",
     "text": [
      "Video created: intermediate_results2/action_872_offence/minimap_augmented.mp4\n",
      "Processing completed successfully!\n",
      "\n",
      "Processing action_879_no_offence.mp4...\n",
      "Using minimap directory: intermediate_results2/action_879_no_offence/minimap\n",
      "Found 126 frames in intermediate_results2/action_879_no_offence/player_detections_with_team_with_minimap.json\n",
      "Analyzed 0 frames with referee positions\n",
      "Processing 126 frames\n",
      "Processed frame 0\n",
      "Processed frame 50\n",
      "Processed frame 100\n",
      "Enhanced minimaps saved to intermediate_results2/action_879_no_offence/minimap with '_augmented' suffix\n",
      "Creating video from 126 frames...\n"
     ]
    },
    {
     "name": "stderr",
     "output_type": "stream",
     "text": [
      "Processing videos:  95%|█████████▌| 380/400 [09:02<00:27,  1.36s/it]"
     ]
    },
    {
     "name": "stdout",
     "output_type": "stream",
     "text": [
      "Video created: intermediate_results2/action_879_no_offence/minimap_augmented.mp4\n",
      "Processing completed successfully!\n",
      "\n",
      "Processing action_87_offence.mp4...\n",
      "Using minimap directory: intermediate_results2/action_87_offence/minimap\n",
      "Found 126 frames in intermediate_results2/action_87_offence/player_detections_with_team_with_minimap.json\n",
      "Analyzed 0 frames with referee positions\n",
      "Processing 126 frames\n",
      "Processed frame 0\n",
      "Processed frame 50\n",
      "Processed frame 100\n",
      "Enhanced minimaps saved to intermediate_results2/action_87_offence/minimap with '_augmented' suffix\n",
      "Creating video from 126 frames...\n"
     ]
    },
    {
     "name": "stderr",
     "output_type": "stream",
     "text": [
      "Processing videos:  95%|█████████▌| 381/400 [09:03<00:25,  1.35s/it]"
     ]
    },
    {
     "name": "stdout",
     "output_type": "stream",
     "text": [
      "Video created: intermediate_results2/action_87_offence/minimap_augmented.mp4\n",
      "Processing completed successfully!\n",
      "\n",
      "Processing action_885_offence.mp4...\n",
      "Using minimap directory: intermediate_results2/action_885_offence/minimap\n",
      "Found 126 frames in intermediate_results2/action_885_offence/player_detections_with_team_with_minimap.json\n",
      "Analyzed 0 frames with referee positions\n",
      "Processing 126 frames\n",
      "Processed frame 0\n",
      "Processed frame 50\n",
      "Processed frame 100\n",
      "Enhanced minimaps saved to intermediate_results2/action_885_offence/minimap with '_augmented' suffix\n",
      "Creating video from 126 frames...\n"
     ]
    },
    {
     "name": "stderr",
     "output_type": "stream",
     "text": [
      "Processing videos:  96%|█████████▌| 382/400 [09:05<00:24,  1.36s/it]"
     ]
    },
    {
     "name": "stdout",
     "output_type": "stream",
     "text": [
      "Video created: intermediate_results2/action_885_offence/minimap_augmented.mp4\n",
      "Processing completed successfully!\n",
      "\n",
      "Processing action_893_no_offence.mp4...\n",
      "Using minimap directory: intermediate_results2/action_893_no_offence/minimap\n",
      "Found 126 frames in intermediate_results2/action_893_no_offence/player_detections_with_team_with_minimap.json\n",
      "Analyzed 0 frames with referee positions\n",
      "Processing 126 frames\n",
      "Processed frame 0\n",
      "Processed frame 50\n",
      "Processed frame 100\n",
      "Enhanced minimaps saved to intermediate_results2/action_893_no_offence/minimap with '_augmented' suffix\n",
      "Creating video from 126 frames...\n"
     ]
    },
    {
     "name": "stderr",
     "output_type": "stream",
     "text": [
      "Processing videos:  96%|█████████▌| 383/400 [09:06<00:23,  1.37s/it]"
     ]
    },
    {
     "name": "stdout",
     "output_type": "stream",
     "text": [
      "Video created: intermediate_results2/action_893_no_offence/minimap_augmented.mp4\n",
      "Processing completed successfully!\n",
      "\n",
      "Processing action_916_no_offence.mp4...\n",
      "Using minimap directory: intermediate_results2/action_916_no_offence/minimap\n",
      "Found 126 frames in intermediate_results2/action_916_no_offence/player_detections_with_team_with_minimap.json\n",
      "Analyzed 0 frames with referee positions\n",
      "Processing 126 frames\n",
      "Processed frame 0\n",
      "Processed frame 50\n",
      "Processed frame 100\n",
      "Enhanced minimaps saved to intermediate_results2/action_916_no_offence/minimap with '_augmented' suffix\n",
      "Creating video from 126 frames...\n"
     ]
    },
    {
     "name": "stderr",
     "output_type": "stream",
     "text": [
      "Processing videos:  96%|█████████▌| 384/400 [09:07<00:21,  1.36s/it]"
     ]
    },
    {
     "name": "stdout",
     "output_type": "stream",
     "text": [
      "Video created: intermediate_results2/action_916_no_offence/minimap_augmented.mp4\n",
      "Processing completed successfully!\n",
      "\n",
      "Processing action_921_no_offence.mp4...\n",
      "Using minimap directory: intermediate_results2/action_921_no_offence/minimap\n",
      "Found 126 frames in intermediate_results2/action_921_no_offence/player_detections_with_team_with_minimap.json\n",
      "Analyzed 0 frames with referee positions\n",
      "Processing 126 frames\n",
      "Processed frame 0\n",
      "Processed frame 50\n",
      "Processed frame 100\n",
      "Enhanced minimaps saved to intermediate_results2/action_921_no_offence/minimap with '_augmented' suffix\n",
      "Creating video from 126 frames...\n"
     ]
    },
    {
     "name": "stderr",
     "output_type": "stream",
     "text": [
      "Processing videos:  96%|█████████▋| 385/400 [09:09<00:20,  1.35s/it]"
     ]
    },
    {
     "name": "stdout",
     "output_type": "stream",
     "text": [
      "Video created: intermediate_results2/action_921_no_offence/minimap_augmented.mp4\n",
      "Processing completed successfully!\n",
      "\n",
      "Processing action_927_offence.mp4...\n",
      "Using minimap directory: intermediate_results2/action_927_offence/minimap\n",
      "Found 126 frames in intermediate_results2/action_927_offence/player_detections_with_team_with_minimap.json\n",
      "Analyzed 0 frames with referee positions\n",
      "Processing 126 frames\n",
      "Processed frame 0\n",
      "Processed frame 50\n",
      "Processed frame 100\n",
      "Enhanced minimaps saved to intermediate_results2/action_927_offence/minimap with '_augmented' suffix\n",
      "Creating video from 126 frames...\n"
     ]
    },
    {
     "name": "stderr",
     "output_type": "stream",
     "text": [
      "Processing videos:  96%|█████████▋| 386/400 [09:10<00:18,  1.35s/it]"
     ]
    },
    {
     "name": "stdout",
     "output_type": "stream",
     "text": [
      "Video created: intermediate_results2/action_927_offence/minimap_augmented.mp4\n",
      "Processing completed successfully!\n",
      "\n",
      "Processing action_930_no_offence.mp4...\n",
      "Using minimap directory: intermediate_results2/action_930_no_offence/minimap\n",
      "Found 126 frames in intermediate_results2/action_930_no_offence/player_detections_with_team_with_minimap.json\n",
      "Analyzed 0 frames with referee positions\n",
      "Processing 126 frames\n",
      "Processed frame 0\n",
      "Processed frame 50\n",
      "Processed frame 100\n",
      "Enhanced minimaps saved to intermediate_results2/action_930_no_offence/minimap with '_augmented' suffix\n",
      "Creating video from 126 frames...\n"
     ]
    },
    {
     "name": "stderr",
     "output_type": "stream",
     "text": [
      "Processing videos:  97%|█████████▋| 387/400 [09:11<00:17,  1.35s/it]"
     ]
    },
    {
     "name": "stdout",
     "output_type": "stream",
     "text": [
      "Video created: intermediate_results2/action_930_no_offence/minimap_augmented.mp4\n",
      "Processing completed successfully!\n",
      "\n",
      "Processing action_934_no_offence.mp4...\n",
      "Using minimap directory: intermediate_results2/action_934_no_offence/minimap\n",
      "Found 126 frames in intermediate_results2/action_934_no_offence/player_detections_with_team_with_minimap.json\n",
      "Analyzed 0 frames with referee positions\n",
      "Processing 126 frames\n",
      "Processed frame 0\n",
      "Processed frame 50\n",
      "Processed frame 100\n",
      "Enhanced minimaps saved to intermediate_results2/action_934_no_offence/minimap with '_augmented' suffix\n",
      "Creating video from 126 frames...\n"
     ]
    },
    {
     "name": "stderr",
     "output_type": "stream",
     "text": [
      "Processing videos:  97%|█████████▋| 388/400 [09:13<00:16,  1.34s/it]"
     ]
    },
    {
     "name": "stdout",
     "output_type": "stream",
     "text": [
      "Video created: intermediate_results2/action_934_no_offence/minimap_augmented.mp4\n",
      "Processing completed successfully!\n",
      "\n",
      "Processing action_940_offence.mp4...\n",
      "Using minimap directory: intermediate_results2/action_940_offence/minimap\n",
      "Found 126 frames in intermediate_results2/action_940_offence/player_detections_with_team_with_minimap.json\n",
      "Analyzed 0 frames with referee positions\n",
      "Processing 126 frames\n",
      "Processed frame 0\n",
      "Processed frame 50\n",
      "Processed frame 100\n",
      "Enhanced minimaps saved to intermediate_results2/action_940_offence/minimap with '_augmented' suffix\n",
      "Creating video from 126 frames...\n"
     ]
    },
    {
     "name": "stderr",
     "output_type": "stream",
     "text": [
      "Processing videos:  97%|█████████▋| 389/400 [09:14<00:14,  1.34s/it]"
     ]
    },
    {
     "name": "stdout",
     "output_type": "stream",
     "text": [
      "Video created: intermediate_results2/action_940_offence/minimap_augmented.mp4\n",
      "Processing completed successfully!\n",
      "\n",
      "Processing action_950_no_offence.mp4...\n",
      "Using minimap directory: intermediate_results2/action_950_no_offence/minimap\n",
      "Found 126 frames in intermediate_results2/action_950_no_offence/player_detections_with_team_with_minimap.json\n",
      "Analyzed 0 frames with referee positions\n",
      "Processing 126 frames\n",
      "Processed frame 0\n",
      "Processed frame 50\n",
      "Processed frame 100\n",
      "Enhanced minimaps saved to intermediate_results2/action_950_no_offence/minimap with '_augmented' suffix\n",
      "Creating video from 126 frames...\n"
     ]
    },
    {
     "name": "stderr",
     "output_type": "stream",
     "text": [
      "Processing videos:  98%|█████████▊| 390/400 [09:15<00:13,  1.38s/it]"
     ]
    },
    {
     "name": "stdout",
     "output_type": "stream",
     "text": [
      "Video created: intermediate_results2/action_950_no_offence/minimap_augmented.mp4\n",
      "Processing completed successfully!\n",
      "\n",
      "Processing action_951_offence.mp4...\n",
      "Using minimap directory: intermediate_results2/action_951_offence/minimap\n",
      "Found 126 frames in intermediate_results2/action_951_offence/player_detections_with_team_with_minimap.json\n",
      "Analyzed 0 frames with referee positions\n",
      "Processing 126 frames\n",
      "Processed frame 0\n",
      "Processed frame 50\n",
      "Processed frame 100\n",
      "Enhanced minimaps saved to intermediate_results2/action_951_offence/minimap with '_augmented' suffix\n",
      "Creating video from 126 frames...\n"
     ]
    },
    {
     "name": "stderr",
     "output_type": "stream",
     "text": [
      "Processing videos:  98%|█████████▊| 391/400 [09:17<00:12,  1.36s/it]"
     ]
    },
    {
     "name": "stdout",
     "output_type": "stream",
     "text": [
      "Video created: intermediate_results2/action_951_offence/minimap_augmented.mp4\n",
      "Processing completed successfully!\n",
      "\n",
      "Processing action_954_no_offence.mp4...\n",
      "Using minimap directory: intermediate_results2/action_954_no_offence/minimap\n",
      "Found 126 frames in intermediate_results2/action_954_no_offence/player_detections_with_team_with_minimap.json\n",
      "Analyzed 0 frames with referee positions\n",
      "Processing 126 frames\n",
      "Processed frame 0\n",
      "Processed frame 50\n",
      "Processed frame 100\n",
      "Enhanced minimaps saved to intermediate_results2/action_954_no_offence/minimap with '_augmented' suffix\n",
      "Creating video from 126 frames...\n"
     ]
    },
    {
     "name": "stderr",
     "output_type": "stream",
     "text": [
      "Processing videos:  98%|█████████▊| 392/400 [09:18<00:10,  1.35s/it]"
     ]
    },
    {
     "name": "stdout",
     "output_type": "stream",
     "text": [
      "Video created: intermediate_results2/action_954_no_offence/minimap_augmented.mp4\n",
      "Processing completed successfully!\n",
      "\n",
      "Processing action_958_offence.mp4...\n",
      "Using minimap directory: intermediate_results2/action_958_offence/minimap\n",
      "Found 126 frames in intermediate_results2/action_958_offence/player_detections_with_team_with_minimap.json\n",
      "Analyzed 0 frames with referee positions\n",
      "Processing 126 frames\n",
      "Processed frame 0\n",
      "Processed frame 50\n",
      "Processed frame 100\n",
      "Enhanced minimaps saved to intermediate_results2/action_958_offence/minimap with '_augmented' suffix\n",
      "Creating video from 126 frames...\n"
     ]
    },
    {
     "name": "stderr",
     "output_type": "stream",
     "text": [
      "Processing videos:  98%|█████████▊| 393/400 [09:19<00:09,  1.35s/it]"
     ]
    },
    {
     "name": "stdout",
     "output_type": "stream",
     "text": [
      "Video created: intermediate_results2/action_958_offence/minimap_augmented.mp4\n",
      "Processing completed successfully!\n",
      "\n",
      "Processing action_964_offence.mp4...\n",
      "Using minimap directory: intermediate_results2/action_964_offence/minimap\n",
      "Found 126 frames in intermediate_results2/action_964_offence/player_detections_with_team_with_minimap.json\n",
      "Analyzed 0 frames with referee positions\n",
      "Processing 126 frames\n",
      "Processed frame 0\n",
      "Processed frame 50\n",
      "Processed frame 100\n",
      "Enhanced minimaps saved to intermediate_results2/action_964_offence/minimap with '_augmented' suffix\n",
      "Creating video from 126 frames...\n"
     ]
    },
    {
     "name": "stderr",
     "output_type": "stream",
     "text": [
      "Processing videos:  98%|█████████▊| 394/400 [09:21<00:08,  1.35s/it]"
     ]
    },
    {
     "name": "stdout",
     "output_type": "stream",
     "text": [
      "Video created: intermediate_results2/action_964_offence/minimap_augmented.mp4\n",
      "Processing completed successfully!\n",
      "\n",
      "Processing action_972_no_offence.mp4...\n",
      "Using minimap directory: intermediate_results2/action_972_no_offence/minimap\n",
      "Found 126 frames in intermediate_results2/action_972_no_offence/player_detections_with_team_with_minimap.json\n",
      "Analyzed 0 frames with referee positions\n",
      "Processing 126 frames\n",
      "Processed frame 0\n",
      "Processed frame 50\n",
      "Processed frame 100\n",
      "Enhanced minimaps saved to intermediate_results2/action_972_no_offence/minimap with '_augmented' suffix\n",
      "Creating video from 126 frames...\n"
     ]
    },
    {
     "name": "stderr",
     "output_type": "stream",
     "text": [
      "Processing videos:  99%|█████████▉| 395/400 [09:22<00:06,  1.34s/it]"
     ]
    },
    {
     "name": "stdout",
     "output_type": "stream",
     "text": [
      "Video created: intermediate_results2/action_972_no_offence/minimap_augmented.mp4\n",
      "Processing completed successfully!\n",
      "\n",
      "Processing action_978_no_offence.mp4...\n",
      "Using minimap directory: intermediate_results2/action_978_no_offence/minimap\n",
      "Found 126 frames in intermediate_results2/action_978_no_offence/player_detections_with_team_with_minimap.json\n",
      "Analyzed 0 frames with referee positions\n",
      "Processing 126 frames\n",
      "Processed frame 0\n",
      "Processed frame 50\n",
      "Processed frame 100\n",
      "Enhanced minimaps saved to intermediate_results2/action_978_no_offence/minimap with '_augmented' suffix\n",
      "Creating video from 126 frames...\n"
     ]
    },
    {
     "name": "stderr",
     "output_type": "stream",
     "text": [
      "Processing videos:  99%|█████████▉| 396/400 [09:23<00:05,  1.34s/it]"
     ]
    },
    {
     "name": "stdout",
     "output_type": "stream",
     "text": [
      "Video created: intermediate_results2/action_978_no_offence/minimap_augmented.mp4\n",
      "Processing completed successfully!\n",
      "\n",
      "Processing action_983_offence.mp4...\n",
      "Using minimap directory: intermediate_results2/action_983_offence/minimap\n",
      "Found 126 frames in intermediate_results2/action_983_offence/player_detections_with_team_with_minimap.json\n",
      "Analyzed 0 frames with referee positions\n",
      "Processing 126 frames\n",
      "Processed frame 0\n",
      "Processed frame 50\n",
      "Processed frame 100\n",
      "Enhanced minimaps saved to intermediate_results2/action_983_offence/minimap with '_augmented' suffix\n",
      "Creating video from 126 frames...\n"
     ]
    },
    {
     "name": "stderr",
     "output_type": "stream",
     "text": [
      "Processing videos:  99%|█████████▉| 397/400 [09:25<00:03,  1.33s/it]"
     ]
    },
    {
     "name": "stdout",
     "output_type": "stream",
     "text": [
      "Video created: intermediate_results2/action_983_offence/minimap_augmented.mp4\n",
      "Processing completed successfully!\n",
      "\n",
      "Processing action_985_offence.mp4...\n",
      "Using minimap directory: intermediate_results2/action_985_offence/minimap\n",
      "Found 126 frames in intermediate_results2/action_985_offence/player_detections_with_team_with_minimap.json\n",
      "Analyzed 0 frames with referee positions\n",
      "Processing 126 frames\n",
      "Processed frame 0\n",
      "Processed frame 50\n",
      "Processed frame 100\n",
      "Enhanced minimaps saved to intermediate_results2/action_985_offence/minimap with '_augmented' suffix\n",
      "Creating video from 126 frames...\n"
     ]
    },
    {
     "name": "stderr",
     "output_type": "stream",
     "text": [
      "Processing videos: 100%|█████████▉| 398/400 [09:26<00:02,  1.33s/it]"
     ]
    },
    {
     "name": "stdout",
     "output_type": "stream",
     "text": [
      "Video created: intermediate_results2/action_985_offence/minimap_augmented.mp4\n",
      "Processing completed successfully!\n",
      "\n",
      "Processing action_997_no_offence.mp4...\n",
      "Using minimap directory: intermediate_results2/action_997_no_offence/minimap\n",
      "Found 126 frames in intermediate_results2/action_997_no_offence/player_detections_with_team_with_minimap.json\n",
      "Analyzed 0 frames with referee positions\n",
      "Processing 126 frames\n",
      "Processed frame 0\n",
      "Processed frame 50\n",
      "Processed frame 100\n",
      "Enhanced minimaps saved to intermediate_results2/action_997_no_offence/minimap with '_augmented' suffix\n",
      "Creating video from 126 frames...\n"
     ]
    },
    {
     "name": "stderr",
     "output_type": "stream",
     "text": [
      "Processing videos: 100%|█████████▉| 399/400 [09:27<00:01,  1.33s/it]"
     ]
    },
    {
     "name": "stdout",
     "output_type": "stream",
     "text": [
      "Video created: intermediate_results2/action_997_no_offence/minimap_augmented.mp4\n",
      "Processing completed successfully!\n",
      "\n",
      "Processing action_9_offence.mp4...\n",
      "Using minimap directory: intermediate_results2/action_9_offence/minimap\n",
      "Found 126 frames in intermediate_results2/action_9_offence/player_detections_with_team_with_minimap.json\n",
      "Analyzed 0 frames with referee positions\n",
      "Processing 126 frames\n",
      "Processed frame 0\n",
      "Processed frame 50\n",
      "Processed frame 100\n",
      "Enhanced minimaps saved to intermediate_results2/action_9_offence/minimap with '_augmented' suffix\n",
      "Creating video from 126 frames...\n"
     ]
    },
    {
     "name": "stderr",
     "output_type": "stream",
     "text": [
      "Processing videos: 100%|██████████| 400/400 [09:29<00:00,  1.42s/it]"
     ]
    },
    {
     "name": "stdout",
     "output_type": "stream",
     "text": [
      "Video created: intermediate_results2/action_9_offence/minimap_augmented.mp4\n",
      "Processing completed successfully!\n"
     ]
    },
    {
     "name": "stderr",
     "output_type": "stream",
     "text": [
      "\n"
     ]
    }
   ],
   "source": [
    "from compute_ideal_position import main\n",
    "import os\n",
    "from tqdm import tqdm\n",
    "\n",
    "intermediate_dir = \"intermediate_results2\"\n",
    "\n",
    "mp4_files = mp4_files\n",
    "for file in tqdm(mp4_files, desc=\"Processing videos\", position=0, leave=True):\n",
    "    try:\n",
    "        input_path = os.path.join(input_dir, file)\n",
    "        action_dir = file.replace('.mp4', '')\n",
    "        player_detections_path = os.path.join(intermediate_dir, action_dir, \"player_detections_with_team_with_minimap.json\")\n",
    "        tqdm.write(f\"\\nProcessing {file}...\")\n",
    "        main(player_detections_path)\n",
    "    except Exception as e:\n",
    "        print(f\"Error processing {file}: {e}\")\n",
    "        continue\n"
   ]
  },
  {
   "cell_type": "code",
   "execution_count": null,
   "metadata": {},
   "outputs": [],
   "source": []
  },
  {
   "cell_type": "code",
   "execution_count": null,
   "metadata": {},
   "outputs": [],
   "source": []
  },
  {
   "cell_type": "code",
   "execution_count": null,
   "metadata": {},
   "outputs": [],
   "source": []
  }
 ],
 "metadata": {
  "kernelspec": {
   "display_name": "venv",
   "language": "python",
   "name": "python3"
  },
  "language_info": {
   "codemirror_mode": {
    "name": "ipython",
    "version": 3
   },
   "file_extension": ".py",
   "mimetype": "text/x-python",
   "name": "python",
   "nbconvert_exporter": "python",
   "pygments_lexer": "ipython3",
   "version": "3.12.10"
  }
 },
 "nbformat": 4,
 "nbformat_minor": 2
}
