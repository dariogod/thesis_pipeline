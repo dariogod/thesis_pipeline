{
 "cells": [
  {
   "cell_type": "code",
   "execution_count": 1,
   "metadata": {},
   "outputs": [],
   "source": [
    "import os\n",
    "\n",
    "input_dir = \"input\"\n",
    "mp4_files = sorted([f for f in os.listdir(input_dir) if f.endswith('.mp4')])"
   ]
  },
  {
   "cell_type": "code",
   "execution_count": 2,
   "metadata": {},
   "outputs": [
    {
     "name": "stderr",
     "output_type": "stream",
     "text": [
      "Processing videos:   0%|          | 0/400 [00:00<?, ?it/s]"
     ]
    },
    {
     "name": "stdout",
     "output_type": "stream",
     "text": [
      "\n",
      "Processing action_1009_offence.mp4...\n",
      "Perspective Transform initialized successfully!\n",
      "Warning: find transform failed. Set warp as identity\n",
      "[Input Video : input/action_1009_offence.mp4] [5/126 Frames Processed] [Homography calculated] [Minimap saved]Warning: find transform failed. Set warp as identity\n",
      "[Input Video : input/action_1009_offence.mp4] [7/126 Frames Processed] [Homography calculated] [Minimap saved]Warning: find transform failed. Set warp as identity\n",
      "[Input Video : input/action_1009_offence.mp4] [19/126 Frames Processed] [Homography calculated] [Minimap saved]Warning: find transform failed. Set warp as identity\n",
      "[Input Video : input/action_1009_offence.mp4] [123/126 Frames Processed] [Homography calculated] [Minimap saved]"
     ]
    },
    {
     "name": "stderr",
     "output_type": "stream",
     "text": [
      "Processing videos: 100%|██████████| 400/400 [02:49<00:00,  2.36it/s]"
     ]
    },
    {
     "name": "stdout",
     "output_type": "stream",
     "text": [
      "[Input Video : input/action_1009_offence.mp4] [125/126 Frames Processed] [Homography calculated] [Minimap saved]\n",
      "\n",
      "Homography matrices have been saved to intermediate_results3/action_1009_offence/homography/action_1009_offence_homography.json!\n",
      "Warped images have been saved to intermediate_results3/action_1009_offence/warped_images/\n",
      "Minimap images have been saved to intermediate_results3/action_1009_offence/minimap/\n"
     ]
    },
    {
     "name": "stderr",
     "output_type": "stream",
     "text": [
      "\n"
     ]
    }
   ],
   "source": [
    "from create_minimap3 import main\n",
    "import os\n",
    "from tqdm import tqdm\n",
    "\n",
    "# intermediate_dir = \"intermediate_results2\"\n",
    "intermediate_dir = \"intermediate_results3\"\n",
    "\n",
    "mp4_files = mp4_files\n",
    "for file in tqdm(mp4_files, desc=\"Processing videos\", position=0, leave=True):\n",
    "    try:\n",
    "        input_path = os.path.join(input_dir, file)\n",
    "        if input_path != \"input/action_1009_offence.mp4\":\n",
    "            continue\n",
    "        player_detections_path = os.path.join(intermediate_dir, file.replace('.mp4', ''), \"player_detections_with_team.json\")\n",
    "        tqdm.write(f\"\\nProcessing {file}...\")\n",
    "        main(input_path, player_detections_path)\n",
    "    except Exception as e:\n",
    "        print(f\"Error processing {file}: {e}\")\n",
    "        continue\n"
   ]
  },
  {
   "cell_type": "code",
   "execution_count": null,
   "metadata": {},
   "outputs": [],
   "source": []
  },
  {
   "cell_type": "code",
   "execution_count": null,
   "metadata": {},
   "outputs": [],
   "source": []
  },
  {
   "cell_type": "code",
   "execution_count": null,
   "metadata": {},
   "outputs": [],
   "source": []
  }
 ],
 "metadata": {
  "kernelspec": {
   "display_name": "venv",
   "language": "python",
   "name": "python3"
  },
  "language_info": {
   "codemirror_mode": {
    "name": "ipython",
    "version": 3
   },
   "file_extension": ".py",
   "mimetype": "text/x-python",
   "name": "python",
   "nbconvert_exporter": "python",
   "pygments_lexer": "ipython3",
   "version": "3.12.10"
  }
 },
 "nbformat": 4,
 "nbformat_minor": 2
}
