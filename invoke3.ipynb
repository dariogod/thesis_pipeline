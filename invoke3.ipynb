{
 "cells": [
  {
   "cell_type": "code",
   "execution_count": 2,
   "metadata": {},
   "outputs": [],
   "source": [
    "import os\n",
    "\n",
    "input_dir = \"input\"\n",
    "mp4_files = sorted([f for f in os.listdir(input_dir) if f.endswith('.mp4')])"
   ]
  },
  {
   "cell_type": "code",
   "execution_count": null,
   "metadata": {},
   "outputs": [],
   "source": [
    "from update_detections_with_minimap import main\n",
    "import os\n",
    "from tqdm import tqdm\n",
    "\n",
    "intermediate_dir = \"intermediate_results2\"\n",
    "\n",
    "mp4_files = mp4_files\n",
    "for file in tqdm(mp4_files, desc=\"Processing videos\", position=0, leave=True):\n",
    "    try:\n",
    "        input_path = os.path.join(input_dir, file)\n",
    "        action_dir = file.replace('.mp4', '')\n",
    "        player_detections_path = os.path.join(intermediate_dir, action_dir, \"player_detections_with_team.json\")\n",
    "        homography_path = os.path.join(intermediate_dir, action_dir, \"homography\", f\"{action_dir}_homography.json\")\n",
    "        tqdm.write(f\"\\nProcessing {file}...\")\n",
    "        main(player_detections_path, homography_path)\n",
    "    except Exception as e:\n",
    "        print(f\"Error processing {file}: {e}\")\n",
    "        continue\n"
   ]
  },
  {
   "cell_type": "code",
   "execution_count": null,
   "metadata": {},
   "outputs": [],
   "source": []
  },
  {
   "cell_type": "code",
   "execution_count": null,
   "metadata": {},
   "outputs": [],
   "source": []
  },
  {
   "cell_type": "code",
   "execution_count": null,
   "metadata": {},
   "outputs": [],
   "source": []
  }
 ],
 "metadata": {
  "kernelspec": {
   "display_name": "venv",
   "language": "python",
   "name": "python3"
  },
  "language_info": {
   "codemirror_mode": {
    "name": "ipython",
    "version": 3
   },
   "file_extension": ".py",
   "mimetype": "text/x-python",
   "name": "python",
   "nbconvert_exporter": "python",
   "pygments_lexer": "ipython3",
   "version": "3.12.10"
  }
 },
 "nbformat": 4,
 "nbformat_minor": 2
}
